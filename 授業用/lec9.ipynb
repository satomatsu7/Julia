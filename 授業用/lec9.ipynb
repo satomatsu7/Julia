{
 "cells": [
  {
   "cell_type": "code",
   "execution_count": 1,
   "metadata": {},
   "outputs": [],
   "source": [
    "#データフレーム"
   ]
  },
  {
   "cell_type": "code",
   "execution_count": 2,
   "metadata": {},
   "outputs": [
    {
     "name": "stderr",
     "output_type": "stream",
     "text": [
      "\u001b[32m\u001b[1m   Updating\u001b[22m\u001b[39m registry at `~/.julia/registries/General`\n",
      "######################################################################### 100.0%\n",
      "\u001b[32m\u001b[1m  Resolving\u001b[22m\u001b[39m package versions...\n",
      "\u001b[32m\u001b[1mNo Changes\u001b[22m\u001b[39m to `~/.julia/environments/v1.5/Project.toml`\n",
      "\u001b[32m\u001b[1mNo Changes\u001b[22m\u001b[39m to `~/.julia/environments/v1.5/Manifest.toml`\n"
     ]
    }
   ],
   "source": [
    "using Pkg\n",
    "Pkg.add(\"DataFrames\")"
   ]
  },
  {
   "cell_type": "code",
   "execution_count": 3,
   "metadata": {},
   "outputs": [],
   "source": [
    "using DataFrames"
   ]
  },
  {
   "cell_type": "code",
   "execution_count": 5,
   "metadata": {},
   "outputs": [
    {
     "data": {
      "text/html": [
       "<table class=\"data-frame\"><thead><tr><th></th><th>A</th><th>B</th></tr><tr><th></th><th>Int64</th><th>String</th></tr></thead><tbody><p>5 rows × 2 columns</p><tr><th>1</th><td>1</td><td>Apple</td></tr><tr><th>2</th><td>2</td><td>Banana</td></tr><tr><th>3</th><td>3</td><td>Apple</td></tr><tr><th>4</th><td>4</td><td>banana</td></tr><tr><th>5</th><td>5</td><td>Orange</td></tr></tbody></table>"
      ],
      "text/latex": [
       "\\begin{tabular}{r|cc}\n",
       "\t& A & B\\\\\n",
       "\t\\hline\n",
       "\t& Int64 & String\\\\\n",
       "\t\\hline\n",
       "\t1 & 1 & Apple \\\\\n",
       "\t2 & 2 & Banana \\\\\n",
       "\t3 & 3 & Apple \\\\\n",
       "\t4 & 4 & banana \\\\\n",
       "\t5 & 5 & Orange \\\\\n",
       "\\end{tabular}\n"
      ],
      "text/plain": [
       "5×2 DataFrame\n",
       "│ Row │ A     │ B      │\n",
       "│     │ \u001b[90mInt64\u001b[39m │ \u001b[90mString\u001b[39m │\n",
       "├─────┼───────┼────────┤\n",
       "│ 1   │ 1     │ Apple  │\n",
       "│ 2   │ 2     │ Banana │\n",
       "│ 3   │ 3     │ Apple  │\n",
       "│ 4   │ 4     │ banana │\n",
       "│ 5   │ 5     │ Orange │"
      ]
     },
     "execution_count": 5,
     "metadata": {},
     "output_type": "execute_result"
    }
   ],
   "source": [
    "df = DataFrame(A=1:5, B=[\"Apple\",\"Banana\",\"Apple\",\"banana\",\"Orange\"])"
   ]
  },
  {
   "cell_type": "code",
   "execution_count": 6,
   "metadata": {},
   "outputs": [
    {
     "data": {
      "text/plain": [
       "5-element Array{Int64,1}:\n",
       " 1\n",
       " 2\n",
       " 3\n",
       " 4\n",
       " 5"
      ]
     },
     "execution_count": 6,
     "metadata": {},
     "output_type": "execute_result"
    }
   ],
   "source": [
    "df.A"
   ]
  },
  {
   "cell_type": "code",
   "execution_count": 7,
   "metadata": {},
   "outputs": [
    {
     "data": {
      "text/plain": [
       "5-element Array{String,1}:\n",
       " \"Apple\"\n",
       " \"Banana\"\n",
       " \"Apple\"\n",
       " \"banana\"\n",
       " \"Orange\""
      ]
     },
     "execution_count": 7,
     "metadata": {},
     "output_type": "execute_result"
    }
   ],
   "source": [
    "df.B"
   ]
  },
  {
   "cell_type": "code",
   "execution_count": 8,
   "metadata": {},
   "outputs": [
    {
     "data": {
      "text/plain": [
       "5-element Array{Int64,1}:\n",
       " 1\n",
       " 2\n",
       " 3\n",
       " 4\n",
       " 5"
      ]
     },
     "execution_count": 8,
     "metadata": {},
     "output_type": "execute_result"
    }
   ],
   "source": [
    "df.\"A\""
   ]
  },
  {
   "cell_type": "code",
   "execution_count": 9,
   "metadata": {},
   "outputs": [
    {
     "data": {
      "text/html": [
       "<table class=\"data-frame\"><thead><tr><th></th></tr><tr><th></th></tr></thead><tbody><p>0 rows × 0 columns</p></tbody></table>"
      ],
      "text/latex": [
       "\\begin{tabular}{r|}\n",
       "\t& \\\\\n",
       "\t\\hline\n",
       "\t& \\\\\n",
       "\t\\hline\n",
       "\\end{tabular}\n"
      ],
      "text/plain": [
       "0×0 DataFrame\n"
      ]
     },
     "execution_count": 9,
     "metadata": {},
     "output_type": "execute_result"
    }
   ],
   "source": [
    "df = DataFrame()"
   ]
  },
  {
   "cell_type": "code",
   "execution_count": 11,
   "metadata": {},
   "outputs": [
    {
     "data": {
      "text/plain": [
       "1:8"
      ]
     },
     "execution_count": 11,
     "metadata": {},
     "output_type": "execute_result"
    }
   ],
   "source": [
    "df.AA=1:8"
   ]
  },
  {
   "cell_type": "code",
   "execution_count": 12,
   "metadata": {},
   "outputs": [
    {
     "data": {
      "text/plain": [
       "8-element Array{Int64,1}:\n",
       " 1\n",
       " 2\n",
       " 3\n",
       " 4\n",
       " 5\n",
       " 6\n",
       " 7\n",
       " 8"
      ]
     },
     "execution_count": 12,
     "metadata": {},
     "output_type": "execute_result"
    }
   ],
   "source": [
    "df.AA"
   ]
  },
  {
   "cell_type": "code",
   "execution_count": 13,
   "metadata": {},
   "outputs": [
    {
     "data": {
      "text/plain": [
       "8-element Array{String,1}:\n",
       " \"A\"\n",
       " \"B\"\n",
       " \"C\"\n",
       " \"D\"\n",
       " \"E\"\n",
       " \"F\"\n",
       " \"G\"\n",
       " \"H\""
      ]
     },
     "execution_count": 13,
     "metadata": {},
     "output_type": "execute_result"
    }
   ],
   "source": [
    "df.BB=[\"A\",\"B\",\"C\",\"D\",\"E\",\"F\",\"G\",\"H\"]"
   ]
  },
  {
   "cell_type": "code",
   "execution_count": 14,
   "metadata": {},
   "outputs": [
    {
     "data": {
      "text/html": [
       "<table class=\"data-frame\"><thead><tr><th></th><th>AA</th><th>BB</th></tr><tr><th></th><th>Int64</th><th>String</th></tr></thead><tbody><p>8 rows × 2 columns</p><tr><th>1</th><td>1</td><td>A</td></tr><tr><th>2</th><td>2</td><td>B</td></tr><tr><th>3</th><td>3</td><td>C</td></tr><tr><th>4</th><td>4</td><td>D</td></tr><tr><th>5</th><td>5</td><td>E</td></tr><tr><th>6</th><td>6</td><td>F</td></tr><tr><th>7</th><td>7</td><td>G</td></tr><tr><th>8</th><td>8</td><td>H</td></tr></tbody></table>"
      ],
      "text/latex": [
       "\\begin{tabular}{r|cc}\n",
       "\t& AA & BB\\\\\n",
       "\t\\hline\n",
       "\t& Int64 & String\\\\\n",
       "\t\\hline\n",
       "\t1 & 1 & A \\\\\n",
       "\t2 & 2 & B \\\\\n",
       "\t3 & 3 & C \\\\\n",
       "\t4 & 4 & D \\\\\n",
       "\t5 & 5 & E \\\\\n",
       "\t6 & 6 & F \\\\\n",
       "\t7 & 7 & G \\\\\n",
       "\t8 & 8 & H \\\\\n",
       "\\end{tabular}\n"
      ],
      "text/plain": [
       "8×2 DataFrame\n",
       "│ Row │ AA    │ BB     │\n",
       "│     │ \u001b[90mInt64\u001b[39m │ \u001b[90mString\u001b[39m │\n",
       "├─────┼───────┼────────┤\n",
       "│ 1   │ 1     │ A      │\n",
       "│ 2   │ 2     │ B      │\n",
       "│ 3   │ 3     │ C      │\n",
       "│ 4   │ 4     │ D      │\n",
       "│ 5   │ 5     │ E      │\n",
       "│ 6   │ 6     │ F      │\n",
       "│ 7   │ 7     │ G      │\n",
       "│ 8   │ 8     │ H      │"
      ]
     },
     "execution_count": 14,
     "metadata": {},
     "output_type": "execute_result"
    }
   ],
   "source": [
    "df"
   ]
  },
  {
   "cell_type": "code",
   "execution_count": null,
   "metadata": {},
   "outputs": [],
   "source": []
  },
  {
   "cell_type": "code",
   "execution_count": 15,
   "metadata": {},
   "outputs": [
    {
     "data": {
      "text/plain": [
       "(8, 2)"
      ]
     },
     "execution_count": 15,
     "metadata": {},
     "output_type": "execute_result"
    }
   ],
   "source": [
    "size(df)"
   ]
  },
  {
   "cell_type": "code",
   "execution_count": 16,
   "metadata": {},
   "outputs": [
    {
     "data": {
      "text/plain": [
       "8"
      ]
     },
     "execution_count": 16,
     "metadata": {},
     "output_type": "execute_result"
    }
   ],
   "source": [
    "size(df,1)"
   ]
  },
  {
   "cell_type": "code",
   "execution_count": 17,
   "metadata": {},
   "outputs": [
    {
     "data": {
      "text/plain": [
       "2"
      ]
     },
     "execution_count": 17,
     "metadata": {},
     "output_type": "execute_result"
    }
   ],
   "source": [
    "size(df,2)"
   ]
  },
  {
   "cell_type": "code",
   "execution_count": null,
   "metadata": {},
   "outputs": [],
   "source": []
  },
  {
   "cell_type": "code",
   "execution_count": 18,
   "metadata": {},
   "outputs": [],
   "source": [
    "#データフレームの操作"
   ]
  },
  {
   "cell_type": "code",
   "execution_count": 19,
   "metadata": {},
   "outputs": [
    {
     "data": {
      "text/html": [
       "<table class=\"data-frame\"><thead><tr><th></th><th>A</th><th>B</th></tr><tr><th></th><th>Int64</th><th>String</th></tr></thead><tbody><p>0 rows × 2 columns</p></tbody></table>"
      ],
      "text/latex": [
       "\\begin{tabular}{r|cc}\n",
       "\t& A & B\\\\\n",
       "\t\\hline\n",
       "\t& Int64 & String\\\\\n",
       "\t\\hline\n",
       "\\end{tabular}\n"
      ],
      "text/plain": [
       "0×2 DataFrame\n"
      ]
     },
     "execution_count": 19,
     "metadata": {},
     "output_type": "execute_result"
    }
   ],
   "source": [
    "df = DataFrame(A = Int[], B = String[])"
   ]
  },
  {
   "cell_type": "code",
   "execution_count": 20,
   "metadata": {},
   "outputs": [
    {
     "data": {
      "text/html": [
       "<table class=\"data-frame\"><thead><tr><th></th><th>A</th><th>B</th></tr><tr><th></th><th>Int64</th><th>String</th></tr></thead><tbody><p>1 rows × 2 columns</p><tr><th>1</th><td>1</td><td>Apple</td></tr></tbody></table>"
      ],
      "text/latex": [
       "\\begin{tabular}{r|cc}\n",
       "\t& A & B\\\\\n",
       "\t\\hline\n",
       "\t& Int64 & String\\\\\n",
       "\t\\hline\n",
       "\t1 & 1 & Apple \\\\\n",
       "\\end{tabular}\n"
      ],
      "text/plain": [
       "1×2 DataFrame\n",
       "│ Row │ A     │ B      │\n",
       "│     │ \u001b[90mInt64\u001b[39m │ \u001b[90mString\u001b[39m │\n",
       "├─────┼───────┼────────┤\n",
       "│ 1   │ 1     │ Apple  │"
      ]
     },
     "execution_count": 20,
     "metadata": {},
     "output_type": "execute_result"
    }
   ],
   "source": [
    "push!(df,(1,\"Apple\"))"
   ]
  },
  {
   "cell_type": "code",
   "execution_count": 21,
   "metadata": {},
   "outputs": [
    {
     "data": {
      "text/html": [
       "<table class=\"data-frame\"><thead><tr><th></th><th>A</th><th>B</th></tr><tr><th></th><th>Int64</th><th>String</th></tr></thead><tbody><p>3 rows × 2 columns</p><tr><th>1</th><td>1</td><td>Apple</td></tr><tr><th>2</th><td>2</td><td>Banana</td></tr><tr><th>3</th><td>3</td><td>Mango</td></tr></tbody></table>"
      ],
      "text/latex": [
       "\\begin{tabular}{r|cc}\n",
       "\t& A & B\\\\\n",
       "\t\\hline\n",
       "\t& Int64 & String\\\\\n",
       "\t\\hline\n",
       "\t1 & 1 & Apple \\\\\n",
       "\t2 & 2 & Banana \\\\\n",
       "\t3 & 3 & Mango \\\\\n",
       "\\end{tabular}\n"
      ],
      "text/plain": [
       "3×2 DataFrame\n",
       "│ Row │ A     │ B      │\n",
       "│     │ \u001b[90mInt64\u001b[39m │ \u001b[90mString\u001b[39m │\n",
       "├─────┼───────┼────────┤\n",
       "│ 1   │ 1     │ Apple  │\n",
       "│ 2   │ 2     │ Banana │\n",
       "│ 3   │ 3     │ Mango  │"
      ]
     },
     "execution_count": 21,
     "metadata": {},
     "output_type": "execute_result"
    }
   ],
   "source": [
    "push!(df,(2,\"Banana\"))\n",
    "push!(df,(3,\"Mango\"))"
   ]
  },
  {
   "cell_type": "code",
   "execution_count": 23,
   "metadata": {},
   "outputs": [
    {
     "data": {
      "text/html": [
       "<table class=\"data-frame\"><thead><tr><th></th><th>A</th><th>B</th></tr><tr><th></th><th>Int64</th><th>String</th></tr></thead><tbody><p>2 rows × 2 columns</p><tr><th>1</th><td>1</td><td>Apple</td></tr><tr><th>2</th><td>2</td><td>Banana</td></tr></tbody></table>"
      ],
      "text/latex": [
       "\\begin{tabular}{r|cc}\n",
       "\t& A & B\\\\\n",
       "\t\\hline\n",
       "\t& Int64 & String\\\\\n",
       "\t\\hline\n",
       "\t1 & 1 & Apple \\\\\n",
       "\t2 & 2 & Banana \\\\\n",
       "\\end{tabular}\n"
      ],
      "text/plain": [
       "2×2 DataFrame\n",
       "│ Row │ A     │ B      │\n",
       "│     │ \u001b[90mInt64\u001b[39m │ \u001b[90mString\u001b[39m │\n",
       "├─────┼───────┼────────┤\n",
       "│ 1   │ 1     │ Apple  │\n",
       "│ 2   │ 2     │ Banana │"
      ]
     },
     "execution_count": 23,
     "metadata": {},
     "output_type": "execute_result"
    }
   ],
   "source": [
    "deleterows!(df,3)"
   ]
  },
  {
   "cell_type": "code",
   "execution_count": null,
   "metadata": {},
   "outputs": [],
   "source": []
  },
  {
   "cell_type": "code",
   "execution_count": 24,
   "metadata": {},
   "outputs": [
    {
     "data": {
      "text/html": [
       "<table class=\"data-frame\"><thead><tr><th></th><th>A</th><th>B</th><th>C</th></tr><tr><th></th><th>Int64</th><th>Int64</th><th>Int64</th></tr></thead><tbody><p>20 rows × 3 columns</p><tr><th>1</th><td>0</td><td>1</td><td>1</td></tr><tr><th>2</th><td>5</td><td>1</td><td>2</td></tr><tr><th>3</th><td>10</td><td>2</td><td>3</td></tr><tr><th>4</th><td>15</td><td>2</td><td>4</td></tr><tr><th>5</th><td>20</td><td>3</td><td>5</td></tr><tr><th>6</th><td>25</td><td>3</td><td>6</td></tr><tr><th>7</th><td>30</td><td>4</td><td>7</td></tr><tr><th>8</th><td>35</td><td>4</td><td>8</td></tr><tr><th>9</th><td>40</td><td>5</td><td>9</td></tr><tr><th>10</th><td>45</td><td>5</td><td>10</td></tr><tr><th>11</th><td>50</td><td>6</td><td>11</td></tr><tr><th>12</th><td>55</td><td>6</td><td>12</td></tr><tr><th>13</th><td>60</td><td>7</td><td>13</td></tr><tr><th>14</th><td>65</td><td>7</td><td>14</td></tr><tr><th>15</th><td>70</td><td>8</td><td>15</td></tr><tr><th>16</th><td>75</td><td>8</td><td>16</td></tr><tr><th>17</th><td>80</td><td>9</td><td>17</td></tr><tr><th>18</th><td>85</td><td>9</td><td>18</td></tr><tr><th>19</th><td>90</td><td>10</td><td>19</td></tr><tr><th>20</th><td>95</td><td>10</td><td>20</td></tr></tbody></table>"
      ],
      "text/latex": [
       "\\begin{tabular}{r|ccc}\n",
       "\t& A & B & C\\\\\n",
       "\t\\hline\n",
       "\t& Int64 & Int64 & Int64\\\\\n",
       "\t\\hline\n",
       "\t1 & 0 & 1 & 1 \\\\\n",
       "\t2 & 5 & 1 & 2 \\\\\n",
       "\t3 & 10 & 2 & 3 \\\\\n",
       "\t4 & 15 & 2 & 4 \\\\\n",
       "\t5 & 20 & 3 & 5 \\\\\n",
       "\t6 & 25 & 3 & 6 \\\\\n",
       "\t7 & 30 & 4 & 7 \\\\\n",
       "\t8 & 35 & 4 & 8 \\\\\n",
       "\t9 & 40 & 5 & 9 \\\\\n",
       "\t10 & 45 & 5 & 10 \\\\\n",
       "\t11 & 50 & 6 & 11 \\\\\n",
       "\t12 & 55 & 6 & 12 \\\\\n",
       "\t13 & 60 & 7 & 13 \\\\\n",
       "\t14 & 65 & 7 & 14 \\\\\n",
       "\t15 & 70 & 8 & 15 \\\\\n",
       "\t16 & 75 & 8 & 16 \\\\\n",
       "\t17 & 80 & 9 & 17 \\\\\n",
       "\t18 & 85 & 9 & 18 \\\\\n",
       "\t19 & 90 & 10 & 19 \\\\\n",
       "\t20 & 95 & 10 & 20 \\\\\n",
       "\\end{tabular}\n"
      ],
      "text/plain": [
       "20×3 DataFrame\n",
       "│ Row │ A     │ B     │ C     │\n",
       "│     │ \u001b[90mInt64\u001b[39m │ \u001b[90mInt64\u001b[39m │ \u001b[90mInt64\u001b[39m │\n",
       "├─────┼───────┼───────┼───────┤\n",
       "│ 1   │ 0     │ 1     │ 1     │\n",
       "│ 2   │ 5     │ 1     │ 2     │\n",
       "│ 3   │ 10    │ 2     │ 3     │\n",
       "│ 4   │ 15    │ 2     │ 4     │\n",
       "│ 5   │ 20    │ 3     │ 5     │\n",
       "│ 6   │ 25    │ 3     │ 6     │\n",
       "│ 7   │ 30    │ 4     │ 7     │\n",
       "│ 8   │ 35    │ 4     │ 8     │\n",
       "│ 9   │ 40    │ 5     │ 9     │\n",
       "│ 10  │ 45    │ 5     │ 10    │\n",
       "│ 11  │ 50    │ 6     │ 11    │\n",
       "│ 12  │ 55    │ 6     │ 12    │\n",
       "│ 13  │ 60    │ 7     │ 13    │\n",
       "│ 14  │ 65    │ 7     │ 14    │\n",
       "│ 15  │ 70    │ 8     │ 15    │\n",
       "│ 16  │ 75    │ 8     │ 16    │\n",
       "│ 17  │ 80    │ 9     │ 17    │\n",
       "│ 18  │ 85    │ 9     │ 18    │\n",
       "│ 19  │ 90    │ 10    │ 19    │\n",
       "│ 20  │ 95    │ 10    │ 20    │"
      ]
     },
     "execution_count": 24,
     "metadata": {},
     "output_type": "execute_result"
    }
   ],
   "source": [
    "df = DataFrame(A=0:5:95, B = repeat(1:10,inner=2),C=1:20)"
   ]
  },
  {
   "cell_type": "code",
   "execution_count": 25,
   "metadata": {},
   "outputs": [
    {
     "data": {
      "text/html": [
       "<table class=\"data-frame\"><thead><tr><th></th><th>A</th><th>B</th><th>C</th></tr><tr><th></th><th>Int64</th><th>Int64</th><th>Int64</th></tr></thead><tbody><p>3 rows × 3 columns</p><tr><th>1</th><td>0</td><td>1</td><td>1</td></tr><tr><th>2</th><td>5</td><td>1</td><td>2</td></tr><tr><th>3</th><td>10</td><td>2</td><td>3</td></tr></tbody></table>"
      ],
      "text/latex": [
       "\\begin{tabular}{r|ccc}\n",
       "\t& A & B & C\\\\\n",
       "\t\\hline\n",
       "\t& Int64 & Int64 & Int64\\\\\n",
       "\t\\hline\n",
       "\t1 & 0 & 1 & 1 \\\\\n",
       "\t2 & 5 & 1 & 2 \\\\\n",
       "\t3 & 10 & 2 & 3 \\\\\n",
       "\\end{tabular}\n"
      ],
      "text/plain": [
       "3×3 DataFrame\n",
       "│ Row │ A     │ B     │ C     │\n",
       "│     │ \u001b[90mInt64\u001b[39m │ \u001b[90mInt64\u001b[39m │ \u001b[90mInt64\u001b[39m │\n",
       "├─────┼───────┼───────┼───────┤\n",
       "│ 1   │ 0     │ 1     │ 1     │\n",
       "│ 2   │ 5     │ 1     │ 2     │\n",
       "│ 3   │ 10    │ 2     │ 3     │"
      ]
     },
     "execution_count": 25,
     "metadata": {},
     "output_type": "execute_result"
    }
   ],
   "source": [
    "first(df,3)"
   ]
  },
  {
   "cell_type": "code",
   "execution_count": 26,
   "metadata": {},
   "outputs": [
    {
     "data": {
      "text/html": [
       "<table class=\"data-frame\"><thead><tr><th></th><th>A</th><th>B</th><th>C</th></tr><tr><th></th><th>Int64</th><th>Int64</th><th>Int64</th></tr></thead><tbody><p>3 rows × 3 columns</p><tr><th>1</th><td>85</td><td>9</td><td>18</td></tr><tr><th>2</th><td>90</td><td>10</td><td>19</td></tr><tr><th>3</th><td>95</td><td>10</td><td>20</td></tr></tbody></table>"
      ],
      "text/latex": [
       "\\begin{tabular}{r|ccc}\n",
       "\t& A & B & C\\\\\n",
       "\t\\hline\n",
       "\t& Int64 & Int64 & Int64\\\\\n",
       "\t\\hline\n",
       "\t1 & 85 & 9 & 18 \\\\\n",
       "\t2 & 90 & 10 & 19 \\\\\n",
       "\t3 & 95 & 10 & 20 \\\\\n",
       "\\end{tabular}\n"
      ],
      "text/plain": [
       "3×3 DataFrame\n",
       "│ Row │ A     │ B     │ C     │\n",
       "│     │ \u001b[90mInt64\u001b[39m │ \u001b[90mInt64\u001b[39m │ \u001b[90mInt64\u001b[39m │\n",
       "├─────┼───────┼───────┼───────┤\n",
       "│ 1   │ 85    │ 9     │ 18    │\n",
       "│ 2   │ 90    │ 10    │ 19    │\n",
       "│ 3   │ 95    │ 10    │ 20    │"
      ]
     },
     "execution_count": 26,
     "metadata": {},
     "output_type": "execute_result"
    }
   ],
   "source": [
    "last(df,3)"
   ]
  },
  {
   "cell_type": "code",
   "execution_count": 27,
   "metadata": {},
   "outputs": [
    {
     "data": {
      "text/html": [
       "<table class=\"data-frame\"><thead><tr><th></th><th>A</th><th>B</th><th>C</th></tr><tr><th></th><th>Int64</th><th>Int64</th><th>Int64</th></tr></thead><tbody><p>10 rows × 3 columns</p><tr><th>1</th><td>0</td><td>1</td><td>1</td></tr><tr><th>2</th><td>5</td><td>1</td><td>2</td></tr><tr><th>3</th><td>10</td><td>2</td><td>3</td></tr><tr><th>4</th><td>15</td><td>2</td><td>4</td></tr><tr><th>5</th><td>20</td><td>3</td><td>5</td></tr><tr><th>6</th><td>25</td><td>3</td><td>6</td></tr><tr><th>7</th><td>30</td><td>4</td><td>7</td></tr><tr><th>8</th><td>35</td><td>4</td><td>8</td></tr><tr><th>9</th><td>40</td><td>5</td><td>9</td></tr><tr><th>10</th><td>45</td><td>5</td><td>10</td></tr></tbody></table>"
      ],
      "text/latex": [
       "\\begin{tabular}{r|ccc}\n",
       "\t& A & B & C\\\\\n",
       "\t\\hline\n",
       "\t& Int64 & Int64 & Int64\\\\\n",
       "\t\\hline\n",
       "\t1 & 0 & 1 & 1 \\\\\n",
       "\t2 & 5 & 1 & 2 \\\\\n",
       "\t3 & 10 & 2 & 3 \\\\\n",
       "\t4 & 15 & 2 & 4 \\\\\n",
       "\t5 & 20 & 3 & 5 \\\\\n",
       "\t6 & 25 & 3 & 6 \\\\\n",
       "\t7 & 30 & 4 & 7 \\\\\n",
       "\t8 & 35 & 4 & 8 \\\\\n",
       "\t9 & 40 & 5 & 9 \\\\\n",
       "\t10 & 45 & 5 & 10 \\\\\n",
       "\\end{tabular}\n"
      ],
      "text/plain": [
       "10×3 DataFrame\n",
       "│ Row │ A     │ B     │ C     │\n",
       "│     │ \u001b[90mInt64\u001b[39m │ \u001b[90mInt64\u001b[39m │ \u001b[90mInt64\u001b[39m │\n",
       "├─────┼───────┼───────┼───────┤\n",
       "│ 1   │ 0     │ 1     │ 1     │\n",
       "│ 2   │ 5     │ 1     │ 2     │\n",
       "│ 3   │ 10    │ 2     │ 3     │\n",
       "│ 4   │ 15    │ 2     │ 4     │\n",
       "│ 5   │ 20    │ 3     │ 5     │\n",
       "│ 6   │ 25    │ 3     │ 6     │\n",
       "│ 7   │ 30    │ 4     │ 7     │\n",
       "│ 8   │ 35    │ 4     │ 8     │\n",
       "│ 9   │ 40    │ 5     │ 9     │\n",
       "│ 10  │ 45    │ 5     │ 10    │"
      ]
     },
     "execution_count": 27,
     "metadata": {},
     "output_type": "execute_result"
    }
   ],
   "source": [
    "df[1:10,:]"
   ]
  },
  {
   "cell_type": "code",
   "execution_count": 28,
   "metadata": {},
   "outputs": [
    {
     "data": {
      "text/html": [
       "<table class=\"data-frame\"><thead><tr><th></th><th>A</th><th>B</th><th>C</th></tr><tr><th></th><th>Int64</th><th>Int64</th><th>Int64</th></tr></thead><tbody><p>9 rows × 3 columns</p><tr><th>1</th><td>55</td><td>6</td><td>12</td></tr><tr><th>2</th><td>60</td><td>7</td><td>13</td></tr><tr><th>3</th><td>65</td><td>7</td><td>14</td></tr><tr><th>4</th><td>70</td><td>8</td><td>15</td></tr><tr><th>5</th><td>75</td><td>8</td><td>16</td></tr><tr><th>6</th><td>80</td><td>9</td><td>17</td></tr><tr><th>7</th><td>85</td><td>9</td><td>18</td></tr><tr><th>8</th><td>90</td><td>10</td><td>19</td></tr><tr><th>9</th><td>95</td><td>10</td><td>20</td></tr></tbody></table>"
      ],
      "text/latex": [
       "\\begin{tabular}{r|ccc}\n",
       "\t& A & B & C\\\\\n",
       "\t\\hline\n",
       "\t& Int64 & Int64 & Int64\\\\\n",
       "\t\\hline\n",
       "\t1 & 55 & 6 & 12 \\\\\n",
       "\t2 & 60 & 7 & 13 \\\\\n",
       "\t3 & 65 & 7 & 14 \\\\\n",
       "\t4 & 70 & 8 & 15 \\\\\n",
       "\t5 & 75 & 8 & 16 \\\\\n",
       "\t6 & 80 & 9 & 17 \\\\\n",
       "\t7 & 85 & 9 & 18 \\\\\n",
       "\t8 & 90 & 10 & 19 \\\\\n",
       "\t9 & 95 & 10 & 20 \\\\\n",
       "\\end{tabular}\n"
      ],
      "text/plain": [
       "9×3 DataFrame\n",
       "│ Row │ A     │ B     │ C     │\n",
       "│     │ \u001b[90mInt64\u001b[39m │ \u001b[90mInt64\u001b[39m │ \u001b[90mInt64\u001b[39m │\n",
       "├─────┼───────┼───────┼───────┤\n",
       "│ 1   │ 55    │ 6     │ 12    │\n",
       "│ 2   │ 60    │ 7     │ 13    │\n",
       "│ 3   │ 65    │ 7     │ 14    │\n",
       "│ 4   │ 70    │ 8     │ 15    │\n",
       "│ 5   │ 75    │ 8     │ 16    │\n",
       "│ 6   │ 80    │ 9     │ 17    │\n",
       "│ 7   │ 85    │ 9     │ 18    │\n",
       "│ 8   │ 90    │ 10    │ 19    │\n",
       "│ 9   │ 95    │ 10    │ 20    │"
      ]
     },
     "execution_count": 28,
     "metadata": {},
     "output_type": "execute_result"
    }
   ],
   "source": [
    "df[df.A .> 50, :]"
   ]
  },
  {
   "cell_type": "code",
   "execution_count": null,
   "metadata": {},
   "outputs": [],
   "source": []
  },
  {
   "cell_type": "code",
   "execution_count": 29,
   "metadata": {},
   "outputs": [
    {
     "data": {
      "text/html": [
       "<table class=\"data-frame\"><thead><tr><th></th><th>variable</th><th>mean</th><th>min</th><th>median</th><th>max</th><th>nunique</th><th>nmissing</th><th>eltype</th></tr><tr><th></th><th>Symbol</th><th>Float64</th><th>Int64</th><th>Float64</th><th>Int64</th><th>Nothing</th><th>Nothing</th><th>DataType</th></tr></thead><tbody><p>3 rows × 8 columns</p><tr><th>1</th><td>A</td><td>47.5</td><td>0</td><td>47.5</td><td>95</td><td></td><td></td><td>Int64</td></tr><tr><th>2</th><td>B</td><td>5.5</td><td>1</td><td>5.5</td><td>10</td><td></td><td></td><td>Int64</td></tr><tr><th>3</th><td>C</td><td>10.5</td><td>1</td><td>10.5</td><td>20</td><td></td><td></td><td>Int64</td></tr></tbody></table>"
      ],
      "text/latex": [
       "\\begin{tabular}{r|cccccccc}\n",
       "\t& variable & mean & min & median & max & nunique & nmissing & eltype\\\\\n",
       "\t\\hline\n",
       "\t& Symbol & Float64 & Int64 & Float64 & Int64 & Nothing & Nothing & DataType\\\\\n",
       "\t\\hline\n",
       "\t1 & A & 47.5 & 0 & 47.5 & 95 &  &  & Int64 \\\\\n",
       "\t2 & B & 5.5 & 1 & 5.5 & 10 &  &  & Int64 \\\\\n",
       "\t3 & C & 10.5 & 1 & 10.5 & 20 &  &  & Int64 \\\\\n",
       "\\end{tabular}\n"
      ],
      "text/plain": [
       "3×8 DataFrame. Omitted printing of 1 columns\n",
       "│ Row │ variable │ mean    │ min   │ median  │ max   │ nunique │ nmissing │\n",
       "│     │ \u001b[90mSymbol\u001b[39m   │ \u001b[90mFloat64\u001b[39m │ \u001b[90mInt64\u001b[39m │ \u001b[90mFloat64\u001b[39m │ \u001b[90mInt64\u001b[39m │ \u001b[90mNothing\u001b[39m │ \u001b[90mNothing\u001b[39m  │\n",
       "├─────┼──────────┼─────────┼───────┼─────────┼───────┼─────────┼──────────┤\n",
       "│ 1   │ A        │ 47.5    │ 0     │ 47.5    │ 95    │         │          │\n",
       "│ 2   │ B        │ 5.5     │ 1     │ 5.5     │ 10    │         │          │\n",
       "│ 3   │ C        │ 10.5    │ 1     │ 10.5    │ 20    │         │          │"
      ]
     },
     "execution_count": 29,
     "metadata": {},
     "output_type": "execute_result"
    }
   ],
   "source": [
    "describe(df)"
   ]
  },
  {
   "cell_type": "code",
   "execution_count": null,
   "metadata": {},
   "outputs": [],
   "source": []
  },
  {
   "cell_type": "code",
   "execution_count": 30,
   "metadata": {},
   "outputs": [
    {
     "data": {
      "text/html": [
       "<table class=\"data-frame\"><thead><tr><th></th><th>A</th><th>C</th></tr><tr><th></th><th>Int64</th><th>Int64</th></tr></thead><tbody><p>20 rows × 2 columns</p><tr><th>1</th><td>0</td><td>1</td></tr><tr><th>2</th><td>5</td><td>2</td></tr><tr><th>3</th><td>10</td><td>3</td></tr><tr><th>4</th><td>15</td><td>4</td></tr><tr><th>5</th><td>20</td><td>5</td></tr><tr><th>6</th><td>25</td><td>6</td></tr><tr><th>7</th><td>30</td><td>7</td></tr><tr><th>8</th><td>35</td><td>8</td></tr><tr><th>9</th><td>40</td><td>9</td></tr><tr><th>10</th><td>45</td><td>10</td></tr><tr><th>11</th><td>50</td><td>11</td></tr><tr><th>12</th><td>55</td><td>12</td></tr><tr><th>13</th><td>60</td><td>13</td></tr><tr><th>14</th><td>65</td><td>14</td></tr><tr><th>15</th><td>70</td><td>15</td></tr><tr><th>16</th><td>75</td><td>16</td></tr><tr><th>17</th><td>80</td><td>17</td></tr><tr><th>18</th><td>85</td><td>18</td></tr><tr><th>19</th><td>90</td><td>19</td></tr><tr><th>20</th><td>95</td><td>20</td></tr></tbody></table>"
      ],
      "text/latex": [
       "\\begin{tabular}{r|cc}\n",
       "\t& A & C\\\\\n",
       "\t\\hline\n",
       "\t& Int64 & Int64\\\\\n",
       "\t\\hline\n",
       "\t1 & 0 & 1 \\\\\n",
       "\t2 & 5 & 2 \\\\\n",
       "\t3 & 10 & 3 \\\\\n",
       "\t4 & 15 & 4 \\\\\n",
       "\t5 & 20 & 5 \\\\\n",
       "\t6 & 25 & 6 \\\\\n",
       "\t7 & 30 & 7 \\\\\n",
       "\t8 & 35 & 8 \\\\\n",
       "\t9 & 40 & 9 \\\\\n",
       "\t10 & 45 & 10 \\\\\n",
       "\t11 & 50 & 11 \\\\\n",
       "\t12 & 55 & 12 \\\\\n",
       "\t13 & 60 & 13 \\\\\n",
       "\t14 & 65 & 14 \\\\\n",
       "\t15 & 70 & 15 \\\\\n",
       "\t16 & 75 & 16 \\\\\n",
       "\t17 & 80 & 17 \\\\\n",
       "\t18 & 85 & 18 \\\\\n",
       "\t19 & 90 & 19 \\\\\n",
       "\t20 & 95 & 20 \\\\\n",
       "\\end{tabular}\n"
      ],
      "text/plain": [
       "20×2 DataFrame\n",
       "│ Row │ A     │ C     │\n",
       "│     │ \u001b[90mInt64\u001b[39m │ \u001b[90mInt64\u001b[39m │\n",
       "├─────┼───────┼───────┤\n",
       "│ 1   │ 0     │ 1     │\n",
       "│ 2   │ 5     │ 2     │\n",
       "│ 3   │ 10    │ 3     │\n",
       "│ 4   │ 15    │ 4     │\n",
       "│ 5   │ 20    │ 5     │\n",
       "│ 6   │ 25    │ 6     │\n",
       "│ 7   │ 30    │ 7     │\n",
       "│ 8   │ 35    │ 8     │\n",
       "│ 9   │ 40    │ 9     │\n",
       "│ 10  │ 45    │ 10    │\n",
       "│ 11  │ 50    │ 11    │\n",
       "│ 12  │ 55    │ 12    │\n",
       "│ 13  │ 60    │ 13    │\n",
       "│ 14  │ 65    │ 14    │\n",
       "│ 15  │ 70    │ 15    │\n",
       "│ 16  │ 75    │ 16    │\n",
       "│ 17  │ 80    │ 17    │\n",
       "│ 18  │ 85    │ 18    │\n",
       "│ 19  │ 90    │ 19    │\n",
       "│ 20  │ 95    │ 20    │"
      ]
     },
     "execution_count": 30,
     "metadata": {},
     "output_type": "execute_result"
    }
   ],
   "source": [
    "select(df,Not(:B))"
   ]
  },
  {
   "cell_type": "code",
   "execution_count": 31,
   "metadata": {},
   "outputs": [
    {
     "data": {
      "text/html": [
       "<table class=\"data-frame\"><thead><tr><th></th><th>AA</th><th>CC</th></tr><tr><th></th><th>Int64</th><th>Int64</th></tr></thead><tbody><p>20 rows × 2 columns</p><tr><th>1</th><td>0</td><td>1</td></tr><tr><th>2</th><td>5</td><td>2</td></tr><tr><th>3</th><td>10</td><td>3</td></tr><tr><th>4</th><td>15</td><td>4</td></tr><tr><th>5</th><td>20</td><td>5</td></tr><tr><th>6</th><td>25</td><td>6</td></tr><tr><th>7</th><td>30</td><td>7</td></tr><tr><th>8</th><td>35</td><td>8</td></tr><tr><th>9</th><td>40</td><td>9</td></tr><tr><th>10</th><td>45</td><td>10</td></tr><tr><th>11</th><td>50</td><td>11</td></tr><tr><th>12</th><td>55</td><td>12</td></tr><tr><th>13</th><td>60</td><td>13</td></tr><tr><th>14</th><td>65</td><td>14</td></tr><tr><th>15</th><td>70</td><td>15</td></tr><tr><th>16</th><td>75</td><td>16</td></tr><tr><th>17</th><td>80</td><td>17</td></tr><tr><th>18</th><td>85</td><td>18</td></tr><tr><th>19</th><td>90</td><td>19</td></tr><tr><th>20</th><td>95</td><td>20</td></tr></tbody></table>"
      ],
      "text/latex": [
       "\\begin{tabular}{r|cc}\n",
       "\t& AA & CC\\\\\n",
       "\t\\hline\n",
       "\t& Int64 & Int64\\\\\n",
       "\t\\hline\n",
       "\t1 & 0 & 1 \\\\\n",
       "\t2 & 5 & 2 \\\\\n",
       "\t3 & 10 & 3 \\\\\n",
       "\t4 & 15 & 4 \\\\\n",
       "\t5 & 20 & 5 \\\\\n",
       "\t6 & 25 & 6 \\\\\n",
       "\t7 & 30 & 7 \\\\\n",
       "\t8 & 35 & 8 \\\\\n",
       "\t9 & 40 & 9 \\\\\n",
       "\t10 & 45 & 10 \\\\\n",
       "\t11 & 50 & 11 \\\\\n",
       "\t12 & 55 & 12 \\\\\n",
       "\t13 & 60 & 13 \\\\\n",
       "\t14 & 65 & 14 \\\\\n",
       "\t15 & 70 & 15 \\\\\n",
       "\t16 & 75 & 16 \\\\\n",
       "\t17 & 80 & 17 \\\\\n",
       "\t18 & 85 & 18 \\\\\n",
       "\t19 & 90 & 19 \\\\\n",
       "\t20 & 95 & 20 \\\\\n",
       "\\end{tabular}\n"
      ],
      "text/plain": [
       "20×2 DataFrame\n",
       "│ Row │ AA    │ CC    │\n",
       "│     │ \u001b[90mInt64\u001b[39m │ \u001b[90mInt64\u001b[39m │\n",
       "├─────┼───────┼───────┤\n",
       "│ 1   │ 0     │ 1     │\n",
       "│ 2   │ 5     │ 2     │\n",
       "│ 3   │ 10    │ 3     │\n",
       "│ 4   │ 15    │ 4     │\n",
       "│ 5   │ 20    │ 5     │\n",
       "│ 6   │ 25    │ 6     │\n",
       "│ 7   │ 30    │ 7     │\n",
       "│ 8   │ 35    │ 8     │\n",
       "│ 9   │ 40    │ 9     │\n",
       "│ 10  │ 45    │ 10    │\n",
       "│ 11  │ 50    │ 11    │\n",
       "│ 12  │ 55    │ 12    │\n",
       "│ 13  │ 60    │ 13    │\n",
       "│ 14  │ 65    │ 14    │\n",
       "│ 15  │ 70    │ 15    │\n",
       "│ 16  │ 75    │ 16    │\n",
       "│ 17  │ 80    │ 17    │\n",
       "│ 18  │ 85    │ 18    │\n",
       "│ 19  │ 90    │ 19    │\n",
       "│ 20  │ 95    │ 20    │"
      ]
     },
     "execution_count": 31,
     "metadata": {},
     "output_type": "execute_result"
    }
   ],
   "source": [
    "select(df, :A => :AA, :C=>:CC)"
   ]
  },
  {
   "cell_type": "code",
   "execution_count": 32,
   "metadata": {},
   "outputs": [
    {
     "data": {
      "text/html": [
       "<table class=\"data-frame\"><thead><tr><th></th><th>A</th><th>B</th><th>C</th></tr><tr><th></th><th>Int64</th><th>Int64</th><th>Int64</th></tr></thead><tbody><p>20 rows × 3 columns</p><tr><th>1</th><td>0</td><td>1</td><td>1</td></tr><tr><th>2</th><td>5</td><td>1</td><td>2</td></tr><tr><th>3</th><td>10</td><td>2</td><td>3</td></tr><tr><th>4</th><td>15</td><td>2</td><td>4</td></tr><tr><th>5</th><td>20</td><td>3</td><td>5</td></tr><tr><th>6</th><td>25</td><td>3</td><td>6</td></tr><tr><th>7</th><td>30</td><td>4</td><td>7</td></tr><tr><th>8</th><td>35</td><td>4</td><td>8</td></tr><tr><th>9</th><td>40</td><td>5</td><td>9</td></tr><tr><th>10</th><td>45</td><td>5</td><td>10</td></tr><tr><th>11</th><td>50</td><td>6</td><td>11</td></tr><tr><th>12</th><td>55</td><td>6</td><td>12</td></tr><tr><th>13</th><td>60</td><td>7</td><td>13</td></tr><tr><th>14</th><td>65</td><td>7</td><td>14</td></tr><tr><th>15</th><td>70</td><td>8</td><td>15</td></tr><tr><th>16</th><td>75</td><td>8</td><td>16</td></tr><tr><th>17</th><td>80</td><td>9</td><td>17</td></tr><tr><th>18</th><td>85</td><td>9</td><td>18</td></tr><tr><th>19</th><td>90</td><td>10</td><td>19</td></tr><tr><th>20</th><td>95</td><td>10</td><td>20</td></tr></tbody></table>"
      ],
      "text/latex": [
       "\\begin{tabular}{r|ccc}\n",
       "\t& A & B & C\\\\\n",
       "\t\\hline\n",
       "\t& Int64 & Int64 & Int64\\\\\n",
       "\t\\hline\n",
       "\t1 & 0 & 1 & 1 \\\\\n",
       "\t2 & 5 & 1 & 2 \\\\\n",
       "\t3 & 10 & 2 & 3 \\\\\n",
       "\t4 & 15 & 2 & 4 \\\\\n",
       "\t5 & 20 & 3 & 5 \\\\\n",
       "\t6 & 25 & 3 & 6 \\\\\n",
       "\t7 & 30 & 4 & 7 \\\\\n",
       "\t8 & 35 & 4 & 8 \\\\\n",
       "\t9 & 40 & 5 & 9 \\\\\n",
       "\t10 & 45 & 5 & 10 \\\\\n",
       "\t11 & 50 & 6 & 11 \\\\\n",
       "\t12 & 55 & 6 & 12 \\\\\n",
       "\t13 & 60 & 7 & 13 \\\\\n",
       "\t14 & 65 & 7 & 14 \\\\\n",
       "\t15 & 70 & 8 & 15 \\\\\n",
       "\t16 & 75 & 8 & 16 \\\\\n",
       "\t17 & 80 & 9 & 17 \\\\\n",
       "\t18 & 85 & 9 & 18 \\\\\n",
       "\t19 & 90 & 10 & 19 \\\\\n",
       "\t20 & 95 & 10 & 20 \\\\\n",
       "\\end{tabular}\n"
      ],
      "text/plain": [
       "20×3 DataFrame\n",
       "│ Row │ A     │ B     │ C     │\n",
       "│     │ \u001b[90mInt64\u001b[39m │ \u001b[90mInt64\u001b[39m │ \u001b[90mInt64\u001b[39m │\n",
       "├─────┼───────┼───────┼───────┤\n",
       "│ 1   │ 0     │ 1     │ 1     │\n",
       "│ 2   │ 5     │ 1     │ 2     │\n",
       "│ 3   │ 10    │ 2     │ 3     │\n",
       "│ 4   │ 15    │ 2     │ 4     │\n",
       "│ 5   │ 20    │ 3     │ 5     │\n",
       "│ 6   │ 25    │ 3     │ 6     │\n",
       "│ 7   │ 30    │ 4     │ 7     │\n",
       "│ 8   │ 35    │ 4     │ 8     │\n",
       "│ 9   │ 40    │ 5     │ 9     │\n",
       "│ 10  │ 45    │ 5     │ 10    │\n",
       "│ 11  │ 50    │ 6     │ 11    │\n",
       "│ 12  │ 55    │ 6     │ 12    │\n",
       "│ 13  │ 60    │ 7     │ 13    │\n",
       "│ 14  │ 65    │ 7     │ 14    │\n",
       "│ 15  │ 70    │ 8     │ 15    │\n",
       "│ 16  │ 75    │ 8     │ 16    │\n",
       "│ 17  │ 80    │ 9     │ 17    │\n",
       "│ 18  │ 85    │ 9     │ 18    │\n",
       "│ 19  │ 90    │ 10    │ 19    │\n",
       "│ 20  │ 95    │ 10    │ 20    │"
      ]
     },
     "execution_count": 32,
     "metadata": {},
     "output_type": "execute_result"
    }
   ],
   "source": [
    "df"
   ]
  },
  {
   "cell_type": "code",
   "execution_count": 33,
   "metadata": {},
   "outputs": [
    {
     "data": {
      "text/html": [
       "<table class=\"data-frame\"><thead><tr><th></th><th>A</th><th>C</th></tr><tr><th></th><th>Int64</th><th>Int64</th></tr></thead><tbody><p>20 rows × 2 columns</p><tr><th>1</th><td>0</td><td>1</td></tr><tr><th>2</th><td>5</td><td>2</td></tr><tr><th>3</th><td>10</td><td>3</td></tr><tr><th>4</th><td>15</td><td>4</td></tr><tr><th>5</th><td>20</td><td>5</td></tr><tr><th>6</th><td>25</td><td>6</td></tr><tr><th>7</th><td>30</td><td>7</td></tr><tr><th>8</th><td>35</td><td>8</td></tr><tr><th>9</th><td>40</td><td>9</td></tr><tr><th>10</th><td>45</td><td>10</td></tr><tr><th>11</th><td>50</td><td>11</td></tr><tr><th>12</th><td>55</td><td>12</td></tr><tr><th>13</th><td>60</td><td>13</td></tr><tr><th>14</th><td>65</td><td>14</td></tr><tr><th>15</th><td>70</td><td>15</td></tr><tr><th>16</th><td>75</td><td>16</td></tr><tr><th>17</th><td>80</td><td>17</td></tr><tr><th>18</th><td>85</td><td>18</td></tr><tr><th>19</th><td>90</td><td>19</td></tr><tr><th>20</th><td>95</td><td>20</td></tr></tbody></table>"
      ],
      "text/latex": [
       "\\begin{tabular}{r|cc}\n",
       "\t& A & C\\\\\n",
       "\t\\hline\n",
       "\t& Int64 & Int64\\\\\n",
       "\t\\hline\n",
       "\t1 & 0 & 1 \\\\\n",
       "\t2 & 5 & 2 \\\\\n",
       "\t3 & 10 & 3 \\\\\n",
       "\t4 & 15 & 4 \\\\\n",
       "\t5 & 20 & 5 \\\\\n",
       "\t6 & 25 & 6 \\\\\n",
       "\t7 & 30 & 7 \\\\\n",
       "\t8 & 35 & 8 \\\\\n",
       "\t9 & 40 & 9 \\\\\n",
       "\t10 & 45 & 10 \\\\\n",
       "\t11 & 50 & 11 \\\\\n",
       "\t12 & 55 & 12 \\\\\n",
       "\t13 & 60 & 13 \\\\\n",
       "\t14 & 65 & 14 \\\\\n",
       "\t15 & 70 & 15 \\\\\n",
       "\t16 & 75 & 16 \\\\\n",
       "\t17 & 80 & 17 \\\\\n",
       "\t18 & 85 & 18 \\\\\n",
       "\t19 & 90 & 19 \\\\\n",
       "\t20 & 95 & 20 \\\\\n",
       "\\end{tabular}\n"
      ],
      "text/plain": [
       "20×2 DataFrame\n",
       "│ Row │ A     │ C     │\n",
       "│     │ \u001b[90mInt64\u001b[39m │ \u001b[90mInt64\u001b[39m │\n",
       "├─────┼───────┼───────┤\n",
       "│ 1   │ 0     │ 1     │\n",
       "│ 2   │ 5     │ 2     │\n",
       "│ 3   │ 10    │ 3     │\n",
       "│ 4   │ 15    │ 4     │\n",
       "│ 5   │ 20    │ 5     │\n",
       "│ 6   │ 25    │ 6     │\n",
       "│ 7   │ 30    │ 7     │\n",
       "│ 8   │ 35    │ 8     │\n",
       "│ 9   │ 40    │ 9     │\n",
       "│ 10  │ 45    │ 10    │\n",
       "│ 11  │ 50    │ 11    │\n",
       "│ 12  │ 55    │ 12    │\n",
       "│ 13  │ 60    │ 13    │\n",
       "│ 14  │ 65    │ 14    │\n",
       "│ 15  │ 70    │ 15    │\n",
       "│ 16  │ 75    │ 16    │\n",
       "│ 17  │ 80    │ 17    │\n",
       "│ 18  │ 85    │ 18    │\n",
       "│ 19  │ 90    │ 19    │\n",
       "│ 20  │ 95    │ 20    │"
      ]
     },
     "execution_count": 33,
     "metadata": {},
     "output_type": "execute_result"
    }
   ],
   "source": [
    "select!(df,Not(:B))"
   ]
  },
  {
   "cell_type": "code",
   "execution_count": 34,
   "metadata": {},
   "outputs": [
    {
     "data": {
      "text/html": [
       "<table class=\"data-frame\"><thead><tr><th></th><th>A</th><th>C</th></tr><tr><th></th><th>Int64</th><th>Int64</th></tr></thead><tbody><p>20 rows × 2 columns</p><tr><th>1</th><td>0</td><td>1</td></tr><tr><th>2</th><td>5</td><td>2</td></tr><tr><th>3</th><td>10</td><td>3</td></tr><tr><th>4</th><td>15</td><td>4</td></tr><tr><th>5</th><td>20</td><td>5</td></tr><tr><th>6</th><td>25</td><td>6</td></tr><tr><th>7</th><td>30</td><td>7</td></tr><tr><th>8</th><td>35</td><td>8</td></tr><tr><th>9</th><td>40</td><td>9</td></tr><tr><th>10</th><td>45</td><td>10</td></tr><tr><th>11</th><td>50</td><td>11</td></tr><tr><th>12</th><td>55</td><td>12</td></tr><tr><th>13</th><td>60</td><td>13</td></tr><tr><th>14</th><td>65</td><td>14</td></tr><tr><th>15</th><td>70</td><td>15</td></tr><tr><th>16</th><td>75</td><td>16</td></tr><tr><th>17</th><td>80</td><td>17</td></tr><tr><th>18</th><td>85</td><td>18</td></tr><tr><th>19</th><td>90</td><td>19</td></tr><tr><th>20</th><td>95</td><td>20</td></tr></tbody></table>"
      ],
      "text/latex": [
       "\\begin{tabular}{r|cc}\n",
       "\t& A & C\\\\\n",
       "\t\\hline\n",
       "\t& Int64 & Int64\\\\\n",
       "\t\\hline\n",
       "\t1 & 0 & 1 \\\\\n",
       "\t2 & 5 & 2 \\\\\n",
       "\t3 & 10 & 3 \\\\\n",
       "\t4 & 15 & 4 \\\\\n",
       "\t5 & 20 & 5 \\\\\n",
       "\t6 & 25 & 6 \\\\\n",
       "\t7 & 30 & 7 \\\\\n",
       "\t8 & 35 & 8 \\\\\n",
       "\t9 & 40 & 9 \\\\\n",
       "\t10 & 45 & 10 \\\\\n",
       "\t11 & 50 & 11 \\\\\n",
       "\t12 & 55 & 12 \\\\\n",
       "\t13 & 60 & 13 \\\\\n",
       "\t14 & 65 & 14 \\\\\n",
       "\t15 & 70 & 15 \\\\\n",
       "\t16 & 75 & 16 \\\\\n",
       "\t17 & 80 & 17 \\\\\n",
       "\t18 & 85 & 18 \\\\\n",
       "\t19 & 90 & 19 \\\\\n",
       "\t20 & 95 & 20 \\\\\n",
       "\\end{tabular}\n"
      ],
      "text/plain": [
       "20×2 DataFrame\n",
       "│ Row │ A     │ C     │\n",
       "│     │ \u001b[90mInt64\u001b[39m │ \u001b[90mInt64\u001b[39m │\n",
       "├─────┼───────┼───────┤\n",
       "│ 1   │ 0     │ 1     │\n",
       "│ 2   │ 5     │ 2     │\n",
       "│ 3   │ 10    │ 3     │\n",
       "│ 4   │ 15    │ 4     │\n",
       "│ 5   │ 20    │ 5     │\n",
       "│ 6   │ 25    │ 6     │\n",
       "│ 7   │ 30    │ 7     │\n",
       "│ 8   │ 35    │ 8     │\n",
       "│ 9   │ 40    │ 9     │\n",
       "│ 10  │ 45    │ 10    │\n",
       "│ 11  │ 50    │ 11    │\n",
       "│ 12  │ 55    │ 12    │\n",
       "│ 13  │ 60    │ 13    │\n",
       "│ 14  │ 65    │ 14    │\n",
       "│ 15  │ 70    │ 15    │\n",
       "│ 16  │ 75    │ 16    │\n",
       "│ 17  │ 80    │ 17    │\n",
       "│ 18  │ 85    │ 18    │\n",
       "│ 19  │ 90    │ 19    │\n",
       "│ 20  │ 95    │ 20    │"
      ]
     },
     "execution_count": 34,
     "metadata": {},
     "output_type": "execute_result"
    }
   ],
   "source": [
    "df"
   ]
  },
  {
   "cell_type": "code",
   "execution_count": 35,
   "metadata": {},
   "outputs": [
    {
     "data": {
      "text/html": [
       "<table class=\"data-frame\"><thead><tr><th></th><th>AA</th><th>CC</th></tr><tr><th></th><th>Int64</th><th>Int64</th></tr></thead><tbody><p>20 rows × 2 columns</p><tr><th>1</th><td>0</td><td>1</td></tr><tr><th>2</th><td>5</td><td>2</td></tr><tr><th>3</th><td>10</td><td>3</td></tr><tr><th>4</th><td>15</td><td>4</td></tr><tr><th>5</th><td>20</td><td>5</td></tr><tr><th>6</th><td>25</td><td>6</td></tr><tr><th>7</th><td>30</td><td>7</td></tr><tr><th>8</th><td>35</td><td>8</td></tr><tr><th>9</th><td>40</td><td>9</td></tr><tr><th>10</th><td>45</td><td>10</td></tr><tr><th>11</th><td>50</td><td>11</td></tr><tr><th>12</th><td>55</td><td>12</td></tr><tr><th>13</th><td>60</td><td>13</td></tr><tr><th>14</th><td>65</td><td>14</td></tr><tr><th>15</th><td>70</td><td>15</td></tr><tr><th>16</th><td>75</td><td>16</td></tr><tr><th>17</th><td>80</td><td>17</td></tr><tr><th>18</th><td>85</td><td>18</td></tr><tr><th>19</th><td>90</td><td>19</td></tr><tr><th>20</th><td>95</td><td>20</td></tr></tbody></table>"
      ],
      "text/latex": [
       "\\begin{tabular}{r|cc}\n",
       "\t& AA & CC\\\\\n",
       "\t\\hline\n",
       "\t& Int64 & Int64\\\\\n",
       "\t\\hline\n",
       "\t1 & 0 & 1 \\\\\n",
       "\t2 & 5 & 2 \\\\\n",
       "\t3 & 10 & 3 \\\\\n",
       "\t4 & 15 & 4 \\\\\n",
       "\t5 & 20 & 5 \\\\\n",
       "\t6 & 25 & 6 \\\\\n",
       "\t7 & 30 & 7 \\\\\n",
       "\t8 & 35 & 8 \\\\\n",
       "\t9 & 40 & 9 \\\\\n",
       "\t10 & 45 & 10 \\\\\n",
       "\t11 & 50 & 11 \\\\\n",
       "\t12 & 55 & 12 \\\\\n",
       "\t13 & 60 & 13 \\\\\n",
       "\t14 & 65 & 14 \\\\\n",
       "\t15 & 70 & 15 \\\\\n",
       "\t16 & 75 & 16 \\\\\n",
       "\t17 & 80 & 17 \\\\\n",
       "\t18 & 85 & 18 \\\\\n",
       "\t19 & 90 & 19 \\\\\n",
       "\t20 & 95 & 20 \\\\\n",
       "\\end{tabular}\n"
      ],
      "text/plain": [
       "20×2 DataFrame\n",
       "│ Row │ AA    │ CC    │\n",
       "│     │ \u001b[90mInt64\u001b[39m │ \u001b[90mInt64\u001b[39m │\n",
       "├─────┼───────┼───────┤\n",
       "│ 1   │ 0     │ 1     │\n",
       "│ 2   │ 5     │ 2     │\n",
       "│ 3   │ 10    │ 3     │\n",
       "│ 4   │ 15    │ 4     │\n",
       "│ 5   │ 20    │ 5     │\n",
       "│ 6   │ 25    │ 6     │\n",
       "│ 7   │ 30    │ 7     │\n",
       "│ 8   │ 35    │ 8     │\n",
       "│ 9   │ 40    │ 9     │\n",
       "│ 10  │ 45    │ 10    │\n",
       "│ 11  │ 50    │ 11    │\n",
       "│ 12  │ 55    │ 12    │\n",
       "│ 13  │ 60    │ 13    │\n",
       "│ 14  │ 65    │ 14    │\n",
       "│ 15  │ 70    │ 15    │\n",
       "│ 16  │ 75    │ 16    │\n",
       "│ 17  │ 80    │ 17    │\n",
       "│ 18  │ 85    │ 18    │\n",
       "│ 19  │ 90    │ 19    │\n",
       "│ 20  │ 95    │ 20    │"
      ]
     },
     "execution_count": 35,
     "metadata": {},
     "output_type": "execute_result"
    }
   ],
   "source": [
    "select!(df, :A => :AA, :C=>:CC)"
   ]
  },
  {
   "cell_type": "code",
   "execution_count": 36,
   "metadata": {},
   "outputs": [
    {
     "data": {
      "text/html": [
       "<table class=\"data-frame\"><thead><tr><th></th><th>AA</th><th>CC</th></tr><tr><th></th><th>Int64</th><th>Int64</th></tr></thead><tbody><p>20 rows × 2 columns</p><tr><th>1</th><td>0</td><td>1</td></tr><tr><th>2</th><td>5</td><td>2</td></tr><tr><th>3</th><td>10</td><td>3</td></tr><tr><th>4</th><td>15</td><td>4</td></tr><tr><th>5</th><td>20</td><td>5</td></tr><tr><th>6</th><td>25</td><td>6</td></tr><tr><th>7</th><td>30</td><td>7</td></tr><tr><th>8</th><td>35</td><td>8</td></tr><tr><th>9</th><td>40</td><td>9</td></tr><tr><th>10</th><td>45</td><td>10</td></tr><tr><th>11</th><td>50</td><td>11</td></tr><tr><th>12</th><td>55</td><td>12</td></tr><tr><th>13</th><td>60</td><td>13</td></tr><tr><th>14</th><td>65</td><td>14</td></tr><tr><th>15</th><td>70</td><td>15</td></tr><tr><th>16</th><td>75</td><td>16</td></tr><tr><th>17</th><td>80</td><td>17</td></tr><tr><th>18</th><td>85</td><td>18</td></tr><tr><th>19</th><td>90</td><td>19</td></tr><tr><th>20</th><td>95</td><td>20</td></tr></tbody></table>"
      ],
      "text/latex": [
       "\\begin{tabular}{r|cc}\n",
       "\t& AA & CC\\\\\n",
       "\t\\hline\n",
       "\t& Int64 & Int64\\\\\n",
       "\t\\hline\n",
       "\t1 & 0 & 1 \\\\\n",
       "\t2 & 5 & 2 \\\\\n",
       "\t3 & 10 & 3 \\\\\n",
       "\t4 & 15 & 4 \\\\\n",
       "\t5 & 20 & 5 \\\\\n",
       "\t6 & 25 & 6 \\\\\n",
       "\t7 & 30 & 7 \\\\\n",
       "\t8 & 35 & 8 \\\\\n",
       "\t9 & 40 & 9 \\\\\n",
       "\t10 & 45 & 10 \\\\\n",
       "\t11 & 50 & 11 \\\\\n",
       "\t12 & 55 & 12 \\\\\n",
       "\t13 & 60 & 13 \\\\\n",
       "\t14 & 65 & 14 \\\\\n",
       "\t15 & 70 & 15 \\\\\n",
       "\t16 & 75 & 16 \\\\\n",
       "\t17 & 80 & 17 \\\\\n",
       "\t18 & 85 & 18 \\\\\n",
       "\t19 & 90 & 19 \\\\\n",
       "\t20 & 95 & 20 \\\\\n",
       "\\end{tabular}\n"
      ],
      "text/plain": [
       "20×2 DataFrame\n",
       "│ Row │ AA    │ CC    │\n",
       "│     │ \u001b[90mInt64\u001b[39m │ \u001b[90mInt64\u001b[39m │\n",
       "├─────┼───────┼───────┤\n",
       "│ 1   │ 0     │ 1     │\n",
       "│ 2   │ 5     │ 2     │\n",
       "│ 3   │ 10    │ 3     │\n",
       "│ 4   │ 15    │ 4     │\n",
       "│ 5   │ 20    │ 5     │\n",
       "│ 6   │ 25    │ 6     │\n",
       "│ 7   │ 30    │ 7     │\n",
       "│ 8   │ 35    │ 8     │\n",
       "│ 9   │ 40    │ 9     │\n",
       "│ 10  │ 45    │ 10    │\n",
       "│ 11  │ 50    │ 11    │\n",
       "│ 12  │ 55    │ 12    │\n",
       "│ 13  │ 60    │ 13    │\n",
       "│ 14  │ 65    │ 14    │\n",
       "│ 15  │ 70    │ 15    │\n",
       "│ 16  │ 75    │ 16    │\n",
       "│ 17  │ 80    │ 17    │\n",
       "│ 18  │ 85    │ 18    │\n",
       "│ 19  │ 90    │ 19    │\n",
       "│ 20  │ 95    │ 20    │"
      ]
     },
     "execution_count": 36,
     "metadata": {},
     "output_type": "execute_result"
    }
   ],
   "source": [
    "df"
   ]
  },
  {
   "cell_type": "code",
   "execution_count": null,
   "metadata": {},
   "outputs": [],
   "source": []
  },
  {
   "cell_type": "code",
   "execution_count": null,
   "metadata": {},
   "outputs": [],
   "source": []
  },
  {
   "cell_type": "code",
   "execution_count": null,
   "metadata": {},
   "outputs": [],
   "source": [
    "#データフレームを用いたCSV読み書きとプロット"
   ]
  },
  {
   "cell_type": "code",
   "execution_count": 37,
   "metadata": {},
   "outputs": [
    {
     "name": "stderr",
     "output_type": "stream",
     "text": [
      "\u001b[32m\u001b[1m  Resolving\u001b[22m\u001b[39m package versions...\n",
      "\u001b[32m\u001b[1mNo Changes\u001b[22m\u001b[39m to `~/.julia/environments/v1.5/Project.toml`\n",
      "\u001b[32m\u001b[1mNo Changes\u001b[22m\u001b[39m to `~/.julia/environments/v1.5/Manifest.toml`\n"
     ]
    }
   ],
   "source": [
    "using Pkg\n",
    "Pkg.add(\"CSV\")"
   ]
  },
  {
   "cell_type": "code",
   "execution_count": 38,
   "metadata": {},
   "outputs": [],
   "source": [
    "using CSV"
   ]
  },
  {
   "cell_type": "code",
   "execution_count": 39,
   "metadata": {},
   "outputs": [
    {
     "data": {
      "text/html": [
       "<table class=\"data-frame\"><thead><tr><th></th><th>月</th><th>平均気温</th><th>降水量の合計</th></tr><tr><th></th><th>Int64</th><th>Float64</th><th>Float64</th></tr></thead><tbody><p>12 rows × 3 columns</p><tr><th>1</th><td>1</td><td>5.6</td><td>16.0</td></tr><tr><th>2</th><td>2</td><td>7.2</td><td>42.0</td></tr><tr><th>3</th><td>3</td><td>10.6</td><td>117.5</td></tr><tr><th>4</th><td>4</td><td>13.6</td><td>90.5</td></tr><tr><th>5</th><td>5</td><td>20.0</td><td>120.5</td></tr><tr><th>6</th><td>6</td><td>21.8</td><td>225.0</td></tr><tr><th>7</th><td>7</td><td>24.1</td><td>193.0</td></tr><tr><th>8</th><td>8</td><td>28.4</td><td>110.0</td></tr><tr><th>9</th><td>9</td><td>25.1</td><td>197.0</td></tr><tr><th>10</th><td>10</td><td>19.4</td><td>529.5</td></tr><tr><th>11</th><td>11</td><td>13.1</td><td>156.5</td></tr><tr><th>12</th><td>12</td><td>8.5</td><td>76.5</td></tr></tbody></table>"
      ],
      "text/latex": [
       "\\begin{tabular}{r|ccc}\n",
       "\t& 月 & 平均気温 & 降水量の合計\\\\\n",
       "\t\\hline\n",
       "\t& Int64 & Float64 & Float64\\\\\n",
       "\t\\hline\n",
       "\t1 & 1 & 5.6 & 16.0 \\\\\n",
       "\t2 & 2 & 7.2 & 42.0 \\\\\n",
       "\t3 & 3 & 10.6 & 117.5 \\\\\n",
       "\t4 & 4 & 13.6 & 90.5 \\\\\n",
       "\t5 & 5 & 20.0 & 120.5 \\\\\n",
       "\t6 & 6 & 21.8 & 225.0 \\\\\n",
       "\t7 & 7 & 24.1 & 193.0 \\\\\n",
       "\t8 & 8 & 28.4 & 110.0 \\\\\n",
       "\t9 & 9 & 25.1 & 197.0 \\\\\n",
       "\t10 & 10 & 19.4 & 529.5 \\\\\n",
       "\t11 & 11 & 13.1 & 156.5 \\\\\n",
       "\t12 & 12 & 8.5 & 76.5 \\\\\n",
       "\\end{tabular}\n"
      ],
      "text/plain": [
       "12×3 DataFrame\n",
       "│ Row │ 月    │ 平均気温 │ 降水量の合計 │\n",
       "│     │ \u001b[90mInt64\u001b[39m │ \u001b[90mFloat64\u001b[39m  │ \u001b[90mFloat64\u001b[39m      │\n",
       "├─────┼───────┼──────────┼──────────────┤\n",
       "│ 1   │ 1     │ 5.6      │ 16.0         │\n",
       "│ 2   │ 2     │ 7.2      │ 42.0         │\n",
       "│ 3   │ 3     │ 10.6     │ 117.5        │\n",
       "│ 4   │ 4     │ 13.6     │ 90.5         │\n",
       "│ 5   │ 5     │ 20.0     │ 120.5        │\n",
       "│ 6   │ 6     │ 21.8     │ 225.0        │\n",
       "│ 7   │ 7     │ 24.1     │ 193.0        │\n",
       "│ 8   │ 8     │ 28.4     │ 110.0        │\n",
       "│ 9   │ 9     │ 25.1     │ 197.0        │\n",
       "│ 10  │ 10    │ 19.4     │ 529.5        │\n",
       "│ 11  │ 11    │ 13.1     │ 156.5        │\n",
       "│ 12  │ 12    │ 8.5      │ 76.5         │"
      ]
     },
     "execution_count": 39,
     "metadata": {},
     "output_type": "execute_result"
    }
   ],
   "source": [
    "loc = \"/Users/satoshi/udemy_study/julia/data/\"\n",
    "filename = \"temp_2019_tokyo.csv\"\n",
    "df = CSV.read(loc * filename, header = true, delim = \",\")"
   ]
  },
  {
   "cell_type": "code",
   "execution_count": 40,
   "metadata": {},
   "outputs": [
    {
     "name": "stderr",
     "output_type": "stream",
     "text": [
      "\u001b[32m\u001b[1m  Resolving\u001b[22m\u001b[39m package versions...\n",
      "\u001b[32m\u001b[1mNo Changes\u001b[22m\u001b[39m to `~/.julia/environments/v1.5/Project.toml`\n",
      "\u001b[32m\u001b[1mNo Changes\u001b[22m\u001b[39m to `~/.julia/environments/v1.5/Manifest.toml`\n"
     ]
    }
   ],
   "source": [
    "Pkg.add(\"StatsPlots\")"
   ]
  },
  {
   "cell_type": "code",
   "execution_count": 41,
   "metadata": {},
   "outputs": [
    {
     "name": "stderr",
     "output_type": "stream",
     "text": [
      "┌ Info: Precompiling StatsPlots [f3b207a7-027a-5e70-b257-86293d7955fd]\n",
      "└ @ Base loading.jl:1278\n"
     ]
    }
   ],
   "source": [
    "using StatsPlots"
   ]
  },
  {
   "cell_type": "code",
   "execution_count": 43,
   "metadata": {},
   "outputs": [
    {
     "data": {
      "image/svg+xml": [
       "<?xml version=\"1.0\" encoding=\"utf-8\"?>\n",
       "<svg xmlns=\"http://www.w3.org/2000/svg\" xmlns:xlink=\"http://www.w3.org/1999/xlink\" width=\"600\" height=\"400\" viewBox=\"0 0 2400 1600\">\n",
       "<defs>\n",
       "  <clipPath id=\"clip060\">\n",
       "    <rect x=\"0\" y=\"0\" width=\"2400\" height=\"1600\"/>\n",
       "  </clipPath>\n",
       "</defs>\n",
       "<path clip-path=\"url(#clip060)\" d=\"\n",
       "M0 1600 L2400 1600 L2400 0 L0 0  Z\n",
       "  \" fill=\"#ffffff\" fill-rule=\"evenodd\" fill-opacity=\"1\"/>\n",
       "<defs>\n",
       "  <clipPath id=\"clip061\">\n",
       "    <rect x=\"480\" y=\"0\" width=\"1681\" height=\"1600\"/>\n",
       "  </clipPath>\n",
       "</defs>\n",
       "<path clip-path=\"url(#clip060)\" d=\"\n",
       "M199.218 1423.18 L2352.76 1423.18 L2352.76 123.472 L199.218 123.472  Z\n",
       "  \" fill=\"#ffffff\" fill-rule=\"evenodd\" fill-opacity=\"1\"/>\n",
       "<defs>\n",
       "  <clipPath id=\"clip062\">\n",
       "    <rect x=\"199\" y=\"123\" width=\"2155\" height=\"1301\"/>\n",
       "  </clipPath>\n",
       "</defs>\n",
       "<polyline clip-path=\"url(#clip062)\" style=\"stroke:#000000; stroke-width:2; stroke-opacity:0.1; fill:none\" points=\"\n",
       "  260.167,1423.18 260.167,123.472 \n",
       "  \"/>\n",
       "<polyline clip-path=\"url(#clip062)\" style=\"stroke:#000000; stroke-width:2; stroke-opacity:0.1; fill:none\" points=\"\n",
       "  444.862,1423.18 444.862,123.472 \n",
       "  \"/>\n",
       "<polyline clip-path=\"url(#clip062)\" style=\"stroke:#000000; stroke-width:2; stroke-opacity:0.1; fill:none\" points=\"\n",
       "  629.556,1423.18 629.556,123.472 \n",
       "  \"/>\n",
       "<polyline clip-path=\"url(#clip062)\" style=\"stroke:#000000; stroke-width:2; stroke-opacity:0.1; fill:none\" points=\"\n",
       "  814.251,1423.18 814.251,123.472 \n",
       "  \"/>\n",
       "<polyline clip-path=\"url(#clip062)\" style=\"stroke:#000000; stroke-width:2; stroke-opacity:0.1; fill:none\" points=\"\n",
       "  998.945,1423.18 998.945,123.472 \n",
       "  \"/>\n",
       "<polyline clip-path=\"url(#clip062)\" style=\"stroke:#000000; stroke-width:2; stroke-opacity:0.1; fill:none\" points=\"\n",
       "  1183.64,1423.18 1183.64,123.472 \n",
       "  \"/>\n",
       "<polyline clip-path=\"url(#clip062)\" style=\"stroke:#000000; stroke-width:2; stroke-opacity:0.1; fill:none\" points=\"\n",
       "  1368.33,1423.18 1368.33,123.472 \n",
       "  \"/>\n",
       "<polyline clip-path=\"url(#clip062)\" style=\"stroke:#000000; stroke-width:2; stroke-opacity:0.1; fill:none\" points=\"\n",
       "  1553.03,1423.18 1553.03,123.472 \n",
       "  \"/>\n",
       "<polyline clip-path=\"url(#clip062)\" style=\"stroke:#000000; stroke-width:2; stroke-opacity:0.1; fill:none\" points=\"\n",
       "  1737.72,1423.18 1737.72,123.472 \n",
       "  \"/>\n",
       "<polyline clip-path=\"url(#clip062)\" style=\"stroke:#000000; stroke-width:2; stroke-opacity:0.1; fill:none\" points=\"\n",
       "  1922.42,1423.18 1922.42,123.472 \n",
       "  \"/>\n",
       "<polyline clip-path=\"url(#clip062)\" style=\"stroke:#000000; stroke-width:2; stroke-opacity:0.1; fill:none\" points=\"\n",
       "  2107.11,1423.18 2107.11,123.472 \n",
       "  \"/>\n",
       "<polyline clip-path=\"url(#clip062)\" style=\"stroke:#000000; stroke-width:2; stroke-opacity:0.1; fill:none\" points=\"\n",
       "  2291.81,1423.18 2291.81,123.472 \n",
       "  \"/>\n",
       "<polyline clip-path=\"url(#clip060)\" style=\"stroke:#000000; stroke-width:4; stroke-opacity:1; fill:none\" points=\"\n",
       "  199.218,1423.18 2352.76,1423.18 \n",
       "  \"/>\n",
       "<polyline clip-path=\"url(#clip060)\" style=\"stroke:#000000; stroke-width:4; stroke-opacity:1; fill:none\" points=\"\n",
       "  260.167,1423.18 260.167,1407.58 \n",
       "  \"/>\n",
       "<polyline clip-path=\"url(#clip060)\" style=\"stroke:#000000; stroke-width:4; stroke-opacity:1; fill:none\" points=\"\n",
       "  444.862,1423.18 444.862,1407.58 \n",
       "  \"/>\n",
       "<polyline clip-path=\"url(#clip060)\" style=\"stroke:#000000; stroke-width:4; stroke-opacity:1; fill:none\" points=\"\n",
       "  629.556,1423.18 629.556,1407.58 \n",
       "  \"/>\n",
       "<polyline clip-path=\"url(#clip060)\" style=\"stroke:#000000; stroke-width:4; stroke-opacity:1; fill:none\" points=\"\n",
       "  814.251,1423.18 814.251,1407.58 \n",
       "  \"/>\n",
       "<polyline clip-path=\"url(#clip060)\" style=\"stroke:#000000; stroke-width:4; stroke-opacity:1; fill:none\" points=\"\n",
       "  998.945,1423.18 998.945,1407.58 \n",
       "  \"/>\n",
       "<polyline clip-path=\"url(#clip060)\" style=\"stroke:#000000; stroke-width:4; stroke-opacity:1; fill:none\" points=\"\n",
       "  1183.64,1423.18 1183.64,1407.58 \n",
       "  \"/>\n",
       "<polyline clip-path=\"url(#clip060)\" style=\"stroke:#000000; stroke-width:4; stroke-opacity:1; fill:none\" points=\"\n",
       "  1368.33,1423.18 1368.33,1407.58 \n",
       "  \"/>\n",
       "<polyline clip-path=\"url(#clip060)\" style=\"stroke:#000000; stroke-width:4; stroke-opacity:1; fill:none\" points=\"\n",
       "  1553.03,1423.18 1553.03,1407.58 \n",
       "  \"/>\n",
       "<polyline clip-path=\"url(#clip060)\" style=\"stroke:#000000; stroke-width:4; stroke-opacity:1; fill:none\" points=\"\n",
       "  1737.72,1423.18 1737.72,1407.58 \n",
       "  \"/>\n",
       "<polyline clip-path=\"url(#clip060)\" style=\"stroke:#000000; stroke-width:4; stroke-opacity:1; fill:none\" points=\"\n",
       "  1922.42,1423.18 1922.42,1407.58 \n",
       "  \"/>\n",
       "<polyline clip-path=\"url(#clip060)\" style=\"stroke:#000000; stroke-width:4; stroke-opacity:1; fill:none\" points=\"\n",
       "  2107.11,1423.18 2107.11,1407.58 \n",
       "  \"/>\n",
       "<polyline clip-path=\"url(#clip060)\" style=\"stroke:#000000; stroke-width:4; stroke-opacity:1; fill:none\" points=\"\n",
       "  2291.81,1423.18 2291.81,1407.58 \n",
       "  \"/>\n",
       "<path clip-path=\"url(#clip060)\" d=\"M 0 0 M250.549 1479.92 L258.188 1479.92 L258.188 1453.55 L249.878 1455.22 L249.878 1450.96 L258.142 1449.29 L262.818 1449.29 L262.818 1479.92 L270.457 1479.92 L270.457 1483.85 L250.549 1483.85 L250.549 1479.92 Z\" fill=\"#000000\" fill-rule=\"evenodd\" fill-opacity=\"1\" /><path clip-path=\"url(#clip060)\" d=\"M 0 0 M439.515 1479.92 L455.834 1479.92 L455.834 1483.85 L433.89 1483.85 L433.89 1479.92 Q436.552 1477.16 441.135 1472.53 Q445.742 1467.88 446.922 1466.54 Q449.167 1464.01 450.047 1462.28 Q450.95 1460.52 450.95 1458.83 Q450.95 1456.07 449.005 1454.34 Q447.084 1452.6 443.982 1452.6 Q441.783 1452.6 439.33 1453.37 Q436.899 1454.13 434.121 1455.68 L434.121 1450.96 Q436.945 1449.82 439.399 1449.25 Q441.853 1448.67 443.89 1448.67 Q449.26 1448.67 452.454 1451.35 Q455.649 1454.04 455.649 1458.53 Q455.649 1460.66 454.839 1462.58 Q454.052 1464.48 451.945 1467.07 Q451.366 1467.74 448.265 1470.96 Q445.163 1474.15 439.515 1479.92 Z\" fill=\"#000000\" fill-rule=\"evenodd\" fill-opacity=\"1\" /><path clip-path=\"url(#clip060)\" d=\"M 0 0 M633.804 1465.22 Q637.161 1465.94 639.035 1468.2 Q640.934 1470.47 640.934 1473.81 Q640.934 1478.92 637.415 1481.72 Q633.897 1484.52 627.415 1484.52 Q625.239 1484.52 622.924 1484.08 Q620.633 1483.67 618.179 1482.81 L618.179 1478.3 Q620.124 1479.43 622.438 1480.01 Q624.753 1480.59 627.276 1480.59 Q631.674 1480.59 633.966 1478.85 Q636.281 1477.12 636.281 1473.81 Q636.281 1470.75 634.128 1469.04 Q631.998 1467.3 628.179 1467.3 L624.151 1467.3 L624.151 1463.46 L628.364 1463.46 Q631.813 1463.46 633.642 1462.09 Q635.471 1460.7 635.471 1458.11 Q635.471 1455.45 633.573 1454.04 Q631.698 1452.6 628.179 1452.6 Q626.258 1452.6 624.059 1453.02 Q621.86 1453.44 619.221 1454.31 L619.221 1450.15 Q621.883 1449.41 624.198 1449.04 Q626.536 1448.67 628.596 1448.67 Q633.92 1448.67 637.022 1451.1 Q640.123 1453.5 640.123 1457.63 Q640.123 1460.5 638.48 1462.49 Q636.836 1464.45 633.804 1465.22 Z\" fill=\"#000000\" fill-rule=\"evenodd\" fill-opacity=\"1\" /><path clip-path=\"url(#clip060)\" d=\"M 0 0 M817.26 1453.37 L805.455 1471.81 L817.26 1471.81 L817.26 1453.37 M816.033 1449.29 L821.913 1449.29 L821.913 1471.81 L826.843 1471.81 L826.843 1475.7 L821.913 1475.7 L821.913 1483.85 L817.26 1483.85 L817.26 1475.7 L801.658 1475.7 L801.658 1471.19 L816.033 1449.29 Z\" fill=\"#000000\" fill-rule=\"evenodd\" fill-opacity=\"1\" /><path clip-path=\"url(#clip060)\" d=\"M 0 0 M989.223 1449.29 L1007.58 1449.29 L1007.58 1453.23 L993.506 1453.23 L993.506 1461.7 Q994.524 1461.35 995.543 1461.19 Q996.561 1461 997.58 1461 Q1003.37 1461 1006.75 1464.18 Q1010.13 1467.35 1010.13 1472.76 Q1010.13 1478.34 1006.65 1481.44 Q1003.18 1484.52 996.862 1484.52 Q994.686 1484.52 992.418 1484.15 Q990.172 1483.78 987.765 1483.04 L987.765 1478.34 Q989.848 1479.48 992.07 1480.03 Q994.293 1480.59 996.769 1480.59 Q1000.77 1480.59 1003.11 1478.48 Q1005.45 1476.38 1005.45 1472.76 Q1005.45 1469.15 1003.11 1467.05 Q1000.77 1464.94 996.769 1464.94 Q994.894 1464.94 993.019 1465.36 Q991.168 1465.77 989.223 1466.65 L989.223 1449.29 Z\" fill=\"#000000\" fill-rule=\"evenodd\" fill-opacity=\"1\" /><path clip-path=\"url(#clip060)\" d=\"M 0 0 M1184.04 1464.71 Q1180.9 1464.71 1179.04 1466.86 Q1177.22 1469.01 1177.22 1472.76 Q1177.22 1476.49 1179.04 1478.67 Q1180.9 1480.82 1184.04 1480.82 Q1187.19 1480.82 1189.02 1478.67 Q1190.87 1476.49 1190.87 1472.76 Q1190.87 1469.01 1189.02 1466.86 Q1187.19 1464.71 1184.04 1464.71 M1193.33 1450.06 L1193.33 1454.31 Q1191.57 1453.48 1189.76 1453.04 Q1187.98 1452.6 1186.22 1452.6 Q1181.59 1452.6 1179.14 1455.73 Q1176.71 1458.85 1176.36 1465.17 Q1177.73 1463.16 1179.79 1462.09 Q1181.85 1461 1184.32 1461 Q1189.53 1461 1192.54 1464.18 Q1195.57 1467.32 1195.57 1472.76 Q1195.57 1478.09 1192.42 1481.31 Q1189.28 1484.52 1184.04 1484.52 Q1178.05 1484.52 1174.88 1479.94 Q1171.71 1475.33 1171.71 1466.61 Q1171.71 1458.41 1175.6 1453.55 Q1179.48 1448.67 1186.04 1448.67 Q1187.79 1448.67 1189.58 1449.01 Q1191.38 1449.36 1193.33 1450.06 Z\" fill=\"#000000\" fill-rule=\"evenodd\" fill-opacity=\"1\" /><path clip-path=\"url(#clip060)\" d=\"M 0 0 M1357.22 1449.29 L1379.45 1449.29 L1379.45 1451.28 L1366.9 1483.85 L1362.01 1483.85 L1373.82 1453.23 L1357.22 1453.23 L1357.22 1449.29 Z\" fill=\"#000000\" fill-rule=\"evenodd\" fill-opacity=\"1\" /><path clip-path=\"url(#clip060)\" d=\"M 0 0 M1553.03 1467.44 Q1549.7 1467.44 1547.77 1469.22 Q1545.88 1471 1545.88 1474.13 Q1545.88 1477.25 1547.77 1479.04 Q1549.7 1480.82 1553.03 1480.82 Q1556.36 1480.82 1558.28 1479.04 Q1560.2 1477.23 1560.2 1474.13 Q1560.2 1471 1558.28 1469.22 Q1556.39 1467.44 1553.03 1467.44 M1548.35 1465.45 Q1545.34 1464.71 1543.65 1462.65 Q1541.99 1460.59 1541.99 1457.63 Q1541.99 1453.48 1544.93 1451.07 Q1547.89 1448.67 1553.03 1448.67 Q1558.19 1448.67 1561.13 1451.07 Q1564.07 1453.48 1564.07 1457.63 Q1564.07 1460.59 1562.38 1462.65 Q1560.71 1464.71 1557.73 1465.45 Q1561.11 1466.24 1562.98 1468.53 Q1564.88 1470.82 1564.88 1474.13 Q1564.88 1479.15 1561.8 1481.84 Q1558.75 1484.52 1553.03 1484.52 Q1547.31 1484.52 1544.23 1481.84 Q1541.18 1479.15 1541.18 1474.13 Q1541.18 1470.82 1543.08 1468.53 Q1544.97 1466.24 1548.35 1465.45 M1546.64 1458.06 Q1546.64 1460.75 1548.31 1462.25 Q1550 1463.76 1553.03 1463.76 Q1556.04 1463.76 1557.73 1462.25 Q1559.44 1460.75 1559.44 1458.06 Q1559.44 1455.38 1557.73 1453.88 Q1556.04 1452.37 1553.03 1452.37 Q1550 1452.37 1548.31 1453.88 Q1546.64 1455.38 1546.64 1458.06 Z\" fill=\"#000000\" fill-rule=\"evenodd\" fill-opacity=\"1\" /><path clip-path=\"url(#clip060)\" d=\"M 0 0 M1728.02 1483.13 L1728.02 1478.88 Q1729.78 1479.71 1731.59 1480.15 Q1733.39 1480.59 1735.13 1480.59 Q1739.76 1480.59 1742.19 1477.49 Q1744.64 1474.36 1744.99 1468.02 Q1743.65 1470.01 1741.59 1471.07 Q1739.53 1472.14 1737.03 1472.14 Q1731.84 1472.14 1728.81 1469.01 Q1725.8 1465.87 1725.8 1460.43 Q1725.8 1455.1 1728.95 1451.88 Q1732.1 1448.67 1737.33 1448.67 Q1743.33 1448.67 1746.47 1453.27 Q1749.64 1457.86 1749.64 1466.61 Q1749.64 1474.78 1745.76 1479.66 Q1741.89 1484.52 1735.34 1484.52 Q1733.58 1484.52 1731.77 1484.18 Q1729.97 1483.83 1728.02 1483.13 M1737.33 1468.48 Q1740.48 1468.48 1742.31 1466.33 Q1744.16 1464.18 1744.16 1460.43 Q1744.16 1456.7 1742.31 1454.55 Q1740.48 1452.37 1737.33 1452.37 Q1734.18 1452.37 1732.33 1454.55 Q1730.5 1456.7 1730.5 1460.43 Q1730.5 1464.18 1732.33 1466.33 Q1734.18 1468.48 1737.33 1468.48 Z\" fill=\"#000000\" fill-rule=\"evenodd\" fill-opacity=\"1\" /><path clip-path=\"url(#clip060)\" d=\"M 0 0 M1899.29 1479.92 L1906.93 1479.92 L1906.93 1453.55 L1898.62 1455.22 L1898.62 1450.96 L1906.89 1449.29 L1911.56 1449.29 L1911.56 1479.92 L1919.2 1479.92 L1919.2 1483.85 L1899.29 1483.85 L1899.29 1479.92 Z\" fill=\"#000000\" fill-rule=\"evenodd\" fill-opacity=\"1\" /><path clip-path=\"url(#clip060)\" d=\"M 0 0 M1934.27 1452.37 Q1930.66 1452.37 1928.83 1455.94 Q1927.02 1459.48 1927.02 1466.61 Q1927.02 1473.71 1928.83 1477.28 Q1930.66 1480.82 1934.27 1480.82 Q1937.9 1480.82 1939.71 1477.28 Q1941.54 1473.71 1941.54 1466.61 Q1941.54 1459.48 1939.71 1455.94 Q1937.9 1452.37 1934.27 1452.37 M1934.27 1448.67 Q1940.08 1448.67 1943.14 1453.27 Q1946.21 1457.86 1946.21 1466.61 Q1946.21 1475.33 1943.14 1479.94 Q1940.08 1484.52 1934.27 1484.52 Q1928.46 1484.52 1925.38 1479.94 Q1922.33 1475.33 1922.33 1466.61 Q1922.33 1457.86 1925.38 1453.27 Q1928.46 1448.67 1934.27 1448.67 Z\" fill=\"#000000\" fill-rule=\"evenodd\" fill-opacity=\"1\" /><path clip-path=\"url(#clip060)\" d=\"M 0 0 M2084.6 1479.92 L2092.24 1479.92 L2092.24 1453.55 L2083.93 1455.22 L2083.93 1450.96 L2092.19 1449.29 L2096.87 1449.29 L2096.87 1479.92 L2104.51 1479.92 L2104.51 1483.85 L2084.6 1483.85 L2084.6 1479.92 Z\" fill=\"#000000\" fill-rule=\"evenodd\" fill-opacity=\"1\" /><path clip-path=\"url(#clip060)\" d=\"M 0 0 M2110.39 1479.92 L2118.03 1479.92 L2118.03 1453.55 L2109.72 1455.22 L2109.72 1450.96 L2117.98 1449.29 L2122.66 1449.29 L2122.66 1479.92 L2130.29 1479.92 L2130.29 1483.85 L2110.39 1483.85 L2110.39 1479.92 Z\" fill=\"#000000\" fill-rule=\"evenodd\" fill-opacity=\"1\" /><path clip-path=\"url(#clip060)\" d=\"M 0 0 M2269.48 1479.92 L2277.12 1479.92 L2277.12 1453.55 L2268.81 1455.22 L2268.81 1450.96 L2277.07 1449.29 L2281.75 1449.29 L2281.75 1479.92 L2289.39 1479.92 L2289.39 1483.85 L2269.48 1483.85 L2269.48 1479.92 Z\" fill=\"#000000\" fill-rule=\"evenodd\" fill-opacity=\"1\" /><path clip-path=\"url(#clip060)\" d=\"M 0 0 M2298.48 1479.92 L2314.8 1479.92 L2314.8 1483.85 L2292.86 1483.85 L2292.86 1479.92 Q2295.52 1477.16 2300.11 1472.53 Q2304.71 1467.88 2305.89 1466.54 Q2308.14 1464.01 2309.02 1462.28 Q2309.92 1460.52 2309.92 1458.83 Q2309.92 1456.07 2307.98 1454.34 Q2306.05 1452.6 2302.95 1452.6 Q2300.75 1452.6 2298.3 1453.37 Q2295.87 1454.13 2293.09 1455.68 L2293.09 1450.96 Q2295.92 1449.82 2298.37 1449.25 Q2300.82 1448.67 2302.86 1448.67 Q2308.23 1448.67 2311.42 1451.35 Q2314.62 1454.04 2314.62 1458.53 Q2314.62 1460.66 2313.81 1462.58 Q2313.02 1464.48 2310.92 1467.07 Q2310.34 1467.74 2307.23 1470.96 Q2304.13 1474.15 2298.48 1479.92 Z\" fill=\"#000000\" fill-rule=\"evenodd\" fill-opacity=\"1\" /><path clip-path=\"url(#clip060)\" d=\"M 0 0 M1188.32 1508.52 L1197.9 1508.52 L1210.02 1540.86 L1222.21 1508.52 L1231.79 1508.52 L1231.79 1556.04 L1225.52 1556.04 L1225.52 1514.32 L1213.27 1546.91 L1206.81 1546.91 L1194.55 1514.32 L1194.55 1556.04 L1188.32 1556.04 L1188.32 1508.52 Z\" fill=\"#000000\" fill-rule=\"evenodd\" fill-opacity=\"1\" /><path clip-path=\"url(#clip060)\" d=\"M 0 0 M1251.75 1524.5 Q1247.04 1524.5 1244.3 1528.19 Q1241.56 1531.85 1241.56 1538.25 Q1241.56 1544.65 1244.27 1548.34 Q1247.01 1552 1251.75 1552 Q1256.43 1552 1259.17 1548.31 Q1261.9 1544.62 1261.9 1538.25 Q1261.9 1531.92 1259.17 1528.23 Q1256.43 1524.5 1251.75 1524.5 M1251.75 1519.54 Q1259.39 1519.54 1263.75 1524.5 Q1268.11 1529.47 1268.11 1538.25 Q1268.11 1547 1263.75 1552 Q1259.39 1556.97 1251.75 1556.97 Q1244.08 1556.97 1239.72 1552 Q1235.39 1547 1235.39 1538.25 Q1235.39 1529.47 1239.72 1524.5 Q1244.08 1519.54 1251.75 1519.54 Z\" fill=\"#000000\" fill-rule=\"evenodd\" fill-opacity=\"1\" /><path clip-path=\"url(#clip060)\" d=\"M 0 0 M1303.88 1534.53 L1303.88 1556.04 L1298.03 1556.04 L1298.03 1534.72 Q1298.03 1529.66 1296.05 1527.14 Q1294.08 1524.63 1290.13 1524.63 Q1285.39 1524.63 1282.66 1527.65 Q1279.92 1530.68 1279.92 1535.9 L1279.92 1556.04 L1274.03 1556.04 L1274.03 1520.4 L1279.92 1520.4 L1279.92 1525.93 Q1282.02 1522.72 1284.85 1521.13 Q1287.72 1519.54 1291.44 1519.54 Q1297.58 1519.54 1300.73 1523.36 Q1303.88 1527.14 1303.88 1534.53 Z\" fill=\"#000000\" fill-rule=\"evenodd\" fill-opacity=\"1\" /><path clip-path=\"url(#clip060)\" d=\"M 0 0 M1315.82 1510.27 L1315.82 1520.4 L1327.88 1520.4 L1327.88 1524.95 L1315.82 1524.95 L1315.82 1544.3 Q1315.82 1548.66 1317 1549.9 Q1318.21 1551.14 1321.87 1551.14 L1327.88 1551.14 L1327.88 1556.04 L1321.87 1556.04 Q1315.09 1556.04 1312.51 1553.53 Q1309.93 1550.98 1309.93 1544.3 L1309.93 1524.95 L1305.64 1524.95 L1305.64 1520.4 L1309.93 1520.4 L1309.93 1510.27 L1315.82 1510.27 Z\" fill=\"#000000\" fill-rule=\"evenodd\" fill-opacity=\"1\" /><path clip-path=\"url(#clip060)\" d=\"M 0 0 M1363.66 1534.53 L1363.66 1556.04 L1357.8 1556.04 L1357.8 1534.72 Q1357.8 1529.66 1355.83 1527.14 Q1353.86 1524.63 1349.91 1524.63 Q1345.17 1524.63 1342.43 1527.65 Q1339.69 1530.68 1339.69 1535.9 L1339.69 1556.04 L1333.8 1556.04 L1333.8 1506.52 L1339.69 1506.52 L1339.69 1525.93 Q1341.79 1522.72 1344.63 1521.13 Q1347.49 1519.54 1351.21 1519.54 Q1357.36 1519.54 1360.51 1523.36 Q1363.66 1527.14 1363.66 1534.53 Z\" fill=\"#000000\" fill-rule=\"evenodd\" fill-opacity=\"1\" /><polyline clip-path=\"url(#clip062)\" style=\"stroke:#000000; stroke-width:2; stroke-opacity:0.1; fill:none\" points=\"\n",
       "  199.218,1418.66 2352.76,1418.66 \n",
       "  \"/>\n",
       "<polyline clip-path=\"url(#clip062)\" style=\"stroke:#000000; stroke-width:2; stroke-opacity:0.1; fill:none\" points=\"\n",
       "  199.218,1149.77 2352.76,1149.77 \n",
       "  \"/>\n",
       "<polyline clip-path=\"url(#clip062)\" style=\"stroke:#000000; stroke-width:2; stroke-opacity:0.1; fill:none\" points=\"\n",
       "  199.218,880.882 2352.76,880.882 \n",
       "  \"/>\n",
       "<polyline clip-path=\"url(#clip062)\" style=\"stroke:#000000; stroke-width:2; stroke-opacity:0.1; fill:none\" points=\"\n",
       "  199.218,611.992 2352.76,611.992 \n",
       "  \"/>\n",
       "<polyline clip-path=\"url(#clip062)\" style=\"stroke:#000000; stroke-width:2; stroke-opacity:0.1; fill:none\" points=\"\n",
       "  199.218,343.102 2352.76,343.102 \n",
       "  \"/>\n",
       "<polyline clip-path=\"url(#clip060)\" style=\"stroke:#000000; stroke-width:4; stroke-opacity:1; fill:none\" points=\"\n",
       "  199.218,1423.18 199.218,123.472 \n",
       "  \"/>\n",
       "<polyline clip-path=\"url(#clip060)\" style=\"stroke:#000000; stroke-width:4; stroke-opacity:1; fill:none\" points=\"\n",
       "  199.218,1418.66 225.061,1418.66 \n",
       "  \"/>\n",
       "<polyline clip-path=\"url(#clip060)\" style=\"stroke:#000000; stroke-width:4; stroke-opacity:1; fill:none\" points=\"\n",
       "  199.218,1149.77 225.061,1149.77 \n",
       "  \"/>\n",
       "<polyline clip-path=\"url(#clip060)\" style=\"stroke:#000000; stroke-width:4; stroke-opacity:1; fill:none\" points=\"\n",
       "  199.218,880.882 225.061,880.882 \n",
       "  \"/>\n",
       "<polyline clip-path=\"url(#clip060)\" style=\"stroke:#000000; stroke-width:4; stroke-opacity:1; fill:none\" points=\"\n",
       "  199.218,611.992 225.061,611.992 \n",
       "  \"/>\n",
       "<polyline clip-path=\"url(#clip060)\" style=\"stroke:#000000; stroke-width:4; stroke-opacity:1; fill:none\" points=\"\n",
       "  199.218,343.102 225.061,343.102 \n",
       "  \"/>\n",
       "<path clip-path=\"url(#clip060)\" d=\"M 0 0 M142.316 1401.38 L160.672 1401.38 L160.672 1405.32 L146.598 1405.32 L146.598 1413.79 Q147.616 1413.44 148.635 1413.28 Q149.653 1413.1 150.672 1413.1 Q156.459 1413.1 159.839 1416.27 Q163.218 1419.44 163.218 1424.85 Q163.218 1430.43 159.746 1433.54 Q156.274 1436.61 149.954 1436.61 Q147.778 1436.61 145.51 1436.24 Q143.265 1435.87 140.857 1435.13 L140.857 1430.43 Q142.941 1431.57 145.163 1432.12 Q147.385 1432.68 149.862 1432.68 Q153.866 1432.68 156.204 1430.57 Q158.542 1428.47 158.542 1424.85 Q158.542 1421.24 156.204 1419.14 Q153.866 1417.03 149.862 1417.03 Q147.987 1417.03 146.112 1417.45 Q144.26 1417.86 142.316 1418.74 L142.316 1401.38 Z\" fill=\"#000000\" fill-rule=\"evenodd\" fill-opacity=\"1\" /><path clip-path=\"url(#clip060)\" d=\"M 0 0 M116.297 1163.12 L123.936 1163.12 L123.936 1136.75 L115.626 1138.42 L115.626 1134.16 L123.89 1132.49 L128.566 1132.49 L128.566 1163.12 L136.204 1163.12 L136.204 1167.05 L116.297 1167.05 L116.297 1163.12 Z\" fill=\"#000000\" fill-rule=\"evenodd\" fill-opacity=\"1\" /><path clip-path=\"url(#clip060)\" d=\"M 0 0 M151.274 1135.57 Q147.663 1135.57 145.834 1139.14 Q144.029 1142.68 144.029 1149.81 Q144.029 1156.91 145.834 1160.48 Q147.663 1164.02 151.274 1164.02 Q154.908 1164.02 156.714 1160.48 Q158.542 1156.91 158.542 1149.81 Q158.542 1142.68 156.714 1139.14 Q154.908 1135.57 151.274 1135.57 M151.274 1131.87 Q157.084 1131.87 160.14 1136.47 Q163.218 1141.06 163.218 1149.81 Q163.218 1158.53 160.14 1163.14 Q157.084 1167.72 151.274 1167.72 Q145.464 1167.72 142.385 1163.14 Q139.329 1158.53 139.329 1149.81 Q139.329 1141.06 142.385 1136.47 Q145.464 1131.87 151.274 1131.87 Z\" fill=\"#000000\" fill-rule=\"evenodd\" fill-opacity=\"1\" /><path clip-path=\"url(#clip060)\" d=\"M 0 0 M117.293 894.227 L124.931 894.227 L124.931 867.861 L116.621 869.528 L116.621 865.269 L124.885 863.602 L129.561 863.602 L129.561 894.227 L137.2 894.227 L137.2 898.162 L117.293 898.162 L117.293 894.227 Z\" fill=\"#000000\" fill-rule=\"evenodd\" fill-opacity=\"1\" /><path clip-path=\"url(#clip060)\" d=\"M 0 0 M142.316 863.602 L160.672 863.602 L160.672 867.537 L146.598 867.537 L146.598 876.009 Q147.616 875.662 148.635 875.5 Q149.653 875.315 150.672 875.315 Q156.459 875.315 159.839 878.486 Q163.218 881.658 163.218 887.074 Q163.218 892.653 159.746 895.755 Q156.274 898.833 149.954 898.833 Q147.778 898.833 145.51 898.463 Q143.265 898.093 140.857 897.352 L140.857 892.653 Q142.941 893.787 145.163 894.343 Q147.385 894.898 149.862 894.898 Q153.866 894.898 156.204 892.792 Q158.542 890.685 158.542 887.074 Q158.542 883.463 156.204 881.357 Q153.866 879.25 149.862 879.25 Q147.987 879.25 146.112 879.667 Q144.26 880.083 142.316 880.963 L142.316 863.602 Z\" fill=\"#000000\" fill-rule=\"evenodd\" fill-opacity=\"1\" /><path clip-path=\"url(#clip060)\" d=\"M 0 0 M119.885 625.337 L136.204 625.337 L136.204 629.272 L114.26 629.272 L114.26 625.337 Q116.922 622.582 121.505 617.952 Q126.112 613.3 127.292 611.957 Q129.538 609.434 130.417 607.698 Q131.32 605.939 131.32 604.249 Q131.32 601.494 129.376 599.758 Q127.455 598.022 124.353 598.022 Q122.154 598.022 119.7 598.786 Q117.269 599.55 114.492 601.101 L114.492 596.379 Q117.316 595.244 119.769 594.666 Q122.223 594.087 124.26 594.087 Q129.63 594.087 132.825 596.772 Q136.019 599.457 136.019 603.948 Q136.019 606.078 135.209 607.999 Q134.422 609.897 132.316 612.49 Q131.737 613.161 128.635 616.378 Q125.533 619.573 119.885 625.337 Z\" fill=\"#000000\" fill-rule=\"evenodd\" fill-opacity=\"1\" /><path clip-path=\"url(#clip060)\" d=\"M 0 0 M151.274 597.791 Q147.663 597.791 145.834 601.355 Q144.029 604.897 144.029 612.027 Q144.029 619.133 145.834 622.698 Q147.663 626.239 151.274 626.239 Q154.908 626.239 156.714 622.698 Q158.542 619.133 158.542 612.027 Q158.542 604.897 156.714 601.355 Q154.908 597.791 151.274 597.791 M151.274 594.087 Q157.084 594.087 160.14 598.693 Q163.218 603.277 163.218 612.027 Q163.218 620.753 160.14 625.36 Q157.084 629.943 151.274 629.943 Q145.464 629.943 142.385 625.36 Q139.329 620.753 139.329 612.027 Q139.329 603.277 142.385 598.693 Q145.464 594.087 151.274 594.087 Z\" fill=\"#000000\" fill-rule=\"evenodd\" fill-opacity=\"1\" /><path clip-path=\"url(#clip060)\" d=\"M 0 0 M120.88 356.446 L137.2 356.446 L137.2 360.382 L115.256 360.382 L115.256 356.446 Q117.918 353.692 122.501 349.062 Q127.107 344.41 128.288 343.067 Q130.533 340.544 131.413 338.808 Q132.316 337.048 132.316 335.359 Q132.316 332.604 130.371 330.868 Q128.45 329.132 125.348 329.132 Q123.149 329.132 120.695 329.896 Q118.265 330.66 115.487 332.211 L115.487 327.488 Q118.311 326.354 120.765 325.775 Q123.218 325.197 125.255 325.197 Q130.626 325.197 133.82 327.882 Q137.015 330.567 137.015 335.058 Q137.015 337.187 136.204 339.109 Q135.417 341.007 133.311 343.599 Q132.732 344.271 129.63 347.488 Q126.529 350.683 120.88 356.446 Z\" fill=\"#000000\" fill-rule=\"evenodd\" fill-opacity=\"1\" /><path clip-path=\"url(#clip060)\" d=\"M 0 0 M142.316 325.822 L160.672 325.822 L160.672 329.757 L146.598 329.757 L146.598 338.229 Q147.616 337.882 148.635 337.72 Q149.653 337.535 150.672 337.535 Q156.459 337.535 159.839 340.706 Q163.218 343.877 163.218 349.294 Q163.218 354.872 159.746 357.974 Q156.274 361.053 149.954 361.053 Q147.778 361.053 145.51 360.683 Q143.265 360.312 140.857 359.571 L140.857 354.872 Q142.941 356.007 145.163 356.562 Q147.385 357.118 149.862 357.118 Q153.866 357.118 156.204 355.011 Q158.542 352.905 158.542 349.294 Q158.542 345.683 156.204 343.576 Q153.866 341.47 149.862 341.47 Q147.987 341.47 146.112 341.886 Q144.26 342.303 142.316 343.183 L142.316 325.822 Z\" fill=\"#000000\" fill-rule=\"evenodd\" fill-opacity=\"1\" /><path clip-path=\"url(#clip060)\" d=\"M 0 0 M40.4842 1027.67 L40.4842 987.468 L45.895 987.468 L45.895 1004.34 L88.0042 1004.34 L88.0042 1010.8 L45.895 1010.8 L45.895 1027.67 L40.4842 1027.67 Z\" fill=\"#000000\" fill-rule=\"evenodd\" fill-opacity=\"1\" /><path clip-path=\"url(#clip060)\" d=\"M 0 0 M68.7161 961.91 L71.5806 961.91 L71.5806 988.837 Q77.6281 988.455 80.8109 985.209 Q83.9619 981.93 83.9619 976.106 Q83.9619 972.732 83.1344 969.581 Q82.3069 966.398 80.6518 963.279 L86.1899 963.279 Q87.5267 966.43 88.227 969.74 Q88.9272 973.05 88.9272 976.456 Q88.9272 984.986 83.9619 989.983 Q78.9967 994.948 70.5303 994.948 Q61.7774 994.948 56.6531 990.237 Q51.4968 985.495 51.4968 977.474 Q51.4968 970.281 56.1438 966.111 Q60.7589 961.91 68.7161 961.91 M66.9973 967.766 Q62.1912 967.83 59.3266 970.472 Q56.4621 973.082 56.4621 977.411 Q56.4621 982.312 59.2312 985.272 Q62.0002 988.2 67.0292 988.646 L66.9973 967.766 Z\" fill=\"#000000\" fill-rule=\"evenodd\" fill-opacity=\"1\" /><path clip-path=\"url(#clip060)\" d=\"M 0 0 M59.1993 928.013 Q55.2526 925.816 53.3747 922.761 Q51.4968 919.705 51.4968 915.568 Q51.4968 909.998 55.4117 906.974 Q59.2948 903.95 66.4881 903.95 L88.0042 903.95 L88.0042 909.839 L66.679 909.839 Q61.5546 909.839 59.072 911.653 Q56.5894 913.467 56.5894 917.191 Q56.5894 921.742 59.6131 924.384 Q62.6368 927.026 67.8567 927.026 L88.0042 927.026 L88.0042 932.914 L66.679 932.914 Q61.5228 932.914 59.072 934.728 Q56.5894 936.543 56.5894 940.33 Q56.5894 944.818 59.6449 947.46 Q62.6686 950.102 67.8567 950.102 L88.0042 950.102 L88.0042 955.99 L52.3562 955.99 L52.3562 950.102 L57.8944 950.102 Q54.616 948.096 53.0564 945.296 Q51.4968 942.495 51.4968 938.643 Q51.4968 934.76 53.4702 932.055 Q55.4436 929.318 59.1993 928.013 Z\" fill=\"#000000\" fill-rule=\"evenodd\" fill-opacity=\"1\" /><path clip-path=\"url(#clip060)\" d=\"M 0 0 M82.657 892.142 L101.563 892.142 L101.563 898.03 L52.3562 898.03 L52.3562 892.142 L57.7671 892.142 Q54.5842 890.296 53.0564 887.495 Q51.4968 884.662 51.4968 880.747 Q51.4968 874.254 56.6531 870.212 Q61.8093 866.138 70.212 866.138 Q78.6147 866.138 83.771 870.212 Q88.9272 874.254 88.9272 880.747 Q88.9272 884.662 87.3994 887.495 Q85.8398 890.296 82.657 892.142 M70.212 872.217 Q63.7508 872.217 60.0905 874.891 Q56.3984 877.533 56.3984 882.18 Q56.3984 886.827 60.0905 889.5 Q63.7508 892.142 70.212 892.142 Q76.6732 892.142 80.3653 889.5 Q84.0256 886.827 84.0256 882.18 Q84.0256 877.533 80.3653 874.891 Q76.6732 872.217 70.212 872.217 Z\" fill=\"#000000\" fill-rule=\"evenodd\" fill-opacity=\"1\" /><path clip-path=\"url(#clip060)\" d=\"M 0 0 M68.7161 829.503 L71.5806 829.503 L71.5806 856.43 Q77.6281 856.048 80.8109 852.802 Q83.9619 849.523 83.9619 843.699 Q83.9619 840.325 83.1344 837.174 Q82.3069 833.991 80.6518 830.872 L86.1899 830.872 Q87.5267 834.023 88.227 837.333 Q88.9272 840.643 88.9272 844.049 Q88.9272 852.579 83.9619 857.576 Q78.9967 862.541 70.5303 862.541 Q61.7774 862.541 56.6531 857.831 Q51.4968 853.088 51.4968 845.067 Q51.4968 837.874 56.1438 833.705 Q60.7589 829.503 68.7161 829.503 M66.9973 835.36 Q62.1912 835.423 59.3266 838.065 Q56.4621 840.675 56.4621 845.004 Q56.4621 849.905 59.2312 852.865 Q62.0002 855.794 67.0292 856.239 L66.9973 835.36 Z\" fill=\"#000000\" fill-rule=\"evenodd\" fill-opacity=\"1\" /><path clip-path=\"url(#clip060)\" d=\"M 0 0 M57.8307 802.704 Q57.2578 803.69 57.0032 804.868 Q56.7167 806.014 56.7167 807.414 Q56.7167 812.38 59.9632 815.053 Q63.1779 817.695 69.2253 817.695 L88.0042 817.695 L88.0042 823.583 L52.3562 823.583 L52.3562 817.695 L57.8944 817.695 Q54.6479 815.849 53.0883 812.889 Q51.4968 809.929 51.4968 805.696 Q51.4968 805.091 51.5923 804.359 Q51.656 803.627 51.8151 802.736 L57.8307 802.704 Z\" fill=\"#000000\" fill-rule=\"evenodd\" fill-opacity=\"1\" /><path clip-path=\"url(#clip060)\" d=\"M 0 0 M70.0847 780.36 Q70.0847 787.458 71.7079 790.195 Q73.3312 792.932 77.2461 792.932 Q80.3653 792.932 82.2114 790.895 Q84.0256 788.826 84.0256 785.294 Q84.0256 780.424 80.5881 777.496 Q77.1188 774.535 71.3897 774.535 L70.0847 774.535 L70.0847 780.36 M67.6657 768.679 L88.0042 768.679 L88.0042 774.535 L82.5933 774.535 Q85.8398 776.541 87.3994 779.533 Q88.9272 782.524 88.9272 786.853 Q88.9272 792.328 85.8716 795.574 Q82.7843 798.789 77.6281 798.789 Q71.6125 798.789 68.5569 794.778 Q65.5014 790.736 65.5014 782.747 L65.5014 774.535 L64.9285 774.535 Q60.8862 774.535 58.6901 777.209 Q56.4621 779.851 56.4621 784.657 Q56.4621 787.712 57.1941 790.609 Q57.9262 793.505 59.3903 796.179 L53.9795 796.179 Q52.7381 792.964 52.1334 789.94 Q51.4968 786.917 51.4968 784.052 Q51.4968 776.318 55.5072 772.498 Q59.5176 768.679 67.6657 768.679 Z\" fill=\"#000000\" fill-rule=\"evenodd\" fill-opacity=\"1\" /><path clip-path=\"url(#clip060)\" d=\"M 0 0 M42.2347 756.743 L52.3562 756.743 L52.3562 744.68 L56.9077 744.68 L56.9077 756.743 L76.2594 756.743 Q80.6199 756.743 81.8613 755.566 Q83.1026 754.356 83.1026 750.696 L83.1026 744.68 L88.0042 744.68 L88.0042 750.696 Q88.0042 757.475 85.4897 760.053 Q82.9434 762.632 76.2594 762.632 L56.9077 762.632 L56.9077 766.928 L52.3562 766.928 L52.3562 762.632 L42.2347 762.632 L42.2347 756.743 Z\" fill=\"#000000\" fill-rule=\"evenodd\" fill-opacity=\"1\" /><path clip-path=\"url(#clip060)\" d=\"M 0 0 M73.9359 739.142 L52.3562 739.142 L52.3562 733.286 L73.7131 733.286 Q78.7739 733.286 81.3202 731.312 Q83.8346 729.339 83.8346 725.392 Q83.8346 720.65 80.8109 717.913 Q77.7872 715.143 72.5673 715.143 L52.3562 715.143 L52.3562 709.287 L88.0042 709.287 L88.0042 715.143 L82.5296 715.143 Q85.7762 717.276 87.3676 720.109 Q88.9272 722.91 88.9272 726.634 Q88.9272 732.776 85.1078 735.959 Q81.2883 739.142 73.9359 739.142 M51.4968 724.406 L51.4968 724.406 Z\" fill=\"#000000\" fill-rule=\"evenodd\" fill-opacity=\"1\" /><path clip-path=\"url(#clip060)\" d=\"M 0 0 M57.8307 682.487 Q57.2578 683.474 57.0032 684.652 Q56.7167 685.798 56.7167 687.198 Q56.7167 692.163 59.9632 694.837 Q63.1779 697.479 69.2253 697.479 L88.0042 697.479 L88.0042 703.367 L52.3562 703.367 L52.3562 697.479 L57.8944 697.479 Q54.6479 695.633 53.0883 692.672 Q51.4968 689.712 51.4968 685.479 Q51.4968 684.874 51.5923 684.142 Q51.656 683.41 51.8151 682.519 L57.8307 682.487 Z\" fill=\"#000000\" fill-rule=\"evenodd\" fill-opacity=\"1\" /><path clip-path=\"url(#clip060)\" d=\"M 0 0 M68.7161 647.285 L71.5806 647.285 L71.5806 674.212 Q77.6281 673.83 80.8109 670.583 Q83.9619 667.305 83.9619 661.481 Q83.9619 658.107 83.1344 654.956 Q82.3069 651.773 80.6518 648.654 L86.1899 648.654 Q87.5267 651.805 88.227 655.115 Q88.9272 658.425 88.9272 661.831 Q88.9272 670.361 83.9619 675.358 Q78.9967 680.323 70.5303 680.323 Q61.7774 680.323 56.6531 675.612 Q51.4968 670.87 51.4968 662.849 Q51.4968 655.656 56.1438 651.486 Q60.7589 647.285 68.7161 647.285 M66.9973 653.141 Q62.1912 653.205 59.3266 655.847 Q56.4621 658.457 56.4621 662.785 Q56.4621 667.687 59.2312 670.647 Q62.0002 673.575 67.0292 674.021 L66.9973 653.141 Z\" fill=\"#000000\" fill-rule=\"evenodd\" fill-opacity=\"1\" /><path clip-path=\"url(#clip060)\" d=\"M 0 0 M38.479 620.963 L38.479 607.467 L43.0304 607.467 L43.0304 615.106 L92.0464 615.106 L92.0464 607.467 L96.5979 607.467 L96.5979 620.963 L38.479 620.963 Z\" fill=\"#000000\" fill-rule=\"evenodd\" fill-opacity=\"1\" /><path clip-path=\"url(#clip060)\" d=\"M 0 0 M43.7307 591.171 Q43.7307 593.718 45.5131 595.468 Q47.2636 597.219 49.8099 597.219 Q52.3244 597.219 54.0749 595.468 Q55.7937 593.718 55.7937 591.171 Q55.7937 588.625 54.0749 586.874 Q52.3244 585.124 49.8099 585.124 Q47.2955 585.124 45.5131 586.906 Q43.7307 588.657 43.7307 591.171 M39.6248 591.171 Q39.6248 589.134 40.4205 587.256 Q41.1844 585.378 42.6485 584.01 Q44.0808 582.546 45.895 581.814 Q47.7092 581.082 49.8099 581.082 Q54.0113 581.082 56.9395 584.042 Q59.8359 586.97 59.8359 591.235 Q59.8359 595.532 56.9713 598.396 Q54.1068 601.261 49.8099 601.261 Q45.5449 601.261 42.5848 598.333 Q39.6248 595.404 39.6248 591.171 M44.1444 538.813 L50.9239 538.813 Q47.9002 542.06 46.4043 545.752 Q44.9083 549.412 44.9083 553.55 Q44.9083 561.698 49.9054 566.027 Q54.8707 570.355 64.2919 570.355 Q73.6813 570.355 78.6784 566.027 Q83.6436 561.698 83.6436 553.55 Q83.6436 549.412 82.1477 545.752 Q80.6518 542.06 77.6281 538.813 L84.3439 538.813 Q86.6355 542.187 87.7814 545.975 Q88.9272 549.731 88.9272 553.932 Q88.9272 564.722 82.3387 570.928 Q75.7183 577.135 64.2919 577.135 Q52.8336 577.135 46.2451 570.928 Q39.6248 564.722 39.6248 553.932 Q39.6248 549.667 40.7706 545.911 Q41.8846 542.124 44.1444 538.813 Z\" fill=\"#000000\" fill-rule=\"evenodd\" fill-opacity=\"1\" /><path clip-path=\"url(#clip060)\" d=\"M 0 0 M38.479 518.984 L96.5979 518.984 L96.5979 532.479 L92.0464 532.479 L92.0464 524.872 L43.0304 524.872 L43.0304 532.479 L38.479 532.479 L38.479 518.984 Z\" fill=\"#000000\" fill-rule=\"evenodd\" fill-opacity=\"1\" /><path clip-path=\"url(#clip060)\" d=\"M 0 0 M1033.93 12.096 L1085.09 12.096 L1085.09 18.9825 L1063.62 18.9825 L1063.62 72.576 L1055.4 72.576 L1055.4 18.9825 L1033.93 18.9825 L1033.93 12.096 Z\" fill=\"#000000\" fill-rule=\"evenodd\" fill-opacity=\"1\" /><path clip-path=\"url(#clip060)\" d=\"M 0 0 M1117.62 48.0275 L1117.62 51.6733 L1083.35 51.6733 Q1083.83 59.3701 1087.96 63.421 Q1092.14 67.4314 1099.55 67.4314 Q1103.84 67.4314 1107.85 66.3781 Q1111.91 65.3249 1115.88 63.2184 L1115.88 70.267 Q1111.86 71.9684 1107.65 72.8596 Q1103.44 73.7508 1099.1 73.7508 Q1088.25 73.7508 1081.89 67.4314 Q1075.57 61.1119 1075.57 50.3365 Q1075.57 39.1965 1081.56 32.6746 Q1087.6 26.1121 1097.81 26.1121 Q1106.96 26.1121 1112.27 32.0264 Q1117.62 37.9003 1117.62 48.0275 M1110.16 45.84 Q1110.08 39.7232 1106.72 36.0774 Q1103.4 32.4315 1097.89 32.4315 Q1091.65 32.4315 1087.88 35.9558 Q1084.16 39.4801 1083.59 45.8805 L1110.16 45.84 Z\" fill=\"#000000\" fill-rule=\"evenodd\" fill-opacity=\"1\" /><path clip-path=\"url(#clip060)\" d=\"M 0 0 M1160.76 35.9153 Q1163.55 30.8922 1167.44 28.5022 Q1171.33 26.1121 1176.6 26.1121 Q1183.69 26.1121 1187.54 31.0947 Q1191.38 36.0368 1191.38 45.1919 L1191.38 72.576 L1183.89 72.576 L1183.89 45.4349 Q1183.89 38.913 1181.58 35.7533 Q1179.27 32.5936 1174.53 32.5936 Q1168.74 32.5936 1165.38 36.4419 Q1162.01 40.2903 1162.01 46.9338 L1162.01 72.576 L1154.52 72.576 L1154.52 45.4349 Q1154.52 38.8725 1152.21 35.7533 Q1149.9 32.5936 1145.08 32.5936 Q1139.37 32.5936 1136.01 36.4824 Q1132.65 40.3308 1132.65 46.9338 L1132.65 72.576 L1125.15 72.576 L1125.15 27.2059 L1132.65 27.2059 L1132.65 34.2544 Q1135.2 30.082 1138.76 28.0971 Q1142.33 26.1121 1147.23 26.1121 Q1152.17 26.1121 1155.61 28.6237 Q1159.1 31.1352 1160.76 35.9153 Z\" fill=\"#000000\" fill-rule=\"evenodd\" fill-opacity=\"1\" /><path clip-path=\"url(#clip060)\" d=\"M 0 0 M1206.41 65.7705 L1206.41 89.8329 L1198.92 89.8329 L1198.92 27.2059 L1206.41 27.2059 L1206.41 34.0924 Q1208.76 30.0415 1212.33 28.0971 Q1215.93 26.1121 1220.92 26.1121 Q1229.18 26.1121 1234.32 32.6746 Q1239.51 39.2371 1239.51 49.9314 Q1239.51 60.6258 1234.32 67.1883 Q1229.18 73.7508 1220.92 73.7508 Q1215.93 73.7508 1212.33 71.8063 Q1208.76 69.8214 1206.41 65.7705 M1231.77 49.9314 Q1231.77 41.7081 1228.37 37.0496 Q1225.01 32.3505 1219.09 32.3505 Q1213.18 32.3505 1209.78 37.0496 Q1206.41 41.7081 1206.41 49.9314 Q1206.41 58.1548 1209.78 62.8538 Q1213.18 67.5124 1219.09 67.5124 Q1225.01 67.5124 1228.37 62.8538 Q1231.77 58.1548 1231.77 49.9314 Z\" fill=\"#000000\" fill-rule=\"evenodd\" fill-opacity=\"1\" /><path clip-path=\"url(#clip060)\" d=\"M 0 0 M1286.13 48.0275 L1286.13 51.6733 L1251.86 51.6733 Q1252.35 59.3701 1256.48 63.421 Q1260.65 67.4314 1268.07 67.4314 Q1272.36 67.4314 1276.37 66.3781 Q1280.42 65.3249 1284.39 63.2184 L1284.39 70.267 Q1280.38 71.9684 1276.17 72.8596 Q1271.96 73.7508 1267.62 73.7508 Q1256.77 73.7508 1250.41 67.4314 Q1244.09 61.1119 1244.09 50.3365 Q1244.09 39.1965 1250.08 32.6746 Q1256.12 26.1121 1266.33 26.1121 Q1275.48 26.1121 1280.79 32.0264 Q1286.13 37.9003 1286.13 48.0275 M1278.68 45.84 Q1278.6 39.7232 1275.24 36.0774 Q1271.92 32.4315 1266.41 32.4315 Q1260.17 32.4315 1256.4 35.9558 Q1252.67 39.4801 1252.11 45.8805 L1278.68 45.84 Z\" fill=\"#000000\" fill-rule=\"evenodd\" fill-opacity=\"1\" /><path clip-path=\"url(#clip060)\" d=\"M 0 0 M1320.24 34.1734 Q1318.99 33.4443 1317.49 33.1202 Q1316.03 32.7556 1314.25 32.7556 Q1307.93 32.7556 1304.53 36.8875 Q1301.16 40.9789 1301.16 48.6757 L1301.16 72.576 L1293.67 72.576 L1293.67 27.2059 L1301.16 27.2059 L1301.16 34.2544 Q1303.51 30.1225 1307.28 28.1376 Q1311.05 26.1121 1316.44 26.1121 Q1317.21 26.1121 1318.14 26.2337 Q1319.07 26.3147 1320.2 26.5172 L1320.24 34.1734 Z\" fill=\"#000000\" fill-rule=\"evenodd\" fill-opacity=\"1\" /><path clip-path=\"url(#clip060)\" d=\"M 0 0 M1348.68 49.7694 Q1339.65 49.7694 1336.16 51.8354 Q1332.68 53.9013 1332.68 58.8839 Q1332.68 62.8538 1335.27 65.2034 Q1337.91 67.5124 1342.4 67.5124 Q1348.6 67.5124 1352.33 63.1374 Q1356.09 58.7219 1356.09 51.4303 L1356.09 49.7694 L1348.68 49.7694 M1363.55 46.6907 L1363.55 72.576 L1356.09 72.576 L1356.09 65.6895 Q1353.54 69.8214 1349.73 71.8063 Q1345.93 73.7508 1340.42 73.7508 Q1333.45 73.7508 1329.32 69.8619 Q1325.23 65.9325 1325.23 59.3701 Q1325.23 51.7138 1330.33 47.825 Q1335.47 43.9361 1345.64 43.9361 L1356.09 43.9361 L1356.09 43.2069 Q1356.09 38.0623 1352.69 35.2672 Q1349.33 32.4315 1343.21 32.4315 Q1339.32 32.4315 1335.64 33.3632 Q1331.95 34.295 1328.55 36.1584 L1328.55 29.2718 Q1332.64 27.692 1336.49 26.9223 Q1340.34 26.1121 1343.98 26.1121 Q1353.83 26.1121 1358.69 31.2163 Q1363.55 36.3204 1363.55 46.6907 Z\" fill=\"#000000\" fill-rule=\"evenodd\" fill-opacity=\"1\" /><path clip-path=\"url(#clip060)\" d=\"M 0 0 M1378.74 14.324 L1378.74 27.2059 L1394.09 27.2059 L1394.09 32.9987 L1378.74 32.9987 L1378.74 57.6282 Q1378.74 63.1779 1380.24 64.7578 Q1381.78 66.3376 1386.43 66.3376 L1394.09 66.3376 L1394.09 72.576 L1386.43 72.576 Q1377.81 72.576 1374.53 69.3758 Q1371.24 66.1351 1371.24 57.6282 L1371.24 32.9987 L1365.78 32.9987 L1365.78 27.2059 L1371.24 27.2059 L1371.24 14.324 L1378.74 14.324 Z\" fill=\"#000000\" fill-rule=\"evenodd\" fill-opacity=\"1\" /><path clip-path=\"url(#clip060)\" d=\"M 0 0 M1401.14 54.671 L1401.14 27.2059 L1408.59 27.2059 L1408.59 54.3874 Q1408.59 60.8284 1411.1 64.0691 Q1413.62 67.2693 1418.64 67.2693 Q1424.68 67.2693 1428.16 63.421 Q1431.68 59.5726 1431.68 52.9291 L1431.68 27.2059 L1439.14 27.2059 L1439.14 72.576 L1431.68 72.576 L1431.68 65.6084 Q1428.97 69.7404 1425.36 71.7658 Q1421.8 73.7508 1417.06 73.7508 Q1409.24 73.7508 1405.19 68.8897 Q1401.14 64.0286 1401.14 54.671 M1419.9 26.1121 L1419.9 26.1121 Z\" fill=\"#000000\" fill-rule=\"evenodd\" fill-opacity=\"1\" /><path clip-path=\"url(#clip060)\" d=\"M 0 0 M1473.25 34.1734 Q1471.99 33.4443 1470.49 33.1202 Q1469.03 32.7556 1467.25 32.7556 Q1460.93 32.7556 1457.53 36.8875 Q1454.17 40.9789 1454.17 48.6757 L1454.17 72.576 L1446.67 72.576 L1446.67 27.2059 L1454.17 27.2059 L1454.17 34.2544 Q1456.52 30.1225 1460.28 28.1376 Q1464.05 26.1121 1469.44 26.1121 Q1470.21 26.1121 1471.14 26.2337 Q1472.07 26.3147 1473.21 26.5172 L1473.25 34.1734 Z\" fill=\"#000000\" fill-rule=\"evenodd\" fill-opacity=\"1\" /><path clip-path=\"url(#clip060)\" d=\"M 0 0 M1518.05 48.0275 L1518.05 51.6733 L1483.78 51.6733 Q1484.26 59.3701 1488.4 63.421 Q1492.57 67.4314 1499.98 67.4314 Q1504.28 67.4314 1508.29 66.3781 Q1512.34 65.3249 1516.31 63.2184 L1516.31 70.267 Q1512.3 71.9684 1508.08 72.8596 Q1503.87 73.7508 1499.54 73.7508 Q1488.68 73.7508 1482.32 67.4314 Q1476 61.1119 1476 50.3365 Q1476 39.1965 1482 32.6746 Q1488.03 26.1121 1498.24 26.1121 Q1507.39 26.1121 1512.7 32.0264 Q1518.05 37.9003 1518.05 48.0275 M1510.6 45.84 Q1510.51 39.7232 1507.15 36.0774 Q1503.83 32.4315 1498.32 32.4315 Q1492.08 32.4315 1488.32 35.9558 Q1484.59 39.4801 1484.02 45.8805 L1510.6 45.84 Z\" fill=\"#000000\" fill-rule=\"evenodd\" fill-opacity=\"1\" /><polyline clip-path=\"url(#clip062)\" style=\"stroke:#ff0000; stroke-width:4; stroke-opacity:1; fill:none\" points=\"\n",
       "  260.167,1386.4 444.862,1300.35 629.556,1117.51 814.251,956.171 998.945,611.992 1183.64,515.191 1368.33,391.502 1553.03,160.256 1737.72,337.724 1922.42,644.259 \n",
       "  2107.11,983.06 2291.81,1230.44 \n",
       "  \"/>\n",
       "<circle clip-path=\"url(#clip062)\" cx=\"260.167\" cy=\"1386.4\" r=\"14\" fill=\"#ff0000\" fill-rule=\"evenodd\" fill-opacity=\"1\" stroke=\"#000000\" stroke-opacity=\"1\" stroke-width=\"3.2\"/>\n",
       "<circle clip-path=\"url(#clip062)\" cx=\"444.862\" cy=\"1300.35\" r=\"14\" fill=\"#ff0000\" fill-rule=\"evenodd\" fill-opacity=\"1\" stroke=\"#000000\" stroke-opacity=\"1\" stroke-width=\"3.2\"/>\n",
       "<circle clip-path=\"url(#clip062)\" cx=\"629.556\" cy=\"1117.51\" r=\"14\" fill=\"#ff0000\" fill-rule=\"evenodd\" fill-opacity=\"1\" stroke=\"#000000\" stroke-opacity=\"1\" stroke-width=\"3.2\"/>\n",
       "<circle clip-path=\"url(#clip062)\" cx=\"814.251\" cy=\"956.171\" r=\"14\" fill=\"#ff0000\" fill-rule=\"evenodd\" fill-opacity=\"1\" stroke=\"#000000\" stroke-opacity=\"1\" stroke-width=\"3.2\"/>\n",
       "<circle clip-path=\"url(#clip062)\" cx=\"998.945\" cy=\"611.992\" r=\"14\" fill=\"#ff0000\" fill-rule=\"evenodd\" fill-opacity=\"1\" stroke=\"#000000\" stroke-opacity=\"1\" stroke-width=\"3.2\"/>\n",
       "<circle clip-path=\"url(#clip062)\" cx=\"1183.64\" cy=\"515.191\" r=\"14\" fill=\"#ff0000\" fill-rule=\"evenodd\" fill-opacity=\"1\" stroke=\"#000000\" stroke-opacity=\"1\" stroke-width=\"3.2\"/>\n",
       "<circle clip-path=\"url(#clip062)\" cx=\"1368.33\" cy=\"391.502\" r=\"14\" fill=\"#ff0000\" fill-rule=\"evenodd\" fill-opacity=\"1\" stroke=\"#000000\" stroke-opacity=\"1\" stroke-width=\"3.2\"/>\n",
       "<circle clip-path=\"url(#clip062)\" cx=\"1553.03\" cy=\"160.256\" r=\"14\" fill=\"#ff0000\" fill-rule=\"evenodd\" fill-opacity=\"1\" stroke=\"#000000\" stroke-opacity=\"1\" stroke-width=\"3.2\"/>\n",
       "<circle clip-path=\"url(#clip062)\" cx=\"1737.72\" cy=\"337.724\" r=\"14\" fill=\"#ff0000\" fill-rule=\"evenodd\" fill-opacity=\"1\" stroke=\"#000000\" stroke-opacity=\"1\" stroke-width=\"3.2\"/>\n",
       "<circle clip-path=\"url(#clip062)\" cx=\"1922.42\" cy=\"644.259\" r=\"14\" fill=\"#ff0000\" fill-rule=\"evenodd\" fill-opacity=\"1\" stroke=\"#000000\" stroke-opacity=\"1\" stroke-width=\"3.2\"/>\n",
       "<circle clip-path=\"url(#clip062)\" cx=\"2107.11\" cy=\"983.06\" r=\"14\" fill=\"#ff0000\" fill-rule=\"evenodd\" fill-opacity=\"1\" stroke=\"#000000\" stroke-opacity=\"1\" stroke-width=\"3.2\"/>\n",
       "<circle clip-path=\"url(#clip062)\" cx=\"2291.81\" cy=\"1230.44\" r=\"14\" fill=\"#ff0000\" fill-rule=\"evenodd\" fill-opacity=\"1\" stroke=\"#000000\" stroke-opacity=\"1\" stroke-width=\"3.2\"/>\n",
       "<path clip-path=\"url(#clip060)\" d=\"\n",
       "M1924.21 287.756 L2280.97 287.756 L2280.97 166.796 L1924.21 166.796  Z\n",
       "  \" fill=\"#ffffff\" fill-rule=\"evenodd\" fill-opacity=\"1\"/>\n",
       "<polyline clip-path=\"url(#clip060)\" style=\"stroke:#000000; stroke-width:4; stroke-opacity:1; fill:none\" points=\"\n",
       "  1924.21,287.756 2280.97,287.756 2280.97,166.796 1924.21,166.796 1924.21,287.756 \n",
       "  \"/>\n",
       "<polyline clip-path=\"url(#clip060)\" style=\"stroke:#ff0000; stroke-width:4; stroke-opacity:1; fill:none\" points=\"\n",
       "  1948.14,227.276 2091.71,227.276 \n",
       "  \"/>\n",
       "<circle clip-path=\"url(#clip060)\" cx=\"2019.93\" cy=\"227.276\" r=\"23\" fill=\"#ff0000\" fill-rule=\"evenodd\" fill-opacity=\"1\" stroke=\"#000000\" stroke-opacity=\"1\" stroke-width=\"5.12\"/>\n",
       "<path clip-path=\"url(#clip060)\" d=\"M 0 0 M2115.64 209.996 L2144.87 209.996 L2144.87 213.931 L2132.61 213.931 L2132.61 244.556 L2127.91 244.556 L2127.91 213.931 L2115.64 213.931 L2115.64 209.996 Z\" fill=\"#000000\" fill-rule=\"evenodd\" fill-opacity=\"1\" /><path clip-path=\"url(#clip060)\" d=\"M 0 0 M2163.46 230.528 L2163.46 232.611 L2143.88 232.611 Q2144.16 237.009 2146.52 239.324 Q2148.9 241.616 2153.14 241.616 Q2155.59 241.616 2157.88 241.014 Q2160.2 240.412 2162.47 239.209 L2162.47 243.236 Q2160.18 244.208 2157.77 244.718 Q2155.36 245.227 2152.88 245.227 Q2146.68 245.227 2143.05 241.616 Q2139.43 238.005 2139.43 231.847 Q2139.43 225.482 2142.86 221.755 Q2146.31 218.005 2152.14 218.005 Q2157.37 218.005 2160.41 221.385 Q2163.46 224.741 2163.46 230.528 M2159.2 229.278 Q2159.16 225.783 2157.24 223.699 Q2155.34 221.616 2152.19 221.616 Q2148.62 221.616 2146.47 223.63 Q2144.34 225.644 2144.02 229.301 L2159.2 229.278 Z\" fill=\"#000000\" fill-rule=\"evenodd\" fill-opacity=\"1\" /><path clip-path=\"url(#clip060)\" d=\"M 0 0 M2188.12 223.607 Q2189.71 220.736 2191.93 219.371 Q2194.16 218.005 2197.17 218.005 Q2201.22 218.005 2203.42 220.852 Q2205.62 223.676 2205.62 228.908 L2205.62 244.556 L2201.33 244.556 L2201.33 229.047 Q2201.33 225.32 2200.01 223.514 Q2198.69 221.709 2195.99 221.709 Q2192.68 221.709 2190.75 223.908 Q2188.83 226.107 2188.83 229.903 L2188.83 244.556 L2184.55 244.556 L2184.55 229.047 Q2184.55 225.297 2183.23 223.514 Q2181.91 221.709 2179.16 221.709 Q2175.89 221.709 2173.97 223.931 Q2172.05 226.13 2172.05 229.903 L2172.05 244.556 L2167.77 244.556 L2167.77 218.63 L2172.05 218.63 L2172.05 222.658 Q2173.51 220.273 2175.55 219.139 Q2177.58 218.005 2180.38 218.005 Q2183.21 218.005 2185.18 219.44 Q2187.17 220.875 2188.12 223.607 Z\" fill=\"#000000\" fill-rule=\"evenodd\" fill-opacity=\"1\" /><path clip-path=\"url(#clip060)\" d=\"M 0 0 M2214.2 240.667 L2214.2 254.417 L2209.92 254.417 L2209.92 218.63 L2214.2 218.63 L2214.2 222.565 Q2215.55 220.25 2217.58 219.139 Q2219.64 218.005 2222.49 218.005 Q2227.21 218.005 2230.15 221.755 Q2233.11 225.505 2233.11 231.616 Q2233.11 237.727 2230.15 241.477 Q2227.21 245.227 2222.49 245.227 Q2219.64 245.227 2217.58 244.116 Q2215.55 242.982 2214.2 240.667 M2228.69 231.616 Q2228.69 226.917 2226.75 224.255 Q2224.83 221.57 2221.45 221.57 Q2218.07 221.57 2216.12 224.255 Q2214.2 226.917 2214.2 231.616 Q2214.2 236.315 2216.12 239 Q2218.07 241.662 2221.45 241.662 Q2224.83 241.662 2226.75 239 Q2228.69 236.315 2228.69 231.616 Z\" fill=\"#000000\" fill-rule=\"evenodd\" fill-opacity=\"1\" /></svg>\n"
      ]
     },
     "execution_count": 43,
     "metadata": {},
     "output_type": "execute_result"
    }
   ],
   "source": [
    "@df df plot(:月, :平均気温\n",
    "    ,title=\"Temperature\"\n",
    "    ,xlabel = \"Month\"\n",
    "    ,ylabel = \"Temperature [℃]\"\n",
    "    ,xticks = 0:1:12\n",
    "    ,yticks = 0:5:30\n",
    "    ,label = \"Temp\"\n",
    "    ,color = :red\n",
    "    ,shape = :circle\n",
    "    )"
   ]
  },
  {
   "cell_type": "code",
   "execution_count": null,
   "metadata": {},
   "outputs": [],
   "source": []
  },
  {
   "cell_type": "code",
   "execution_count": 45,
   "metadata": {},
   "outputs": [
    {
     "data": {
      "text/html": [
       "<table class=\"data-frame\"><thead><tr><th></th><th>A</th><th>B</th><th>C</th></tr><tr><th></th><th>Int64</th><th>Int64</th><th>Int64</th></tr></thead><tbody><p>20 rows × 3 columns</p><tr><th>1</th><td>0</td><td>1</td><td>1</td></tr><tr><th>2</th><td>5</td><td>1</td><td>2</td></tr><tr><th>3</th><td>10</td><td>2</td><td>3</td></tr><tr><th>4</th><td>15</td><td>2</td><td>4</td></tr><tr><th>5</th><td>20</td><td>3</td><td>5</td></tr><tr><th>6</th><td>25</td><td>3</td><td>6</td></tr><tr><th>7</th><td>30</td><td>4</td><td>7</td></tr><tr><th>8</th><td>35</td><td>4</td><td>8</td></tr><tr><th>9</th><td>40</td><td>5</td><td>9</td></tr><tr><th>10</th><td>45</td><td>5</td><td>10</td></tr><tr><th>11</th><td>50</td><td>6</td><td>11</td></tr><tr><th>12</th><td>55</td><td>6</td><td>12</td></tr><tr><th>13</th><td>60</td><td>7</td><td>13</td></tr><tr><th>14</th><td>65</td><td>7</td><td>14</td></tr><tr><th>15</th><td>70</td><td>8</td><td>15</td></tr><tr><th>16</th><td>75</td><td>8</td><td>16</td></tr><tr><th>17</th><td>80</td><td>9</td><td>17</td></tr><tr><th>18</th><td>85</td><td>9</td><td>18</td></tr><tr><th>19</th><td>90</td><td>10</td><td>19</td></tr><tr><th>20</th><td>95</td><td>10</td><td>20</td></tr></tbody></table>"
      ],
      "text/latex": [
       "\\begin{tabular}{r|ccc}\n",
       "\t& A & B & C\\\\\n",
       "\t\\hline\n",
       "\t& Int64 & Int64 & Int64\\\\\n",
       "\t\\hline\n",
       "\t1 & 0 & 1 & 1 \\\\\n",
       "\t2 & 5 & 1 & 2 \\\\\n",
       "\t3 & 10 & 2 & 3 \\\\\n",
       "\t4 & 15 & 2 & 4 \\\\\n",
       "\t5 & 20 & 3 & 5 \\\\\n",
       "\t6 & 25 & 3 & 6 \\\\\n",
       "\t7 & 30 & 4 & 7 \\\\\n",
       "\t8 & 35 & 4 & 8 \\\\\n",
       "\t9 & 40 & 5 & 9 \\\\\n",
       "\t10 & 45 & 5 & 10 \\\\\n",
       "\t11 & 50 & 6 & 11 \\\\\n",
       "\t12 & 55 & 6 & 12 \\\\\n",
       "\t13 & 60 & 7 & 13 \\\\\n",
       "\t14 & 65 & 7 & 14 \\\\\n",
       "\t15 & 70 & 8 & 15 \\\\\n",
       "\t16 & 75 & 8 & 16 \\\\\n",
       "\t17 & 80 & 9 & 17 \\\\\n",
       "\t18 & 85 & 9 & 18 \\\\\n",
       "\t19 & 90 & 10 & 19 \\\\\n",
       "\t20 & 95 & 10 & 20 \\\\\n",
       "\\end{tabular}\n"
      ],
      "text/plain": [
       "20×3 DataFrame\n",
       "│ Row │ A     │ B     │ C     │\n",
       "│     │ \u001b[90mInt64\u001b[39m │ \u001b[90mInt64\u001b[39m │ \u001b[90mInt64\u001b[39m │\n",
       "├─────┼───────┼───────┼───────┤\n",
       "│ 1   │ 0     │ 1     │ 1     │\n",
       "│ 2   │ 5     │ 1     │ 2     │\n",
       "│ 3   │ 10    │ 2     │ 3     │\n",
       "│ 4   │ 15    │ 2     │ 4     │\n",
       "│ 5   │ 20    │ 3     │ 5     │\n",
       "│ 6   │ 25    │ 3     │ 6     │\n",
       "│ 7   │ 30    │ 4     │ 7     │\n",
       "│ 8   │ 35    │ 4     │ 8     │\n",
       "│ 9   │ 40    │ 5     │ 9     │\n",
       "│ 10  │ 45    │ 5     │ 10    │\n",
       "│ 11  │ 50    │ 6     │ 11    │\n",
       "│ 12  │ 55    │ 6     │ 12    │\n",
       "│ 13  │ 60    │ 7     │ 13    │\n",
       "│ 14  │ 65    │ 7     │ 14    │\n",
       "│ 15  │ 70    │ 8     │ 15    │\n",
       "│ 16  │ 75    │ 8     │ 16    │\n",
       "│ 17  │ 80    │ 9     │ 17    │\n",
       "│ 18  │ 85    │ 9     │ 18    │\n",
       "│ 19  │ 90    │ 10    │ 19    │\n",
       "│ 20  │ 95    │ 10    │ 20    │"
      ]
     },
     "execution_count": 45,
     "metadata": {},
     "output_type": "execute_result"
    }
   ],
   "source": [
    "#CSVに書き出す\n",
    "df = DataFrame(A=0:5:95, B =repeat(1:10,inner=2),C = 1:20)"
   ]
  },
  {
   "cell_type": "code",
   "execution_count": 47,
   "metadata": {},
   "outputs": [
    {
     "data": {
      "text/plain": [
       "\"/Users/satoshi/udemy_study/julia/data/output_dataframe.csv\""
      ]
     },
     "execution_count": 47,
     "metadata": {},
     "output_type": "execute_result"
    }
   ],
   "source": [
    "loc = \"/Users/satoshi/udemy_study/julia/data/\"\n",
    "CSV.write(loc * \"output_dataframe.csv\", df)"
   ]
  },
  {
   "cell_type": "code",
   "execution_count": null,
   "metadata": {},
   "outputs": [],
   "source": []
  },
  {
   "cell_type": "code",
   "execution_count": null,
   "metadata": {},
   "outputs": [],
   "source": []
  },
  {
   "cell_type": "code",
   "execution_count": null,
   "metadata": {},
   "outputs": [],
   "source": []
  }
 ],
 "metadata": {
  "kernelspec": {
   "display_name": "Julia 1.5.1",
   "language": "julia",
   "name": "julia-1.5"
  },
  "language_info": {
   "file_extension": ".jl",
   "mimetype": "application/julia",
   "name": "julia",
   "version": "1.5.1"
  }
 },
 "nbformat": 4,
 "nbformat_minor": 4
}
