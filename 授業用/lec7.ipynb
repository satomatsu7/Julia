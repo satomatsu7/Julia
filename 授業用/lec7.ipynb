{
 "cells": [
  {
   "cell_type": "markdown",
   "metadata": {},
   "source": [
    "# ファイル入出力"
   ]
  },
  {
   "cell_type": "code",
   "execution_count": 1,
   "metadata": {},
   "outputs": [],
   "source": [
    "# テキストファイルの作成"
   ]
  },
  {
   "cell_type": "code",
   "execution_count": 2,
   "metadata": {},
   "outputs": [],
   "source": [
    "f = open(\"/Users/satoshi/Udemy_study/julia/data/hello1.txt\", \"w\")\n",
    "print(f, \"Hello!\")\n",
    "close(f)"
   ]
  },
  {
   "cell_type": "code",
   "execution_count": 10,
   "metadata": {},
   "outputs": [
    {
     "name": "stdout",
     "output_type": "stream",
     "text": [
      "-123.457\n"
     ]
    }
   ],
   "source": [
    "using Printf\n",
    "@printf(\"%6.3f\\n\", -123.45678)"
   ]
  },
  {
   "cell_type": "code",
   "execution_count": 11,
   "metadata": {},
   "outputs": [
    {
     "name": "stdout",
     "output_type": "stream",
     "text": [
      "-123.45678\n"
     ]
    }
   ],
   "source": [
    "@printf(\"%6.5f\\n\", -123.45678)"
   ]
  },
  {
   "cell_type": "code",
   "execution_count": 12,
   "metadata": {},
   "outputs": [
    {
     "name": "stdout",
     "output_type": "stream",
     "text": [
      "-123.457\n"
     ]
    }
   ],
   "source": [
    "@printf(\"%7.3f\\n\", -123.45678)"
   ]
  },
  {
   "cell_type": "code",
   "execution_count": 13,
   "metadata": {},
   "outputs": [
    {
     "name": "stdout",
     "output_type": "stream",
     "text": [
      "-123.457\n"
     ]
    }
   ],
   "source": [
    "@printf(\"%4.3f\\n\", -123.45678)"
   ]
  },
  {
   "cell_type": "code",
   "execution_count": 14,
   "metadata": {},
   "outputs": [
    {
     "name": "stdout",
     "output_type": "stream",
     "text": [
      "-123.457\n"
     ]
    }
   ],
   "source": [
    "@printf(\"%6.3f\\n\", -123.45678)"
   ]
  },
  {
   "cell_type": "code",
   "execution_count": 16,
   "metadata": {},
   "outputs": [],
   "source": [
    "open(\"/Users/satoshi/Udemy_study/julia/data/hello2.txt\", \"w\") do f\n",
    "for i in 1:10\n",
    "    @printf(f,\"%6.2f\\n\", randn())\n",
    "end\n",
    "end"
   ]
  },
  {
   "cell_type": "code",
   "execution_count": null,
   "metadata": {},
   "outputs": [],
   "source": []
  },
  {
   "cell_type": "code",
   "execution_count": null,
   "metadata": {},
   "outputs": [],
   "source": []
  },
  {
   "cell_type": "markdown",
   "metadata": {},
   "source": [
    "# テキストファイルの読み込み"
   ]
  },
  {
   "cell_type": "code",
   "execution_count": 19,
   "metadata": {},
   "outputs": [
    {
     "data": {
      "text/plain": [
       "\"input_test.txt\""
      ]
     },
     "execution_count": 19,
     "metadata": {},
     "output_type": "execute_result"
    }
   ],
   "source": [
    "loc = \"/Users/satoshi/udemy_study/julia/data/\"\n",
    "filename = \"input_test.txt\""
   ]
  },
  {
   "cell_type": "code",
   "execution_count": 20,
   "metadata": {},
   "outputs": [
    {
     "data": {
      "text/plain": [
       "\"Hello!Hello!Hello!\\n\""
      ]
     },
     "execution_count": 20,
     "metadata": {},
     "output_type": "execute_result"
    }
   ],
   "source": [
    "f = open(loc*filename)\n",
    "value = read(f,String)"
   ]
  },
  {
   "cell_type": "code",
   "execution_count": 21,
   "metadata": {},
   "outputs": [],
   "source": [
    "close(f)"
   ]
  },
  {
   "cell_type": "code",
   "execution_count": null,
   "metadata": {},
   "outputs": [],
   "source": []
  },
  {
   "cell_type": "code",
   "execution_count": 22,
   "metadata": {},
   "outputs": [
    {
     "data": {
      "text/plain": [
       "\"temp_2019_tokyo.csv\""
      ]
     },
     "execution_count": 22,
     "metadata": {},
     "output_type": "execute_result"
    }
   ],
   "source": [
    "loc = \"/Users/satoshi/udemy_study/julia/data/\"\n",
    "filename = \"temp_2019_tokyo.csv\""
   ]
  },
  {
   "cell_type": "code",
   "execution_count": null,
   "metadata": {},
   "outputs": [],
   "source": []
  },
  {
   "cell_type": "code",
   "execution_count": 40,
   "metadata": {},
   "outputs": [
    {
     "name": "stdout",
     "output_type": "stream",
     "text": [
      "[1, 2, 3, 4, 5, 6, 7, 8, 9, 10, 11, 12]\n",
      "[5.6, 7.2, 10.6, 13.6, 20.0, 21.8, 24.1, 28.4, 25.1, 19.4, 13.1, 8.5]\n",
      "[16.0, 42.0, 117.5, 90.5, 120.5, 225.0, 193.0, 110.0, 197.0, 529.5, 156.5, 76.5]\n"
     ]
    }
   ],
   "source": [
    "f = open(loc * filename)\n",
    "\n",
    "#格納する配列\n",
    "tt = zeros(Int64,0) # month\n",
    "xx = zeros(Float64,0) #Temperature\n",
    "yy = zeros(Float64,0) # 降水量\n",
    "\n",
    "i = 0\n",
    "for line in eachline(f)\n",
    "    i += 1\n",
    "    i == 1 && continue\n",
    "    \n",
    "    s = split(line, \",\")\n",
    "    t = parse(Int64, s[1])\n",
    "    push!(tt,t)\n",
    "    \n",
    "    x = parse(Float64,s[2])\n",
    "    push!(xx,x)\n",
    "\n",
    "    y = parse(Float64,s[3])\n",
    "    push!(yy,y)\n",
    "end\n",
    "\n",
    "println(tt)\n",
    "println(xx)\n",
    "println(yy)"
   ]
  },
  {
   "cell_type": "code",
   "execution_count": null,
   "metadata": {},
   "outputs": [],
   "source": []
  },
  {
   "cell_type": "code",
   "execution_count": null,
   "metadata": {},
   "outputs": [],
   "source": []
  },
  {
   "cell_type": "code",
   "execution_count": null,
   "metadata": {},
   "outputs": [],
   "source": []
  }
 ],
 "metadata": {
  "kernelspec": {
   "display_name": "Julia 1.5.1",
   "language": "julia",
   "name": "julia-1.5"
  },
  "language_info": {
   "file_extension": ".jl",
   "mimetype": "application/julia",
   "name": "julia",
   "version": "1.5.1"
  }
 },
 "nbformat": 4,
 "nbformat_minor": 4
}
