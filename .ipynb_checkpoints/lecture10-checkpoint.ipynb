{
 "cells": [
  {
   "cell_type": "markdown",
   "metadata": {},
   "source": [
    "# Lecture 10 DataFrame\n",
    "reference: https://juliadata.github.io/DataFrames.jl/stable/man/getting_started/"
   ]
  },
  {
   "cell_type": "markdown",
   "metadata": {},
   "source": [
    "using Pkg\\\n",
    "Pkg.add(\"DataFrames\")"
   ]
  },
  {
   "cell_type": "code",
   "execution_count": 3,
   "metadata": {},
   "outputs": [],
   "source": [
    "using DataFrames"
   ]
  },
  {
   "cell_type": "code",
   "execution_count": 7,
   "metadata": {},
   "outputs": [
    {
     "data": {
      "text/html": [
       "<table class=\"data-frame\"><thead><tr><th></th><th>A</th><th>B</th></tr><tr><th></th><th>Int64</th><th>String</th></tr></thead><tbody><p>5 rows × 2 columns</p><tr><th>1</th><td>1</td><td>Apple</td></tr><tr><th>2</th><td>2</td><td>Banana</td></tr><tr><th>3</th><td>3</td><td>Apple</td></tr><tr><th>4</th><td>4</td><td>Orange</td></tr><tr><th>5</th><td>5</td><td>Banana</td></tr></tbody></table>"
      ],
      "text/latex": [
       "\\begin{tabular}{r|cc}\n",
       "\t& A & B\\\\\n",
       "\t\\hline\n",
       "\t& Int64 & String\\\\\n",
       "\t\\hline\n",
       "\t1 & 1 & Apple \\\\\n",
       "\t2 & 2 & Banana \\\\\n",
       "\t3 & 3 & Apple \\\\\n",
       "\t4 & 4 & Orange \\\\\n",
       "\t5 & 5 & Banana \\\\\n",
       "\\end{tabular}\n"
      ],
      "text/plain": [
       "5×2 DataFrame\n",
       "│ Row │ A     │ B      │\n",
       "│     │ \u001b[90mInt64\u001b[39m │ \u001b[90mString\u001b[39m │\n",
       "├─────┼───────┼────────┤\n",
       "│ 1   │ 1     │ Apple  │\n",
       "│ 2   │ 2     │ Banana │\n",
       "│ 3   │ 3     │ Apple  │\n",
       "│ 4   │ 4     │ Orange │\n",
       "│ 5   │ 5     │ Banana │"
      ]
     },
     "execution_count": 7,
     "metadata": {},
     "output_type": "execute_result"
    }
   ],
   "source": [
    "df = DataFrame(A = 1:5, B = [\"Apple\", \"Banana\", \"Apple\", \"Orange\",\"Banana\"])"
   ]
  },
  {
   "cell_type": "code",
   "execution_count": 8,
   "metadata": {},
   "outputs": [
    {
     "data": {
      "text/plain": [
       "5-element Array{Int64,1}:\n",
       " 1\n",
       " 2\n",
       " 3\n",
       " 4\n",
       " 5"
      ]
     },
     "execution_count": 8,
     "metadata": {},
     "output_type": "execute_result"
    }
   ],
   "source": [
    "df.A"
   ]
  },
  {
   "cell_type": "code",
   "execution_count": 9,
   "metadata": {},
   "outputs": [
    {
     "data": {
      "text/plain": [
       "5-element Array{String,1}:\n",
       " \"Apple\"\n",
       " \"Banana\"\n",
       " \"Apple\"\n",
       " \"Orange\"\n",
       " \"Banana\""
      ]
     },
     "execution_count": 9,
     "metadata": {},
     "output_type": "execute_result"
    }
   ],
   "source": [
    "df.B"
   ]
  },
  {
   "cell_type": "code",
   "execution_count": 10,
   "metadata": {},
   "outputs": [
    {
     "data": {
      "text/plain": [
       "5-element Array{Int64,1}:\n",
       " 1\n",
       " 2\n",
       " 3\n",
       " 4\n",
       " 5"
      ]
     },
     "execution_count": 10,
     "metadata": {},
     "output_type": "execute_result"
    }
   ],
   "source": [
    "df.\"A\""
   ]
  },
  {
   "cell_type": "code",
   "execution_count": null,
   "metadata": {},
   "outputs": [],
   "source": []
  },
  {
   "cell_type": "code",
   "execution_count": 11,
   "metadata": {},
   "outputs": [
    {
     "data": {
      "text/html": [
       "<table class=\"data-frame\"><thead><tr><th></th></tr><tr><th></th></tr></thead><tbody><p>0 rows × 0 columns</p></tbody></table>"
      ],
      "text/latex": [
       "\\begin{tabular}{r|}\n",
       "\t& \\\\\n",
       "\t\\hline\n",
       "\t& \\\\\n",
       "\t\\hline\n",
       "\\end{tabular}\n"
      ],
      "text/plain": [
       "0×0 DataFrame\n"
      ]
     },
     "execution_count": 11,
     "metadata": {},
     "output_type": "execute_result"
    }
   ],
   "source": [
    "df = DataFrame()"
   ]
  },
  {
   "cell_type": "code",
   "execution_count": 12,
   "metadata": {},
   "outputs": [
    {
     "data": {
      "text/plain": [
       "1:8"
      ]
     },
     "execution_count": 12,
     "metadata": {},
     "output_type": "execute_result"
    }
   ],
   "source": [
    "df.A = 1:8"
   ]
  },
  {
   "cell_type": "code",
   "execution_count": 13,
   "metadata": {},
   "outputs": [
    {
     "data": {
      "text/plain": [
       "8-element Array{Int64,1}:\n",
       " 1\n",
       " 2\n",
       " 3\n",
       " 4\n",
       " 5\n",
       " 6\n",
       " 7\n",
       " 8"
      ]
     },
     "execution_count": 13,
     "metadata": {},
     "output_type": "execute_result"
    }
   ],
   "source": [
    "df.A"
   ]
  },
  {
   "cell_type": "code",
   "execution_count": 14,
   "metadata": {},
   "outputs": [
    {
     "data": {
      "text/plain": [
       "8-element Array{String,1}:\n",
       " \"A\"\n",
       " \"B\"\n",
       " \"C\"\n",
       " \"D\"\n",
       " \"E\"\n",
       " \"F\"\n",
       " \"G\"\n",
       " \"H\""
      ]
     },
     "execution_count": 14,
     "metadata": {},
     "output_type": "execute_result"
    }
   ],
   "source": [
    "df.B = [\"A\",\"B\",\"C\",\"D\",\"E\",\"F\",\"G\",\"H\"]"
   ]
  },
  {
   "cell_type": "code",
   "execution_count": 15,
   "metadata": {},
   "outputs": [
    {
     "data": {
      "text/html": [
       "<table class=\"data-frame\"><thead><tr><th></th><th>A</th><th>B</th></tr><tr><th></th><th>Int64</th><th>String</th></tr></thead><tbody><p>8 rows × 2 columns</p><tr><th>1</th><td>1</td><td>A</td></tr><tr><th>2</th><td>2</td><td>B</td></tr><tr><th>3</th><td>3</td><td>C</td></tr><tr><th>4</th><td>4</td><td>D</td></tr><tr><th>5</th><td>5</td><td>E</td></tr><tr><th>6</th><td>6</td><td>F</td></tr><tr><th>7</th><td>7</td><td>G</td></tr><tr><th>8</th><td>8</td><td>H</td></tr></tbody></table>"
      ],
      "text/latex": [
       "\\begin{tabular}{r|cc}\n",
       "\t& A & B\\\\\n",
       "\t\\hline\n",
       "\t& Int64 & String\\\\\n",
       "\t\\hline\n",
       "\t1 & 1 & A \\\\\n",
       "\t2 & 2 & B \\\\\n",
       "\t3 & 3 & C \\\\\n",
       "\t4 & 4 & D \\\\\n",
       "\t5 & 5 & E \\\\\n",
       "\t6 & 6 & F \\\\\n",
       "\t7 & 7 & G \\\\\n",
       "\t8 & 8 & H \\\\\n",
       "\\end{tabular}\n"
      ],
      "text/plain": [
       "8×2 DataFrame\n",
       "│ Row │ A     │ B      │\n",
       "│     │ \u001b[90mInt64\u001b[39m │ \u001b[90mString\u001b[39m │\n",
       "├─────┼───────┼────────┤\n",
       "│ 1   │ 1     │ A      │\n",
       "│ 2   │ 2     │ B      │\n",
       "│ 3   │ 3     │ C      │\n",
       "│ 4   │ 4     │ D      │\n",
       "│ 5   │ 5     │ E      │\n",
       "│ 6   │ 6     │ F      │\n",
       "│ 7   │ 7     │ G      │\n",
       "│ 8   │ 8     │ H      │"
      ]
     },
     "execution_count": 15,
     "metadata": {},
     "output_type": "execute_result"
    }
   ],
   "source": [
    "df"
   ]
  },
  {
   "cell_type": "code",
   "execution_count": 16,
   "metadata": {},
   "outputs": [
    {
     "data": {
      "text/plain": [
       "(8, 2)"
      ]
     },
     "execution_count": 16,
     "metadata": {},
     "output_type": "execute_result"
    }
   ],
   "source": [
    "size(df)"
   ]
  },
  {
   "cell_type": "code",
   "execution_count": 17,
   "metadata": {},
   "outputs": [
    {
     "data": {
      "text/plain": [
       "8"
      ]
     },
     "execution_count": 17,
     "metadata": {},
     "output_type": "execute_result"
    }
   ],
   "source": [
    "size(df,1) #行"
   ]
  },
  {
   "cell_type": "code",
   "execution_count": 18,
   "metadata": {},
   "outputs": [
    {
     "data": {
      "text/plain": [
       "2"
      ]
     },
     "execution_count": 18,
     "metadata": {},
     "output_type": "execute_result"
    }
   ],
   "source": [
    "size(df,2) #列"
   ]
  },
  {
   "cell_type": "code",
   "execution_count": null,
   "metadata": {},
   "outputs": [],
   "source": []
  },
  {
   "cell_type": "code",
   "execution_count": 19,
   "metadata": {},
   "outputs": [
    {
     "data": {
      "text/html": [
       "<table class=\"data-frame\"><thead><tr><th></th><th>A</th><th>B</th></tr><tr><th></th><th>Int64</th><th>String</th></tr></thead><tbody><p>0 rows × 2 columns</p></tbody></table>"
      ],
      "text/latex": [
       "\\begin{tabular}{r|cc}\n",
       "\t& A & B\\\\\n",
       "\t\\hline\n",
       "\t& Int64 & String\\\\\n",
       "\t\\hline\n",
       "\\end{tabular}\n"
      ],
      "text/plain": [
       "0×2 DataFrame\n"
      ]
     },
     "execution_count": 19,
     "metadata": {},
     "output_type": "execute_result"
    }
   ],
   "source": [
    "#型指定ができる\n",
    "df = DataFrame(A = Int[], B = String[])"
   ]
  },
  {
   "cell_type": "code",
   "execution_count": 20,
   "metadata": {},
   "outputs": [
    {
     "data": {
      "text/html": [
       "<table class=\"data-frame\"><thead><tr><th></th><th>A</th><th>B</th></tr><tr><th></th><th>Int64</th><th>String</th></tr></thead><tbody><p>1 rows × 2 columns</p><tr><th>1</th><td>1</td><td>M</td></tr></tbody></table>"
      ],
      "text/latex": [
       "\\begin{tabular}{r|cc}\n",
       "\t& A & B\\\\\n",
       "\t\\hline\n",
       "\t& Int64 & String\\\\\n",
       "\t\\hline\n",
       "\t1 & 1 & M \\\\\n",
       "\\end{tabular}\n"
      ],
      "text/plain": [
       "1×2 DataFrame\n",
       "│ Row │ A     │ B      │\n",
       "│     │ \u001b[90mInt64\u001b[39m │ \u001b[90mString\u001b[39m │\n",
       "├─────┼───────┼────────┤\n",
       "│ 1   │ 1     │ M      │"
      ]
     },
     "execution_count": 20,
     "metadata": {},
     "output_type": "execute_result"
    }
   ],
   "source": [
    "#行を追加する\n",
    "push!(df, (1, \"M\"))"
   ]
  },
  {
   "cell_type": "code",
   "execution_count": 22,
   "metadata": {},
   "outputs": [
    {
     "name": "stderr",
     "output_type": "stream",
     "text": [
      "┌ Error: Error adding value to column :B.\n",
      "└ @ DataFrames /Users/satoshi/.julia/packages/DataFrames/cdZCk/src/dataframe/dataframe.jl:1606\n"
     ]
    },
    {
     "ename": "LoadError",
     "evalue": "MethodError: Cannot `convert` an object of type Int64 to an object of type String\nClosest candidates are:\n  convert(::Type{String}, !Matched::CategoricalValue) at /Users/satoshi/.julia/packages/CategoricalArrays/0ZAbp/src/value.jl:60\n  convert(::Type{T}, !Matched::T) where T<:AbstractString at strings/basic.jl:229\n  convert(::Type{T}, !Matched::AbstractString) where T<:AbstractString at strings/basic.jl:230\n  ...",
     "output_type": "error",
     "traceback": [
      "MethodError: Cannot `convert` an object of type Int64 to an object of type String\nClosest candidates are:\n  convert(::Type{String}, !Matched::CategoricalValue) at /Users/satoshi/.julia/packages/CategoricalArrays/0ZAbp/src/value.jl:60\n  convert(::Type{T}, !Matched::T) where T<:AbstractString at strings/basic.jl:229\n  convert(::Type{T}, !Matched::AbstractString) where T<:AbstractString at strings/basic.jl:230\n  ...",
      "",
      "Stacktrace:",
      " [1] push!(::Array{String,1}, ::Int64) at ./array.jl:934",
      " [2] push!(::DataFrame, ::Tuple{Int64,Int64}; promote::Bool) at /Users/satoshi/.julia/packages/DataFrames/cdZCk/src/dataframe/dataframe.jl:1588",
      " [3] push!(::DataFrame, ::Tuple{Int64,Int64}) at /Users/satoshi/.julia/packages/DataFrames/cdZCk/src/dataframe/dataframe.jl:1569",
      " [4] top-level scope at In[22]:2",
      " [5] include_string(::Function, ::Module, ::String, ::String) at ./loading.jl:1091"
     ]
    }
   ],
   "source": [
    "#型の確認 \n",
    "push!(df, (1, 1000)) #型があっていないと怒られる"
   ]
  },
  {
   "cell_type": "code",
   "execution_count": null,
   "metadata": {},
   "outputs": [],
   "source": []
  },
  {
   "cell_type": "code",
   "execution_count": 20,
   "metadata": {},
   "outputs": [],
   "source": [
    "\n",
    "#列の追加、列の削除、行の追加、行の削除\n",
    "#列の選択 select\n",
    "#列の名前変更　transform\n",
    "#行の抽出に条件を入れる\n",
    "#csv読み込み 前の章で使ったやつを読み込む\n",
    "#統計量 statistics\n",
    "#プロット？"
   ]
  },
  {
   "cell_type": "code",
   "execution_count": null,
   "metadata": {},
   "outputs": [],
   "source": []
  },
  {
   "cell_type": "code",
   "execution_count": 30,
   "metadata": {},
   "outputs": [
    {
     "data": {
      "text/html": [
       "<table class=\"data-frame\"><thead><tr><th></th><th>A</th><th>B</th><th>C</th></tr><tr><th></th><th>Int64</th><th>Int64</th><th>Int64</th></tr></thead><tbody><p>20 rows × 3 columns</p><tr><th>1</th><td>0</td><td>1</td><td>1</td></tr><tr><th>2</th><td>5</td><td>1</td><td>2</td></tr><tr><th>3</th><td>10</td><td>2</td><td>3</td></tr><tr><th>4</th><td>15</td><td>2</td><td>4</td></tr><tr><th>5</th><td>20</td><td>3</td><td>5</td></tr><tr><th>6</th><td>25</td><td>3</td><td>6</td></tr><tr><th>7</th><td>30</td><td>4</td><td>7</td></tr><tr><th>8</th><td>35</td><td>4</td><td>8</td></tr><tr><th>9</th><td>40</td><td>5</td><td>9</td></tr><tr><th>10</th><td>45</td><td>5</td><td>10</td></tr><tr><th>11</th><td>50</td><td>6</td><td>11</td></tr><tr><th>12</th><td>55</td><td>6</td><td>12</td></tr><tr><th>13</th><td>60</td><td>7</td><td>13</td></tr><tr><th>14</th><td>65</td><td>7</td><td>14</td></tr><tr><th>15</th><td>70</td><td>8</td><td>15</td></tr><tr><th>16</th><td>75</td><td>8</td><td>16</td></tr><tr><th>17</th><td>80</td><td>9</td><td>17</td></tr><tr><th>18</th><td>85</td><td>9</td><td>18</td></tr><tr><th>19</th><td>90</td><td>10</td><td>19</td></tr><tr><th>20</th><td>95</td><td>10</td><td>20</td></tr></tbody></table>"
      ],
      "text/latex": [
       "\\begin{tabular}{r|ccc}\n",
       "\t& A & B & C\\\\\n",
       "\t\\hline\n",
       "\t& Int64 & Int64 & Int64\\\\\n",
       "\t\\hline\n",
       "\t1 & 0 & 1 & 1 \\\\\n",
       "\t2 & 5 & 1 & 2 \\\\\n",
       "\t3 & 10 & 2 & 3 \\\\\n",
       "\t4 & 15 & 2 & 4 \\\\\n",
       "\t5 & 20 & 3 & 5 \\\\\n",
       "\t6 & 25 & 3 & 6 \\\\\n",
       "\t7 & 30 & 4 & 7 \\\\\n",
       "\t8 & 35 & 4 & 8 \\\\\n",
       "\t9 & 40 & 5 & 9 \\\\\n",
       "\t10 & 45 & 5 & 10 \\\\\n",
       "\t11 & 50 & 6 & 11 \\\\\n",
       "\t12 & 55 & 6 & 12 \\\\\n",
       "\t13 & 60 & 7 & 13 \\\\\n",
       "\t14 & 65 & 7 & 14 \\\\\n",
       "\t15 & 70 & 8 & 15 \\\\\n",
       "\t16 & 75 & 8 & 16 \\\\\n",
       "\t17 & 80 & 9 & 17 \\\\\n",
       "\t18 & 85 & 9 & 18 \\\\\n",
       "\t19 & 90 & 10 & 19 \\\\\n",
       "\t20 & 95 & 10 & 20 \\\\\n",
       "\\end{tabular}\n"
      ],
      "text/plain": [
       "20×3 DataFrame\n",
       "│ Row │ A     │ B     │ C     │\n",
       "│     │ \u001b[90mInt64\u001b[39m │ \u001b[90mInt64\u001b[39m │ \u001b[90mInt64\u001b[39m │\n",
       "├─────┼───────┼───────┼───────┤\n",
       "│ 1   │ 0     │ 1     │ 1     │\n",
       "│ 2   │ 5     │ 1     │ 2     │\n",
       "│ 3   │ 10    │ 2     │ 3     │\n",
       "│ 4   │ 15    │ 2     │ 4     │\n",
       "│ 5   │ 20    │ 3     │ 5     │\n",
       "│ 6   │ 25    │ 3     │ 6     │\n",
       "│ 7   │ 30    │ 4     │ 7     │\n",
       "│ 8   │ 35    │ 4     │ 8     │\n",
       "│ 9   │ 40    │ 5     │ 9     │\n",
       "│ 10  │ 45    │ 5     │ 10    │\n",
       "│ 11  │ 50    │ 6     │ 11    │\n",
       "│ 12  │ 55    │ 6     │ 12    │\n",
       "│ 13  │ 60    │ 7     │ 13    │\n",
       "│ 14  │ 65    │ 7     │ 14    │\n",
       "│ 15  │ 70    │ 8     │ 15    │\n",
       "│ 16  │ 75    │ 8     │ 16    │\n",
       "│ 17  │ 80    │ 9     │ 17    │\n",
       "│ 18  │ 85    │ 9     │ 18    │\n",
       "│ 19  │ 90    │ 10    │ 19    │\n",
       "│ 20  │ 95    │ 10    │ 20    │"
      ]
     },
     "execution_count": 30,
     "metadata": {},
     "output_type": "execute_result"
    }
   ],
   "source": [
    "#複数の列\n",
    "df = DataFrame(A = 0:5:95, B = repeat(1:10, inner=2), C = 1:20)"
   ]
  },
  {
   "cell_type": "code",
   "execution_count": 31,
   "metadata": {},
   "outputs": [
    {
     "data": {
      "text/html": [
       "<table class=\"data-frame\"><thead><tr><th></th><th>A</th><th>B</th><th>C</th></tr><tr><th></th><th>Int64</th><th>Int64</th><th>Int64</th></tr></thead><tbody><p>3 rows × 3 columns</p><tr><th>1</th><td>0</td><td>1</td><td>1</td></tr><tr><th>2</th><td>5</td><td>1</td><td>2</td></tr><tr><th>3</th><td>10</td><td>2</td><td>3</td></tr></tbody></table>"
      ],
      "text/latex": [
       "\\begin{tabular}{r|ccc}\n",
       "\t& A & B & C\\\\\n",
       "\t\\hline\n",
       "\t& Int64 & Int64 & Int64\\\\\n",
       "\t\\hline\n",
       "\t1 & 0 & 1 & 1 \\\\\n",
       "\t2 & 5 & 1 & 2 \\\\\n",
       "\t3 & 10 & 2 & 3 \\\\\n",
       "\\end{tabular}\n"
      ],
      "text/plain": [
       "3×3 DataFrame\n",
       "│ Row │ A     │ B     │ C     │\n",
       "│     │ \u001b[90mInt64\u001b[39m │ \u001b[90mInt64\u001b[39m │ \u001b[90mInt64\u001b[39m │\n",
       "├─────┼───────┼───────┼───────┤\n",
       "│ 1   │ 0     │ 1     │ 1     │\n",
       "│ 2   │ 5     │ 1     │ 2     │\n",
       "│ 3   │ 10    │ 2     │ 3     │"
      ]
     },
     "execution_count": 31,
     "metadata": {},
     "output_type": "execute_result"
    }
   ],
   "source": [
    "#最初の確認\n",
    "first(df, 3)"
   ]
  },
  {
   "cell_type": "code",
   "execution_count": 34,
   "metadata": {},
   "outputs": [
    {
     "data": {
      "text/html": [
       "<table class=\"data-frame\"><thead><tr><th></th><th>A</th><th>B</th><th>C</th></tr><tr><th></th><th>Int64</th><th>Int64</th><th>Int64</th></tr></thead><tbody><p>3 rows × 3 columns</p><tr><th>1</th><td>85</td><td>9</td><td>18</td></tr><tr><th>2</th><td>90</td><td>10</td><td>19</td></tr><tr><th>3</th><td>95</td><td>10</td><td>20</td></tr></tbody></table>"
      ],
      "text/latex": [
       "\\begin{tabular}{r|ccc}\n",
       "\t& A & B & C\\\\\n",
       "\t\\hline\n",
       "\t& Int64 & Int64 & Int64\\\\\n",
       "\t\\hline\n",
       "\t1 & 85 & 9 & 18 \\\\\n",
       "\t2 & 90 & 10 & 19 \\\\\n",
       "\t3 & 95 & 10 & 20 \\\\\n",
       "\\end{tabular}\n"
      ],
      "text/plain": [
       "3×3 DataFrame\n",
       "│ Row │ A     │ B     │ C     │\n",
       "│     │ \u001b[90mInt64\u001b[39m │ \u001b[90mInt64\u001b[39m │ \u001b[90mInt64\u001b[39m │\n",
       "├─────┼───────┼───────┼───────┤\n",
       "│ 1   │ 85    │ 9     │ 18    │\n",
       "│ 2   │ 90    │ 10    │ 19    │\n",
       "│ 3   │ 95    │ 10    │ 20    │"
      ]
     },
     "execution_count": 34,
     "metadata": {},
     "output_type": "execute_result"
    }
   ],
   "source": [
    "#最後の確認\n",
    "last(df, 3)"
   ]
  },
  {
   "cell_type": "code",
   "execution_count": 36,
   "metadata": {},
   "outputs": [
    {
     "data": {
      "text/html": [
       "<table class=\"data-frame\"><thead><tr><th></th><th>A</th><th>B</th><th>C</th></tr><tr><th></th><th>Int64</th><th>Int64</th><th>Int64</th></tr></thead><tbody><p>5 rows × 3 columns</p><tr><th>1</th><td>0</td><td>1</td><td>1</td></tr><tr><th>2</th><td>5</td><td>1</td><td>2</td></tr><tr><th>3</th><td>10</td><td>2</td><td>3</td></tr><tr><th>4</th><td>15</td><td>2</td><td>4</td></tr><tr><th>5</th><td>20</td><td>3</td><td>5</td></tr></tbody></table>"
      ],
      "text/latex": [
       "\\begin{tabular}{r|ccc}\n",
       "\t& A & B & C\\\\\n",
       "\t\\hline\n",
       "\t& Int64 & Int64 & Int64\\\\\n",
       "\t\\hline\n",
       "\t1 & 0 & 1 & 1 \\\\\n",
       "\t2 & 5 & 1 & 2 \\\\\n",
       "\t3 & 10 & 2 & 3 \\\\\n",
       "\t4 & 15 & 2 & 4 \\\\\n",
       "\t5 & 20 & 3 & 5 \\\\\n",
       "\\end{tabular}\n"
      ],
      "text/plain": [
       "5×3 DataFrame\n",
       "│ Row │ A     │ B     │ C     │\n",
       "│     │ \u001b[90mInt64\u001b[39m │ \u001b[90mInt64\u001b[39m │ \u001b[90mInt64\u001b[39m │\n",
       "├─────┼───────┼───────┼───────┤\n",
       "│ 1   │ 0     │ 1     │ 1     │\n",
       "│ 2   │ 5     │ 1     │ 2     │\n",
       "│ 3   │ 10    │ 2     │ 3     │\n",
       "│ 4   │ 15    │ 2     │ 4     │\n",
       "│ 5   │ 20    │ 3     │ 5     │"
      ]
     },
     "execution_count": 36,
     "metadata": {},
     "output_type": "execute_result"
    }
   ],
   "source": [
    "#スライス\n",
    "df[1:5, :]"
   ]
  },
  {
   "cell_type": "code",
   "execution_count": 38,
   "metadata": {},
   "outputs": [
    {
     "data": {
      "text/html": [
       "<table class=\"data-frame\"><thead><tr><th></th><th>A</th><th>B</th><th>C</th></tr><tr><th></th><th>Int64</th><th>Int64</th><th>Int64</th></tr></thead><tbody><p>9 rows × 3 columns</p><tr><th>1</th><td>55</td><td>6</td><td>12</td></tr><tr><th>2</th><td>60</td><td>7</td><td>13</td></tr><tr><th>3</th><td>65</td><td>7</td><td>14</td></tr><tr><th>4</th><td>70</td><td>8</td><td>15</td></tr><tr><th>5</th><td>75</td><td>8</td><td>16</td></tr><tr><th>6</th><td>80</td><td>9</td><td>17</td></tr><tr><th>7</th><td>85</td><td>9</td><td>18</td></tr><tr><th>8</th><td>90</td><td>10</td><td>19</td></tr><tr><th>9</th><td>95</td><td>10</td><td>20</td></tr></tbody></table>"
      ],
      "text/latex": [
       "\\begin{tabular}{r|ccc}\n",
       "\t& A & B & C\\\\\n",
       "\t\\hline\n",
       "\t& Int64 & Int64 & Int64\\\\\n",
       "\t\\hline\n",
       "\t1 & 55 & 6 & 12 \\\\\n",
       "\t2 & 60 & 7 & 13 \\\\\n",
       "\t3 & 65 & 7 & 14 \\\\\n",
       "\t4 & 70 & 8 & 15 \\\\\n",
       "\t5 & 75 & 8 & 16 \\\\\n",
       "\t6 & 80 & 9 & 17 \\\\\n",
       "\t7 & 85 & 9 & 18 \\\\\n",
       "\t8 & 90 & 10 & 19 \\\\\n",
       "\t9 & 95 & 10 & 20 \\\\\n",
       "\\end{tabular}\n"
      ],
      "text/plain": [
       "9×3 DataFrame\n",
       "│ Row │ A     │ B     │ C     │\n",
       "│     │ \u001b[90mInt64\u001b[39m │ \u001b[90mInt64\u001b[39m │ \u001b[90mInt64\u001b[39m │\n",
       "├─────┼───────┼───────┼───────┤\n",
       "│ 1   │ 55    │ 6     │ 12    │\n",
       "│ 2   │ 60    │ 7     │ 13    │\n",
       "│ 3   │ 65    │ 7     │ 14    │\n",
       "│ 4   │ 70    │ 8     │ 15    │\n",
       "│ 5   │ 75    │ 8     │ 16    │\n",
       "│ 6   │ 80    │ 9     │ 17    │\n",
       "│ 7   │ 85    │ 9     │ 18    │\n",
       "│ 8   │ 90    │ 10    │ 19    │\n",
       "│ 9   │ 95    │ 10    │ 20    │"
      ]
     },
     "execution_count": 38,
     "metadata": {},
     "output_type": "execute_result"
    }
   ],
   "source": [
    "#条件をつける\n",
    "df[df.A .> 50, :]"
   ]
  },
  {
   "cell_type": "code",
   "execution_count": 40,
   "metadata": {},
   "outputs": [
    {
     "data": {
      "text/html": [
       "<table class=\"data-frame\"><thead><tr><th></th><th>variable</th><th>mean</th><th>min</th><th>median</th><th>max</th><th>nunique</th><th>nmissing</th><th>eltype</th></tr><tr><th></th><th>Symbol</th><th>Float64</th><th>Int64</th><th>Float64</th><th>Int64</th><th>Nothing</th><th>Nothing</th><th>DataType</th></tr></thead><tbody><p>3 rows × 8 columns</p><tr><th>1</th><td>A</td><td>47.5</td><td>0</td><td>47.5</td><td>95</td><td></td><td></td><td>Int64</td></tr><tr><th>2</th><td>B</td><td>5.5</td><td>1</td><td>5.5</td><td>10</td><td></td><td></td><td>Int64</td></tr><tr><th>3</th><td>C</td><td>10.5</td><td>1</td><td>10.5</td><td>20</td><td></td><td></td><td>Int64</td></tr></tbody></table>"
      ],
      "text/latex": [
       "\\begin{tabular}{r|cccccccc}\n",
       "\t& variable & mean & min & median & max & nunique & nmissing & eltype\\\\\n",
       "\t\\hline\n",
       "\t& Symbol & Float64 & Int64 & Float64 & Int64 & Nothing & Nothing & DataType\\\\\n",
       "\t\\hline\n",
       "\t1 & A & 47.5 & 0 & 47.5 & 95 &  &  & Int64 \\\\\n",
       "\t2 & B & 5.5 & 1 & 5.5 & 10 &  &  & Int64 \\\\\n",
       "\t3 & C & 10.5 & 1 & 10.5 & 20 &  &  & Int64 \\\\\n",
       "\\end{tabular}\n"
      ],
      "text/plain": [
       "3×8 DataFrame. Omitted printing of 1 columns\n",
       "│ Row │ variable │ mean    │ min   │ median  │ max   │ nunique │ nmissing │\n",
       "│     │ \u001b[90mSymbol\u001b[39m   │ \u001b[90mFloat64\u001b[39m │ \u001b[90mInt64\u001b[39m │ \u001b[90mFloat64\u001b[39m │ \u001b[90mInt64\u001b[39m │ \u001b[90mNothing\u001b[39m │ \u001b[90mNothing\u001b[39m  │\n",
       "├─────┼──────────┼─────────┼───────┼─────────┼───────┼─────────┼──────────┤\n",
       "│ 1   │ A        │ 47.5    │ 0     │ 47.5    │ 95    │         │          │\n",
       "│ 2   │ B        │ 5.5     │ 1     │ 5.5     │ 10    │         │          │\n",
       "│ 3   │ C        │ 10.5    │ 1     │ 10.5    │ 20    │         │          │"
      ]
     },
     "execution_count": 40,
     "metadata": {},
     "output_type": "execute_result"
    }
   ],
   "source": [
    "#サマリー\n",
    "describe(df)"
   ]
  },
  {
   "cell_type": "code",
   "execution_count": null,
   "metadata": {},
   "outputs": [],
   "source": []
  },
  {
   "cell_type": "code",
   "execution_count": 42,
   "metadata": {},
   "outputs": [
    {
     "data": {
      "text/html": [
       "<table class=\"data-frame\"><thead><tr><th></th><th>A</th><th>C</th></tr><tr><th></th><th>Int64</th><th>Int64</th></tr></thead><tbody><p>20 rows × 2 columns</p><tr><th>1</th><td>0</td><td>1</td></tr><tr><th>2</th><td>5</td><td>2</td></tr><tr><th>3</th><td>10</td><td>3</td></tr><tr><th>4</th><td>15</td><td>4</td></tr><tr><th>5</th><td>20</td><td>5</td></tr><tr><th>6</th><td>25</td><td>6</td></tr><tr><th>7</th><td>30</td><td>7</td></tr><tr><th>8</th><td>35</td><td>8</td></tr><tr><th>9</th><td>40</td><td>9</td></tr><tr><th>10</th><td>45</td><td>10</td></tr><tr><th>11</th><td>50</td><td>11</td></tr><tr><th>12</th><td>55</td><td>12</td></tr><tr><th>13</th><td>60</td><td>13</td></tr><tr><th>14</th><td>65</td><td>14</td></tr><tr><th>15</th><td>70</td><td>15</td></tr><tr><th>16</th><td>75</td><td>16</td></tr><tr><th>17</th><td>80</td><td>17</td></tr><tr><th>18</th><td>85</td><td>18</td></tr><tr><th>19</th><td>90</td><td>19</td></tr><tr><th>20</th><td>95</td><td>20</td></tr></tbody></table>"
      ],
      "text/latex": [
       "\\begin{tabular}{r|cc}\n",
       "\t& A & C\\\\\n",
       "\t\\hline\n",
       "\t& Int64 & Int64\\\\\n",
       "\t\\hline\n",
       "\t1 & 0 & 1 \\\\\n",
       "\t2 & 5 & 2 \\\\\n",
       "\t3 & 10 & 3 \\\\\n",
       "\t4 & 15 & 4 \\\\\n",
       "\t5 & 20 & 5 \\\\\n",
       "\t6 & 25 & 6 \\\\\n",
       "\t7 & 30 & 7 \\\\\n",
       "\t8 & 35 & 8 \\\\\n",
       "\t9 & 40 & 9 \\\\\n",
       "\t10 & 45 & 10 \\\\\n",
       "\t11 & 50 & 11 \\\\\n",
       "\t12 & 55 & 12 \\\\\n",
       "\t13 & 60 & 13 \\\\\n",
       "\t14 & 65 & 14 \\\\\n",
       "\t15 & 70 & 15 \\\\\n",
       "\t16 & 75 & 16 \\\\\n",
       "\t17 & 80 & 17 \\\\\n",
       "\t18 & 85 & 18 \\\\\n",
       "\t19 & 90 & 19 \\\\\n",
       "\t20 & 95 & 20 \\\\\n",
       "\\end{tabular}\n"
      ],
      "text/plain": [
       "20×2 DataFrame\n",
       "│ Row │ A     │ C     │\n",
       "│     │ \u001b[90mInt64\u001b[39m │ \u001b[90mInt64\u001b[39m │\n",
       "├─────┼───────┼───────┤\n",
       "│ 1   │ 0     │ 1     │\n",
       "│ 2   │ 5     │ 2     │\n",
       "│ 3   │ 10    │ 3     │\n",
       "│ 4   │ 15    │ 4     │\n",
       "│ 5   │ 20    │ 5     │\n",
       "│ 6   │ 25    │ 6     │\n",
       "│ 7   │ 30    │ 7     │\n",
       "│ 8   │ 35    │ 8     │\n",
       "│ 9   │ 40    │ 9     │\n",
       "│ 10  │ 45    │ 10    │\n",
       "│ 11  │ 50    │ 11    │\n",
       "│ 12  │ 55    │ 12    │\n",
       "│ 13  │ 60    │ 13    │\n",
       "│ 14  │ 65    │ 14    │\n",
       "│ 15  │ 70    │ 15    │\n",
       "│ 16  │ 75    │ 16    │\n",
       "│ 17  │ 80    │ 17    │\n",
       "│ 18  │ 85    │ 18    │\n",
       "│ 19  │ 90    │ 19    │\n",
       "│ 20  │ 95    │ 20    │"
      ]
     },
     "execution_count": 42,
     "metadata": {},
     "output_type": "execute_result"
    }
   ],
   "source": [
    "select(df, Not(:B))"
   ]
  },
  {
   "cell_type": "code",
   "execution_count": null,
   "metadata": {},
   "outputs": [],
   "source": [
    "#名前を変える\n",
    "select(df, :x1 => :a1, :x2 => :a2) # rename columns"
   ]
  },
  {
   "cell_type": "code",
   "execution_count": null,
   "metadata": {},
   "outputs": [],
   "source": []
  },
  {
   "cell_type": "code",
   "execution_count": null,
   "metadata": {},
   "outputs": [],
   "source": []
  },
  {
   "cell_type": "code",
   "execution_count": null,
   "metadata": {},
   "outputs": [],
   "source": []
  },
  {
   "cell_type": "code",
   "execution_count": null,
   "metadata": {},
   "outputs": [],
   "source": []
  },
  {
   "cell_type": "code",
   "execution_count": null,
   "metadata": {},
   "outputs": [],
   "source": []
  },
  {
   "cell_type": "code",
   "execution_count": null,
   "metadata": {},
   "outputs": [],
   "source": []
  },
  {
   "cell_type": "code",
   "execution_count": 41,
   "metadata": {},
   "outputs": [],
   "source": [
    "#csv書き込み\n",
    "#CSV.write(\"dataframe.csv\", df)"
   ]
  },
  {
   "cell_type": "code",
   "execution_count": null,
   "metadata": {},
   "outputs": [],
   "source": []
  },
  {
   "cell_type": "code",
   "execution_count": null,
   "metadata": {},
   "outputs": [],
   "source": []
  },
  {
   "cell_type": "code",
   "execution_count": null,
   "metadata": {},
   "outputs": [],
   "source": []
  }
 ],
 "metadata": {
  "kernelspec": {
   "display_name": "Julia 1.5.1",
   "language": "julia",
   "name": "julia-1.5"
  },
  "language_info": {
   "file_extension": ".jl",
   "mimetype": "application/julia",
   "name": "julia",
   "version": "1.5.1"
  }
 },
 "nbformat": 4,
 "nbformat_minor": 4
}
