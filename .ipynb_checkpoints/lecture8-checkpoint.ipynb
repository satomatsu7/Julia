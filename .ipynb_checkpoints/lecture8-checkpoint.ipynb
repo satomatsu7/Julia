{
 "cells": [
  {
   "cell_type": "markdown",
   "metadata": {},
   "source": [
    "# Lecture 8 ファイル入出力"
   ]
  },
  {
   "cell_type": "markdown",
   "metadata": {},
   "source": [
    "##### テキストファイルの作成"
   ]
  },
  {
   "cell_type": "code",
   "execution_count": 124,
   "metadata": {},
   "outputs": [],
   "source": [
    "f = open( \"/Users/satoshi/udemy_study/julia/data/hello1.txt\", \"w\") # w:write書き込み\n",
    "print(f,\"Hello!\")\n",
    "close(f)"
   ]
  },
  {
   "cell_type": "markdown",
   "metadata": {},
   "source": [
    "printf関数で書式を指定できる。 \\\n",
    "@printf(format, x) ：x（データ）をformatの書式で出力する"
   ]
  },
  {
   "cell_type": "code",
   "execution_count": 134,
   "metadata": {},
   "outputs": [
    {
     "name": "stdout",
     "output_type": "stream",
     "text": [
      "-123.513\n"
     ]
    }
   ],
   "source": [
    "@printf( \"%6.3f\\n\", -123.5133334 )"
   ]
  },
  {
   "cell_type": "code",
   "execution_count": null,
   "metadata": {},
   "outputs": [],
   "source": []
  },
  {
   "cell_type": "markdown",
   "metadata": {},
   "source": [
    "##### 書式付きテキストファイルの作成（書き込み）"
   ]
  },
  {
   "cell_type": "code",
   "execution_count": 146,
   "metadata": {},
   "outputs": [],
   "source": [
    "using Printf\n",
    "open( \"/Users/satoshi/udemy_study/julia/data/test_write.txt\", \"w\") do f\n",
    "  for i in 1:10\n",
    "        @printf(f, \"%6.2f\\n\", randn()) #全5桁で小数点2桁まで randn:標準正規分布に従う乱数\n",
    "  end\n",
    "end"
   ]
  },
  {
   "cell_type": "markdown",
   "metadata": {},
   "source": [
    "i：整数、f：小数、e：指数、s：文字列、\\n：改行"
   ]
  },
  {
   "cell_type": "code",
   "execution_count": null,
   "metadata": {},
   "outputs": [],
   "source": []
  },
  {
   "cell_type": "code",
   "execution_count": 147,
   "metadata": {},
   "outputs": [],
   "source": [
    "using Printf\n",
    "open( \"/Users/satoshi/udemy_study/julia/data/test_write2.csv\", \"w\") do f\n",
    "  println(f, \"time,temperature,precipitation\")\n",
    "  for i in 1:5\n",
    "    @printf(f, \"%i, %07.2f, %07.2f\\n\", i, randn(), randn())\n",
    "  end\n",
    "end"
   ]
  },
  {
   "cell_type": "code",
   "execution_count": null,
   "metadata": {},
   "outputs": [],
   "source": []
  },
  {
   "cell_type": "markdown",
   "metadata": {},
   "source": [
    "※ DataFrameとして使うなら、\"CSV.read\"でも読み込むことができる。"
   ]
  },
  {
   "cell_type": "code",
   "execution_count": null,
   "metadata": {},
   "outputs": [],
   "source": []
  },
  {
   "cell_type": "markdown",
   "metadata": {},
   "source": [
    "##### テキストファイル（CSVファイル）の読み込み"
   ]
  },
  {
   "cell_type": "code",
   "execution_count": 120,
   "metadata": {},
   "outputs": [
    {
     "data": {
      "text/plain": [
       "\"input_test.txt\""
      ]
     },
     "execution_count": 120,
     "metadata": {},
     "output_type": "execute_result"
    }
   ],
   "source": [
    "loc = \"/Users/satoshi/udemy_study/julia/data/\"\n",
    "filename = \"input_test.txt\""
   ]
  },
  {
   "cell_type": "code",
   "execution_count": 121,
   "metadata": {},
   "outputs": [
    {
     "name": "stdout",
     "output_type": "stream",
     "text": [
      "Hello!Hello!Hello!\n",
      "\n"
     ]
    }
   ],
   "source": [
    "f = open(loc * filename)\n",
    "input = read(f, String)\n",
    "println(input)"
   ]
  },
  {
   "cell_type": "code",
   "execution_count": 122,
   "metadata": {},
   "outputs": [],
   "source": [
    "close(f)"
   ]
  },
  {
   "cell_type": "code",
   "execution_count": null,
   "metadata": {},
   "outputs": [],
   "source": []
  },
  {
   "cell_type": "markdown",
   "metadata": {},
   "source": [
    "気象庁HPからデータダウンロード\\\n",
    "https://www.data.jma.go.jp/gmd/risk/obsdl/index.php\n"
   ]
  },
  {
   "cell_type": "code",
   "execution_count": 88,
   "metadata": {},
   "outputs": [
    {
     "data": {
      "text/plain": [
       "\"temp_2019_tokyo.csv\""
      ]
     },
     "execution_count": 88,
     "metadata": {},
     "output_type": "execute_result"
    }
   ],
   "source": [
    "#2019年1月から12月までの東京における平均気温(℃)と降水量（mm）\n",
    "loc = \"/Users/satoshi/udemy_study/julia/data/\"\n",
    "filename = \"temp_2019_tokyo.csv\""
   ]
  },
  {
   "cell_type": "code",
   "execution_count": 108,
   "metadata": {},
   "outputs": [],
   "source": [
    "#CSVファイルを読み込んで、データを配列に格納する。\n",
    "f = open(loc * filename)\n",
    "i = 0\n",
    "\n",
    "#格納する配列\n",
    "tt = zeros(Int64,0)\n",
    "xx = zeros(Float64,0)\n",
    "yy = zeros(Float64,0)\n",
    "\n",
    "for line in eachline(f)\n",
    "    i += 1\n",
    "    i == 1 && continue #1行目をとばす\n",
    "\n",
    "    s = split(line, \",\")   # \",\"区切りであることを示す\n",
    "    t = parse(Int64, s[1]) #文字列から数値に型変換\n",
    "    push!(tt,t)            #配列にpush!\n",
    "    x = parse(Float64, s[2])\n",
    "    push!(xx,x)\n",
    "    y = parse(Float64, s[3])\n",
    "    push!(yy,y)    \n",
    "end\n"
   ]
  },
  {
   "cell_type": "markdown",
   "metadata": {},
   "source": [
    "CSVファイルはカンマ（,）区切りだが、区切りがスペースならば、上の例でs = split(line, \" \")とすれば同じ。 "
   ]
  },
  {
   "cell_type": "code",
   "execution_count": null,
   "metadata": {},
   "outputs": [],
   "source": []
  }
 ],
 "metadata": {
  "kernelspec": {
   "display_name": "Julia 1.5.1",
   "language": "julia",
   "name": "julia-1.5"
  },
  "language_info": {
   "file_extension": ".jl",
   "mimetype": "application/julia",
   "name": "julia",
   "version": "1.5.1"
  }
 },
 "nbformat": 4,
 "nbformat_minor": 4
}
