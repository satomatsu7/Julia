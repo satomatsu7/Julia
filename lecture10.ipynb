{
 "cells": [
  {
   "cell_type": "markdown",
   "metadata": {},
   "source": [
    "# Lecture 10 DataFrame\n",
    "reference: https://juliadata.github.io/DataFrames.jl/stable/man/getting_started/"
   ]
  },
  {
   "cell_type": "markdown",
   "metadata": {},
   "source": [
    "using Pkg\\\n",
    "Pkg.add(\"DataFrames\")"
   ]
  },
  {
   "cell_type": "markdown",
   "metadata": {},
   "source": [
    "## データフレームの作成"
   ]
  },
  {
   "cell_type": "code",
   "execution_count": 3,
   "metadata": {},
   "outputs": [],
   "source": [
    "using DataFrames"
   ]
  },
  {
   "cell_type": "code",
   "execution_count": 7,
   "metadata": {},
   "outputs": [
    {
     "data": {
      "text/html": [
       "<table class=\"data-frame\"><thead><tr><th></th><th>A</th><th>B</th></tr><tr><th></th><th>Int64</th><th>String</th></tr></thead><tbody><p>5 rows × 2 columns</p><tr><th>1</th><td>1</td><td>Apple</td></tr><tr><th>2</th><td>2</td><td>Banana</td></tr><tr><th>3</th><td>3</td><td>Apple</td></tr><tr><th>4</th><td>4</td><td>Orange</td></tr><tr><th>5</th><td>5</td><td>Banana</td></tr></tbody></table>"
      ],
      "text/latex": [
       "\\begin{tabular}{r|cc}\n",
       "\t& A & B\\\\\n",
       "\t\\hline\n",
       "\t& Int64 & String\\\\\n",
       "\t\\hline\n",
       "\t1 & 1 & Apple \\\\\n",
       "\t2 & 2 & Banana \\\\\n",
       "\t3 & 3 & Apple \\\\\n",
       "\t4 & 4 & Orange \\\\\n",
       "\t5 & 5 & Banana \\\\\n",
       "\\end{tabular}\n"
      ],
      "text/plain": [
       "5×2 DataFrame\n",
       "│ Row │ A     │ B      │\n",
       "│     │ \u001b[90mInt64\u001b[39m │ \u001b[90mString\u001b[39m │\n",
       "├─────┼───────┼────────┤\n",
       "│ 1   │ 1     │ Apple  │\n",
       "│ 2   │ 2     │ Banana │\n",
       "│ 3   │ 3     │ Apple  │\n",
       "│ 4   │ 4     │ Orange │\n",
       "│ 5   │ 5     │ Banana │"
      ]
     },
     "execution_count": 7,
     "metadata": {},
     "output_type": "execute_result"
    }
   ],
   "source": [
    "df = DataFrame(A = 1:5, B = [\"Apple\", \"Banana\", \"Apple\", \"Orange\",\"Banana\"])"
   ]
  },
  {
   "cell_type": "code",
   "execution_count": 8,
   "metadata": {},
   "outputs": [
    {
     "data": {
      "text/plain": [
       "5-element Array{Int64,1}:\n",
       " 1\n",
       " 2\n",
       " 3\n",
       " 4\n",
       " 5"
      ]
     },
     "execution_count": 8,
     "metadata": {},
     "output_type": "execute_result"
    }
   ],
   "source": [
    "df.A"
   ]
  },
  {
   "cell_type": "code",
   "execution_count": 9,
   "metadata": {},
   "outputs": [
    {
     "data": {
      "text/plain": [
       "5-element Array{String,1}:\n",
       " \"Apple\"\n",
       " \"Banana\"\n",
       " \"Apple\"\n",
       " \"Orange\"\n",
       " \"Banana\""
      ]
     },
     "execution_count": 9,
     "metadata": {},
     "output_type": "execute_result"
    }
   ],
   "source": [
    "df.B"
   ]
  },
  {
   "cell_type": "code",
   "execution_count": 10,
   "metadata": {},
   "outputs": [
    {
     "data": {
      "text/plain": [
       "5-element Array{Int64,1}:\n",
       " 1\n",
       " 2\n",
       " 3\n",
       " 4\n",
       " 5"
      ]
     },
     "execution_count": 10,
     "metadata": {},
     "output_type": "execute_result"
    }
   ],
   "source": [
    "df.\"A\""
   ]
  },
  {
   "cell_type": "code",
   "execution_count": null,
   "metadata": {},
   "outputs": [],
   "source": []
  },
  {
   "cell_type": "code",
   "execution_count": 11,
   "metadata": {},
   "outputs": [
    {
     "data": {
      "text/html": [
       "<table class=\"data-frame\"><thead><tr><th></th></tr><tr><th></th></tr></thead><tbody><p>0 rows × 0 columns</p></tbody></table>"
      ],
      "text/latex": [
       "\\begin{tabular}{r|}\n",
       "\t& \\\\\n",
       "\t\\hline\n",
       "\t& \\\\\n",
       "\t\\hline\n",
       "\\end{tabular}\n"
      ],
      "text/plain": [
       "0×0 DataFrame\n"
      ]
     },
     "execution_count": 11,
     "metadata": {},
     "output_type": "execute_result"
    }
   ],
   "source": [
    "df = DataFrame()"
   ]
  },
  {
   "cell_type": "code",
   "execution_count": 12,
   "metadata": {},
   "outputs": [
    {
     "data": {
      "text/plain": [
       "1:8"
      ]
     },
     "execution_count": 12,
     "metadata": {},
     "output_type": "execute_result"
    }
   ],
   "source": [
    "df.A = 1:8"
   ]
  },
  {
   "cell_type": "code",
   "execution_count": 13,
   "metadata": {},
   "outputs": [
    {
     "data": {
      "text/plain": [
       "8-element Array{Int64,1}:\n",
       " 1\n",
       " 2\n",
       " 3\n",
       " 4\n",
       " 5\n",
       " 6\n",
       " 7\n",
       " 8"
      ]
     },
     "execution_count": 13,
     "metadata": {},
     "output_type": "execute_result"
    }
   ],
   "source": [
    "df.A"
   ]
  },
  {
   "cell_type": "code",
   "execution_count": 14,
   "metadata": {},
   "outputs": [
    {
     "data": {
      "text/plain": [
       "8-element Array{String,1}:\n",
       " \"A\"\n",
       " \"B\"\n",
       " \"C\"\n",
       " \"D\"\n",
       " \"E\"\n",
       " \"F\"\n",
       " \"G\"\n",
       " \"H\""
      ]
     },
     "execution_count": 14,
     "metadata": {},
     "output_type": "execute_result"
    }
   ],
   "source": [
    "df.B = [\"A\",\"B\",\"C\",\"D\",\"E\",\"F\",\"G\",\"H\"]"
   ]
  },
  {
   "cell_type": "code",
   "execution_count": 15,
   "metadata": {},
   "outputs": [
    {
     "data": {
      "text/html": [
       "<table class=\"data-frame\"><thead><tr><th></th><th>A</th><th>B</th></tr><tr><th></th><th>Int64</th><th>String</th></tr></thead><tbody><p>8 rows × 2 columns</p><tr><th>1</th><td>1</td><td>A</td></tr><tr><th>2</th><td>2</td><td>B</td></tr><tr><th>3</th><td>3</td><td>C</td></tr><tr><th>4</th><td>4</td><td>D</td></tr><tr><th>5</th><td>5</td><td>E</td></tr><tr><th>6</th><td>6</td><td>F</td></tr><tr><th>7</th><td>7</td><td>G</td></tr><tr><th>8</th><td>8</td><td>H</td></tr></tbody></table>"
      ],
      "text/latex": [
       "\\begin{tabular}{r|cc}\n",
       "\t& A & B\\\\\n",
       "\t\\hline\n",
       "\t& Int64 & String\\\\\n",
       "\t\\hline\n",
       "\t1 & 1 & A \\\\\n",
       "\t2 & 2 & B \\\\\n",
       "\t3 & 3 & C \\\\\n",
       "\t4 & 4 & D \\\\\n",
       "\t5 & 5 & E \\\\\n",
       "\t6 & 6 & F \\\\\n",
       "\t7 & 7 & G \\\\\n",
       "\t8 & 8 & H \\\\\n",
       "\\end{tabular}\n"
      ],
      "text/plain": [
       "8×2 DataFrame\n",
       "│ Row │ A     │ B      │\n",
       "│     │ \u001b[90mInt64\u001b[39m │ \u001b[90mString\u001b[39m │\n",
       "├─────┼───────┼────────┤\n",
       "│ 1   │ 1     │ A      │\n",
       "│ 2   │ 2     │ B      │\n",
       "│ 3   │ 3     │ C      │\n",
       "│ 4   │ 4     │ D      │\n",
       "│ 5   │ 5     │ E      │\n",
       "│ 6   │ 6     │ F      │\n",
       "│ 7   │ 7     │ G      │\n",
       "│ 8   │ 8     │ H      │"
      ]
     },
     "execution_count": 15,
     "metadata": {},
     "output_type": "execute_result"
    }
   ],
   "source": [
    "df"
   ]
  },
  {
   "cell_type": "code",
   "execution_count": 16,
   "metadata": {},
   "outputs": [
    {
     "data": {
      "text/plain": [
       "(8, 2)"
      ]
     },
     "execution_count": 16,
     "metadata": {},
     "output_type": "execute_result"
    }
   ],
   "source": [
    "size(df)"
   ]
  },
  {
   "cell_type": "code",
   "execution_count": 17,
   "metadata": {},
   "outputs": [
    {
     "data": {
      "text/plain": [
       "8"
      ]
     },
     "execution_count": 17,
     "metadata": {},
     "output_type": "execute_result"
    }
   ],
   "source": [
    "size(df,1) #行"
   ]
  },
  {
   "cell_type": "code",
   "execution_count": 18,
   "metadata": {},
   "outputs": [
    {
     "data": {
      "text/plain": [
       "2"
      ]
     },
     "execution_count": 18,
     "metadata": {},
     "output_type": "execute_result"
    }
   ],
   "source": [
    "size(df,2) #列"
   ]
  },
  {
   "cell_type": "code",
   "execution_count": null,
   "metadata": {},
   "outputs": [],
   "source": []
  },
  {
   "cell_type": "markdown",
   "metadata": {},
   "source": [
    "## データフレームの操作"
   ]
  },
  {
   "cell_type": "code",
   "execution_count": 77,
   "metadata": {},
   "outputs": [
    {
     "data": {
      "text/html": [
       "<table class=\"data-frame\"><thead><tr><th></th><th>A</th><th>B</th></tr><tr><th></th><th>Int64</th><th>String</th></tr></thead><tbody><p>0 rows × 2 columns</p></tbody></table>"
      ],
      "text/latex": [
       "\\begin{tabular}{r|cc}\n",
       "\t& A & B\\\\\n",
       "\t\\hline\n",
       "\t& Int64 & String\\\\\n",
       "\t\\hline\n",
       "\\end{tabular}\n"
      ],
      "text/plain": [
       "0×2 DataFrame\n"
      ]
     },
     "execution_count": 77,
     "metadata": {},
     "output_type": "execute_result"
    }
   ],
   "source": [
    "#型指定ができる\n",
    "df = DataFrame(A = Int[], B = String[])"
   ]
  },
  {
   "cell_type": "code",
   "execution_count": 78,
   "metadata": {},
   "outputs": [
    {
     "data": {
      "text/html": [
       "<table class=\"data-frame\"><thead><tr><th></th><th>A</th><th>B</th></tr><tr><th></th><th>Int64</th><th>String</th></tr></thead><tbody><p>1 rows × 2 columns</p><tr><th>1</th><td>1</td><td>Apple</td></tr></tbody></table>"
      ],
      "text/latex": [
       "\\begin{tabular}{r|cc}\n",
       "\t& A & B\\\\\n",
       "\t\\hline\n",
       "\t& Int64 & String\\\\\n",
       "\t\\hline\n",
       "\t1 & 1 & Apple \\\\\n",
       "\\end{tabular}\n"
      ],
      "text/plain": [
       "1×2 DataFrame\n",
       "│ Row │ A     │ B      │\n",
       "│     │ \u001b[90mInt64\u001b[39m │ \u001b[90mString\u001b[39m │\n",
       "├─────┼───────┼────────┤\n",
       "│ 1   │ 1     │ Apple  │"
      ]
     },
     "execution_count": 78,
     "metadata": {},
     "output_type": "execute_result"
    }
   ],
   "source": [
    "#行を追加する\n",
    "push!(df, (1, \"Apple\"))"
   ]
  },
  {
   "cell_type": "code",
   "execution_count": 79,
   "metadata": {},
   "outputs": [
    {
     "data": {
      "text/html": [
       "<table class=\"data-frame\"><thead><tr><th></th><th>A</th><th>B</th></tr><tr><th></th><th>Int64</th><th>String</th></tr></thead><tbody><p>3 rows × 2 columns</p><tr><th>1</th><td>1</td><td>Apple</td></tr><tr><th>2</th><td>2</td><td>Banana</td></tr><tr><th>3</th><td>3</td><td>Mango</td></tr></tbody></table>"
      ],
      "text/latex": [
       "\\begin{tabular}{r|cc}\n",
       "\t& A & B\\\\\n",
       "\t\\hline\n",
       "\t& Int64 & String\\\\\n",
       "\t\\hline\n",
       "\t1 & 1 & Apple \\\\\n",
       "\t2 & 2 & Banana \\\\\n",
       "\t3 & 3 & Mango \\\\\n",
       "\\end{tabular}\n"
      ],
      "text/plain": [
       "3×2 DataFrame\n",
       "│ Row │ A     │ B      │\n",
       "│     │ \u001b[90mInt64\u001b[39m │ \u001b[90mString\u001b[39m │\n",
       "├─────┼───────┼────────┤\n",
       "│ 1   │ 1     │ Apple  │\n",
       "│ 2   │ 2     │ Banana │\n",
       "│ 3   │ 3     │ Mango  │"
      ]
     },
     "execution_count": 79,
     "metadata": {},
     "output_type": "execute_result"
    }
   ],
   "source": [
    "push!(df, (2, \"Banana\"))\n",
    "push!(df, (3, \"Mango\"))"
   ]
  },
  {
   "cell_type": "code",
   "execution_count": 81,
   "metadata": {},
   "outputs": [
    {
     "ename": "LoadError",
     "evalue": "BoundsError: attempt to access 1-element Array{Int64,1} at index [2]",
     "output_type": "error",
     "traceback": [
      "BoundsError: attempt to access 1-element Array{Int64,1} at index [2]",
      "",
      "Stacktrace:",
      " [1] _deleteat! at ./array.jl:903 [inlined]",
      " [2] deleteat! at ./array.jl:1310 [inlined]",
      " [3] (::DataFrames.var\"#161#162\"{UnitRange{Int64}})(::Array{Int64,1}) at /Users/satoshi/.julia/packages/DataFrames/cdZCk/src/dataframe/dataframe.jl:873",
      " [4] foreach(::DataFrames.var\"#161#162\"{UnitRange{Int64}}, ::Array{AbstractArray{T,1} where T,1}) at ./abstractarray.jl:2009",
      " [5] delete! at /Users/satoshi/.julia/packages/DataFrames/cdZCk/src/dataframe/dataframe.jl:873 [inlined]",
      " [6] deleterows!(::DataFrame, ::UnitRange{Int64}) at ./deprecated.jl:72",
      " [7] top-level scope at In[81]:2",
      " [8] include_string(::Function, ::Module, ::String, ::String) at ./loading.jl:1091"
     ]
    }
   ],
   "source": [
    "#行を削除\n",
    "deleterows!(df, 1:2)"
   ]
  },
  {
   "cell_type": "code",
   "execution_count": null,
   "metadata": {},
   "outputs": [],
   "source": []
  },
  {
   "cell_type": "code",
   "execution_count": 22,
   "metadata": {},
   "outputs": [
    {
     "name": "stderr",
     "output_type": "stream",
     "text": [
      "┌ Error: Error adding value to column :B.\n",
      "└ @ DataFrames /Users/satoshi/.julia/packages/DataFrames/cdZCk/src/dataframe/dataframe.jl:1606\n"
     ]
    },
    {
     "ename": "LoadError",
     "evalue": "MethodError: Cannot `convert` an object of type Int64 to an object of type String\nClosest candidates are:\n  convert(::Type{String}, !Matched::CategoricalValue) at /Users/satoshi/.julia/packages/CategoricalArrays/0ZAbp/src/value.jl:60\n  convert(::Type{T}, !Matched::T) where T<:AbstractString at strings/basic.jl:229\n  convert(::Type{T}, !Matched::AbstractString) where T<:AbstractString at strings/basic.jl:230\n  ...",
     "output_type": "error",
     "traceback": [
      "MethodError: Cannot `convert` an object of type Int64 to an object of type String\nClosest candidates are:\n  convert(::Type{String}, !Matched::CategoricalValue) at /Users/satoshi/.julia/packages/CategoricalArrays/0ZAbp/src/value.jl:60\n  convert(::Type{T}, !Matched::T) where T<:AbstractString at strings/basic.jl:229\n  convert(::Type{T}, !Matched::AbstractString) where T<:AbstractString at strings/basic.jl:230\n  ...",
      "",
      "Stacktrace:",
      " [1] push!(::Array{String,1}, ::Int64) at ./array.jl:934",
      " [2] push!(::DataFrame, ::Tuple{Int64,Int64}; promote::Bool) at /Users/satoshi/.julia/packages/DataFrames/cdZCk/src/dataframe/dataframe.jl:1588",
      " [3] push!(::DataFrame, ::Tuple{Int64,Int64}) at /Users/satoshi/.julia/packages/DataFrames/cdZCk/src/dataframe/dataframe.jl:1569",
      " [4] top-level scope at In[22]:2",
      " [5] include_string(::Function, ::Module, ::String, ::String) at ./loading.jl:1091"
     ]
    }
   ],
   "source": [
    "#型の確認 \n",
    "push!(df, (1, 1000)) #型があっていないと怒られる"
   ]
  },
  {
   "cell_type": "code",
   "execution_count": null,
   "metadata": {},
   "outputs": [],
   "source": []
  },
  {
   "cell_type": "code",
   "execution_count": null,
   "metadata": {},
   "outputs": [],
   "source": []
  },
  {
   "cell_type": "code",
   "execution_count": 70,
   "metadata": {},
   "outputs": [
    {
     "data": {
      "text/html": [
       "<table class=\"data-frame\"><thead><tr><th></th><th>A</th><th>B</th><th>C</th></tr><tr><th></th><th>Int64</th><th>Int64</th><th>Int64</th></tr></thead><tbody><p>20 rows × 3 columns</p><tr><th>1</th><td>0</td><td>1</td><td>1</td></tr><tr><th>2</th><td>5</td><td>1</td><td>2</td></tr><tr><th>3</th><td>10</td><td>2</td><td>3</td></tr><tr><th>4</th><td>15</td><td>2</td><td>4</td></tr><tr><th>5</th><td>20</td><td>3</td><td>5</td></tr><tr><th>6</th><td>25</td><td>3</td><td>6</td></tr><tr><th>7</th><td>30</td><td>4</td><td>7</td></tr><tr><th>8</th><td>35</td><td>4</td><td>8</td></tr><tr><th>9</th><td>40</td><td>5</td><td>9</td></tr><tr><th>10</th><td>45</td><td>5</td><td>10</td></tr><tr><th>11</th><td>50</td><td>6</td><td>11</td></tr><tr><th>12</th><td>55</td><td>6</td><td>12</td></tr><tr><th>13</th><td>60</td><td>7</td><td>13</td></tr><tr><th>14</th><td>65</td><td>7</td><td>14</td></tr><tr><th>15</th><td>70</td><td>8</td><td>15</td></tr><tr><th>16</th><td>75</td><td>8</td><td>16</td></tr><tr><th>17</th><td>80</td><td>9</td><td>17</td></tr><tr><th>18</th><td>85</td><td>9</td><td>18</td></tr><tr><th>19</th><td>90</td><td>10</td><td>19</td></tr><tr><th>20</th><td>95</td><td>10</td><td>20</td></tr></tbody></table>"
      ],
      "text/latex": [
       "\\begin{tabular}{r|ccc}\n",
       "\t& A & B & C\\\\\n",
       "\t\\hline\n",
       "\t& Int64 & Int64 & Int64\\\\\n",
       "\t\\hline\n",
       "\t1 & 0 & 1 & 1 \\\\\n",
       "\t2 & 5 & 1 & 2 \\\\\n",
       "\t3 & 10 & 2 & 3 \\\\\n",
       "\t4 & 15 & 2 & 4 \\\\\n",
       "\t5 & 20 & 3 & 5 \\\\\n",
       "\t6 & 25 & 3 & 6 \\\\\n",
       "\t7 & 30 & 4 & 7 \\\\\n",
       "\t8 & 35 & 4 & 8 \\\\\n",
       "\t9 & 40 & 5 & 9 \\\\\n",
       "\t10 & 45 & 5 & 10 \\\\\n",
       "\t11 & 50 & 6 & 11 \\\\\n",
       "\t12 & 55 & 6 & 12 \\\\\n",
       "\t13 & 60 & 7 & 13 \\\\\n",
       "\t14 & 65 & 7 & 14 \\\\\n",
       "\t15 & 70 & 8 & 15 \\\\\n",
       "\t16 & 75 & 8 & 16 \\\\\n",
       "\t17 & 80 & 9 & 17 \\\\\n",
       "\t18 & 85 & 9 & 18 \\\\\n",
       "\t19 & 90 & 10 & 19 \\\\\n",
       "\t20 & 95 & 10 & 20 \\\\\n",
       "\\end{tabular}\n"
      ],
      "text/plain": [
       "20×3 DataFrame\n",
       "│ Row │ A     │ B     │ C     │\n",
       "│     │ \u001b[90mInt64\u001b[39m │ \u001b[90mInt64\u001b[39m │ \u001b[90mInt64\u001b[39m │\n",
       "├─────┼───────┼───────┼───────┤\n",
       "│ 1   │ 0     │ 1     │ 1     │\n",
       "│ 2   │ 5     │ 1     │ 2     │\n",
       "│ 3   │ 10    │ 2     │ 3     │\n",
       "│ 4   │ 15    │ 2     │ 4     │\n",
       "│ 5   │ 20    │ 3     │ 5     │\n",
       "│ 6   │ 25    │ 3     │ 6     │\n",
       "│ 7   │ 30    │ 4     │ 7     │\n",
       "│ 8   │ 35    │ 4     │ 8     │\n",
       "│ 9   │ 40    │ 5     │ 9     │\n",
       "│ 10  │ 45    │ 5     │ 10    │\n",
       "│ 11  │ 50    │ 6     │ 11    │\n",
       "│ 12  │ 55    │ 6     │ 12    │\n",
       "│ 13  │ 60    │ 7     │ 13    │\n",
       "│ 14  │ 65    │ 7     │ 14    │\n",
       "│ 15  │ 70    │ 8     │ 15    │\n",
       "│ 16  │ 75    │ 8     │ 16    │\n",
       "│ 17  │ 80    │ 9     │ 17    │\n",
       "│ 18  │ 85    │ 9     │ 18    │\n",
       "│ 19  │ 90    │ 10    │ 19    │\n",
       "│ 20  │ 95    │ 10    │ 20    │"
      ]
     },
     "execution_count": 70,
     "metadata": {},
     "output_type": "execute_result"
    }
   ],
   "source": [
    "#複数の列\n",
    "df = DataFrame(A = 0:5:95, B = repeat(1:10, inner=2), C = 1:20)"
   ]
  },
  {
   "cell_type": "code",
   "execution_count": 58,
   "metadata": {},
   "outputs": [
    {
     "data": {
      "text/html": [
       "<table class=\"data-frame\"><thead><tr><th></th><th>A</th><th>B</th><th>C</th></tr><tr><th></th><th>Int64</th><th>Int64</th><th>Int64</th></tr></thead><tbody><p>3 rows × 3 columns</p><tr><th>1</th><td>0</td><td>1</td><td>1</td></tr><tr><th>2</th><td>5</td><td>1</td><td>2</td></tr><tr><th>3</th><td>10</td><td>2</td><td>3</td></tr></tbody></table>"
      ],
      "text/latex": [
       "\\begin{tabular}{r|ccc}\n",
       "\t& A & B & C\\\\\n",
       "\t\\hline\n",
       "\t& Int64 & Int64 & Int64\\\\\n",
       "\t\\hline\n",
       "\t1 & 0 & 1 & 1 \\\\\n",
       "\t2 & 5 & 1 & 2 \\\\\n",
       "\t3 & 10 & 2 & 3 \\\\\n",
       "\\end{tabular}\n"
      ],
      "text/plain": [
       "3×3 DataFrame\n",
       "│ Row │ A     │ B     │ C     │\n",
       "│     │ \u001b[90mInt64\u001b[39m │ \u001b[90mInt64\u001b[39m │ \u001b[90mInt64\u001b[39m │\n",
       "├─────┼───────┼───────┼───────┤\n",
       "│ 1   │ 0     │ 1     │ 1     │\n",
       "│ 2   │ 5     │ 1     │ 2     │\n",
       "│ 3   │ 10    │ 2     │ 3     │"
      ]
     },
     "execution_count": 58,
     "metadata": {},
     "output_type": "execute_result"
    }
   ],
   "source": [
    "#最初の確認\n",
    "first(df, 3)"
   ]
  },
  {
   "cell_type": "code",
   "execution_count": 59,
   "metadata": {},
   "outputs": [
    {
     "data": {
      "text/html": [
       "<table class=\"data-frame\"><thead><tr><th></th><th>A</th><th>B</th><th>C</th></tr><tr><th></th><th>Int64</th><th>Int64</th><th>Int64</th></tr></thead><tbody><p>3 rows × 3 columns</p><tr><th>1</th><td>85</td><td>9</td><td>18</td></tr><tr><th>2</th><td>90</td><td>10</td><td>19</td></tr><tr><th>3</th><td>95</td><td>10</td><td>20</td></tr></tbody></table>"
      ],
      "text/latex": [
       "\\begin{tabular}{r|ccc}\n",
       "\t& A & B & C\\\\\n",
       "\t\\hline\n",
       "\t& Int64 & Int64 & Int64\\\\\n",
       "\t\\hline\n",
       "\t1 & 85 & 9 & 18 \\\\\n",
       "\t2 & 90 & 10 & 19 \\\\\n",
       "\t3 & 95 & 10 & 20 \\\\\n",
       "\\end{tabular}\n"
      ],
      "text/plain": [
       "3×3 DataFrame\n",
       "│ Row │ A     │ B     │ C     │\n",
       "│     │ \u001b[90mInt64\u001b[39m │ \u001b[90mInt64\u001b[39m │ \u001b[90mInt64\u001b[39m │\n",
       "├─────┼───────┼───────┼───────┤\n",
       "│ 1   │ 85    │ 9     │ 18    │\n",
       "│ 2   │ 90    │ 10    │ 19    │\n",
       "│ 3   │ 95    │ 10    │ 20    │"
      ]
     },
     "execution_count": 59,
     "metadata": {},
     "output_type": "execute_result"
    }
   ],
   "source": [
    "#最後の確認\n",
    "last(df, 3)"
   ]
  },
  {
   "cell_type": "code",
   "execution_count": 60,
   "metadata": {},
   "outputs": [
    {
     "data": {
      "text/html": [
       "<table class=\"data-frame\"><thead><tr><th></th><th>A</th><th>B</th><th>C</th></tr><tr><th></th><th>Int64</th><th>Int64</th><th>Int64</th></tr></thead><tbody><p>5 rows × 3 columns</p><tr><th>1</th><td>0</td><td>1</td><td>1</td></tr><tr><th>2</th><td>5</td><td>1</td><td>2</td></tr><tr><th>3</th><td>10</td><td>2</td><td>3</td></tr><tr><th>4</th><td>15</td><td>2</td><td>4</td></tr><tr><th>5</th><td>20</td><td>3</td><td>5</td></tr></tbody></table>"
      ],
      "text/latex": [
       "\\begin{tabular}{r|ccc}\n",
       "\t& A & B & C\\\\\n",
       "\t\\hline\n",
       "\t& Int64 & Int64 & Int64\\\\\n",
       "\t\\hline\n",
       "\t1 & 0 & 1 & 1 \\\\\n",
       "\t2 & 5 & 1 & 2 \\\\\n",
       "\t3 & 10 & 2 & 3 \\\\\n",
       "\t4 & 15 & 2 & 4 \\\\\n",
       "\t5 & 20 & 3 & 5 \\\\\n",
       "\\end{tabular}\n"
      ],
      "text/plain": [
       "5×3 DataFrame\n",
       "│ Row │ A     │ B     │ C     │\n",
       "│     │ \u001b[90mInt64\u001b[39m │ \u001b[90mInt64\u001b[39m │ \u001b[90mInt64\u001b[39m │\n",
       "├─────┼───────┼───────┼───────┤\n",
       "│ 1   │ 0     │ 1     │ 1     │\n",
       "│ 2   │ 5     │ 1     │ 2     │\n",
       "│ 3   │ 10    │ 2     │ 3     │\n",
       "│ 4   │ 15    │ 2     │ 4     │\n",
       "│ 5   │ 20    │ 3     │ 5     │"
      ]
     },
     "execution_count": 60,
     "metadata": {},
     "output_type": "execute_result"
    }
   ],
   "source": [
    "#スライス\n",
    "df[1:5, :]"
   ]
  },
  {
   "cell_type": "code",
   "execution_count": 61,
   "metadata": {},
   "outputs": [
    {
     "data": {
      "text/html": [
       "<table class=\"data-frame\"><thead><tr><th></th><th>A</th><th>B</th><th>C</th></tr><tr><th></th><th>Int64</th><th>Int64</th><th>Int64</th></tr></thead><tbody><p>9 rows × 3 columns</p><tr><th>1</th><td>55</td><td>6</td><td>12</td></tr><tr><th>2</th><td>60</td><td>7</td><td>13</td></tr><tr><th>3</th><td>65</td><td>7</td><td>14</td></tr><tr><th>4</th><td>70</td><td>8</td><td>15</td></tr><tr><th>5</th><td>75</td><td>8</td><td>16</td></tr><tr><th>6</th><td>80</td><td>9</td><td>17</td></tr><tr><th>7</th><td>85</td><td>9</td><td>18</td></tr><tr><th>8</th><td>90</td><td>10</td><td>19</td></tr><tr><th>9</th><td>95</td><td>10</td><td>20</td></tr></tbody></table>"
      ],
      "text/latex": [
       "\\begin{tabular}{r|ccc}\n",
       "\t& A & B & C\\\\\n",
       "\t\\hline\n",
       "\t& Int64 & Int64 & Int64\\\\\n",
       "\t\\hline\n",
       "\t1 & 55 & 6 & 12 \\\\\n",
       "\t2 & 60 & 7 & 13 \\\\\n",
       "\t3 & 65 & 7 & 14 \\\\\n",
       "\t4 & 70 & 8 & 15 \\\\\n",
       "\t5 & 75 & 8 & 16 \\\\\n",
       "\t6 & 80 & 9 & 17 \\\\\n",
       "\t7 & 85 & 9 & 18 \\\\\n",
       "\t8 & 90 & 10 & 19 \\\\\n",
       "\t9 & 95 & 10 & 20 \\\\\n",
       "\\end{tabular}\n"
      ],
      "text/plain": [
       "9×3 DataFrame\n",
       "│ Row │ A     │ B     │ C     │\n",
       "│     │ \u001b[90mInt64\u001b[39m │ \u001b[90mInt64\u001b[39m │ \u001b[90mInt64\u001b[39m │\n",
       "├─────┼───────┼───────┼───────┤\n",
       "│ 1   │ 55    │ 6     │ 12    │\n",
       "│ 2   │ 60    │ 7     │ 13    │\n",
       "│ 3   │ 65    │ 7     │ 14    │\n",
       "│ 4   │ 70    │ 8     │ 15    │\n",
       "│ 5   │ 75    │ 8     │ 16    │\n",
       "│ 6   │ 80    │ 9     │ 17    │\n",
       "│ 7   │ 85    │ 9     │ 18    │\n",
       "│ 8   │ 90    │ 10    │ 19    │\n",
       "│ 9   │ 95    │ 10    │ 20    │"
      ]
     },
     "execution_count": 61,
     "metadata": {},
     "output_type": "execute_result"
    }
   ],
   "source": [
    "#条件をつける\n",
    "df[df.A .> 50, :]"
   ]
  },
  {
   "cell_type": "code",
   "execution_count": 62,
   "metadata": {},
   "outputs": [
    {
     "data": {
      "text/html": [
       "<table class=\"data-frame\"><thead><tr><th></th><th>variable</th><th>mean</th><th>min</th><th>median</th><th>max</th><th>nunique</th><th>nmissing</th><th>eltype</th></tr><tr><th></th><th>Symbol</th><th>Float64</th><th>Int64</th><th>Float64</th><th>Int64</th><th>Nothing</th><th>Nothing</th><th>DataType</th></tr></thead><tbody><p>3 rows × 8 columns</p><tr><th>1</th><td>A</td><td>47.5</td><td>0</td><td>47.5</td><td>95</td><td></td><td></td><td>Int64</td></tr><tr><th>2</th><td>B</td><td>5.5</td><td>1</td><td>5.5</td><td>10</td><td></td><td></td><td>Int64</td></tr><tr><th>3</th><td>C</td><td>10.5</td><td>1</td><td>10.5</td><td>20</td><td></td><td></td><td>Int64</td></tr></tbody></table>"
      ],
      "text/latex": [
       "\\begin{tabular}{r|cccccccc}\n",
       "\t& variable & mean & min & median & max & nunique & nmissing & eltype\\\\\n",
       "\t\\hline\n",
       "\t& Symbol & Float64 & Int64 & Float64 & Int64 & Nothing & Nothing & DataType\\\\\n",
       "\t\\hline\n",
       "\t1 & A & 47.5 & 0 & 47.5 & 95 &  &  & Int64 \\\\\n",
       "\t2 & B & 5.5 & 1 & 5.5 & 10 &  &  & Int64 \\\\\n",
       "\t3 & C & 10.5 & 1 & 10.5 & 20 &  &  & Int64 \\\\\n",
       "\\end{tabular}\n"
      ],
      "text/plain": [
       "3×8 DataFrame. Omitted printing of 1 columns\n",
       "│ Row │ variable │ mean    │ min   │ median  │ max   │ nunique │ nmissing │\n",
       "│     │ \u001b[90mSymbol\u001b[39m   │ \u001b[90mFloat64\u001b[39m │ \u001b[90mInt64\u001b[39m │ \u001b[90mFloat64\u001b[39m │ \u001b[90mInt64\u001b[39m │ \u001b[90mNothing\u001b[39m │ \u001b[90mNothing\u001b[39m  │\n",
       "├─────┼──────────┼─────────┼───────┼─────────┼───────┼─────────┼──────────┤\n",
       "│ 1   │ A        │ 47.5    │ 0     │ 47.5    │ 95    │         │          │\n",
       "│ 2   │ B        │ 5.5     │ 1     │ 5.5     │ 10    │         │          │\n",
       "│ 3   │ C        │ 10.5    │ 1     │ 10.5    │ 20    │         │          │"
      ]
     },
     "execution_count": 62,
     "metadata": {},
     "output_type": "execute_result"
    }
   ],
   "source": [
    "#サマリー\n",
    "describe(df)"
   ]
  },
  {
   "cell_type": "code",
   "execution_count": null,
   "metadata": {},
   "outputs": [],
   "source": []
  },
  {
   "cell_type": "code",
   "execution_count": 63,
   "metadata": {},
   "outputs": [
    {
     "data": {
      "text/html": [
       "<table class=\"data-frame\"><thead><tr><th></th><th>A</th><th>C</th></tr><tr><th></th><th>Int64</th><th>Int64</th></tr></thead><tbody><p>20 rows × 2 columns</p><tr><th>1</th><td>0</td><td>1</td></tr><tr><th>2</th><td>5</td><td>2</td></tr><tr><th>3</th><td>10</td><td>3</td></tr><tr><th>4</th><td>15</td><td>4</td></tr><tr><th>5</th><td>20</td><td>5</td></tr><tr><th>6</th><td>25</td><td>6</td></tr><tr><th>7</th><td>30</td><td>7</td></tr><tr><th>8</th><td>35</td><td>8</td></tr><tr><th>9</th><td>40</td><td>9</td></tr><tr><th>10</th><td>45</td><td>10</td></tr><tr><th>11</th><td>50</td><td>11</td></tr><tr><th>12</th><td>55</td><td>12</td></tr><tr><th>13</th><td>60</td><td>13</td></tr><tr><th>14</th><td>65</td><td>14</td></tr><tr><th>15</th><td>70</td><td>15</td></tr><tr><th>16</th><td>75</td><td>16</td></tr><tr><th>17</th><td>80</td><td>17</td></tr><tr><th>18</th><td>85</td><td>18</td></tr><tr><th>19</th><td>90</td><td>19</td></tr><tr><th>20</th><td>95</td><td>20</td></tr></tbody></table>"
      ],
      "text/latex": [
       "\\begin{tabular}{r|cc}\n",
       "\t& A & C\\\\\n",
       "\t\\hline\n",
       "\t& Int64 & Int64\\\\\n",
       "\t\\hline\n",
       "\t1 & 0 & 1 \\\\\n",
       "\t2 & 5 & 2 \\\\\n",
       "\t3 & 10 & 3 \\\\\n",
       "\t4 & 15 & 4 \\\\\n",
       "\t5 & 20 & 5 \\\\\n",
       "\t6 & 25 & 6 \\\\\n",
       "\t7 & 30 & 7 \\\\\n",
       "\t8 & 35 & 8 \\\\\n",
       "\t9 & 40 & 9 \\\\\n",
       "\t10 & 45 & 10 \\\\\n",
       "\t11 & 50 & 11 \\\\\n",
       "\t12 & 55 & 12 \\\\\n",
       "\t13 & 60 & 13 \\\\\n",
       "\t14 & 65 & 14 \\\\\n",
       "\t15 & 70 & 15 \\\\\n",
       "\t16 & 75 & 16 \\\\\n",
       "\t17 & 80 & 17 \\\\\n",
       "\t18 & 85 & 18 \\\\\n",
       "\t19 & 90 & 19 \\\\\n",
       "\t20 & 95 & 20 \\\\\n",
       "\\end{tabular}\n"
      ],
      "text/plain": [
       "20×2 DataFrame\n",
       "│ Row │ A     │ C     │\n",
       "│     │ \u001b[90mInt64\u001b[39m │ \u001b[90mInt64\u001b[39m │\n",
       "├─────┼───────┼───────┤\n",
       "│ 1   │ 0     │ 1     │\n",
       "│ 2   │ 5     │ 2     │\n",
       "│ 3   │ 10    │ 3     │\n",
       "│ 4   │ 15    │ 4     │\n",
       "│ 5   │ 20    │ 5     │\n",
       "│ 6   │ 25    │ 6     │\n",
       "│ 7   │ 30    │ 7     │\n",
       "│ 8   │ 35    │ 8     │\n",
       "│ 9   │ 40    │ 9     │\n",
       "│ 10  │ 45    │ 10    │\n",
       "│ 11  │ 50    │ 11    │\n",
       "│ 12  │ 55    │ 12    │\n",
       "│ 13  │ 60    │ 13    │\n",
       "│ 14  │ 65    │ 14    │\n",
       "│ 15  │ 70    │ 15    │\n",
       "│ 16  │ 75    │ 16    │\n",
       "│ 17  │ 80    │ 17    │\n",
       "│ 18  │ 85    │ 18    │\n",
       "│ 19  │ 90    │ 19    │\n",
       "│ 20  │ 95    │ 20    │"
      ]
     },
     "execution_count": 63,
     "metadata": {},
     "output_type": "execute_result"
    }
   ],
   "source": [
    "#列を削除する\n",
    "select(df, Not(:B))"
   ]
  },
  {
   "cell_type": "code",
   "execution_count": 64,
   "metadata": {},
   "outputs": [
    {
     "data": {
      "text/html": [
       "<table class=\"data-frame\"><thead><tr><th></th><th>AA</th><th>CC</th></tr><tr><th></th><th>Int64</th><th>Int64</th></tr></thead><tbody><p>20 rows × 2 columns</p><tr><th>1</th><td>0</td><td>1</td></tr><tr><th>2</th><td>5</td><td>2</td></tr><tr><th>3</th><td>10</td><td>3</td></tr><tr><th>4</th><td>15</td><td>4</td></tr><tr><th>5</th><td>20</td><td>5</td></tr><tr><th>6</th><td>25</td><td>6</td></tr><tr><th>7</th><td>30</td><td>7</td></tr><tr><th>8</th><td>35</td><td>8</td></tr><tr><th>9</th><td>40</td><td>9</td></tr><tr><th>10</th><td>45</td><td>10</td></tr><tr><th>11</th><td>50</td><td>11</td></tr><tr><th>12</th><td>55</td><td>12</td></tr><tr><th>13</th><td>60</td><td>13</td></tr><tr><th>14</th><td>65</td><td>14</td></tr><tr><th>15</th><td>70</td><td>15</td></tr><tr><th>16</th><td>75</td><td>16</td></tr><tr><th>17</th><td>80</td><td>17</td></tr><tr><th>18</th><td>85</td><td>18</td></tr><tr><th>19</th><td>90</td><td>19</td></tr><tr><th>20</th><td>95</td><td>20</td></tr></tbody></table>"
      ],
      "text/latex": [
       "\\begin{tabular}{r|cc}\n",
       "\t& AA & CC\\\\\n",
       "\t\\hline\n",
       "\t& Int64 & Int64\\\\\n",
       "\t\\hline\n",
       "\t1 & 0 & 1 \\\\\n",
       "\t2 & 5 & 2 \\\\\n",
       "\t3 & 10 & 3 \\\\\n",
       "\t4 & 15 & 4 \\\\\n",
       "\t5 & 20 & 5 \\\\\n",
       "\t6 & 25 & 6 \\\\\n",
       "\t7 & 30 & 7 \\\\\n",
       "\t8 & 35 & 8 \\\\\n",
       "\t9 & 40 & 9 \\\\\n",
       "\t10 & 45 & 10 \\\\\n",
       "\t11 & 50 & 11 \\\\\n",
       "\t12 & 55 & 12 \\\\\n",
       "\t13 & 60 & 13 \\\\\n",
       "\t14 & 65 & 14 \\\\\n",
       "\t15 & 70 & 15 \\\\\n",
       "\t16 & 75 & 16 \\\\\n",
       "\t17 & 80 & 17 \\\\\n",
       "\t18 & 85 & 18 \\\\\n",
       "\t19 & 90 & 19 \\\\\n",
       "\t20 & 95 & 20 \\\\\n",
       "\\end{tabular}\n"
      ],
      "text/plain": [
       "20×2 DataFrame\n",
       "│ Row │ AA    │ CC    │\n",
       "│     │ \u001b[90mInt64\u001b[39m │ \u001b[90mInt64\u001b[39m │\n",
       "├─────┼───────┼───────┤\n",
       "│ 1   │ 0     │ 1     │\n",
       "│ 2   │ 5     │ 2     │\n",
       "│ 3   │ 10    │ 3     │\n",
       "│ 4   │ 15    │ 4     │\n",
       "│ 5   │ 20    │ 5     │\n",
       "│ 6   │ 25    │ 6     │\n",
       "│ 7   │ 30    │ 7     │\n",
       "│ 8   │ 35    │ 8     │\n",
       "│ 9   │ 40    │ 9     │\n",
       "│ 10  │ 45    │ 10    │\n",
       "│ 11  │ 50    │ 11    │\n",
       "│ 12  │ 55    │ 12    │\n",
       "│ 13  │ 60    │ 13    │\n",
       "│ 14  │ 65    │ 14    │\n",
       "│ 15  │ 70    │ 15    │\n",
       "│ 16  │ 75    │ 16    │\n",
       "│ 17  │ 80    │ 17    │\n",
       "│ 18  │ 85    │ 18    │\n",
       "│ 19  │ 90    │ 19    │\n",
       "│ 20  │ 95    │ 20    │"
      ]
     },
     "execution_count": 64,
     "metadata": {},
     "output_type": "execute_result"
    }
   ],
   "source": [
    "#列の名前を変える\n",
    "select(df, :A => :AA, :C => :CC) # rename columns"
   ]
  },
  {
   "cell_type": "code",
   "execution_count": 69,
   "metadata": {},
   "outputs": [
    {
     "data": {
      "text/html": [
       "<table class=\"data-frame\"><thead><tr><th></th><th>AA</th><th>CC</th></tr><tr><th></th><th>Int64</th><th>Int64</th></tr></thead><tbody><p>20 rows × 2 columns</p><tr><th>1</th><td>0</td><td>1</td></tr><tr><th>2</th><td>5</td><td>2</td></tr><tr><th>3</th><td>10</td><td>3</td></tr><tr><th>4</th><td>15</td><td>4</td></tr><tr><th>5</th><td>20</td><td>5</td></tr><tr><th>6</th><td>25</td><td>6</td></tr><tr><th>7</th><td>30</td><td>7</td></tr><tr><th>8</th><td>35</td><td>8</td></tr><tr><th>9</th><td>40</td><td>9</td></tr><tr><th>10</th><td>45</td><td>10</td></tr><tr><th>11</th><td>50</td><td>11</td></tr><tr><th>12</th><td>55</td><td>12</td></tr><tr><th>13</th><td>60</td><td>13</td></tr><tr><th>14</th><td>65</td><td>14</td></tr><tr><th>15</th><td>70</td><td>15</td></tr><tr><th>16</th><td>75</td><td>16</td></tr><tr><th>17</th><td>80</td><td>17</td></tr><tr><th>18</th><td>85</td><td>18</td></tr><tr><th>19</th><td>90</td><td>19</td></tr><tr><th>20</th><td>95</td><td>20</td></tr></tbody></table>"
      ],
      "text/latex": [
       "\\begin{tabular}{r|cc}\n",
       "\t& AA & CC\\\\\n",
       "\t\\hline\n",
       "\t& Int64 & Int64\\\\\n",
       "\t\\hline\n",
       "\t1 & 0 & 1 \\\\\n",
       "\t2 & 5 & 2 \\\\\n",
       "\t3 & 10 & 3 \\\\\n",
       "\t4 & 15 & 4 \\\\\n",
       "\t5 & 20 & 5 \\\\\n",
       "\t6 & 25 & 6 \\\\\n",
       "\t7 & 30 & 7 \\\\\n",
       "\t8 & 35 & 8 \\\\\n",
       "\t9 & 40 & 9 \\\\\n",
       "\t10 & 45 & 10 \\\\\n",
       "\t11 & 50 & 11 \\\\\n",
       "\t12 & 55 & 12 \\\\\n",
       "\t13 & 60 & 13 \\\\\n",
       "\t14 & 65 & 14 \\\\\n",
       "\t15 & 70 & 15 \\\\\n",
       "\t16 & 75 & 16 \\\\\n",
       "\t17 & 80 & 17 \\\\\n",
       "\t18 & 85 & 18 \\\\\n",
       "\t19 & 90 & 19 \\\\\n",
       "\t20 & 95 & 20 \\\\\n",
       "\\end{tabular}\n"
      ],
      "text/plain": [
       "20×2 DataFrame\n",
       "│ Row │ AA    │ CC    │\n",
       "│     │ \u001b[90mInt64\u001b[39m │ \u001b[90mInt64\u001b[39m │\n",
       "├─────┼───────┼───────┤\n",
       "│ 1   │ 0     │ 1     │\n",
       "│ 2   │ 5     │ 2     │\n",
       "│ 3   │ 10    │ 3     │\n",
       "│ 4   │ 15    │ 4     │\n",
       "│ 5   │ 20    │ 5     │\n",
       "│ 6   │ 25    │ 6     │\n",
       "│ 7   │ 30    │ 7     │\n",
       "│ 8   │ 35    │ 8     │\n",
       "│ 9   │ 40    │ 9     │\n",
       "│ 10  │ 45    │ 10    │\n",
       "│ 11  │ 50    │ 11    │\n",
       "│ 12  │ 55    │ 12    │\n",
       "│ 13  │ 60    │ 13    │\n",
       "│ 14  │ 65    │ 14    │\n",
       "│ 15  │ 70    │ 15    │\n",
       "│ 16  │ 75    │ 16    │\n",
       "│ 17  │ 80    │ 17    │\n",
       "│ 18  │ 85    │ 18    │\n",
       "│ 19  │ 90    │ 19    │\n",
       "│ 20  │ 95    │ 20    │"
      ]
     },
     "execution_count": 69,
     "metadata": {},
     "output_type": "execute_result"
    }
   ],
   "source": [
    "#selectだとdfは結局変わらない\n",
    "df"
   ]
  },
  {
   "cell_type": "code",
   "execution_count": 71,
   "metadata": {},
   "outputs": [
    {
     "data": {
      "text/html": [
       "<table class=\"data-frame\"><thead><tr><th></th><th>AA</th><th>BB</th><th>CC</th></tr><tr><th></th><th>Int64</th><th>Int64</th><th>Int64</th></tr></thead><tbody><p>20 rows × 3 columns</p><tr><th>1</th><td>0</td><td>1</td><td>1</td></tr><tr><th>2</th><td>5</td><td>1</td><td>2</td></tr><tr><th>3</th><td>10</td><td>2</td><td>3</td></tr><tr><th>4</th><td>15</td><td>2</td><td>4</td></tr><tr><th>5</th><td>20</td><td>3</td><td>5</td></tr><tr><th>6</th><td>25</td><td>3</td><td>6</td></tr><tr><th>7</th><td>30</td><td>4</td><td>7</td></tr><tr><th>8</th><td>35</td><td>4</td><td>8</td></tr><tr><th>9</th><td>40</td><td>5</td><td>9</td></tr><tr><th>10</th><td>45</td><td>5</td><td>10</td></tr><tr><th>11</th><td>50</td><td>6</td><td>11</td></tr><tr><th>12</th><td>55</td><td>6</td><td>12</td></tr><tr><th>13</th><td>60</td><td>7</td><td>13</td></tr><tr><th>14</th><td>65</td><td>7</td><td>14</td></tr><tr><th>15</th><td>70</td><td>8</td><td>15</td></tr><tr><th>16</th><td>75</td><td>8</td><td>16</td></tr><tr><th>17</th><td>80</td><td>9</td><td>17</td></tr><tr><th>18</th><td>85</td><td>9</td><td>18</td></tr><tr><th>19</th><td>90</td><td>10</td><td>19</td></tr><tr><th>20</th><td>95</td><td>10</td><td>20</td></tr></tbody></table>"
      ],
      "text/latex": [
       "\\begin{tabular}{r|ccc}\n",
       "\t& AA & BB & CC\\\\\n",
       "\t\\hline\n",
       "\t& Int64 & Int64 & Int64\\\\\n",
       "\t\\hline\n",
       "\t1 & 0 & 1 & 1 \\\\\n",
       "\t2 & 5 & 1 & 2 \\\\\n",
       "\t3 & 10 & 2 & 3 \\\\\n",
       "\t4 & 15 & 2 & 4 \\\\\n",
       "\t5 & 20 & 3 & 5 \\\\\n",
       "\t6 & 25 & 3 & 6 \\\\\n",
       "\t7 & 30 & 4 & 7 \\\\\n",
       "\t8 & 35 & 4 & 8 \\\\\n",
       "\t9 & 40 & 5 & 9 \\\\\n",
       "\t10 & 45 & 5 & 10 \\\\\n",
       "\t11 & 50 & 6 & 11 \\\\\n",
       "\t12 & 55 & 6 & 12 \\\\\n",
       "\t13 & 60 & 7 & 13 \\\\\n",
       "\t14 & 65 & 7 & 14 \\\\\n",
       "\t15 & 70 & 8 & 15 \\\\\n",
       "\t16 & 75 & 8 & 16 \\\\\n",
       "\t17 & 80 & 9 & 17 \\\\\n",
       "\t18 & 85 & 9 & 18 \\\\\n",
       "\t19 & 90 & 10 & 19 \\\\\n",
       "\t20 & 95 & 10 & 20 \\\\\n",
       "\\end{tabular}\n"
      ],
      "text/plain": [
       "20×3 DataFrame\n",
       "│ Row │ AA    │ BB    │ CC    │\n",
       "│     │ \u001b[90mInt64\u001b[39m │ \u001b[90mInt64\u001b[39m │ \u001b[90mInt64\u001b[39m │\n",
       "├─────┼───────┼───────┼───────┤\n",
       "│ 1   │ 0     │ 1     │ 1     │\n",
       "│ 2   │ 5     │ 1     │ 2     │\n",
       "│ 3   │ 10    │ 2     │ 3     │\n",
       "│ 4   │ 15    │ 2     │ 4     │\n",
       "│ 5   │ 20    │ 3     │ 5     │\n",
       "│ 6   │ 25    │ 3     │ 6     │\n",
       "│ 7   │ 30    │ 4     │ 7     │\n",
       "│ 8   │ 35    │ 4     │ 8     │\n",
       "│ 9   │ 40    │ 5     │ 9     │\n",
       "│ 10  │ 45    │ 5     │ 10    │\n",
       "│ 11  │ 50    │ 6     │ 11    │\n",
       "│ 12  │ 55    │ 6     │ 12    │\n",
       "│ 13  │ 60    │ 7     │ 13    │\n",
       "│ 14  │ 65    │ 7     │ 14    │\n",
       "│ 15  │ 70    │ 8     │ 15    │\n",
       "│ 16  │ 75    │ 8     │ 16    │\n",
       "│ 17  │ 80    │ 9     │ 17    │\n",
       "│ 18  │ 85    │ 9     │ 18    │\n",
       "│ 19  │ 90    │ 10    │ 19    │\n",
       "│ 20  │ 95    │ 10    │ 20    │"
      ]
     },
     "execution_count": 71,
     "metadata": {},
     "output_type": "execute_result"
    }
   ],
   "source": [
    "#列の名前を変える select!でdfから変える\n",
    "select!(df, :A => :AA, :B => :BB, :C => :CC) # rename columns"
   ]
  },
  {
   "cell_type": "code",
   "execution_count": 72,
   "metadata": {},
   "outputs": [
    {
     "ename": "LoadError",
     "evalue": "ArgumentError: column name :A not found in the data frame; existing most similar names are: :AA, :BB and :CC",
     "output_type": "error",
     "traceback": [
      "ArgumentError: column name :A not found in the data frame; existing most similar names are: :AA, :BB and :CC",
      "",
      "Stacktrace:",
      " [1] lookupname at /Users/satoshi/.julia/packages/DataFrames/cdZCk/src/other/index.jl:289 [inlined]",
      " [2] getindex at /Users/satoshi/.julia/packages/DataFrames/cdZCk/src/other/index.jl:295 [inlined]",
      " [3] normalize_selection(::DataFrames.Index, ::Symbol) at /Users/satoshi/.julia/packages/DataFrames/cdZCk/src/abstractdataframe/selection.jl:56",
      " [4] (::DataFrames.var\"#302#303\"{DataFrame})(::Symbol) at ./none:0",
      " [5] iterate at ./generator.jl:47 [inlined]",
      " [6] collect(::Base.Generator{Array{Any,1},DataFrames.var\"#302#303\"{DataFrame}}) at ./array.jl:686",
      " [7] manipulate(::DataFrame, ::Symbol, ::Vararg{Any,N} where N; copycols::Bool, keeprows::Bool) at /Users/satoshi/.julia/packages/DataFrames/cdZCk/src/abstractdataframe/selection.jl:566",
      " [8] select(::DataFrame, ::Symbol, ::Vararg{Any,N} where N; copycols::Bool) at /Users/satoshi/.julia/packages/DataFrames/cdZCk/src/abstractdataframe/selection.jl:493",
      " [9] select(::DataFrame, ::Symbol, ::Vararg{Any,N} where N) at /Users/satoshi/.julia/packages/DataFrames/cdZCk/src/abstractdataframe/selection.jl:493",
      " [10] top-level scope at In[72]:2",
      " [11] include_string(::Function, ::Module, ::String, ::String) at ./loading.jl:1091"
     ]
    }
   ],
   "source": [
    "#列の操作 AとかBではないと怒られる\n",
    "select(df, :A, :B => (x -> x .- 10) => :B, :C)"
   ]
  },
  {
   "cell_type": "code",
   "execution_count": 75,
   "metadata": {},
   "outputs": [
    {
     "data": {
      "text/html": [
       "<table class=\"data-frame\"><thead><tr><th></th><th>AA</th><th>BB</th><th>CC</th></tr><tr><th></th><th>Int64</th><th>Int64</th><th>Int64</th></tr></thead><tbody><p>20 rows × 3 columns</p><tr><th>1</th><td>0</td><td>-19</td><td>1</td></tr><tr><th>2</th><td>5</td><td>-19</td><td>2</td></tr><tr><th>3</th><td>10</td><td>-18</td><td>3</td></tr><tr><th>4</th><td>15</td><td>-18</td><td>4</td></tr><tr><th>5</th><td>20</td><td>-17</td><td>5</td></tr><tr><th>6</th><td>25</td><td>-17</td><td>6</td></tr><tr><th>7</th><td>30</td><td>-16</td><td>7</td></tr><tr><th>8</th><td>35</td><td>-16</td><td>8</td></tr><tr><th>9</th><td>40</td><td>-15</td><td>9</td></tr><tr><th>10</th><td>45</td><td>-15</td><td>10</td></tr><tr><th>11</th><td>50</td><td>-14</td><td>11</td></tr><tr><th>12</th><td>55</td><td>-14</td><td>12</td></tr><tr><th>13</th><td>60</td><td>-13</td><td>13</td></tr><tr><th>14</th><td>65</td><td>-13</td><td>14</td></tr><tr><th>15</th><td>70</td><td>-12</td><td>15</td></tr><tr><th>16</th><td>75</td><td>-12</td><td>16</td></tr><tr><th>17</th><td>80</td><td>-11</td><td>17</td></tr><tr><th>18</th><td>85</td><td>-11</td><td>18</td></tr><tr><th>19</th><td>90</td><td>-10</td><td>19</td></tr><tr><th>20</th><td>95</td><td>-10</td><td>20</td></tr></tbody></table>"
      ],
      "text/latex": [
       "\\begin{tabular}{r|ccc}\n",
       "\t& AA & BB & CC\\\\\n",
       "\t\\hline\n",
       "\t& Int64 & Int64 & Int64\\\\\n",
       "\t\\hline\n",
       "\t1 & 0 & -19 & 1 \\\\\n",
       "\t2 & 5 & -19 & 2 \\\\\n",
       "\t3 & 10 & -18 & 3 \\\\\n",
       "\t4 & 15 & -18 & 4 \\\\\n",
       "\t5 & 20 & -17 & 5 \\\\\n",
       "\t6 & 25 & -17 & 6 \\\\\n",
       "\t7 & 30 & -16 & 7 \\\\\n",
       "\t8 & 35 & -16 & 8 \\\\\n",
       "\t9 & 40 & -15 & 9 \\\\\n",
       "\t10 & 45 & -15 & 10 \\\\\n",
       "\t11 & 50 & -14 & 11 \\\\\n",
       "\t12 & 55 & -14 & 12 \\\\\n",
       "\t13 & 60 & -13 & 13 \\\\\n",
       "\t14 & 65 & -13 & 14 \\\\\n",
       "\t15 & 70 & -12 & 15 \\\\\n",
       "\t16 & 75 & -12 & 16 \\\\\n",
       "\t17 & 80 & -11 & 17 \\\\\n",
       "\t18 & 85 & -11 & 18 \\\\\n",
       "\t19 & 90 & -10 & 19 \\\\\n",
       "\t20 & 95 & -10 & 20 \\\\\n",
       "\\end{tabular}\n"
      ],
      "text/plain": [
       "20×3 DataFrame\n",
       "│ Row │ AA    │ BB    │ CC    │\n",
       "│     │ \u001b[90mInt64\u001b[39m │ \u001b[90mInt64\u001b[39m │ \u001b[90mInt64\u001b[39m │\n",
       "├─────┼───────┼───────┼───────┤\n",
       "│ 1   │ 0     │ -19   │ 1     │\n",
       "│ 2   │ 5     │ -19   │ 2     │\n",
       "│ 3   │ 10    │ -18   │ 3     │\n",
       "│ 4   │ 15    │ -18   │ 4     │\n",
       "│ 5   │ 20    │ -17   │ 5     │\n",
       "│ 6   │ 25    │ -17   │ 6     │\n",
       "│ 7   │ 30    │ -16   │ 7     │\n",
       "│ 8   │ 35    │ -16   │ 8     │\n",
       "│ 9   │ 40    │ -15   │ 9     │\n",
       "│ 10  │ 45    │ -15   │ 10    │\n",
       "│ 11  │ 50    │ -14   │ 11    │\n",
       "│ 12  │ 55    │ -14   │ 12    │\n",
       "│ 13  │ 60    │ -13   │ 13    │\n",
       "│ 14  │ 65    │ -13   │ 14    │\n",
       "│ 15  │ 70    │ -12   │ 15    │\n",
       "│ 16  │ 75    │ -12   │ 16    │\n",
       "│ 17  │ 80    │ -11   │ 17    │\n",
       "│ 18  │ 85    │ -11   │ 18    │\n",
       "│ 19  │ 90    │ -10   │ 19    │\n",
       "│ 20  │ 95    │ -10   │ 20    │"
      ]
     },
     "execution_count": 75,
     "metadata": {},
     "output_type": "execute_result"
    }
   ],
   "source": [
    "#列の操作 AAとかBBならOK\n",
    "select!(df, :AA, :BB => (x -> x .- 10) => :BB, :CC)"
   ]
  },
  {
   "cell_type": "code",
   "execution_count": null,
   "metadata": {},
   "outputs": [],
   "source": []
  },
  {
   "cell_type": "markdown",
   "metadata": {},
   "source": [
    "## データフレームを用いたCSV読み書きとプロット"
   ]
  },
  {
   "cell_type": "code",
   "execution_count": 89,
   "metadata": {},
   "outputs": [
    {
     "name": "stderr",
     "output_type": "stream",
     "text": [
      "\u001b[32m\u001b[1m   Updating\u001b[22m\u001b[39m registry at `~/.julia/registries/General`\n",
      "######################################################################### 100.0%\n",
      "\u001b[32m\u001b[1m  Resolving\u001b[22m\u001b[39m package versions...\n",
      "\u001b[32m\u001b[1m  Installed\u001b[22m\u001b[39m SentinelArrays ─ v1.2.16\n",
      "\u001b[32m\u001b[1m  Installed\u001b[22m\u001b[39m CSV ──────────── v0.7.7\n",
      "\u001b[32m\u001b[1mUpdating\u001b[22m\u001b[39m `~/.julia/environments/v1.5/Project.toml`\n",
      " \u001b[90m [336ed68f] \u001b[39m\u001b[92m+ CSV v0.7.7\u001b[39m\n",
      "\u001b[32m\u001b[1mUpdating\u001b[22m\u001b[39m `~/.julia/environments/v1.5/Manifest.toml`\n",
      " \u001b[90m [336ed68f] \u001b[39m\u001b[92m+ CSV v0.7.7\u001b[39m\n",
      " \u001b[90m [91c51154] \u001b[39m\u001b[92m+ SentinelArrays v1.2.16\u001b[39m\n"
     ]
    }
   ],
   "source": [
    "using Pkg\n",
    "Pkg.add(\"CSV\")"
   ]
  },
  {
   "cell_type": "code",
   "execution_count": 90,
   "metadata": {},
   "outputs": [
    {
     "name": "stderr",
     "output_type": "stream",
     "text": [
      "┌ Info: Precompiling CSV [336ed68f-0bac-5ca0-87d4-7b16caf5d00b]\n",
      "└ @ Base loading.jl:1278\n"
     ]
    }
   ],
   "source": [
    "using CSV"
   ]
  },
  {
   "cell_type": "code",
   "execution_count": 130,
   "metadata": {},
   "outputs": [
    {
     "data": {
      "text/html": [
       "<table class=\"data-frame\"><thead><tr><th></th><th>月</th><th>平均気温</th><th>降水量の合計</th></tr><tr><th></th><th>Int64</th><th>Float64</th><th>Float64</th></tr></thead><tbody><p>12 rows × 3 columns</p><tr><th>1</th><td>1</td><td>5.6</td><td>16.0</td></tr><tr><th>2</th><td>2</td><td>7.2</td><td>42.0</td></tr><tr><th>3</th><td>3</td><td>10.6</td><td>117.5</td></tr><tr><th>4</th><td>4</td><td>13.6</td><td>90.5</td></tr><tr><th>5</th><td>5</td><td>20.0</td><td>120.5</td></tr><tr><th>6</th><td>6</td><td>21.8</td><td>225.0</td></tr><tr><th>7</th><td>7</td><td>24.1</td><td>193.0</td></tr><tr><th>8</th><td>8</td><td>28.4</td><td>110.0</td></tr><tr><th>9</th><td>9</td><td>25.1</td><td>197.0</td></tr><tr><th>10</th><td>10</td><td>19.4</td><td>529.5</td></tr><tr><th>11</th><td>11</td><td>13.1</td><td>156.5</td></tr><tr><th>12</th><td>12</td><td>8.5</td><td>76.5</td></tr></tbody></table>"
      ],
      "text/latex": [
       "\\begin{tabular}{r|ccc}\n",
       "\t& 月 & 平均気温 & 降水量の合計\\\\\n",
       "\t\\hline\n",
       "\t& Int64 & Float64 & Float64\\\\\n",
       "\t\\hline\n",
       "\t1 & 1 & 5.6 & 16.0 \\\\\n",
       "\t2 & 2 & 7.2 & 42.0 \\\\\n",
       "\t3 & 3 & 10.6 & 117.5 \\\\\n",
       "\t4 & 4 & 13.6 & 90.5 \\\\\n",
       "\t5 & 5 & 20.0 & 120.5 \\\\\n",
       "\t6 & 6 & 21.8 & 225.0 \\\\\n",
       "\t7 & 7 & 24.1 & 193.0 \\\\\n",
       "\t8 & 8 & 28.4 & 110.0 \\\\\n",
       "\t9 & 9 & 25.1 & 197.0 \\\\\n",
       "\t10 & 10 & 19.4 & 529.5 \\\\\n",
       "\t11 & 11 & 13.1 & 156.5 \\\\\n",
       "\t12 & 12 & 8.5 & 76.5 \\\\\n",
       "\\end{tabular}\n"
      ],
      "text/plain": [
       "12×3 DataFrame\n",
       "│ Row │ 月    │ 平均気温 │ 降水量の合計 │\n",
       "│     │ \u001b[90mInt64\u001b[39m │ \u001b[90mFloat64\u001b[39m  │ \u001b[90mFloat64\u001b[39m      │\n",
       "├─────┼───────┼──────────┼──────────────┤\n",
       "│ 1   │ 1     │ 5.6      │ 16.0         │\n",
       "│ 2   │ 2     │ 7.2      │ 42.0         │\n",
       "│ 3   │ 3     │ 10.6     │ 117.5        │\n",
       "│ 4   │ 4     │ 13.6     │ 90.5         │\n",
       "│ 5   │ 5     │ 20.0     │ 120.5        │\n",
       "│ 6   │ 6     │ 21.8     │ 225.0        │\n",
       "│ 7   │ 7     │ 24.1     │ 193.0        │\n",
       "│ 8   │ 8     │ 28.4     │ 110.0        │\n",
       "│ 9   │ 9     │ 25.1     │ 197.0        │\n",
       "│ 10  │ 10    │ 19.4     │ 529.5        │\n",
       "│ 11  │ 11    │ 13.1     │ 156.5        │\n",
       "│ 12  │ 12    │ 8.5      │ 76.5         │"
      ]
     },
     "execution_count": 130,
     "metadata": {},
     "output_type": "execute_result"
    }
   ],
   "source": [
    "loc = \"/Users/satoshi/udemy_study/julia/data/\"\n",
    "filename = \"temp_2019_tokyo.csv\"\n",
    "df = CSV.read(loc*filename, header=true, delim=',')"
   ]
  },
  {
   "cell_type": "code",
   "execution_count": 131,
   "metadata": {},
   "outputs": [
    {
     "name": "stderr",
     "output_type": "stream",
     "text": [
      "\u001b[32m\u001b[1m  Resolving\u001b[22m\u001b[39m package versions...\n",
      "\u001b[32m\u001b[1mNo Changes\u001b[22m\u001b[39m to `~/.julia/environments/v1.5/Project.toml`\n",
      "\u001b[32m\u001b[1mNo Changes\u001b[22m\u001b[39m to `~/.julia/environments/v1.5/Manifest.toml`\n"
     ]
    }
   ],
   "source": [
    "Pkg.add(\"StatsPlots\")"
   ]
  },
  {
   "cell_type": "code",
   "execution_count": 134,
   "metadata": {},
   "outputs": [
    {
     "data": {
      "image/svg+xml": [
       "<?xml version=\"1.0\" encoding=\"utf-8\"?>\n",
       "<svg xmlns=\"http://www.w3.org/2000/svg\" xmlns:xlink=\"http://www.w3.org/1999/xlink\" width=\"600\" height=\"400\" viewBox=\"0 0 2400 1600\">\n",
       "<defs>\n",
       "  <clipPath id=\"clip130\">\n",
       "    <rect x=\"0\" y=\"0\" width=\"2400\" height=\"1600\"/>\n",
       "  </clipPath>\n",
       "</defs>\n",
       "<path clip-path=\"url(#clip130)\" d=\"\n",
       "M0 1600 L2400 1600 L2400 0 L0 0  Z\n",
       "  \" fill=\"#ffffff\" fill-rule=\"evenodd\" fill-opacity=\"1\"/>\n",
       "<defs>\n",
       "  <clipPath id=\"clip131\">\n",
       "    <rect x=\"480\" y=\"0\" width=\"1681\" height=\"1600\"/>\n",
       "  </clipPath>\n",
       "</defs>\n",
       "<path clip-path=\"url(#clip130)\" d=\"\n",
       "M199.218 1423.18 L2352.76 1423.18 L2352.76 123.472 L199.218 123.472  Z\n",
       "  \" fill=\"#ffffff\" fill-rule=\"evenodd\" fill-opacity=\"1\"/>\n",
       "<defs>\n",
       "  <clipPath id=\"clip132\">\n",
       "    <rect x=\"199\" y=\"123\" width=\"2155\" height=\"1301\"/>\n",
       "  </clipPath>\n",
       "</defs>\n",
       "<polyline clip-path=\"url(#clip132)\" style=\"stroke:#000000; stroke-width:2; stroke-opacity:0.1; fill:none\" points=\"\n",
       "  260.167,1423.18 260.167,123.472 \n",
       "  \"/>\n",
       "<polyline clip-path=\"url(#clip132)\" style=\"stroke:#000000; stroke-width:2; stroke-opacity:0.1; fill:none\" points=\"\n",
       "  444.862,1423.18 444.862,123.472 \n",
       "  \"/>\n",
       "<polyline clip-path=\"url(#clip132)\" style=\"stroke:#000000; stroke-width:2; stroke-opacity:0.1; fill:none\" points=\"\n",
       "  629.556,1423.18 629.556,123.472 \n",
       "  \"/>\n",
       "<polyline clip-path=\"url(#clip132)\" style=\"stroke:#000000; stroke-width:2; stroke-opacity:0.1; fill:none\" points=\"\n",
       "  814.251,1423.18 814.251,123.472 \n",
       "  \"/>\n",
       "<polyline clip-path=\"url(#clip132)\" style=\"stroke:#000000; stroke-width:2; stroke-opacity:0.1; fill:none\" points=\"\n",
       "  998.945,1423.18 998.945,123.472 \n",
       "  \"/>\n",
       "<polyline clip-path=\"url(#clip132)\" style=\"stroke:#000000; stroke-width:2; stroke-opacity:0.1; fill:none\" points=\"\n",
       "  1183.64,1423.18 1183.64,123.472 \n",
       "  \"/>\n",
       "<polyline clip-path=\"url(#clip132)\" style=\"stroke:#000000; stroke-width:2; stroke-opacity:0.1; fill:none\" points=\"\n",
       "  1368.33,1423.18 1368.33,123.472 \n",
       "  \"/>\n",
       "<polyline clip-path=\"url(#clip132)\" style=\"stroke:#000000; stroke-width:2; stroke-opacity:0.1; fill:none\" points=\"\n",
       "  1553.03,1423.18 1553.03,123.472 \n",
       "  \"/>\n",
       "<polyline clip-path=\"url(#clip132)\" style=\"stroke:#000000; stroke-width:2; stroke-opacity:0.1; fill:none\" points=\"\n",
       "  1737.72,1423.18 1737.72,123.472 \n",
       "  \"/>\n",
       "<polyline clip-path=\"url(#clip132)\" style=\"stroke:#000000; stroke-width:2; stroke-opacity:0.1; fill:none\" points=\"\n",
       "  1922.42,1423.18 1922.42,123.472 \n",
       "  \"/>\n",
       "<polyline clip-path=\"url(#clip132)\" style=\"stroke:#000000; stroke-width:2; stroke-opacity:0.1; fill:none\" points=\"\n",
       "  2107.11,1423.18 2107.11,123.472 \n",
       "  \"/>\n",
       "<polyline clip-path=\"url(#clip132)\" style=\"stroke:#000000; stroke-width:2; stroke-opacity:0.1; fill:none\" points=\"\n",
       "  2291.81,1423.18 2291.81,123.472 \n",
       "  \"/>\n",
       "<polyline clip-path=\"url(#clip130)\" style=\"stroke:#000000; stroke-width:4; stroke-opacity:1; fill:none\" points=\"\n",
       "  199.218,1423.18 2352.76,1423.18 \n",
       "  \"/>\n",
       "<polyline clip-path=\"url(#clip130)\" style=\"stroke:#000000; stroke-width:4; stroke-opacity:1; fill:none\" points=\"\n",
       "  260.167,1423.18 260.167,1407.58 \n",
       "  \"/>\n",
       "<polyline clip-path=\"url(#clip130)\" style=\"stroke:#000000; stroke-width:4; stroke-opacity:1; fill:none\" points=\"\n",
       "  444.862,1423.18 444.862,1407.58 \n",
       "  \"/>\n",
       "<polyline clip-path=\"url(#clip130)\" style=\"stroke:#000000; stroke-width:4; stroke-opacity:1; fill:none\" points=\"\n",
       "  629.556,1423.18 629.556,1407.58 \n",
       "  \"/>\n",
       "<polyline clip-path=\"url(#clip130)\" style=\"stroke:#000000; stroke-width:4; stroke-opacity:1; fill:none\" points=\"\n",
       "  814.251,1423.18 814.251,1407.58 \n",
       "  \"/>\n",
       "<polyline clip-path=\"url(#clip130)\" style=\"stroke:#000000; stroke-width:4; stroke-opacity:1; fill:none\" points=\"\n",
       "  998.945,1423.18 998.945,1407.58 \n",
       "  \"/>\n",
       "<polyline clip-path=\"url(#clip130)\" style=\"stroke:#000000; stroke-width:4; stroke-opacity:1; fill:none\" points=\"\n",
       "  1183.64,1423.18 1183.64,1407.58 \n",
       "  \"/>\n",
       "<polyline clip-path=\"url(#clip130)\" style=\"stroke:#000000; stroke-width:4; stroke-opacity:1; fill:none\" points=\"\n",
       "  1368.33,1423.18 1368.33,1407.58 \n",
       "  \"/>\n",
       "<polyline clip-path=\"url(#clip130)\" style=\"stroke:#000000; stroke-width:4; stroke-opacity:1; fill:none\" points=\"\n",
       "  1553.03,1423.18 1553.03,1407.58 \n",
       "  \"/>\n",
       "<polyline clip-path=\"url(#clip130)\" style=\"stroke:#000000; stroke-width:4; stroke-opacity:1; fill:none\" points=\"\n",
       "  1737.72,1423.18 1737.72,1407.58 \n",
       "  \"/>\n",
       "<polyline clip-path=\"url(#clip130)\" style=\"stroke:#000000; stroke-width:4; stroke-opacity:1; fill:none\" points=\"\n",
       "  1922.42,1423.18 1922.42,1407.58 \n",
       "  \"/>\n",
       "<polyline clip-path=\"url(#clip130)\" style=\"stroke:#000000; stroke-width:4; stroke-opacity:1; fill:none\" points=\"\n",
       "  2107.11,1423.18 2107.11,1407.58 \n",
       "  \"/>\n",
       "<polyline clip-path=\"url(#clip130)\" style=\"stroke:#000000; stroke-width:4; stroke-opacity:1; fill:none\" points=\"\n",
       "  2291.81,1423.18 2291.81,1407.58 \n",
       "  \"/>\n",
       "<path clip-path=\"url(#clip130)\" d=\"M 0 0 M250.549 1479.92 L258.188 1479.92 L258.188 1453.55 L249.878 1455.22 L249.878 1450.96 L258.142 1449.29 L262.818 1449.29 L262.818 1479.92 L270.457 1479.92 L270.457 1483.85 L250.549 1483.85 L250.549 1479.92 Z\" fill=\"#000000\" fill-rule=\"evenodd\" fill-opacity=\"1\" /><path clip-path=\"url(#clip130)\" d=\"M 0 0 M439.515 1479.92 L455.834 1479.92 L455.834 1483.85 L433.89 1483.85 L433.89 1479.92 Q436.552 1477.16 441.135 1472.53 Q445.742 1467.88 446.922 1466.54 Q449.167 1464.01 450.047 1462.28 Q450.95 1460.52 450.95 1458.83 Q450.95 1456.07 449.005 1454.34 Q447.084 1452.6 443.982 1452.6 Q441.783 1452.6 439.33 1453.37 Q436.899 1454.13 434.121 1455.68 L434.121 1450.96 Q436.945 1449.82 439.399 1449.25 Q441.853 1448.67 443.89 1448.67 Q449.26 1448.67 452.454 1451.35 Q455.649 1454.04 455.649 1458.53 Q455.649 1460.66 454.839 1462.58 Q454.052 1464.48 451.945 1467.07 Q451.366 1467.74 448.265 1470.96 Q445.163 1474.15 439.515 1479.92 Z\" fill=\"#000000\" fill-rule=\"evenodd\" fill-opacity=\"1\" /><path clip-path=\"url(#clip130)\" d=\"M 0 0 M633.804 1465.22 Q637.161 1465.94 639.035 1468.2 Q640.934 1470.47 640.934 1473.81 Q640.934 1478.92 637.415 1481.72 Q633.897 1484.52 627.415 1484.52 Q625.239 1484.52 622.924 1484.08 Q620.633 1483.67 618.179 1482.81 L618.179 1478.3 Q620.124 1479.43 622.438 1480.01 Q624.753 1480.59 627.276 1480.59 Q631.674 1480.59 633.966 1478.85 Q636.281 1477.12 636.281 1473.81 Q636.281 1470.75 634.128 1469.04 Q631.998 1467.3 628.179 1467.3 L624.151 1467.3 L624.151 1463.46 L628.364 1463.46 Q631.813 1463.46 633.642 1462.09 Q635.471 1460.7 635.471 1458.11 Q635.471 1455.45 633.573 1454.04 Q631.698 1452.6 628.179 1452.6 Q626.258 1452.6 624.059 1453.02 Q621.86 1453.44 619.221 1454.31 L619.221 1450.15 Q621.883 1449.41 624.198 1449.04 Q626.536 1448.67 628.596 1448.67 Q633.92 1448.67 637.022 1451.1 Q640.123 1453.5 640.123 1457.63 Q640.123 1460.5 638.48 1462.49 Q636.836 1464.45 633.804 1465.22 Z\" fill=\"#000000\" fill-rule=\"evenodd\" fill-opacity=\"1\" /><path clip-path=\"url(#clip130)\" d=\"M 0 0 M817.26 1453.37 L805.455 1471.81 L817.26 1471.81 L817.26 1453.37 M816.033 1449.29 L821.913 1449.29 L821.913 1471.81 L826.843 1471.81 L826.843 1475.7 L821.913 1475.7 L821.913 1483.85 L817.26 1483.85 L817.26 1475.7 L801.658 1475.7 L801.658 1471.19 L816.033 1449.29 Z\" fill=\"#000000\" fill-rule=\"evenodd\" fill-opacity=\"1\" /><path clip-path=\"url(#clip130)\" d=\"M 0 0 M989.223 1449.29 L1007.58 1449.29 L1007.58 1453.23 L993.506 1453.23 L993.506 1461.7 Q994.524 1461.35 995.543 1461.19 Q996.561 1461 997.58 1461 Q1003.37 1461 1006.75 1464.18 Q1010.13 1467.35 1010.13 1472.76 Q1010.13 1478.34 1006.65 1481.44 Q1003.18 1484.52 996.862 1484.52 Q994.686 1484.52 992.418 1484.15 Q990.172 1483.78 987.765 1483.04 L987.765 1478.34 Q989.848 1479.48 992.07 1480.03 Q994.293 1480.59 996.769 1480.59 Q1000.77 1480.59 1003.11 1478.48 Q1005.45 1476.38 1005.45 1472.76 Q1005.45 1469.15 1003.11 1467.05 Q1000.77 1464.94 996.769 1464.94 Q994.894 1464.94 993.019 1465.36 Q991.168 1465.77 989.223 1466.65 L989.223 1449.29 Z\" fill=\"#000000\" fill-rule=\"evenodd\" fill-opacity=\"1\" /><path clip-path=\"url(#clip130)\" d=\"M 0 0 M1184.04 1464.71 Q1180.9 1464.71 1179.04 1466.86 Q1177.22 1469.01 1177.22 1472.76 Q1177.22 1476.49 1179.04 1478.67 Q1180.9 1480.82 1184.04 1480.82 Q1187.19 1480.82 1189.02 1478.67 Q1190.87 1476.49 1190.87 1472.76 Q1190.87 1469.01 1189.02 1466.86 Q1187.19 1464.71 1184.04 1464.71 M1193.33 1450.06 L1193.33 1454.31 Q1191.57 1453.48 1189.76 1453.04 Q1187.98 1452.6 1186.22 1452.6 Q1181.59 1452.6 1179.14 1455.73 Q1176.71 1458.85 1176.36 1465.17 Q1177.73 1463.16 1179.79 1462.09 Q1181.85 1461 1184.32 1461 Q1189.53 1461 1192.54 1464.18 Q1195.57 1467.32 1195.57 1472.76 Q1195.57 1478.09 1192.42 1481.31 Q1189.28 1484.52 1184.04 1484.52 Q1178.05 1484.52 1174.88 1479.94 Q1171.71 1475.33 1171.71 1466.61 Q1171.71 1458.41 1175.6 1453.55 Q1179.48 1448.67 1186.04 1448.67 Q1187.79 1448.67 1189.58 1449.01 Q1191.38 1449.36 1193.33 1450.06 Z\" fill=\"#000000\" fill-rule=\"evenodd\" fill-opacity=\"1\" /><path clip-path=\"url(#clip130)\" d=\"M 0 0 M1357.22 1449.29 L1379.45 1449.29 L1379.45 1451.28 L1366.9 1483.85 L1362.01 1483.85 L1373.82 1453.23 L1357.22 1453.23 L1357.22 1449.29 Z\" fill=\"#000000\" fill-rule=\"evenodd\" fill-opacity=\"1\" /><path clip-path=\"url(#clip130)\" d=\"M 0 0 M1553.03 1467.44 Q1549.7 1467.44 1547.77 1469.22 Q1545.88 1471 1545.88 1474.13 Q1545.88 1477.25 1547.77 1479.04 Q1549.7 1480.82 1553.03 1480.82 Q1556.36 1480.82 1558.28 1479.04 Q1560.2 1477.23 1560.2 1474.13 Q1560.2 1471 1558.28 1469.22 Q1556.39 1467.44 1553.03 1467.44 M1548.35 1465.45 Q1545.34 1464.71 1543.65 1462.65 Q1541.99 1460.59 1541.99 1457.63 Q1541.99 1453.48 1544.93 1451.07 Q1547.89 1448.67 1553.03 1448.67 Q1558.19 1448.67 1561.13 1451.07 Q1564.07 1453.48 1564.07 1457.63 Q1564.07 1460.59 1562.38 1462.65 Q1560.71 1464.71 1557.73 1465.45 Q1561.11 1466.24 1562.98 1468.53 Q1564.88 1470.82 1564.88 1474.13 Q1564.88 1479.15 1561.8 1481.84 Q1558.75 1484.52 1553.03 1484.52 Q1547.31 1484.52 1544.23 1481.84 Q1541.18 1479.15 1541.18 1474.13 Q1541.18 1470.82 1543.08 1468.53 Q1544.97 1466.24 1548.35 1465.45 M1546.64 1458.06 Q1546.64 1460.75 1548.31 1462.25 Q1550 1463.76 1553.03 1463.76 Q1556.04 1463.76 1557.73 1462.25 Q1559.44 1460.75 1559.44 1458.06 Q1559.44 1455.38 1557.73 1453.88 Q1556.04 1452.37 1553.03 1452.37 Q1550 1452.37 1548.31 1453.88 Q1546.64 1455.38 1546.64 1458.06 Z\" fill=\"#000000\" fill-rule=\"evenodd\" fill-opacity=\"1\" /><path clip-path=\"url(#clip130)\" d=\"M 0 0 M1728.02 1483.13 L1728.02 1478.88 Q1729.78 1479.71 1731.59 1480.15 Q1733.39 1480.59 1735.13 1480.59 Q1739.76 1480.59 1742.19 1477.49 Q1744.64 1474.36 1744.99 1468.02 Q1743.65 1470.01 1741.59 1471.07 Q1739.53 1472.14 1737.03 1472.14 Q1731.84 1472.14 1728.81 1469.01 Q1725.8 1465.87 1725.8 1460.43 Q1725.8 1455.1 1728.95 1451.88 Q1732.1 1448.67 1737.33 1448.67 Q1743.33 1448.67 1746.47 1453.27 Q1749.64 1457.86 1749.64 1466.61 Q1749.64 1474.78 1745.76 1479.66 Q1741.89 1484.52 1735.34 1484.52 Q1733.58 1484.52 1731.77 1484.18 Q1729.97 1483.83 1728.02 1483.13 M1737.33 1468.48 Q1740.48 1468.48 1742.31 1466.33 Q1744.16 1464.18 1744.16 1460.43 Q1744.16 1456.7 1742.31 1454.55 Q1740.48 1452.37 1737.33 1452.37 Q1734.18 1452.37 1732.33 1454.55 Q1730.5 1456.7 1730.5 1460.43 Q1730.5 1464.18 1732.33 1466.33 Q1734.18 1468.48 1737.33 1468.48 Z\" fill=\"#000000\" fill-rule=\"evenodd\" fill-opacity=\"1\" /><path clip-path=\"url(#clip130)\" d=\"M 0 0 M1899.29 1479.92 L1906.93 1479.92 L1906.93 1453.55 L1898.62 1455.22 L1898.62 1450.96 L1906.89 1449.29 L1911.56 1449.29 L1911.56 1479.92 L1919.2 1479.92 L1919.2 1483.85 L1899.29 1483.85 L1899.29 1479.92 Z\" fill=\"#000000\" fill-rule=\"evenodd\" fill-opacity=\"1\" /><path clip-path=\"url(#clip130)\" d=\"M 0 0 M1934.27 1452.37 Q1930.66 1452.37 1928.83 1455.94 Q1927.02 1459.48 1927.02 1466.61 Q1927.02 1473.71 1928.83 1477.28 Q1930.66 1480.82 1934.27 1480.82 Q1937.9 1480.82 1939.71 1477.28 Q1941.54 1473.71 1941.54 1466.61 Q1941.54 1459.48 1939.71 1455.94 Q1937.9 1452.37 1934.27 1452.37 M1934.27 1448.67 Q1940.08 1448.67 1943.14 1453.27 Q1946.21 1457.86 1946.21 1466.61 Q1946.21 1475.33 1943.14 1479.94 Q1940.08 1484.52 1934.27 1484.52 Q1928.46 1484.52 1925.38 1479.94 Q1922.33 1475.33 1922.33 1466.61 Q1922.33 1457.86 1925.38 1453.27 Q1928.46 1448.67 1934.27 1448.67 Z\" fill=\"#000000\" fill-rule=\"evenodd\" fill-opacity=\"1\" /><path clip-path=\"url(#clip130)\" d=\"M 0 0 M2084.6 1479.92 L2092.24 1479.92 L2092.24 1453.55 L2083.93 1455.22 L2083.93 1450.96 L2092.19 1449.29 L2096.87 1449.29 L2096.87 1479.92 L2104.51 1479.92 L2104.51 1483.85 L2084.6 1483.85 L2084.6 1479.92 Z\" fill=\"#000000\" fill-rule=\"evenodd\" fill-opacity=\"1\" /><path clip-path=\"url(#clip130)\" d=\"M 0 0 M2110.39 1479.92 L2118.03 1479.92 L2118.03 1453.55 L2109.72 1455.22 L2109.72 1450.96 L2117.98 1449.29 L2122.66 1449.29 L2122.66 1479.92 L2130.29 1479.92 L2130.29 1483.85 L2110.39 1483.85 L2110.39 1479.92 Z\" fill=\"#000000\" fill-rule=\"evenodd\" fill-opacity=\"1\" /><path clip-path=\"url(#clip130)\" d=\"M 0 0 M2269.48 1479.92 L2277.12 1479.92 L2277.12 1453.55 L2268.81 1455.22 L2268.81 1450.96 L2277.07 1449.29 L2281.75 1449.29 L2281.75 1479.92 L2289.39 1479.92 L2289.39 1483.85 L2269.48 1483.85 L2269.48 1479.92 Z\" fill=\"#000000\" fill-rule=\"evenodd\" fill-opacity=\"1\" /><path clip-path=\"url(#clip130)\" d=\"M 0 0 M2298.48 1479.92 L2314.8 1479.92 L2314.8 1483.85 L2292.86 1483.85 L2292.86 1479.92 Q2295.52 1477.16 2300.11 1472.53 Q2304.71 1467.88 2305.89 1466.54 Q2308.14 1464.01 2309.02 1462.28 Q2309.92 1460.52 2309.92 1458.83 Q2309.92 1456.07 2307.98 1454.34 Q2306.05 1452.6 2302.95 1452.6 Q2300.75 1452.6 2298.3 1453.37 Q2295.87 1454.13 2293.09 1455.68 L2293.09 1450.96 Q2295.92 1449.82 2298.37 1449.25 Q2300.82 1448.67 2302.86 1448.67 Q2308.23 1448.67 2311.42 1451.35 Q2314.62 1454.04 2314.62 1458.53 Q2314.62 1460.66 2313.81 1462.58 Q2313.02 1464.48 2310.92 1467.07 Q2310.34 1467.74 2307.23 1470.96 Q2304.13 1474.15 2298.48 1479.92 Z\" fill=\"#000000\" fill-rule=\"evenodd\" fill-opacity=\"1\" /><path clip-path=\"url(#clip130)\" d=\"M 0 0 M1188.32 1508.52 L1197.9 1508.52 L1210.02 1540.86 L1222.21 1508.52 L1231.79 1508.52 L1231.79 1556.04 L1225.52 1556.04 L1225.52 1514.32 L1213.27 1546.91 L1206.81 1546.91 L1194.55 1514.32 L1194.55 1556.04 L1188.32 1556.04 L1188.32 1508.52 Z\" fill=\"#000000\" fill-rule=\"evenodd\" fill-opacity=\"1\" /><path clip-path=\"url(#clip130)\" d=\"M 0 0 M1251.75 1524.5 Q1247.04 1524.5 1244.3 1528.19 Q1241.56 1531.85 1241.56 1538.25 Q1241.56 1544.65 1244.27 1548.34 Q1247.01 1552 1251.75 1552 Q1256.43 1552 1259.17 1548.31 Q1261.9 1544.62 1261.9 1538.25 Q1261.9 1531.92 1259.17 1528.23 Q1256.43 1524.5 1251.75 1524.5 M1251.75 1519.54 Q1259.39 1519.54 1263.75 1524.5 Q1268.11 1529.47 1268.11 1538.25 Q1268.11 1547 1263.75 1552 Q1259.39 1556.97 1251.75 1556.97 Q1244.08 1556.97 1239.72 1552 Q1235.39 1547 1235.39 1538.25 Q1235.39 1529.47 1239.72 1524.5 Q1244.08 1519.54 1251.75 1519.54 Z\" fill=\"#000000\" fill-rule=\"evenodd\" fill-opacity=\"1\" /><path clip-path=\"url(#clip130)\" d=\"M 0 0 M1303.88 1534.53 L1303.88 1556.04 L1298.03 1556.04 L1298.03 1534.72 Q1298.03 1529.66 1296.05 1527.14 Q1294.08 1524.63 1290.13 1524.63 Q1285.39 1524.63 1282.66 1527.65 Q1279.92 1530.68 1279.92 1535.9 L1279.92 1556.04 L1274.03 1556.04 L1274.03 1520.4 L1279.92 1520.4 L1279.92 1525.93 Q1282.02 1522.72 1284.85 1521.13 Q1287.72 1519.54 1291.44 1519.54 Q1297.58 1519.54 1300.73 1523.36 Q1303.88 1527.14 1303.88 1534.53 Z\" fill=\"#000000\" fill-rule=\"evenodd\" fill-opacity=\"1\" /><path clip-path=\"url(#clip130)\" d=\"M 0 0 M1315.82 1510.27 L1315.82 1520.4 L1327.88 1520.4 L1327.88 1524.95 L1315.82 1524.95 L1315.82 1544.3 Q1315.82 1548.66 1317 1549.9 Q1318.21 1551.14 1321.87 1551.14 L1327.88 1551.14 L1327.88 1556.04 L1321.87 1556.04 Q1315.09 1556.04 1312.51 1553.53 Q1309.93 1550.98 1309.93 1544.3 L1309.93 1524.95 L1305.64 1524.95 L1305.64 1520.4 L1309.93 1520.4 L1309.93 1510.27 L1315.82 1510.27 Z\" fill=\"#000000\" fill-rule=\"evenodd\" fill-opacity=\"1\" /><path clip-path=\"url(#clip130)\" d=\"M 0 0 M1363.66 1534.53 L1363.66 1556.04 L1357.8 1556.04 L1357.8 1534.72 Q1357.8 1529.66 1355.83 1527.14 Q1353.86 1524.63 1349.91 1524.63 Q1345.17 1524.63 1342.43 1527.65 Q1339.69 1530.68 1339.69 1535.9 L1339.69 1556.04 L1333.8 1556.04 L1333.8 1506.52 L1339.69 1506.52 L1339.69 1525.93 Q1341.79 1522.72 1344.63 1521.13 Q1347.49 1519.54 1351.21 1519.54 Q1357.36 1519.54 1360.51 1523.36 Q1363.66 1527.14 1363.66 1534.53 Z\" fill=\"#000000\" fill-rule=\"evenodd\" fill-opacity=\"1\" /><polyline clip-path=\"url(#clip132)\" style=\"stroke:#000000; stroke-width:2; stroke-opacity:0.1; fill:none\" points=\"\n",
       "  199.218,1418.66 2352.76,1418.66 \n",
       "  \"/>\n",
       "<polyline clip-path=\"url(#clip132)\" style=\"stroke:#000000; stroke-width:2; stroke-opacity:0.1; fill:none\" points=\"\n",
       "  199.218,1149.77 2352.76,1149.77 \n",
       "  \"/>\n",
       "<polyline clip-path=\"url(#clip132)\" style=\"stroke:#000000; stroke-width:2; stroke-opacity:0.1; fill:none\" points=\"\n",
       "  199.218,880.882 2352.76,880.882 \n",
       "  \"/>\n",
       "<polyline clip-path=\"url(#clip132)\" style=\"stroke:#000000; stroke-width:2; stroke-opacity:0.1; fill:none\" points=\"\n",
       "  199.218,611.992 2352.76,611.992 \n",
       "  \"/>\n",
       "<polyline clip-path=\"url(#clip132)\" style=\"stroke:#000000; stroke-width:2; stroke-opacity:0.1; fill:none\" points=\"\n",
       "  199.218,343.102 2352.76,343.102 \n",
       "  \"/>\n",
       "<polyline clip-path=\"url(#clip130)\" style=\"stroke:#000000; stroke-width:4; stroke-opacity:1; fill:none\" points=\"\n",
       "  199.218,1423.18 199.218,123.472 \n",
       "  \"/>\n",
       "<polyline clip-path=\"url(#clip130)\" style=\"stroke:#000000; stroke-width:4; stroke-opacity:1; fill:none\" points=\"\n",
       "  199.218,1418.66 225.061,1418.66 \n",
       "  \"/>\n",
       "<polyline clip-path=\"url(#clip130)\" style=\"stroke:#000000; stroke-width:4; stroke-opacity:1; fill:none\" points=\"\n",
       "  199.218,1149.77 225.061,1149.77 \n",
       "  \"/>\n",
       "<polyline clip-path=\"url(#clip130)\" style=\"stroke:#000000; stroke-width:4; stroke-opacity:1; fill:none\" points=\"\n",
       "  199.218,880.882 225.061,880.882 \n",
       "  \"/>\n",
       "<polyline clip-path=\"url(#clip130)\" style=\"stroke:#000000; stroke-width:4; stroke-opacity:1; fill:none\" points=\"\n",
       "  199.218,611.992 225.061,611.992 \n",
       "  \"/>\n",
       "<polyline clip-path=\"url(#clip130)\" style=\"stroke:#000000; stroke-width:4; stroke-opacity:1; fill:none\" points=\"\n",
       "  199.218,343.102 225.061,343.102 \n",
       "  \"/>\n",
       "<path clip-path=\"url(#clip130)\" d=\"M 0 0 M142.316 1401.38 L160.672 1401.38 L160.672 1405.32 L146.598 1405.32 L146.598 1413.79 Q147.616 1413.44 148.635 1413.28 Q149.653 1413.1 150.672 1413.1 Q156.459 1413.1 159.839 1416.27 Q163.218 1419.44 163.218 1424.85 Q163.218 1430.43 159.746 1433.54 Q156.274 1436.61 149.954 1436.61 Q147.778 1436.61 145.51 1436.24 Q143.265 1435.87 140.857 1435.13 L140.857 1430.43 Q142.941 1431.57 145.163 1432.12 Q147.385 1432.68 149.862 1432.68 Q153.866 1432.68 156.204 1430.57 Q158.542 1428.47 158.542 1424.85 Q158.542 1421.24 156.204 1419.14 Q153.866 1417.03 149.862 1417.03 Q147.987 1417.03 146.112 1417.45 Q144.26 1417.86 142.316 1418.74 L142.316 1401.38 Z\" fill=\"#000000\" fill-rule=\"evenodd\" fill-opacity=\"1\" /><path clip-path=\"url(#clip130)\" d=\"M 0 0 M116.297 1163.12 L123.936 1163.12 L123.936 1136.75 L115.626 1138.42 L115.626 1134.16 L123.89 1132.49 L128.566 1132.49 L128.566 1163.12 L136.204 1163.12 L136.204 1167.05 L116.297 1167.05 L116.297 1163.12 Z\" fill=\"#000000\" fill-rule=\"evenodd\" fill-opacity=\"1\" /><path clip-path=\"url(#clip130)\" d=\"M 0 0 M151.274 1135.57 Q147.663 1135.57 145.834 1139.14 Q144.029 1142.68 144.029 1149.81 Q144.029 1156.91 145.834 1160.48 Q147.663 1164.02 151.274 1164.02 Q154.908 1164.02 156.714 1160.48 Q158.542 1156.91 158.542 1149.81 Q158.542 1142.68 156.714 1139.14 Q154.908 1135.57 151.274 1135.57 M151.274 1131.87 Q157.084 1131.87 160.14 1136.47 Q163.218 1141.06 163.218 1149.81 Q163.218 1158.53 160.14 1163.14 Q157.084 1167.72 151.274 1167.72 Q145.464 1167.72 142.385 1163.14 Q139.329 1158.53 139.329 1149.81 Q139.329 1141.06 142.385 1136.47 Q145.464 1131.87 151.274 1131.87 Z\" fill=\"#000000\" fill-rule=\"evenodd\" fill-opacity=\"1\" /><path clip-path=\"url(#clip130)\" d=\"M 0 0 M117.293 894.227 L124.931 894.227 L124.931 867.861 L116.621 869.528 L116.621 865.269 L124.885 863.602 L129.561 863.602 L129.561 894.227 L137.2 894.227 L137.2 898.162 L117.293 898.162 L117.293 894.227 Z\" fill=\"#000000\" fill-rule=\"evenodd\" fill-opacity=\"1\" /><path clip-path=\"url(#clip130)\" d=\"M 0 0 M142.316 863.602 L160.672 863.602 L160.672 867.537 L146.598 867.537 L146.598 876.009 Q147.616 875.662 148.635 875.5 Q149.653 875.315 150.672 875.315 Q156.459 875.315 159.839 878.486 Q163.218 881.658 163.218 887.074 Q163.218 892.653 159.746 895.755 Q156.274 898.833 149.954 898.833 Q147.778 898.833 145.51 898.463 Q143.265 898.093 140.857 897.352 L140.857 892.653 Q142.941 893.787 145.163 894.343 Q147.385 894.898 149.862 894.898 Q153.866 894.898 156.204 892.792 Q158.542 890.685 158.542 887.074 Q158.542 883.463 156.204 881.357 Q153.866 879.25 149.862 879.25 Q147.987 879.25 146.112 879.667 Q144.26 880.083 142.316 880.963 L142.316 863.602 Z\" fill=\"#000000\" fill-rule=\"evenodd\" fill-opacity=\"1\" /><path clip-path=\"url(#clip130)\" d=\"M 0 0 M119.885 625.337 L136.204 625.337 L136.204 629.272 L114.26 629.272 L114.26 625.337 Q116.922 622.582 121.505 617.952 Q126.112 613.3 127.292 611.957 Q129.538 609.434 130.417 607.698 Q131.32 605.939 131.32 604.249 Q131.32 601.494 129.376 599.758 Q127.455 598.022 124.353 598.022 Q122.154 598.022 119.7 598.786 Q117.269 599.55 114.492 601.101 L114.492 596.379 Q117.316 595.244 119.769 594.666 Q122.223 594.087 124.26 594.087 Q129.63 594.087 132.825 596.772 Q136.019 599.457 136.019 603.948 Q136.019 606.078 135.209 607.999 Q134.422 609.897 132.316 612.49 Q131.737 613.161 128.635 616.378 Q125.533 619.573 119.885 625.337 Z\" fill=\"#000000\" fill-rule=\"evenodd\" fill-opacity=\"1\" /><path clip-path=\"url(#clip130)\" d=\"M 0 0 M151.274 597.791 Q147.663 597.791 145.834 601.355 Q144.029 604.897 144.029 612.027 Q144.029 619.133 145.834 622.698 Q147.663 626.239 151.274 626.239 Q154.908 626.239 156.714 622.698 Q158.542 619.133 158.542 612.027 Q158.542 604.897 156.714 601.355 Q154.908 597.791 151.274 597.791 M151.274 594.087 Q157.084 594.087 160.14 598.693 Q163.218 603.277 163.218 612.027 Q163.218 620.753 160.14 625.36 Q157.084 629.943 151.274 629.943 Q145.464 629.943 142.385 625.36 Q139.329 620.753 139.329 612.027 Q139.329 603.277 142.385 598.693 Q145.464 594.087 151.274 594.087 Z\" fill=\"#000000\" fill-rule=\"evenodd\" fill-opacity=\"1\" /><path clip-path=\"url(#clip130)\" d=\"M 0 0 M120.88 356.446 L137.2 356.446 L137.2 360.382 L115.256 360.382 L115.256 356.446 Q117.918 353.692 122.501 349.062 Q127.107 344.41 128.288 343.067 Q130.533 340.544 131.413 338.808 Q132.316 337.048 132.316 335.359 Q132.316 332.604 130.371 330.868 Q128.45 329.132 125.348 329.132 Q123.149 329.132 120.695 329.896 Q118.265 330.66 115.487 332.211 L115.487 327.488 Q118.311 326.354 120.765 325.775 Q123.218 325.197 125.255 325.197 Q130.626 325.197 133.82 327.882 Q137.015 330.567 137.015 335.058 Q137.015 337.187 136.204 339.109 Q135.417 341.007 133.311 343.599 Q132.732 344.271 129.63 347.488 Q126.529 350.683 120.88 356.446 Z\" fill=\"#000000\" fill-rule=\"evenodd\" fill-opacity=\"1\" /><path clip-path=\"url(#clip130)\" d=\"M 0 0 M142.316 325.822 L160.672 325.822 L160.672 329.757 L146.598 329.757 L146.598 338.229 Q147.616 337.882 148.635 337.72 Q149.653 337.535 150.672 337.535 Q156.459 337.535 159.839 340.706 Q163.218 343.877 163.218 349.294 Q163.218 354.872 159.746 357.974 Q156.274 361.053 149.954 361.053 Q147.778 361.053 145.51 360.683 Q143.265 360.312 140.857 359.571 L140.857 354.872 Q142.941 356.007 145.163 356.562 Q147.385 357.118 149.862 357.118 Q153.866 357.118 156.204 355.011 Q158.542 352.905 158.542 349.294 Q158.542 345.683 156.204 343.576 Q153.866 341.47 149.862 341.47 Q147.987 341.47 146.112 341.886 Q144.26 342.303 142.316 343.183 L142.316 325.822 Z\" fill=\"#000000\" fill-rule=\"evenodd\" fill-opacity=\"1\" /><path clip-path=\"url(#clip130)\" d=\"M 0 0 M40.4842 1028.22 L40.4842 988.025 L45.895 988.025 L45.895 1004.89 L88.0042 1004.89 L88.0042 1011.36 L45.895 1011.36 L45.895 1028.22 L40.4842 1028.22 Z\" fill=\"#000000\" fill-rule=\"evenodd\" fill-opacity=\"1\" /><path clip-path=\"url(#clip130)\" d=\"M 0 0 M68.7161 962.467 L71.5806 962.467 L71.5806 989.394 Q77.6281 989.012 80.8109 985.766 Q83.9619 982.487 83.9619 976.663 Q83.9619 973.289 83.1344 970.138 Q82.3069 966.955 80.6518 963.836 L86.1899 963.836 Q87.5267 966.987 88.227 970.297 Q88.9272 973.607 88.9272 977.013 Q88.9272 985.543 83.9619 990.54 Q78.9967 995.505 70.5303 995.505 Q61.7774 995.505 56.6531 990.794 Q51.4968 986.052 51.4968 978.031 Q51.4968 970.838 56.1438 966.668 Q60.7589 962.467 68.7161 962.467 M66.9973 968.323 Q62.1912 968.387 59.3266 971.029 Q56.4621 973.639 56.4621 977.968 Q56.4621 982.869 59.2312 985.829 Q62.0002 988.757 67.0292 989.203 L66.9973 968.323 Z\" fill=\"#000000\" fill-rule=\"evenodd\" fill-opacity=\"1\" /><path clip-path=\"url(#clip130)\" d=\"M 0 0 M59.1993 928.57 Q55.2526 926.373 53.3747 923.318 Q51.4968 920.262 51.4968 916.125 Q51.4968 910.555 55.4117 907.531 Q59.2948 904.507 66.4881 904.507 L88.0042 904.507 L88.0042 910.396 L66.679 910.396 Q61.5546 910.396 59.072 912.21 Q56.5894 914.024 56.5894 917.748 Q56.5894 922.299 59.6131 924.941 Q62.6368 927.583 67.8567 927.583 L88.0042 927.583 L88.0042 933.471 L66.679 933.471 Q61.5228 933.471 59.072 935.285 Q56.5894 937.1 56.5894 940.887 Q56.5894 945.375 59.6449 948.017 Q62.6686 950.659 67.8567 950.659 L88.0042 950.659 L88.0042 956.547 L52.3562 956.547 L52.3562 950.659 L57.8944 950.659 Q54.616 948.653 53.0564 945.853 Q51.4968 943.052 51.4968 939.2 Q51.4968 935.317 53.4702 932.612 Q55.4436 929.875 59.1993 928.57 Z\" fill=\"#000000\" fill-rule=\"evenodd\" fill-opacity=\"1\" /><path clip-path=\"url(#clip130)\" d=\"M 0 0 M82.657 892.699 L101.563 892.699 L101.563 898.587 L52.3562 898.587 L52.3562 892.699 L57.7671 892.699 Q54.5842 890.853 53.0564 888.052 Q51.4968 885.219 51.4968 881.304 Q51.4968 874.811 56.6531 870.769 Q61.8093 866.695 70.212 866.695 Q78.6147 866.695 83.771 870.769 Q88.9272 874.811 88.9272 881.304 Q88.9272 885.219 87.3994 888.052 Q85.8398 890.853 82.657 892.699 M70.212 872.774 Q63.7508 872.774 60.0905 875.448 Q56.3984 878.09 56.3984 882.737 Q56.3984 887.384 60.0905 890.057 Q63.7508 892.699 70.212 892.699 Q76.6732 892.699 80.3653 890.057 Q84.0256 887.384 84.0256 882.737 Q84.0256 878.09 80.3653 875.448 Q76.6732 872.774 70.212 872.774 Z\" fill=\"#000000\" fill-rule=\"evenodd\" fill-opacity=\"1\" /><path clip-path=\"url(#clip130)\" d=\"M 0 0 M68.7161 830.06 L71.5806 830.06 L71.5806 856.987 Q77.6281 856.605 80.8109 853.359 Q83.9619 850.08 83.9619 844.256 Q83.9619 840.882 83.1344 837.731 Q82.3069 834.548 80.6518 831.429 L86.1899 831.429 Q87.5267 834.58 88.227 837.89 Q88.9272 841.2 88.9272 844.606 Q88.9272 853.136 83.9619 858.133 Q78.9967 863.098 70.5303 863.098 Q61.7774 863.098 56.6531 858.388 Q51.4968 853.645 51.4968 845.624 Q51.4968 838.431 56.1438 834.262 Q60.7589 830.06 68.7161 830.06 M66.9973 835.917 Q62.1912 835.98 59.3266 838.622 Q56.4621 841.232 56.4621 845.561 Q56.4621 850.462 59.2312 853.422 Q62.0002 856.351 67.0292 856.796 L66.9973 835.917 Z\" fill=\"#000000\" fill-rule=\"evenodd\" fill-opacity=\"1\" /><path clip-path=\"url(#clip130)\" d=\"M 0 0 M57.8307 803.261 Q57.2578 804.247 57.0032 805.425 Q56.7167 806.571 56.7167 807.971 Q56.7167 812.937 59.9632 815.61 Q63.1779 818.252 69.2253 818.252 L88.0042 818.252 L88.0042 824.14 L52.3562 824.14 L52.3562 818.252 L57.8944 818.252 Q54.6479 816.406 53.0883 813.446 Q51.4968 810.486 51.4968 806.253 Q51.4968 805.648 51.5923 804.916 Q51.656 804.184 51.8151 803.293 L57.8307 803.261 Z\" fill=\"#000000\" fill-rule=\"evenodd\" fill-opacity=\"1\" /><path clip-path=\"url(#clip130)\" d=\"M 0 0 M70.0847 780.917 Q70.0847 788.015 71.7079 790.752 Q73.3312 793.489 77.2461 793.489 Q80.3653 793.489 82.2114 791.452 Q84.0256 789.383 84.0256 785.851 Q84.0256 780.981 80.5881 778.053 Q77.1188 775.092 71.3897 775.092 L70.0847 775.092 L70.0847 780.917 M67.6657 769.236 L88.0042 769.236 L88.0042 775.092 L82.5933 775.092 Q85.8398 777.098 87.3994 780.09 Q88.9272 783.081 88.9272 787.41 Q88.9272 792.885 85.8716 796.131 Q82.7843 799.346 77.6281 799.346 Q71.6125 799.346 68.5569 795.335 Q65.5014 791.293 65.5014 783.304 L65.5014 775.092 L64.9285 775.092 Q60.8862 775.092 58.6901 777.766 Q56.4621 780.408 56.4621 785.214 Q56.4621 788.269 57.1941 791.166 Q57.9262 794.062 59.3903 796.736 L53.9795 796.736 Q52.7381 793.521 52.1334 790.497 Q51.4968 787.474 51.4968 784.609 Q51.4968 776.875 55.5072 773.055 Q59.5176 769.236 67.6657 769.236 Z\" fill=\"#000000\" fill-rule=\"evenodd\" fill-opacity=\"1\" /><path clip-path=\"url(#clip130)\" d=\"M 0 0 M42.2347 757.3 L52.3562 757.3 L52.3562 745.237 L56.9077 745.237 L56.9077 757.3 L76.2594 757.3 Q80.6199 757.3 81.8613 756.123 Q83.1026 754.913 83.1026 751.253 L83.1026 745.237 L88.0042 745.237 L88.0042 751.253 Q88.0042 758.032 85.4897 760.61 Q82.9434 763.189 76.2594 763.189 L56.9077 763.189 L56.9077 767.485 L52.3562 767.485 L52.3562 763.189 L42.2347 763.189 L42.2347 757.3 Z\" fill=\"#000000\" fill-rule=\"evenodd\" fill-opacity=\"1\" /><path clip-path=\"url(#clip130)\" d=\"M 0 0 M73.9359 739.699 L52.3562 739.699 L52.3562 733.843 L73.7131 733.843 Q78.7739 733.843 81.3202 731.869 Q83.8346 729.896 83.8346 725.949 Q83.8346 721.207 80.8109 718.47 Q77.7872 715.7 72.5673 715.7 L52.3562 715.7 L52.3562 709.844 L88.0042 709.844 L88.0042 715.7 L82.5296 715.7 Q85.7762 717.833 87.3676 720.666 Q88.9272 723.467 88.9272 727.191 Q88.9272 733.333 85.1078 736.516 Q81.2883 739.699 73.9359 739.699 M51.4968 724.963 L51.4968 724.963 Z\" fill=\"#000000\" fill-rule=\"evenodd\" fill-opacity=\"1\" /><path clip-path=\"url(#clip130)\" d=\"M 0 0 M57.8307 683.044 Q57.2578 684.031 57.0032 685.209 Q56.7167 686.355 56.7167 687.755 Q56.7167 692.72 59.9632 695.394 Q63.1779 698.036 69.2253 698.036 L88.0042 698.036 L88.0042 703.924 L52.3562 703.924 L52.3562 698.036 L57.8944 698.036 Q54.6479 696.19 53.0883 693.229 Q51.4968 690.269 51.4968 686.036 Q51.4968 685.431 51.5923 684.699 Q51.656 683.967 51.8151 683.076 L57.8307 683.044 Z\" fill=\"#000000\" fill-rule=\"evenodd\" fill-opacity=\"1\" /><path clip-path=\"url(#clip130)\" d=\"M 0 0 M68.7161 647.842 L71.5806 647.842 L71.5806 674.769 Q77.6281 674.387 80.8109 671.14 Q83.9619 667.862 83.9619 662.038 Q83.9619 658.664 83.1344 655.513 Q82.3069 652.33 80.6518 649.211 L86.1899 649.211 Q87.5267 652.362 88.227 655.672 Q88.9272 658.982 88.9272 662.388 Q88.9272 670.918 83.9619 675.915 Q78.9967 680.88 70.5303 680.88 Q61.7774 680.88 56.6531 676.169 Q51.4968 671.427 51.4968 663.406 Q51.4968 656.213 56.1438 652.043 Q60.7589 647.842 68.7161 647.842 M66.9973 653.698 Q62.1912 653.762 59.3266 656.404 Q56.4621 659.014 56.4621 663.342 Q56.4621 668.244 59.2312 671.204 Q62.0002 674.132 67.0292 674.578 L66.9973 653.698 Z\" fill=\"#000000\" fill-rule=\"evenodd\" fill-opacity=\"1\" /><path clip-path=\"url(#clip130)\" d=\"M 0 0 M38.5426 606.91 Q45.8632 611.176 53.0246 613.244 Q60.186 615.313 67.5384 615.313 Q74.8908 615.313 82.1159 613.244 Q89.3091 611.144 96.5979 606.91 L96.5979 612.003 Q89.1182 616.777 81.8931 619.164 Q74.668 621.52 67.5384 621.52 Q60.4406 621.52 53.2474 619.164 Q46.0542 616.809 38.5426 612.003 L38.5426 606.91 Z\" fill=\"#000000\" fill-rule=\"evenodd\" fill-opacity=\"1\" /><path clip-path=\"url(#clip130)\" d=\"M 0 0 M43.7307 590.614 Q43.7307 593.161 45.5131 594.911 Q47.2636 596.662 49.8099 596.662 Q52.3244 596.662 54.0749 594.911 Q55.7937 593.161 55.7937 590.614 Q55.7937 588.068 54.0749 586.317 Q52.3244 584.567 49.8099 584.567 Q47.2955 584.567 45.5131 586.349 Q43.7307 588.1 43.7307 590.614 M39.6248 590.614 Q39.6248 588.577 40.4205 586.699 Q41.1844 584.821 42.6485 583.453 Q44.0808 581.989 45.895 581.257 Q47.7092 580.525 49.8099 580.525 Q54.0113 580.525 56.9395 583.485 Q59.8359 586.413 59.8359 590.678 Q59.8359 594.975 56.9713 597.839 Q54.1068 600.704 49.8099 600.704 Q45.5449 600.704 42.5848 597.776 Q39.6248 594.847 39.6248 590.614 M44.1444 538.256 L50.9239 538.256 Q47.9002 541.503 46.4043 545.195 Q44.9083 548.855 44.9083 552.993 Q44.9083 561.141 49.9054 565.47 Q54.8707 569.798 64.2919 569.798 Q73.6813 569.798 78.6784 565.47 Q83.6436 561.141 83.6436 552.993 Q83.6436 548.855 82.1477 545.195 Q80.6518 541.503 77.6281 538.256 L84.3439 538.256 Q86.6355 541.63 87.7814 545.418 Q88.9272 549.174 88.9272 553.375 Q88.9272 564.165 82.3387 570.371 Q75.7183 576.578 64.2919 576.578 Q52.8336 576.578 46.2451 570.371 Q39.6248 564.165 39.6248 553.375 Q39.6248 549.11 40.7706 545.354 Q41.8846 541.567 44.1444 538.256 Z\" fill=\"#000000\" fill-rule=\"evenodd\" fill-opacity=\"1\" /><path clip-path=\"url(#clip130)\" d=\"M 0 0 M38.5426 533.036 L38.5426 527.944 Q46.0542 523.17 53.2474 520.814 Q60.4406 518.427 67.5384 518.427 Q74.668 518.427 81.8931 520.814 Q89.1182 523.17 96.5979 527.944 L96.5979 533.036 Q89.3091 528.803 82.1159 526.734 Q74.8908 524.634 67.5384 524.634 Q60.186 524.634 53.0246 526.734 Q45.8632 528.803 38.5426 533.036 Z\" fill=\"#000000\" fill-rule=\"evenodd\" fill-opacity=\"1\" /><path clip-path=\"url(#clip130)\" d=\"M 0 0 M872.659 20.1573 L861.559 50.2555 L883.799 50.2555 L872.659 20.1573 M868.041 12.096 L877.317 12.096 L900.367 72.576 L891.86 72.576 L886.351 57.061 L859.088 57.061 L853.579 72.576 L844.951 72.576 L868.041 12.096 Z\" fill=\"#000000\" fill-rule=\"evenodd\" fill-opacity=\"1\" /><path clip-path=\"url(#clip130)\" d=\"M 0 0 M897.977 27.2059 L905.876 27.2059 L920.054 65.2844 L934.233 27.2059 L942.132 27.2059 L925.118 72.576 L914.991 72.576 L897.977 27.2059 Z\" fill=\"#000000\" fill-rule=\"evenodd\" fill-opacity=\"1\" /><path clip-path=\"url(#clip130)\" d=\"M 0 0 M988.758 48.0275 L988.758 51.6733 L954.487 51.6733 Q954.973 59.3701 959.105 63.421 Q963.278 67.4314 970.691 67.4314 Q974.985 67.4314 978.995 66.3781 Q983.046 65.3249 987.016 63.2184 L987.016 70.267 Q983.005 71.9684 978.792 72.8596 Q974.58 73.7508 970.245 73.7508 Q959.389 73.7508 953.029 67.4314 Q946.709 61.1119 946.709 50.3365 Q946.709 39.1965 952.705 32.6746 Q958.741 26.1121 968.949 26.1121 Q978.104 26.1121 983.411 32.0264 Q988.758 37.9003 988.758 48.0275 M981.304 45.84 Q981.223 39.7232 977.861 36.0774 Q974.539 32.4315 969.03 32.4315 Q962.791 32.4315 959.024 35.9558 Q955.297 39.4801 954.73 45.8805 L981.304 45.84 Z\" fill=\"#000000\" fill-rule=\"evenodd\" fill-opacity=\"1\" /><path clip-path=\"url(#clip130)\" d=\"M 0 0 M1022.87 34.1734 Q1021.61 33.4443 1020.11 33.1202 Q1018.65 32.7556 1016.87 32.7556 Q1010.55 32.7556 1007.15 36.8875 Q1003.79 40.9789 1003.79 48.6757 L1003.79 72.576 L996.292 72.576 L996.292 27.2059 L1003.79 27.2059 L1003.79 34.2544 Q1006.14 30.1225 1009.9 28.1376 Q1013.67 26.1121 1019.06 26.1121 Q1019.83 26.1121 1020.76 26.2337 Q1021.69 26.3147 1022.83 26.5172 L1022.87 34.1734 Z\" fill=\"#000000\" fill-rule=\"evenodd\" fill-opacity=\"1\" /><path clip-path=\"url(#clip130)\" d=\"M 0 0 M1051.3 49.7694 Q1042.27 49.7694 1038.79 51.8354 Q1035.3 53.9013 1035.3 58.8839 Q1035.3 62.8538 1037.9 65.2034 Q1040.53 67.5124 1045.02 67.5124 Q1051.22 67.5124 1054.95 63.1374 Q1058.72 58.7219 1058.72 51.4303 L1058.72 49.7694 L1051.3 49.7694 M1066.17 46.6907 L1066.17 72.576 L1058.72 72.576 L1058.72 65.6895 Q1056.16 69.8214 1052.36 71.8063 Q1048.55 73.7508 1043.04 73.7508 Q1036.07 73.7508 1031.94 69.8619 Q1027.85 65.9325 1027.85 59.3701 Q1027.85 51.7138 1032.95 47.825 Q1038.1 43.9361 1048.27 43.9361 L1058.72 43.9361 L1058.72 43.2069 Q1058.72 38.0623 1055.31 35.2672 Q1051.95 32.4315 1045.83 32.4315 Q1041.95 32.4315 1038.26 33.3632 Q1034.57 34.295 1031.17 36.1584 L1031.17 29.2718 Q1035.26 27.692 1039.11 26.9223 Q1042.96 26.1121 1046.6 26.1121 Q1056.45 26.1121 1061.31 31.2163 Q1066.17 36.3204 1066.17 46.6907 Z\" fill=\"#000000\" fill-rule=\"evenodd\" fill-opacity=\"1\" /><path clip-path=\"url(#clip130)\" d=\"M 0 0 M1103.84 49.3643 Q1103.84 41.2625 1100.48 36.8065 Q1097.16 32.3505 1091.12 32.3505 Q1085.13 32.3505 1081.77 36.8065 Q1078.44 41.2625 1078.44 49.3643 Q1078.44 57.4256 1081.77 61.8816 Q1085.13 66.3376 1091.12 66.3376 Q1097.16 66.3376 1100.48 61.8816 Q1103.84 57.4256 1103.84 49.3643 M1111.3 66.9452 Q1111.3 78.5308 1106.15 84.1616 Q1101.01 89.8329 1090.39 89.8329 Q1086.47 89.8329 1082.98 89.2252 Q1079.5 88.6581 1076.22 87.4428 L1076.22 80.1917 Q1079.5 81.9741 1082.7 82.8248 Q1085.9 83.6755 1089.22 83.6755 Q1096.55 83.6755 1100.2 79.8271 Q1103.84 76.0193 1103.84 68.282 L1103.84 64.5957 Q1101.53 68.6061 1097.93 70.5911 Q1094.32 72.576 1089.3 72.576 Q1080.96 72.576 1075.85 66.2161 Q1070.75 59.8562 1070.75 49.3643 Q1070.75 38.832 1075.85 32.472 Q1080.96 26.1121 1089.3 26.1121 Q1094.32 26.1121 1097.93 28.0971 Q1101.53 30.082 1103.84 34.0924 L1103.84 27.2059 L1111.3 27.2059 L1111.3 66.9452 Z\" fill=\"#000000\" fill-rule=\"evenodd\" fill-opacity=\"1\" /><path clip-path=\"url(#clip130)\" d=\"M 0 0 M1157.92 48.0275 L1157.92 51.6733 L1123.65 51.6733 Q1124.14 59.3701 1128.27 63.421 Q1132.44 67.4314 1139.86 67.4314 Q1144.15 67.4314 1148.16 66.3781 Q1152.21 65.3249 1156.18 63.2184 L1156.18 70.267 Q1152.17 71.9684 1147.96 72.8596 Q1143.75 73.7508 1139.41 73.7508 Q1128.55 73.7508 1122.19 67.4314 Q1115.88 61.1119 1115.88 50.3365 Q1115.88 39.1965 1121.87 32.6746 Q1127.91 26.1121 1138.11 26.1121 Q1147.27 26.1121 1152.58 32.0264 Q1157.92 37.9003 1157.92 48.0275 M1150.47 45.84 Q1150.39 39.7232 1147.03 36.0774 Q1143.7 32.4315 1138.2 32.4315 Q1131.96 32.4315 1128.19 35.9558 Q1124.46 39.4801 1123.9 45.8805 L1150.47 45.84 Z\" fill=\"#000000\" fill-rule=\"evenodd\" fill-opacity=\"1\" /><path clip-path=\"url(#clip130)\" d=\"M 0 0 M1195.6 34.0924 L1195.6 9.54393 L1203.05 9.54393 L1203.05 72.576 L1195.6 72.576 L1195.6 65.7705 Q1193.25 69.8214 1189.64 71.8063 Q1186.08 73.7508 1181.05 73.7508 Q1172.83 73.7508 1167.65 67.1883 Q1162.5 60.6258 1162.5 49.9314 Q1162.5 39.2371 1167.65 32.6746 Q1172.83 26.1121 1181.05 26.1121 Q1186.08 26.1121 1189.64 28.0971 Q1193.25 30.0415 1195.6 34.0924 M1170.2 49.9314 Q1170.2 58.1548 1173.56 62.8538 Q1176.96 67.5124 1182.88 67.5124 Q1188.79 67.5124 1192.19 62.8538 Q1195.6 58.1548 1195.6 49.9314 Q1195.6 41.7081 1192.19 37.0496 Q1188.79 32.3505 1182.88 32.3505 Q1176.96 32.3505 1173.56 37.0496 Q1170.2 41.7081 1170.2 49.9314 Z\" fill=\"#000000\" fill-rule=\"evenodd\" fill-opacity=\"1\" /><path clip-path=\"url(#clip130)\" d=\"M 0 0 M1244.61 14.324 L1244.61 27.2059 L1259.97 27.2059 L1259.97 32.9987 L1244.61 32.9987 L1244.61 57.6282 Q1244.61 63.1779 1246.11 64.7578 Q1247.65 66.3376 1252.31 66.3376 L1259.97 66.3376 L1259.97 72.576 L1252.31 72.576 Q1243.68 72.576 1240.4 69.3758 Q1237.12 66.1351 1237.12 57.6282 L1237.12 32.9987 L1231.65 32.9987 L1231.65 27.2059 L1237.12 27.2059 L1237.12 14.324 L1244.61 14.324 Z\" fill=\"#000000\" fill-rule=\"evenodd\" fill-opacity=\"1\" /><path clip-path=\"url(#clip130)\" d=\"M 0 0 M1306.59 48.0275 L1306.59 51.6733 L1272.32 51.6733 Q1272.81 59.3701 1276.94 63.421 Q1281.11 67.4314 1288.52 67.4314 Q1292.82 67.4314 1296.83 66.3781 Q1300.88 65.3249 1304.85 63.2184 L1304.85 70.267 Q1300.84 71.9684 1296.63 72.8596 Q1292.41 73.7508 1288.08 73.7508 Q1277.22 73.7508 1270.86 67.4314 Q1264.54 61.1119 1264.54 50.3365 Q1264.54 39.1965 1270.54 32.6746 Q1276.57 26.1121 1286.78 26.1121 Q1295.94 26.1121 1301.24 32.0264 Q1306.59 37.9003 1306.59 48.0275 M1299.14 45.84 Q1299.06 39.7232 1295.69 36.0774 Q1292.37 32.4315 1286.86 32.4315 Q1280.63 32.4315 1276.86 35.9558 Q1273.13 39.4801 1272.56 45.8805 L1299.14 45.84 Z\" fill=\"#000000\" fill-rule=\"evenodd\" fill-opacity=\"1\" /><path clip-path=\"url(#clip130)\" d=\"M 0 0 M1349.73 35.9153 Q1352.53 30.8922 1356.42 28.5022 Q1360.31 26.1121 1365.57 26.1121 Q1372.66 26.1121 1376.51 31.0947 Q1380.36 36.0368 1380.36 45.1919 L1380.36 72.576 L1372.86 72.576 L1372.86 45.4349 Q1372.86 38.913 1370.56 35.7533 Q1368.25 32.5936 1363.51 32.5936 Q1357.71 32.5936 1354.35 36.4419 Q1350.99 40.2903 1350.99 46.9338 L1350.99 72.576 L1343.5 72.576 L1343.5 45.4349 Q1343.5 38.8725 1341.19 35.7533 Q1338.88 32.5936 1334.06 32.5936 Q1328.35 32.5936 1324.98 36.4824 Q1321.62 40.3308 1321.62 46.9338 L1321.62 72.576 L1314.13 72.576 L1314.13 27.2059 L1321.62 27.2059 L1321.62 34.2544 Q1324.17 30.082 1327.74 28.0971 Q1331.3 26.1121 1336.2 26.1121 Q1341.15 26.1121 1344.59 28.6237 Q1348.07 31.1352 1349.73 35.9153 Z\" fill=\"#000000\" fill-rule=\"evenodd\" fill-opacity=\"1\" /><path clip-path=\"url(#clip130)\" d=\"M 0 0 M1395.39 65.7705 L1395.39 89.8329 L1387.89 89.8329 L1387.89 27.2059 L1395.39 27.2059 L1395.39 34.0924 Q1397.74 30.0415 1401.3 28.0971 Q1404.91 26.1121 1409.89 26.1121 Q1418.15 26.1121 1423.3 32.6746 Q1428.48 39.2371 1428.48 49.9314 Q1428.48 60.6258 1423.3 67.1883 Q1418.15 73.7508 1409.89 73.7508 Q1404.91 73.7508 1401.3 71.8063 Q1397.74 69.8214 1395.39 65.7705 M1420.75 49.9314 Q1420.75 41.7081 1417.34 37.0496 Q1413.98 32.3505 1408.07 32.3505 Q1402.15 32.3505 1398.75 37.0496 Q1395.39 41.7081 1395.39 49.9314 Q1395.39 58.1548 1398.75 62.8538 Q1402.15 67.5124 1408.07 67.5124 Q1413.98 67.5124 1417.34 62.8538 Q1420.75 58.1548 1420.75 49.9314 Z\" fill=\"#000000\" fill-rule=\"evenodd\" fill-opacity=\"1\" /><path clip-path=\"url(#clip130)\" d=\"M 0 0 M1475.11 48.0275 L1475.11 51.6733 L1440.84 51.6733 Q1441.32 59.3701 1445.46 63.421 Q1449.63 67.4314 1457.04 67.4314 Q1461.34 67.4314 1465.35 66.3781 Q1469.4 65.3249 1473.37 63.2184 L1473.37 70.267 Q1469.36 71.9684 1465.14 72.8596 Q1460.93 73.7508 1456.6 73.7508 Q1445.74 73.7508 1439.38 67.4314 Q1433.06 61.1119 1433.06 50.3365 Q1433.06 39.1965 1439.06 32.6746 Q1445.09 26.1121 1455.3 26.1121 Q1464.46 26.1121 1469.76 32.0264 Q1475.11 37.9003 1475.11 48.0275 M1467.66 45.84 Q1467.57 39.7232 1464.21 36.0774 Q1460.89 32.4315 1455.38 32.4315 Q1449.14 32.4315 1445.38 35.9558 Q1441.65 39.4801 1441.08 45.8805 L1467.66 45.84 Z\" fill=\"#000000\" fill-rule=\"evenodd\" fill-opacity=\"1\" /><path clip-path=\"url(#clip130)\" d=\"M 0 0 M1509.22 34.1734 Q1507.96 33.4443 1506.46 33.1202 Q1505 32.7556 1503.22 32.7556 Q1496.9 32.7556 1493.5 36.8875 Q1490.14 40.9789 1490.14 48.6757 L1490.14 72.576 L1482.64 72.576 L1482.64 27.2059 L1490.14 27.2059 L1490.14 34.2544 Q1492.49 30.1225 1496.25 28.1376 Q1500.02 26.1121 1505.41 26.1121 Q1506.18 26.1121 1507.11 26.2337 Q1508.04 26.3147 1509.18 26.5172 L1509.22 34.1734 Z\" fill=\"#000000\" fill-rule=\"evenodd\" fill-opacity=\"1\" /><path clip-path=\"url(#clip130)\" d=\"M 0 0 M1537.66 49.7694 Q1528.62 49.7694 1525.14 51.8354 Q1521.65 53.9013 1521.65 58.8839 Q1521.65 62.8538 1524.25 65.2034 Q1526.88 67.5124 1531.38 67.5124 Q1537.57 67.5124 1541.3 63.1374 Q1545.07 58.7219 1545.07 51.4303 L1545.07 49.7694 L1537.66 49.7694 M1552.52 46.6907 L1552.52 72.576 L1545.07 72.576 L1545.07 65.6895 Q1542.52 69.8214 1538.71 71.8063 Q1534.9 73.7508 1529.39 73.7508 Q1522.42 73.7508 1518.29 69.8619 Q1514.2 65.9325 1514.2 59.3701 Q1514.2 51.7138 1519.3 47.825 Q1524.45 43.9361 1534.62 43.9361 L1545.07 43.9361 L1545.07 43.2069 Q1545.07 38.0623 1541.67 35.2672 Q1538.3 32.4315 1532.19 32.4315 Q1528.3 32.4315 1524.61 33.3632 Q1520.92 34.295 1517.52 36.1584 L1517.52 29.2718 Q1521.61 27.692 1525.46 26.9223 Q1529.31 26.1121 1532.96 26.1121 Q1542.8 26.1121 1547.66 31.2163 Q1552.52 36.3204 1552.52 46.6907 Z\" fill=\"#000000\" fill-rule=\"evenodd\" fill-opacity=\"1\" /><path clip-path=\"url(#clip130)\" d=\"M 0 0 M1567.71 14.324 L1567.71 27.2059 L1583.07 27.2059 L1583.07 32.9987 L1567.71 32.9987 L1567.71 57.6282 Q1567.71 63.1779 1569.21 64.7578 Q1570.75 66.3376 1575.41 66.3376 L1583.07 66.3376 L1583.07 72.576 L1575.41 72.576 Q1566.78 72.576 1563.5 69.3758 Q1560.22 66.1351 1560.22 57.6282 L1560.22 32.9987 L1554.75 32.9987 L1554.75 27.2059 L1560.22 27.2059 L1560.22 14.324 L1567.71 14.324 Z\" fill=\"#000000\" fill-rule=\"evenodd\" fill-opacity=\"1\" /><path clip-path=\"url(#clip130)\" d=\"M 0 0 M1590.11 54.671 L1590.11 27.2059 L1597.57 27.2059 L1597.57 54.3874 Q1597.57 60.8284 1600.08 64.0691 Q1602.59 67.2693 1607.61 67.2693 Q1613.65 67.2693 1617.13 63.421 Q1620.66 59.5726 1620.66 52.9291 L1620.66 27.2059 L1628.11 27.2059 L1628.11 72.576 L1620.66 72.576 L1620.66 65.6084 Q1617.94 69.7404 1614.34 71.7658 Q1610.77 73.7508 1606.03 73.7508 Q1598.22 73.7508 1594.17 68.8897 Q1590.11 64.0286 1590.11 54.671 M1608.87 26.1121 L1608.87 26.1121 Z\" fill=\"#000000\" fill-rule=\"evenodd\" fill-opacity=\"1\" /><path clip-path=\"url(#clip130)\" d=\"M 0 0 M1662.22 34.1734 Q1660.96 33.4443 1659.47 33.1202 Q1658.01 32.7556 1656.23 32.7556 Q1649.91 32.7556 1646.5 36.8875 Q1643.14 40.9789 1643.14 48.6757 L1643.14 72.576 L1635.65 72.576 L1635.65 27.2059 L1643.14 27.2059 L1643.14 34.2544 Q1645.49 30.1225 1649.26 28.1376 Q1653.02 26.1121 1658.41 26.1121 Q1659.18 26.1121 1660.11 26.2337 Q1661.05 26.3147 1662.18 26.5172 L1662.22 34.1734 Z\" fill=\"#000000\" fill-rule=\"evenodd\" fill-opacity=\"1\" /><path clip-path=\"url(#clip130)\" d=\"M 0 0 M1707.02 48.0275 L1707.02 51.6733 L1672.75 51.6733 Q1673.24 59.3701 1677.37 63.421 Q1681.54 67.4314 1688.96 67.4314 Q1693.25 67.4314 1697.26 66.3781 Q1701.31 65.3249 1705.28 63.2184 L1705.28 70.267 Q1701.27 71.9684 1697.06 72.8596 Q1692.85 73.7508 1688.51 73.7508 Q1677.65 73.7508 1671.29 67.4314 Q1664.98 61.1119 1664.98 50.3365 Q1664.98 39.1965 1670.97 32.6746 Q1677.01 26.1121 1687.21 26.1121 Q1696.37 26.1121 1701.68 32.0264 Q1707.02 37.9003 1707.02 48.0275 M1699.57 45.84 Q1699.49 39.7232 1696.13 36.0774 Q1692.8 32.4315 1687.3 32.4315 Q1681.06 32.4315 1677.29 35.9558 Q1673.56 39.4801 1673 45.8805 L1699.57 45.84 Z\" fill=\"#000000\" fill-rule=\"evenodd\" fill-opacity=\"1\" /><polyline clip-path=\"url(#clip132)\" style=\"stroke:#ff0000; stroke-width:4; stroke-opacity:1; fill:none\" points=\"\n",
       "  260.167,1386.4 444.862,1300.35 629.556,1117.51 814.251,956.171 998.945,611.992 1183.64,515.191 1368.33,391.502 1553.03,160.256 1737.72,337.724 1922.42,644.259 \n",
       "  2107.11,983.06 2291.81,1230.44 \n",
       "  \"/>\n",
       "<circle clip-path=\"url(#clip132)\" cx=\"260.167\" cy=\"1386.4\" r=\"14\" fill=\"#ff0000\" fill-rule=\"evenodd\" fill-opacity=\"1\" stroke=\"#000000\" stroke-opacity=\"1\" stroke-width=\"3.2\"/>\n",
       "<circle clip-path=\"url(#clip132)\" cx=\"444.862\" cy=\"1300.35\" r=\"14\" fill=\"#ff0000\" fill-rule=\"evenodd\" fill-opacity=\"1\" stroke=\"#000000\" stroke-opacity=\"1\" stroke-width=\"3.2\"/>\n",
       "<circle clip-path=\"url(#clip132)\" cx=\"629.556\" cy=\"1117.51\" r=\"14\" fill=\"#ff0000\" fill-rule=\"evenodd\" fill-opacity=\"1\" stroke=\"#000000\" stroke-opacity=\"1\" stroke-width=\"3.2\"/>\n",
       "<circle clip-path=\"url(#clip132)\" cx=\"814.251\" cy=\"956.171\" r=\"14\" fill=\"#ff0000\" fill-rule=\"evenodd\" fill-opacity=\"1\" stroke=\"#000000\" stroke-opacity=\"1\" stroke-width=\"3.2\"/>\n",
       "<circle clip-path=\"url(#clip132)\" cx=\"998.945\" cy=\"611.992\" r=\"14\" fill=\"#ff0000\" fill-rule=\"evenodd\" fill-opacity=\"1\" stroke=\"#000000\" stroke-opacity=\"1\" stroke-width=\"3.2\"/>\n",
       "<circle clip-path=\"url(#clip132)\" cx=\"1183.64\" cy=\"515.191\" r=\"14\" fill=\"#ff0000\" fill-rule=\"evenodd\" fill-opacity=\"1\" stroke=\"#000000\" stroke-opacity=\"1\" stroke-width=\"3.2\"/>\n",
       "<circle clip-path=\"url(#clip132)\" cx=\"1368.33\" cy=\"391.502\" r=\"14\" fill=\"#ff0000\" fill-rule=\"evenodd\" fill-opacity=\"1\" stroke=\"#000000\" stroke-opacity=\"1\" stroke-width=\"3.2\"/>\n",
       "<circle clip-path=\"url(#clip132)\" cx=\"1553.03\" cy=\"160.256\" r=\"14\" fill=\"#ff0000\" fill-rule=\"evenodd\" fill-opacity=\"1\" stroke=\"#000000\" stroke-opacity=\"1\" stroke-width=\"3.2\"/>\n",
       "<circle clip-path=\"url(#clip132)\" cx=\"1737.72\" cy=\"337.724\" r=\"14\" fill=\"#ff0000\" fill-rule=\"evenodd\" fill-opacity=\"1\" stroke=\"#000000\" stroke-opacity=\"1\" stroke-width=\"3.2\"/>\n",
       "<circle clip-path=\"url(#clip132)\" cx=\"1922.42\" cy=\"644.259\" r=\"14\" fill=\"#ff0000\" fill-rule=\"evenodd\" fill-opacity=\"1\" stroke=\"#000000\" stroke-opacity=\"1\" stroke-width=\"3.2\"/>\n",
       "<circle clip-path=\"url(#clip132)\" cx=\"2107.11\" cy=\"983.06\" r=\"14\" fill=\"#ff0000\" fill-rule=\"evenodd\" fill-opacity=\"1\" stroke=\"#000000\" stroke-opacity=\"1\" stroke-width=\"3.2\"/>\n",
       "<circle clip-path=\"url(#clip132)\" cx=\"2291.81\" cy=\"1230.44\" r=\"14\" fill=\"#ff0000\" fill-rule=\"evenodd\" fill-opacity=\"1\" stroke=\"#000000\" stroke-opacity=\"1\" stroke-width=\"3.2\"/>\n",
       "<path clip-path=\"url(#clip130)\" d=\"\n",
       "M1924.21 287.756 L2280.97 287.756 L2280.97 166.796 L1924.21 166.796  Z\n",
       "  \" fill=\"#ffffff\" fill-rule=\"evenodd\" fill-opacity=\"1\"/>\n",
       "<polyline clip-path=\"url(#clip130)\" style=\"stroke:#000000; stroke-width:4; stroke-opacity:1; fill:none\" points=\"\n",
       "  1924.21,287.756 2280.97,287.756 2280.97,166.796 1924.21,166.796 1924.21,287.756 \n",
       "  \"/>\n",
       "<polyline clip-path=\"url(#clip130)\" style=\"stroke:#ff0000; stroke-width:4; stroke-opacity:1; fill:none\" points=\"\n",
       "  1948.14,227.276 2091.71,227.276 \n",
       "  \"/>\n",
       "<circle clip-path=\"url(#clip130)\" cx=\"2019.93\" cy=\"227.276\" r=\"23\" fill=\"#ff0000\" fill-rule=\"evenodd\" fill-opacity=\"1\" stroke=\"#000000\" stroke-opacity=\"1\" stroke-width=\"5.12\"/>\n",
       "<path clip-path=\"url(#clip130)\" d=\"M 0 0 M2115.64 209.996 L2144.87 209.996 L2144.87 213.931 L2132.61 213.931 L2132.61 244.556 L2127.91 244.556 L2127.91 213.931 L2115.64 213.931 L2115.64 209.996 Z\" fill=\"#000000\" fill-rule=\"evenodd\" fill-opacity=\"1\" /><path clip-path=\"url(#clip130)\" d=\"M 0 0 M2163.46 230.528 L2163.46 232.611 L2143.88 232.611 Q2144.16 237.009 2146.52 239.324 Q2148.9 241.616 2153.14 241.616 Q2155.59 241.616 2157.88 241.014 Q2160.2 240.412 2162.47 239.209 L2162.47 243.236 Q2160.18 244.208 2157.77 244.718 Q2155.36 245.227 2152.88 245.227 Q2146.68 245.227 2143.05 241.616 Q2139.43 238.005 2139.43 231.847 Q2139.43 225.482 2142.86 221.755 Q2146.31 218.005 2152.14 218.005 Q2157.37 218.005 2160.41 221.385 Q2163.46 224.741 2163.46 230.528 M2159.2 229.278 Q2159.16 225.783 2157.24 223.699 Q2155.34 221.616 2152.19 221.616 Q2148.62 221.616 2146.47 223.63 Q2144.34 225.644 2144.02 229.301 L2159.2 229.278 Z\" fill=\"#000000\" fill-rule=\"evenodd\" fill-opacity=\"1\" /><path clip-path=\"url(#clip130)\" d=\"M 0 0 M2188.12 223.607 Q2189.71 220.736 2191.93 219.371 Q2194.16 218.005 2197.17 218.005 Q2201.22 218.005 2203.42 220.852 Q2205.62 223.676 2205.62 228.908 L2205.62 244.556 L2201.33 244.556 L2201.33 229.047 Q2201.33 225.32 2200.01 223.514 Q2198.69 221.709 2195.99 221.709 Q2192.68 221.709 2190.75 223.908 Q2188.83 226.107 2188.83 229.903 L2188.83 244.556 L2184.55 244.556 L2184.55 229.047 Q2184.55 225.297 2183.23 223.514 Q2181.91 221.709 2179.16 221.709 Q2175.89 221.709 2173.97 223.931 Q2172.05 226.13 2172.05 229.903 L2172.05 244.556 L2167.77 244.556 L2167.77 218.63 L2172.05 218.63 L2172.05 222.658 Q2173.51 220.273 2175.55 219.139 Q2177.58 218.005 2180.38 218.005 Q2183.21 218.005 2185.18 219.44 Q2187.17 220.875 2188.12 223.607 Z\" fill=\"#000000\" fill-rule=\"evenodd\" fill-opacity=\"1\" /><path clip-path=\"url(#clip130)\" d=\"M 0 0 M2214.2 240.667 L2214.2 254.417 L2209.92 254.417 L2209.92 218.63 L2214.2 218.63 L2214.2 222.565 Q2215.55 220.25 2217.58 219.139 Q2219.64 218.005 2222.49 218.005 Q2227.21 218.005 2230.15 221.755 Q2233.11 225.505 2233.11 231.616 Q2233.11 237.727 2230.15 241.477 Q2227.21 245.227 2222.49 245.227 Q2219.64 245.227 2217.58 244.116 Q2215.55 242.982 2214.2 240.667 M2228.69 231.616 Q2228.69 226.917 2226.75 224.255 Q2224.83 221.57 2221.45 221.57 Q2218.07 221.57 2216.12 224.255 Q2214.2 226.917 2214.2 231.616 Q2214.2 236.315 2216.12 239 Q2218.07 241.662 2221.45 241.662 Q2224.83 241.662 2226.75 239 Q2228.69 236.315 2228.69 231.616 Z\" fill=\"#000000\" fill-rule=\"evenodd\" fill-opacity=\"1\" /></svg>\n"
      ]
     },
     "execution_count": 134,
     "metadata": {},
     "output_type": "execute_result"
    }
   ],
   "source": [
    "using StatsPlots\n",
    "@df df plot(:月, :平均気温 \n",
    "    ,title = \"Averaged temperature\"\n",
    "    ,xlabel = \"Month\"\n",
    "    ,ylabel = \"Temperature (℃)\"\n",
    "    ,xticks = 0:1:12\n",
    "    ,yticks = 0:5:35\n",
    "    ,label = \"Temp\"\n",
    "    ,color = :red \n",
    "    ,shape = :circle)"
   ]
  },
  {
   "cell_type": "code",
   "execution_count": null,
   "metadata": {},
   "outputs": [],
   "source": []
  },
  {
   "cell_type": "code",
   "execution_count": 123,
   "metadata": {},
   "outputs": [
    {
     "data": {
      "image/svg+xml": [
       "<?xml version=\"1.0\" encoding=\"utf-8\"?>\n",
       "<svg xmlns=\"http://www.w3.org/2000/svg\" xmlns:xlink=\"http://www.w3.org/1999/xlink\" width=\"600\" height=\"400\" viewBox=\"0 0 2400 1600\">\n",
       "<defs>\n",
       "  <clipPath id=\"clip970\">\n",
       "    <rect x=\"0\" y=\"0\" width=\"2400\" height=\"1600\"/>\n",
       "  </clipPath>\n",
       "</defs>\n",
       "<path clip-path=\"url(#clip970)\" d=\"\n",
       "M0 1600 L2400 1600 L2400 0 L0 0  Z\n",
       "  \" fill=\"#ffffff\" fill-rule=\"evenodd\" fill-opacity=\"1\"/>\n",
       "<defs>\n",
       "  <clipPath id=\"clip971\">\n",
       "    <rect x=\"480\" y=\"0\" width=\"1681\" height=\"1600\"/>\n",
       "  </clipPath>\n",
       "</defs>\n",
       "<path clip-path=\"url(#clip970)\" d=\"\n",
       "M229.473 1423.18 L2352.76 1423.18 L2352.76 123.472 L229.473 123.472  Z\n",
       "  \" fill=\"#ffffff\" fill-rule=\"evenodd\" fill-opacity=\"1\"/>\n",
       "<defs>\n",
       "  <clipPath id=\"clip972\">\n",
       "    <rect x=\"229\" y=\"123\" width=\"2124\" height=\"1301\"/>\n",
       "  </clipPath>\n",
       "</defs>\n",
       "<polyline clip-path=\"url(#clip972)\" style=\"stroke:#000000; stroke-width:2; stroke-opacity:0.1; fill:none\" points=\"\n",
       "  236.853,1423.18 236.853,123.472 \n",
       "  \"/>\n",
       "<polyline clip-path=\"url(#clip972)\" style=\"stroke:#000000; stroke-width:2; stroke-opacity:0.1; fill:none\" points=\"\n",
       "  676.128,1423.18 676.128,123.472 \n",
       "  \"/>\n",
       "<polyline clip-path=\"url(#clip972)\" style=\"stroke:#000000; stroke-width:2; stroke-opacity:0.1; fill:none\" points=\"\n",
       "  1115.4,1423.18 1115.4,123.472 \n",
       "  \"/>\n",
       "<polyline clip-path=\"url(#clip972)\" style=\"stroke:#000000; stroke-width:2; stroke-opacity:0.1; fill:none\" points=\"\n",
       "  1554.68,1423.18 1554.68,123.472 \n",
       "  \"/>\n",
       "<polyline clip-path=\"url(#clip972)\" style=\"stroke:#000000; stroke-width:2; stroke-opacity:0.1; fill:none\" points=\"\n",
       "  1993.96,1423.18 1993.96,123.472 \n",
       "  \"/>\n",
       "<polyline clip-path=\"url(#clip970)\" style=\"stroke:#000000; stroke-width:4; stroke-opacity:1; fill:none\" points=\"\n",
       "  229.473,1423.18 2352.76,1423.18 \n",
       "  \"/>\n",
       "<polyline clip-path=\"url(#clip970)\" style=\"stroke:#000000; stroke-width:4; stroke-opacity:1; fill:none\" points=\"\n",
       "  236.853,1423.18 236.853,1407.58 \n",
       "  \"/>\n",
       "<polyline clip-path=\"url(#clip970)\" style=\"stroke:#000000; stroke-width:4; stroke-opacity:1; fill:none\" points=\"\n",
       "  676.128,1423.18 676.128,1407.58 \n",
       "  \"/>\n",
       "<polyline clip-path=\"url(#clip970)\" style=\"stroke:#000000; stroke-width:4; stroke-opacity:1; fill:none\" points=\"\n",
       "  1115.4,1423.18 1115.4,1407.58 \n",
       "  \"/>\n",
       "<polyline clip-path=\"url(#clip970)\" style=\"stroke:#000000; stroke-width:4; stroke-opacity:1; fill:none\" points=\"\n",
       "  1554.68,1423.18 1554.68,1407.58 \n",
       "  \"/>\n",
       "<polyline clip-path=\"url(#clip970)\" style=\"stroke:#000000; stroke-width:4; stroke-opacity:1; fill:none\" points=\"\n",
       "  1993.96,1423.18 1993.96,1407.58 \n",
       "  \"/>\n",
       "<path clip-path=\"url(#clip970)\" d=\"M 0 0 M227.13 1449.29 L245.487 1449.29 L245.487 1453.23 L231.413 1453.23 L231.413 1461.7 Q232.431 1461.35 233.45 1461.19 Q234.468 1461 235.487 1461 Q241.274 1461 244.653 1464.18 Q248.033 1467.35 248.033 1472.76 Q248.033 1478.34 244.561 1481.44 Q241.089 1484.52 234.769 1484.52 Q232.593 1484.52 230.325 1484.15 Q228.079 1483.78 225.672 1483.04 L225.672 1478.34 Q227.755 1479.48 229.978 1480.03 Q232.2 1480.59 234.677 1480.59 Q238.681 1480.59 241.019 1478.48 Q243.357 1476.38 243.357 1472.76 Q243.357 1469.15 241.019 1467.05 Q238.681 1464.94 234.677 1464.94 Q232.802 1464.94 230.927 1465.36 Q229.075 1465.77 227.13 1466.65 L227.13 1449.29 Z\" fill=\"#000000\" fill-rule=\"evenodd\" fill-opacity=\"1\" /><path clip-path=\"url(#clip970)\" d=\"M 0 0 M653.003 1479.92 L660.642 1479.92 L660.642 1453.55 L652.332 1455.22 L652.332 1450.96 L660.596 1449.29 L665.272 1449.29 L665.272 1479.92 L672.911 1479.92 L672.911 1483.85 L653.003 1483.85 L653.003 1479.92 Z\" fill=\"#000000\" fill-rule=\"evenodd\" fill-opacity=\"1\" /><path clip-path=\"url(#clip970)\" d=\"M 0 0 M687.98 1452.37 Q684.369 1452.37 682.54 1455.94 Q680.735 1459.48 680.735 1466.61 Q680.735 1473.71 682.54 1477.28 Q684.369 1480.82 687.98 1480.82 Q691.614 1480.82 693.42 1477.28 Q695.249 1473.71 695.249 1466.61 Q695.249 1459.48 693.42 1455.94 Q691.614 1452.37 687.98 1452.37 M687.98 1448.67 Q693.79 1448.67 696.846 1453.27 Q699.924 1457.86 699.924 1466.61 Q699.924 1475.33 696.846 1479.94 Q693.79 1484.52 687.98 1484.52 Q682.17 1484.52 679.091 1479.94 Q676.036 1475.33 676.036 1466.61 Q676.036 1457.86 679.091 1453.27 Q682.17 1448.67 687.98 1448.67 Z\" fill=\"#000000\" fill-rule=\"evenodd\" fill-opacity=\"1\" /><path clip-path=\"url(#clip970)\" d=\"M 0 0 M1092.78 1479.92 L1100.42 1479.92 L1100.42 1453.55 L1092.11 1455.22 L1092.11 1450.96 L1100.37 1449.29 L1105.05 1449.29 L1105.05 1479.92 L1112.68 1479.92 L1112.68 1483.85 L1092.78 1483.85 L1092.78 1479.92 Z\" fill=\"#000000\" fill-rule=\"evenodd\" fill-opacity=\"1\" /><path clip-path=\"url(#clip970)\" d=\"M 0 0 M1117.8 1449.29 L1136.16 1449.29 L1136.16 1453.23 L1122.08 1453.23 L1122.08 1461.7 Q1123.1 1461.35 1124.12 1461.19 Q1125.14 1461 1126.16 1461 Q1131.94 1461 1135.32 1464.18 Q1138.7 1467.35 1138.7 1472.76 Q1138.7 1478.34 1135.23 1481.44 Q1131.76 1484.52 1125.44 1484.52 Q1123.26 1484.52 1120.99 1484.15 Q1118.75 1483.78 1116.34 1483.04 L1116.34 1478.34 Q1118.42 1479.48 1120.65 1480.03 Q1122.87 1480.59 1125.35 1480.59 Q1129.35 1480.59 1131.69 1478.48 Q1134.03 1476.38 1134.03 1472.76 Q1134.03 1469.15 1131.69 1467.05 Q1129.35 1464.94 1125.35 1464.94 Q1123.47 1464.94 1121.6 1465.36 Q1119.74 1465.77 1117.8 1466.65 L1117.8 1449.29 Z\" fill=\"#000000\" fill-rule=\"evenodd\" fill-opacity=\"1\" /><path clip-path=\"url(#clip970)\" d=\"M 0 0 M1535.83 1479.92 L1552.15 1479.92 L1552.15 1483.85 L1530.2 1483.85 L1530.2 1479.92 Q1532.86 1477.16 1537.45 1472.53 Q1542.05 1467.88 1543.23 1466.54 Q1545.48 1464.01 1546.36 1462.28 Q1547.26 1460.52 1547.26 1458.83 Q1547.26 1456.07 1545.32 1454.34 Q1543.4 1452.6 1540.29 1452.6 Q1538.09 1452.6 1535.64 1453.37 Q1533.21 1454.13 1530.43 1455.68 L1530.43 1450.96 Q1533.26 1449.82 1535.71 1449.25 Q1538.16 1448.67 1540.2 1448.67 Q1545.57 1448.67 1548.77 1451.35 Q1551.96 1454.04 1551.96 1458.53 Q1551.96 1460.66 1551.15 1462.58 Q1550.36 1464.48 1548.26 1467.07 Q1547.68 1467.74 1544.58 1470.96 Q1541.47 1474.15 1535.83 1479.92 Z\" fill=\"#000000\" fill-rule=\"evenodd\" fill-opacity=\"1\" /><path clip-path=\"url(#clip970)\" d=\"M 0 0 M1567.21 1452.37 Q1563.6 1452.37 1561.77 1455.94 Q1559.97 1459.48 1559.97 1466.61 Q1559.97 1473.71 1561.77 1477.28 Q1563.6 1480.82 1567.21 1480.82 Q1570.85 1480.82 1572.65 1477.28 Q1574.48 1473.71 1574.48 1466.61 Q1574.48 1459.48 1572.65 1455.94 Q1570.85 1452.37 1567.21 1452.37 M1567.21 1448.67 Q1573.02 1448.67 1576.08 1453.27 Q1579.16 1457.86 1579.16 1466.61 Q1579.16 1475.33 1576.08 1479.94 Q1573.02 1484.52 1567.21 1484.52 Q1561.4 1484.52 1558.33 1479.94 Q1555.27 1475.33 1555.27 1466.61 Q1555.27 1457.86 1558.33 1453.27 Q1561.4 1448.67 1567.21 1448.67 Z\" fill=\"#000000\" fill-rule=\"evenodd\" fill-opacity=\"1\" /><path clip-path=\"url(#clip970)\" d=\"M 0 0 M1975.6 1479.92 L1991.92 1479.92 L1991.92 1483.85 L1969.97 1483.85 L1969.97 1479.92 Q1972.64 1477.16 1977.22 1472.53 Q1981.83 1467.88 1983.01 1466.54 Q1985.25 1464.01 1986.13 1462.28 Q1987.03 1460.52 1987.03 1458.83 Q1987.03 1456.07 1985.09 1454.34 Q1983.17 1452.6 1980.07 1452.6 Q1977.87 1452.6 1975.41 1453.37 Q1972.98 1454.13 1970.21 1455.68 L1970.21 1450.96 Q1973.03 1449.82 1975.48 1449.25 Q1977.94 1448.67 1979.97 1448.67 Q1985.34 1448.67 1988.54 1451.35 Q1991.73 1454.04 1991.73 1458.53 Q1991.73 1460.66 1990.92 1462.58 Q1990.14 1464.48 1988.03 1467.07 Q1987.45 1467.74 1984.35 1470.96 Q1981.25 1474.15 1975.6 1479.92 Z\" fill=\"#000000\" fill-rule=\"evenodd\" fill-opacity=\"1\" /><path clip-path=\"url(#clip970)\" d=\"M 0 0 M1997.03 1449.29 L2015.39 1449.29 L2015.39 1453.23 L2001.32 1453.23 L2001.32 1461.7 Q2002.34 1461.35 2003.35 1461.19 Q2004.37 1461 2005.39 1461 Q2011.18 1461 2014.56 1464.18 Q2017.94 1467.35 2017.94 1472.76 Q2017.94 1478.34 2014.46 1481.44 Q2010.99 1484.52 2004.67 1484.52 Q2002.5 1484.52 2000.23 1484.15 Q1997.98 1483.78 1995.58 1483.04 L1995.58 1478.34 Q1997.66 1479.48 1999.88 1480.03 Q2002.1 1480.59 2004.58 1480.59 Q2008.59 1480.59 2010.92 1478.48 Q2013.26 1476.38 2013.26 1472.76 Q2013.26 1469.15 2010.92 1467.05 Q2008.59 1464.94 2004.58 1464.94 Q2002.71 1464.94 2000.83 1465.36 Q1998.98 1465.77 1997.03 1466.65 L1997.03 1449.29 Z\" fill=\"#000000\" fill-rule=\"evenodd\" fill-opacity=\"1\" /><path clip-path=\"url(#clip970)\" d=\"M 0 0 M1036.77 1508.52 L1076.97 1508.52 L1076.97 1513.93 L1060.1 1513.93 L1060.1 1556.04 L1053.64 1556.04 L1053.64 1513.93 L1036.77 1513.93 L1036.77 1508.52 Z\" fill=\"#000000\" fill-rule=\"evenodd\" fill-opacity=\"1\" /><path clip-path=\"url(#clip970)\" d=\"M 0 0 M1102.53 1536.76 L1102.53 1539.62 L1075.6 1539.62 Q1075.99 1545.67 1079.23 1548.85 Q1082.51 1552 1088.33 1552 Q1091.71 1552 1094.86 1551.17 Q1098.04 1550.35 1101.16 1548.69 L1101.16 1554.23 Q1098.01 1555.57 1094.7 1556.27 Q1091.39 1556.97 1087.98 1556.97 Q1079.45 1556.97 1074.46 1552 Q1069.49 1547.04 1069.49 1538.57 Q1069.49 1529.82 1074.2 1524.69 Q1078.95 1519.54 1086.97 1519.54 Q1094.16 1519.54 1098.33 1524.18 Q1102.53 1528.8 1102.53 1536.76 M1096.67 1535.04 Q1096.61 1530.23 1093.97 1527.37 Q1091.36 1524.5 1087.03 1524.5 Q1082.13 1524.5 1079.17 1527.27 Q1076.24 1530.04 1075.79 1535.07 L1096.67 1535.04 Z\" fill=\"#000000\" fill-rule=\"evenodd\" fill-opacity=\"1\" /><path clip-path=\"url(#clip970)\" d=\"M 0 0 M1136.43 1527.24 Q1138.62 1523.29 1141.68 1521.41 Q1144.73 1519.54 1148.87 1519.54 Q1154.44 1519.54 1157.47 1523.45 Q1160.49 1527.33 1160.49 1534.53 L1160.49 1556.04 L1154.6 1556.04 L1154.6 1534.72 Q1154.6 1529.59 1152.79 1527.11 Q1150.97 1524.63 1147.25 1524.63 Q1142.7 1524.63 1140.06 1527.65 Q1137.41 1530.68 1137.41 1535.9 L1137.41 1556.04 L1131.53 1556.04 L1131.53 1534.72 Q1131.53 1529.56 1129.71 1527.11 Q1127.9 1524.63 1124.11 1524.63 Q1119.62 1524.63 1116.98 1527.68 Q1114.34 1530.71 1114.34 1535.9 L1114.34 1556.04 L1108.45 1556.04 L1108.45 1520.4 L1114.34 1520.4 L1114.34 1525.93 Q1116.34 1522.66 1119.14 1521.1 Q1121.95 1519.54 1125.8 1519.54 Q1129.68 1519.54 1132.39 1521.51 Q1135.12 1523.48 1136.43 1527.24 Z\" fill=\"#000000\" fill-rule=\"evenodd\" fill-opacity=\"1\" /><path clip-path=\"url(#clip970)\" d=\"M 0 0 M1172.3 1550.7 L1172.3 1569.6 L1166.41 1569.6 L1166.41 1520.4 L1172.3 1520.4 L1172.3 1525.81 Q1174.14 1522.62 1176.95 1521.1 Q1179.78 1519.54 1183.69 1519.54 Q1190.19 1519.54 1194.23 1524.69 Q1198.3 1529.85 1198.3 1538.25 Q1198.3 1546.65 1194.23 1551.81 Q1190.19 1556.97 1183.69 1556.97 Q1179.78 1556.97 1176.95 1555.44 Q1174.14 1553.88 1172.3 1550.7 M1192.22 1538.25 Q1192.22 1531.79 1189.55 1528.13 Q1186.91 1524.44 1182.26 1524.44 Q1177.61 1524.44 1174.94 1528.13 Q1172.3 1531.79 1172.3 1538.25 Q1172.3 1544.71 1174.94 1548.4 Q1177.61 1552.07 1182.26 1552.07 Q1186.91 1552.07 1189.55 1548.4 Q1192.22 1544.71 1192.22 1538.25 Z\" fill=\"#000000\" fill-rule=\"evenodd\" fill-opacity=\"1\" /><path clip-path=\"url(#clip970)\" d=\"M 0 0 M1234.94 1536.76 L1234.94 1539.62 L1208.01 1539.62 Q1208.39 1545.67 1211.64 1548.85 Q1214.92 1552 1220.74 1552 Q1224.12 1552 1227.27 1551.17 Q1230.45 1550.35 1233.57 1548.69 L1233.57 1554.23 Q1230.42 1555.57 1227.11 1556.27 Q1223.8 1556.97 1220.39 1556.97 Q1211.86 1556.97 1206.86 1552 Q1201.9 1547.04 1201.9 1538.57 Q1201.9 1529.82 1206.61 1524.69 Q1211.35 1519.54 1219.37 1519.54 Q1226.57 1519.54 1230.74 1524.18 Q1234.94 1528.8 1234.94 1536.76 M1229.08 1535.04 Q1229.02 1530.23 1226.38 1527.37 Q1223.77 1524.5 1219.44 1524.5 Q1214.53 1524.5 1211.57 1527.27 Q1208.65 1530.04 1208.2 1535.07 L1229.08 1535.04 Z\" fill=\"#000000\" fill-rule=\"evenodd\" fill-opacity=\"1\" /><path clip-path=\"url(#clip970)\" d=\"M 0 0 M1261.74 1525.87 Q1260.75 1525.3 1259.57 1525.04 Q1258.43 1524.76 1257.03 1524.76 Q1252.06 1524.76 1249.39 1528 Q1246.75 1531.22 1246.75 1537.27 L1246.75 1556.04 L1240.86 1556.04 L1240.86 1520.4 L1246.75 1520.4 L1246.75 1525.93 Q1248.59 1522.69 1251.55 1521.13 Q1254.51 1519.54 1258.74 1519.54 Q1259.35 1519.54 1260.08 1519.63 Q1260.81 1519.7 1261.7 1519.85 L1261.74 1525.87 Z\" fill=\"#000000\" fill-rule=\"evenodd\" fill-opacity=\"1\" /><path clip-path=\"url(#clip970)\" d=\"M 0 0 M1284.08 1538.12 Q1276.98 1538.12 1274.25 1539.75 Q1271.51 1541.37 1271.51 1545.29 Q1271.51 1548.4 1273.54 1550.25 Q1275.61 1552.07 1279.15 1552.07 Q1284.02 1552.07 1286.94 1548.63 Q1289.9 1545.16 1289.9 1539.43 L1289.9 1538.12 L1284.08 1538.12 M1295.76 1535.71 L1295.76 1556.04 L1289.9 1556.04 L1289.9 1550.63 Q1287.9 1553.88 1284.91 1555.44 Q1281.92 1556.97 1277.59 1556.97 Q1272.11 1556.97 1268.87 1553.91 Q1265.65 1550.82 1265.65 1545.67 Q1265.65 1539.65 1269.66 1536.6 Q1273.7 1533.54 1281.69 1533.54 L1289.9 1533.54 L1289.9 1532.97 Q1289.9 1528.93 1287.23 1526.73 Q1284.59 1524.5 1279.78 1524.5 Q1276.73 1524.5 1273.83 1525.23 Q1270.94 1525.97 1268.26 1527.43 L1268.26 1522.02 Q1271.48 1520.78 1274.5 1520.17 Q1277.52 1519.54 1280.39 1519.54 Q1288.12 1519.54 1291.94 1523.55 Q1295.76 1527.56 1295.76 1535.71 Z\" fill=\"#000000\" fill-rule=\"evenodd\" fill-opacity=\"1\" /><path clip-path=\"url(#clip970)\" d=\"M 0 0 M1307.7 1510.27 L1307.7 1520.4 L1319.76 1520.4 L1319.76 1524.95 L1307.7 1524.95 L1307.7 1544.3 Q1307.7 1548.66 1308.87 1549.9 Q1310.08 1551.14 1313.74 1551.14 L1319.76 1551.14 L1319.76 1556.04 L1313.74 1556.04 Q1306.96 1556.04 1304.39 1553.53 Q1301.81 1550.98 1301.81 1544.3 L1301.81 1524.95 L1297.51 1524.95 L1297.51 1520.4 L1301.81 1520.4 L1301.81 1510.27 L1307.7 1510.27 Z\" fill=\"#000000\" fill-rule=\"evenodd\" fill-opacity=\"1\" /><path clip-path=\"url(#clip970)\" d=\"M 0 0 M1325.3 1541.98 L1325.3 1520.4 L1331.15 1520.4 L1331.15 1541.75 Q1331.15 1546.81 1333.13 1549.36 Q1335.1 1551.87 1339.05 1551.87 Q1343.79 1551.87 1346.53 1548.85 Q1349.3 1545.83 1349.3 1540.61 L1349.3 1520.4 L1355.15 1520.4 L1355.15 1556.04 L1349.3 1556.04 L1349.3 1550.57 Q1347.16 1553.82 1344.33 1555.41 Q1341.53 1556.97 1337.81 1556.97 Q1331.66 1556.97 1328.48 1553.15 Q1325.3 1549.33 1325.3 1541.98 M1340.03 1519.54 L1340.03 1519.54 Z\" fill=\"#000000\" fill-rule=\"evenodd\" fill-opacity=\"1\" /><path clip-path=\"url(#clip970)\" d=\"M 0 0 M1381.95 1525.87 Q1380.97 1525.3 1379.79 1525.04 Q1378.64 1524.76 1377.24 1524.76 Q1372.28 1524.76 1369.6 1528 Q1366.96 1531.22 1366.96 1537.27 L1366.96 1556.04 L1361.07 1556.04 L1361.07 1520.4 L1366.96 1520.4 L1366.96 1525.93 Q1368.81 1522.69 1371.77 1521.13 Q1374.73 1519.54 1378.96 1519.54 Q1379.57 1519.54 1380.3 1519.63 Q1381.03 1519.7 1381.92 1519.85 L1381.95 1525.87 Z\" fill=\"#000000\" fill-rule=\"evenodd\" fill-opacity=\"1\" /><path clip-path=\"url(#clip970)\" d=\"M 0 0 M1417.16 1536.76 L1417.16 1539.62 L1390.23 1539.62 Q1390.61 1545.67 1393.86 1548.85 Q1397.14 1552 1402.96 1552 Q1406.33 1552 1409.48 1551.17 Q1412.67 1550.35 1415.79 1548.69 L1415.79 1554.23 Q1412.64 1555.57 1409.33 1556.27 Q1406.02 1556.97 1402.61 1556.97 Q1394.08 1556.97 1389.08 1552 Q1384.12 1547.04 1384.12 1538.57 Q1384.12 1529.82 1388.83 1524.69 Q1393.57 1519.54 1401.59 1519.54 Q1408.78 1519.54 1412.95 1524.18 Q1417.16 1528.8 1417.16 1536.76 M1411.3 1535.04 Q1411.24 1530.23 1408.59 1527.37 Q1405.98 1524.5 1401.65 1524.5 Q1396.75 1524.5 1393.79 1527.27 Q1390.86 1530.04 1390.42 1535.07 L1411.3 1535.04 Z\" fill=\"#000000\" fill-rule=\"evenodd\" fill-opacity=\"1\" /><path clip-path=\"url(#clip970)\" d=\"M 0 0 M1443.48 1506.52 L1456.97 1506.52 L1456.97 1511.07 L1449.33 1511.07 L1449.33 1560.09 L1456.97 1560.09 L1456.97 1564.64 L1443.48 1564.64 L1443.48 1506.52 Z\" fill=\"#000000\" fill-rule=\"evenodd\" fill-opacity=\"1\" /><path clip-path=\"url(#clip970)\" d=\"M 0 0 M1473.27 1511.77 Q1470.72 1511.77 1468.97 1513.55 Q1467.22 1515.3 1467.22 1517.85 Q1467.22 1520.36 1468.97 1522.11 Q1470.72 1523.83 1473.27 1523.83 Q1475.82 1523.83 1477.57 1522.11 Q1479.32 1520.36 1479.32 1517.85 Q1479.32 1515.34 1477.53 1513.55 Q1475.78 1511.77 1473.27 1511.77 M1473.27 1507.66 Q1475.31 1507.66 1477.18 1508.46 Q1479.06 1509.22 1480.43 1510.69 Q1481.89 1512.12 1482.63 1513.93 Q1483.36 1515.75 1483.36 1517.85 Q1483.36 1522.05 1480.4 1524.98 Q1477.47 1527.88 1473.21 1527.88 Q1468.91 1527.88 1466.04 1525.01 Q1463.18 1522.15 1463.18 1517.85 Q1463.18 1513.58 1466.11 1510.62 Q1469.04 1507.66 1473.27 1507.66 M1525.63 1512.18 L1525.63 1518.96 Q1522.38 1515.94 1518.69 1514.44 Q1515.03 1512.95 1510.89 1512.95 Q1502.74 1512.95 1498.41 1517.95 Q1494.08 1522.91 1494.08 1532.33 Q1494.08 1541.72 1498.41 1546.72 Q1502.74 1551.68 1510.89 1551.68 Q1515.03 1551.68 1518.69 1550.19 Q1522.38 1548.69 1525.63 1545.67 L1525.63 1552.38 Q1522.25 1554.68 1518.47 1555.82 Q1514.71 1556.97 1510.51 1556.97 Q1499.72 1556.97 1493.51 1550.38 Q1487.31 1543.76 1487.31 1532.33 Q1487.31 1520.87 1493.51 1514.28 Q1499.72 1507.66 1510.51 1507.66 Q1514.77 1507.66 1518.53 1508.81 Q1522.32 1509.92 1525.63 1512.18 Z\" fill=\"#000000\" fill-rule=\"evenodd\" fill-opacity=\"1\" /><path clip-path=\"url(#clip970)\" d=\"M 0 0 M1545.46 1506.52 L1545.46 1564.64 L1531.96 1564.64 L1531.96 1560.09 L1539.57 1560.09 L1539.57 1511.07 L1531.96 1511.07 L1531.96 1506.52 L1545.46 1506.52 Z\" fill=\"#000000\" fill-rule=\"evenodd\" fill-opacity=\"1\" /><polyline clip-path=\"url(#clip972)\" style=\"stroke:#000000; stroke-width:2; stroke-opacity:0.1; fill:none\" points=\"\n",
       "  229.473,1185.82 2352.76,1185.82 \n",
       "  \"/>\n",
       "<polyline clip-path=\"url(#clip972)\" style=\"stroke:#000000; stroke-width:2; stroke-opacity:0.1; fill:none\" points=\"\n",
       "  229.473,947.039 2352.76,947.039 \n",
       "  \"/>\n",
       "<polyline clip-path=\"url(#clip972)\" style=\"stroke:#000000; stroke-width:2; stroke-opacity:0.1; fill:none\" points=\"\n",
       "  229.473,708.258 2352.76,708.258 \n",
       "  \"/>\n",
       "<polyline clip-path=\"url(#clip972)\" style=\"stroke:#000000; stroke-width:2; stroke-opacity:0.1; fill:none\" points=\"\n",
       "  229.473,469.477 2352.76,469.477 \n",
       "  \"/>\n",
       "<polyline clip-path=\"url(#clip972)\" style=\"stroke:#000000; stroke-width:2; stroke-opacity:0.1; fill:none\" points=\"\n",
       "  229.473,230.697 2352.76,230.697 \n",
       "  \"/>\n",
       "<polyline clip-path=\"url(#clip970)\" style=\"stroke:#000000; stroke-width:4; stroke-opacity:1; fill:none\" points=\"\n",
       "  229.473,1423.18 229.473,123.472 \n",
       "  \"/>\n",
       "<polyline clip-path=\"url(#clip970)\" style=\"stroke:#000000; stroke-width:4; stroke-opacity:1; fill:none\" points=\"\n",
       "  229.473,1185.82 254.952,1185.82 \n",
       "  \"/>\n",
       "<polyline clip-path=\"url(#clip970)\" style=\"stroke:#000000; stroke-width:4; stroke-opacity:1; fill:none\" points=\"\n",
       "  229.473,947.039 254.952,947.039 \n",
       "  \"/>\n",
       "<polyline clip-path=\"url(#clip970)\" style=\"stroke:#000000; stroke-width:4; stroke-opacity:1; fill:none\" points=\"\n",
       "  229.473,708.258 254.952,708.258 \n",
       "  \"/>\n",
       "<polyline clip-path=\"url(#clip970)\" style=\"stroke:#000000; stroke-width:4; stroke-opacity:1; fill:none\" points=\"\n",
       "  229.473,469.477 254.952,469.477 \n",
       "  \"/>\n",
       "<polyline clip-path=\"url(#clip970)\" style=\"stroke:#000000; stroke-width:4; stroke-opacity:1; fill:none\" points=\"\n",
       "  229.473,230.697 254.952,230.697 \n",
       "  \"/>\n",
       "<path clip-path=\"url(#clip970)\" d=\"M 0 0 M119.538 1199.16 L127.177 1199.16 L127.177 1172.8 L118.867 1174.47 L118.867 1170.21 L127.13 1168.54 L131.806 1168.54 L131.806 1199.16 L139.445 1199.16 L139.445 1203.1 L119.538 1203.1 L119.538 1199.16 Z\" fill=\"#000000\" fill-rule=\"evenodd\" fill-opacity=\"1\" /><path clip-path=\"url(#clip970)\" d=\"M 0 0 M154.515 1171.62 Q150.903 1171.62 149.075 1175.18 Q147.269 1178.72 147.269 1185.85 Q147.269 1192.96 149.075 1196.53 Q150.903 1200.07 154.515 1200.07 Q158.149 1200.07 159.954 1196.53 Q161.783 1192.96 161.783 1185.85 Q161.783 1178.72 159.954 1175.18 Q158.149 1171.62 154.515 1171.62 M154.515 1167.91 Q160.325 1167.91 163.38 1172.52 Q166.459 1177.1 166.459 1185.85 Q166.459 1194.58 163.38 1199.19 Q160.325 1203.77 154.515 1203.77 Q148.704 1203.77 145.626 1199.19 Q142.57 1194.58 142.57 1185.85 Q142.57 1177.1 145.626 1172.52 Q148.704 1167.91 154.515 1167.91 Z\" fill=\"#000000\" fill-rule=\"evenodd\" fill-opacity=\"1\" /><path clip-path=\"url(#clip970)\" d=\"M 0 0 M181.528 1171.62 Q177.917 1171.62 176.089 1175.18 Q174.283 1178.72 174.283 1185.85 Q174.283 1192.96 176.089 1196.53 Q177.917 1200.07 181.528 1200.07 Q185.163 1200.07 186.968 1196.53 Q188.797 1192.96 188.797 1185.85 Q188.797 1178.72 186.968 1175.18 Q185.163 1171.62 181.528 1171.62 M181.528 1167.91 Q187.338 1167.91 190.394 1172.52 Q193.473 1177.1 193.473 1185.85 Q193.473 1194.58 190.394 1199.19 Q187.338 1203.77 181.528 1203.77 Q175.718 1203.77 172.639 1199.19 Q169.584 1194.58 169.584 1185.85 Q169.584 1177.1 172.639 1172.52 Q175.718 1167.91 181.528 1167.91 Z\" fill=\"#000000\" fill-rule=\"evenodd\" fill-opacity=\"1\" /><path clip-path=\"url(#clip970)\" d=\"M 0 0 M123.126 960.384 L139.445 960.384 L139.445 964.319 L117.501 964.319 L117.501 960.384 Q120.163 957.629 124.746 953 Q129.353 948.347 130.533 947.004 Q132.779 944.481 133.658 942.745 Q134.561 940.986 134.561 939.296 Q134.561 936.541 132.617 934.805 Q130.695 933.069 127.593 933.069 Q125.394 933.069 122.941 933.833 Q120.51 934.597 117.732 936.148 L117.732 931.426 Q120.556 930.291 123.01 929.713 Q125.464 929.134 127.501 929.134 Q132.871 929.134 136.066 931.819 Q139.26 934.504 139.26 938.995 Q139.26 941.125 138.45 943.046 Q137.663 944.944 135.556 947.537 Q134.978 948.208 131.876 951.426 Q128.774 954.62 123.126 960.384 Z\" fill=\"#000000\" fill-rule=\"evenodd\" fill-opacity=\"1\" /><path clip-path=\"url(#clip970)\" d=\"M 0 0 M154.515 932.838 Q150.903 932.838 149.075 936.402 Q147.269 939.944 147.269 947.074 Q147.269 954.18 149.075 957.745 Q150.903 961.287 154.515 961.287 Q158.149 961.287 159.954 957.745 Q161.783 954.18 161.783 947.074 Q161.783 939.944 159.954 936.402 Q158.149 932.838 154.515 932.838 M154.515 929.134 Q160.325 929.134 163.38 933.74 Q166.459 938.324 166.459 947.074 Q166.459 955.801 163.38 960.407 Q160.325 964.99 154.515 964.99 Q148.704 964.99 145.626 960.407 Q142.57 955.801 142.57 947.074 Q142.57 938.324 145.626 933.74 Q148.704 929.134 154.515 929.134 Z\" fill=\"#000000\" fill-rule=\"evenodd\" fill-opacity=\"1\" /><path clip-path=\"url(#clip970)\" d=\"M 0 0 M181.528 932.838 Q177.917 932.838 176.089 936.402 Q174.283 939.944 174.283 947.074 Q174.283 954.18 176.089 957.745 Q177.917 961.287 181.528 961.287 Q185.163 961.287 186.968 957.745 Q188.797 954.18 188.797 947.074 Q188.797 939.944 186.968 936.402 Q185.163 932.838 181.528 932.838 M181.528 929.134 Q187.338 929.134 190.394 933.74 Q193.473 938.324 193.473 947.074 Q193.473 955.801 190.394 960.407 Q187.338 964.99 181.528 964.99 Q175.718 964.99 172.639 960.407 Q169.584 955.801 169.584 947.074 Q169.584 938.324 172.639 933.74 Q175.718 929.134 181.528 929.134 Z\" fill=\"#000000\" fill-rule=\"evenodd\" fill-opacity=\"1\" /><path clip-path=\"url(#clip970)\" d=\"M 0 0 M132.316 706.904 Q135.672 707.622 137.547 709.89 Q139.445 712.159 139.445 715.492 Q139.445 720.608 135.927 723.409 Q132.408 726.21 125.927 726.21 Q123.751 726.21 121.436 725.77 Q119.144 725.353 116.691 724.497 L116.691 719.983 Q118.635 721.117 120.95 721.696 Q123.265 722.274 125.788 722.274 Q130.186 722.274 132.478 720.538 Q134.792 718.802 134.792 715.492 Q134.792 712.436 132.64 710.723 Q130.51 708.987 126.691 708.987 L122.663 708.987 L122.663 705.145 L126.876 705.145 Q130.325 705.145 132.154 703.779 Q133.982 702.39 133.982 699.798 Q133.982 697.136 132.084 695.724 Q130.209 694.288 126.691 694.288 Q124.769 694.288 122.57 694.705 Q120.371 695.122 117.732 696.001 L117.732 691.835 Q120.394 691.094 122.709 690.724 Q125.047 690.353 127.107 690.353 Q132.431 690.353 135.533 692.784 Q138.635 695.191 138.635 699.312 Q138.635 702.182 136.992 704.173 Q135.348 706.14 132.316 706.904 Z\" fill=\"#000000\" fill-rule=\"evenodd\" fill-opacity=\"1\" /><path clip-path=\"url(#clip970)\" d=\"M 0 0 M154.515 694.057 Q150.903 694.057 149.075 697.622 Q147.269 701.163 147.269 708.293 Q147.269 715.399 149.075 718.964 Q150.903 722.506 154.515 722.506 Q158.149 722.506 159.954 718.964 Q161.783 715.399 161.783 708.293 Q161.783 701.163 159.954 697.622 Q158.149 694.057 154.515 694.057 M154.515 690.353 Q160.325 690.353 163.38 694.96 Q166.459 699.543 166.459 708.293 Q166.459 717.02 163.38 721.626 Q160.325 726.21 154.515 726.21 Q148.704 726.21 145.626 721.626 Q142.57 717.02 142.57 708.293 Q142.57 699.543 145.626 694.96 Q148.704 690.353 154.515 690.353 Z\" fill=\"#000000\" fill-rule=\"evenodd\" fill-opacity=\"1\" /><path clip-path=\"url(#clip970)\" d=\"M 0 0 M181.528 694.057 Q177.917 694.057 176.089 697.622 Q174.283 701.163 174.283 708.293 Q174.283 715.399 176.089 718.964 Q177.917 722.506 181.528 722.506 Q185.163 722.506 186.968 718.964 Q188.797 715.399 188.797 708.293 Q188.797 701.163 186.968 697.622 Q185.163 694.057 181.528 694.057 M181.528 690.353 Q187.338 690.353 190.394 694.96 Q193.473 699.543 193.473 708.293 Q193.473 717.02 190.394 721.626 Q187.338 726.21 181.528 726.21 Q175.718 726.21 172.639 721.626 Q169.584 717.02 169.584 708.293 Q169.584 699.543 172.639 694.96 Q175.718 690.353 181.528 690.353 Z\" fill=\"#000000\" fill-rule=\"evenodd\" fill-opacity=\"1\" /><path clip-path=\"url(#clip970)\" d=\"M 0 0 M129.862 456.271 L118.056 474.72 L129.862 474.72 L129.862 456.271 M128.635 452.197 L134.515 452.197 L134.515 474.72 L139.445 474.72 L139.445 478.609 L134.515 478.609 L134.515 486.757 L129.862 486.757 L129.862 478.609 L114.26 478.609 L114.26 474.095 L128.635 452.197 Z\" fill=\"#000000\" fill-rule=\"evenodd\" fill-opacity=\"1\" /><path clip-path=\"url(#clip970)\" d=\"M 0 0 M154.515 455.276 Q150.903 455.276 149.075 458.841 Q147.269 462.383 147.269 469.512 Q147.269 476.619 149.075 480.183 Q150.903 483.725 154.515 483.725 Q158.149 483.725 159.954 480.183 Q161.783 476.619 161.783 469.512 Q161.783 462.383 159.954 458.841 Q158.149 455.276 154.515 455.276 M154.515 451.572 Q160.325 451.572 163.38 456.179 Q166.459 460.762 166.459 469.512 Q166.459 478.239 163.38 482.845 Q160.325 487.429 154.515 487.429 Q148.704 487.429 145.626 482.845 Q142.57 478.239 142.57 469.512 Q142.57 460.762 145.626 456.179 Q148.704 451.572 154.515 451.572 Z\" fill=\"#000000\" fill-rule=\"evenodd\" fill-opacity=\"1\" /><path clip-path=\"url(#clip970)\" d=\"M 0 0 M181.528 455.276 Q177.917 455.276 176.089 458.841 Q174.283 462.383 174.283 469.512 Q174.283 476.619 176.089 480.183 Q177.917 483.725 181.528 483.725 Q185.163 483.725 186.968 480.183 Q188.797 476.619 188.797 469.512 Q188.797 462.383 186.968 458.841 Q185.163 455.276 181.528 455.276 M181.528 451.572 Q187.338 451.572 190.394 456.179 Q193.473 460.762 193.473 469.512 Q193.473 478.239 190.394 482.845 Q187.338 487.429 181.528 487.429 Q175.718 487.429 172.639 482.845 Q169.584 478.239 169.584 469.512 Q169.584 460.762 172.639 456.179 Q175.718 451.572 181.528 451.572 Z\" fill=\"#000000\" fill-rule=\"evenodd\" fill-opacity=\"1\" /><path clip-path=\"url(#clip970)\" d=\"M 0 0 M118.543 213.417 L136.899 213.417 L136.899 217.352 L122.825 217.352 L122.825 225.824 Q123.843 225.477 124.862 225.315 Q125.88 225.13 126.899 225.13 Q132.686 225.13 136.066 228.301 Q139.445 231.472 139.445 236.889 Q139.445 242.467 135.973 245.569 Q132.501 248.648 126.181 248.648 Q124.005 248.648 121.737 248.278 Q119.492 247.907 117.084 247.166 L117.084 242.467 Q119.168 243.602 121.39 244.157 Q123.612 244.713 126.089 244.713 Q130.093 244.713 132.431 242.606 Q134.769 240.5 134.769 236.889 Q134.769 233.278 132.431 231.171 Q130.093 229.065 126.089 229.065 Q124.214 229.065 122.339 229.481 Q120.487 229.898 118.543 230.778 L118.543 213.417 Z\" fill=\"#000000\" fill-rule=\"evenodd\" fill-opacity=\"1\" /><path clip-path=\"url(#clip970)\" d=\"M 0 0 M154.515 216.495 Q150.903 216.495 149.075 220.06 Q147.269 223.602 147.269 230.731 Q147.269 237.838 149.075 241.403 Q150.903 244.944 154.515 244.944 Q158.149 244.944 159.954 241.403 Q161.783 237.838 161.783 230.731 Q161.783 223.602 159.954 220.06 Q158.149 216.495 154.515 216.495 M154.515 212.792 Q160.325 212.792 163.38 217.398 Q166.459 221.981 166.459 230.731 Q166.459 239.458 163.38 244.065 Q160.325 248.648 154.515 248.648 Q148.704 248.648 145.626 244.065 Q142.57 239.458 142.57 230.731 Q142.57 221.981 145.626 217.398 Q148.704 212.792 154.515 212.792 Z\" fill=\"#000000\" fill-rule=\"evenodd\" fill-opacity=\"1\" /><path clip-path=\"url(#clip970)\" d=\"M 0 0 M181.528 216.495 Q177.917 216.495 176.089 220.06 Q174.283 223.602 174.283 230.731 Q174.283 237.838 176.089 241.403 Q177.917 244.944 181.528 244.944 Q185.163 244.944 186.968 241.403 Q188.797 237.838 188.797 230.731 Q188.797 223.602 186.968 220.06 Q185.163 216.495 181.528 216.495 M181.528 212.792 Q187.338 212.792 190.394 217.398 Q193.473 221.981 193.473 230.731 Q193.473 239.458 190.394 244.065 Q187.338 248.648 181.528 248.648 Q175.718 248.648 172.639 244.065 Q169.584 239.458 169.584 230.731 Q169.584 221.981 172.639 217.398 Q175.718 212.792 181.528 212.792 Z\" fill=\"#000000\" fill-rule=\"evenodd\" fill-opacity=\"1\" /><path clip-path=\"url(#clip970)\" d=\"M 0 0 M45.7677 1030.31 L63.6235 1030.31 L63.6235 1022.23 Q63.6235 1017.74 61.3 1015.29 Q58.9765 1012.84 54.6797 1012.84 Q50.4147 1012.84 48.0912 1015.29 Q45.7677 1017.74 45.7677 1022.23 L45.7677 1030.31 M40.4842 1036.74 L40.4842 1022.23 Q40.4842 1014.24 44.1126 1010.16 Q47.7092 1006.06 54.6797 1006.06 Q61.7138 1006.06 65.3104 1010.16 Q68.907 1014.24 68.907 1022.23 L68.907 1030.31 L88.0042 1030.31 L88.0042 1036.74 L40.4842 1036.74 Z\" fill=\"#000000\" fill-rule=\"evenodd\" fill-opacity=\"1\" /><path clip-path=\"url(#clip970)\" d=\"M 0 0 M57.8307 980.402 Q57.2578 981.389 57.0032 982.567 Q56.7167 983.713 56.7167 985.113 Q56.7167 990.078 59.9632 992.752 Q63.1779 995.394 69.2253 995.394 L88.0042 995.394 L88.0042 1001.28 L52.3562 1001.28 L52.3562 995.394 L57.8944 995.394 Q54.6479 993.548 53.0883 990.588 Q51.4968 987.627 51.4968 983.394 Q51.4968 982.79 51.5923 982.058 Q51.656 981.325 51.8151 980.434 L57.8307 980.402 Z\" fill=\"#000000\" fill-rule=\"evenodd\" fill-opacity=\"1\" /><path clip-path=\"url(#clip970)\" d=\"M 0 0 M68.7161 945.2 L71.5806 945.2 L71.5806 972.127 Q77.6281 971.745 80.8109 968.499 Q83.9619 965.22 83.9619 959.396 Q83.9619 956.022 83.1344 952.871 Q82.3069 949.688 80.6518 946.569 L86.1899 946.569 Q87.5267 949.72 88.227 953.03 Q88.9272 956.34 88.9272 959.746 Q88.9272 968.276 83.9619 973.273 Q78.9967 978.238 70.5303 978.238 Q61.7774 978.238 56.6531 973.527 Q51.4968 968.785 51.4968 960.764 Q51.4968 953.571 56.1438 949.401 Q60.7589 945.2 68.7161 945.2 M66.9973 951.057 Q62.1912 951.12 59.3266 953.762 Q56.4621 956.372 56.4621 960.701 Q56.4621 965.602 59.2312 968.562 Q62.0002 971.49 67.0292 971.936 L66.9973 951.057 Z\" fill=\"#000000\" fill-rule=\"evenodd\" fill-opacity=\"1\" /><path clip-path=\"url(#clip970)\" d=\"M 0 0 M53.7248 913.403 L59.1993 913.403 Q57.8307 915.886 57.1623 918.4 Q56.4621 920.883 56.4621 923.429 Q56.4621 929.127 60.0905 932.278 Q63.6872 935.429 70.212 935.429 Q76.7369 935.429 80.3653 932.278 Q83.9619 929.127 83.9619 923.429 Q83.9619 920.883 83.2935 918.4 Q82.5933 915.886 81.2247 913.403 L86.6355 913.403 Q87.7814 915.854 88.3543 918.496 Q88.9272 921.106 88.9272 924.066 Q88.9272 932.119 83.8664 936.861 Q78.8057 941.603 70.212 941.603 Q61.491 941.603 56.4939 936.829 Q51.4968 932.023 51.4968 923.684 Q51.4968 920.979 52.0697 918.4 Q52.6108 915.822 53.7248 913.403 Z\" fill=\"#000000\" fill-rule=\"evenodd\" fill-opacity=\"1\" /><path clip-path=\"url(#clip970)\" d=\"M 0 0 M52.3562 907.26 L52.3562 901.404 L88.0042 901.404 L88.0042 907.26 L52.3562 907.26 M38.479 907.26 L38.479 901.404 L45.895 901.404 L45.895 907.26 L38.479 907.26 Z\" fill=\"#000000\" fill-rule=\"evenodd\" fill-opacity=\"1\" /><path clip-path=\"url(#clip970)\" d=\"M 0 0 M82.657 889.596 L101.563 889.596 L101.563 895.484 L52.3562 895.484 L52.3562 889.596 L57.7671 889.596 Q54.5842 887.75 53.0564 884.949 Q51.4968 882.116 51.4968 878.201 Q51.4968 871.708 56.6531 867.666 Q61.8093 863.592 70.212 863.592 Q78.6147 863.592 83.771 867.666 Q88.9272 871.708 88.9272 878.201 Q88.9272 882.116 87.3994 884.949 Q85.8398 887.75 82.657 889.596 M70.212 869.671 Q63.7508 869.671 60.0905 872.345 Q56.3984 874.986 56.3984 879.633 Q56.3984 884.28 60.0905 886.954 Q63.7508 889.596 70.212 889.596 Q76.6732 889.596 80.3653 886.954 Q84.0256 884.28 84.0256 879.633 Q84.0256 874.986 80.3653 872.345 Q76.6732 869.671 70.212 869.671 Z\" fill=\"#000000\" fill-rule=\"evenodd\" fill-opacity=\"1\" /><path clip-path=\"url(#clip970)\" d=\"M 0 0 M52.3562 857.449 L52.3562 851.592 L88.0042 851.592 L88.0042 857.449 L52.3562 857.449 M38.479 857.449 L38.479 851.592 L45.895 851.592 L45.895 857.449 L38.479 857.449 Z\" fill=\"#000000\" fill-rule=\"evenodd\" fill-opacity=\"1\" /><path clip-path=\"url(#clip970)\" d=\"M 0 0 M42.2347 839.657 L52.3562 839.657 L52.3562 827.594 L56.9077 827.594 L56.9077 839.657 L76.2594 839.657 Q80.6199 839.657 81.8613 838.479 Q83.1026 837.27 83.1026 833.609 L83.1026 827.594 L88.0042 827.594 L88.0042 833.609 Q88.0042 840.389 85.4897 842.967 Q82.9434 845.545 76.2594 845.545 L56.9077 845.545 L56.9077 849.842 L52.3562 849.842 L52.3562 845.545 L42.2347 845.545 L42.2347 839.657 Z\" fill=\"#000000\" fill-rule=\"evenodd\" fill-opacity=\"1\" /><path clip-path=\"url(#clip970)\" d=\"M 0 0 M70.0847 805.25 Q70.0847 812.348 71.7079 815.085 Q73.3312 817.822 77.2461 817.822 Q80.3653 817.822 82.2114 815.785 Q84.0256 813.716 84.0256 810.183 Q84.0256 805.314 80.5881 802.385 Q77.1188 799.425 71.3897 799.425 L70.0847 799.425 L70.0847 805.25 M67.6657 793.569 L88.0042 793.569 L88.0042 799.425 L82.5933 799.425 Q85.8398 801.431 87.3994 804.422 Q88.9272 807.414 88.9272 811.743 Q88.9272 817.218 85.8716 820.464 Q82.7843 823.679 77.6281 823.679 Q71.6125 823.679 68.5569 819.668 Q65.5014 815.626 65.5014 807.637 L65.5014 799.425 L64.9285 799.425 Q60.8862 799.425 58.6901 802.099 Q56.4621 804.741 56.4621 809.547 Q56.4621 812.602 57.1941 815.499 Q57.9262 818.395 59.3903 821.069 L53.9795 821.069 Q52.7381 817.854 52.1334 814.83 Q51.4968 811.807 51.4968 808.942 Q51.4968 801.208 55.5072 797.388 Q59.5176 793.569 67.6657 793.569 Z\" fill=\"#000000\" fill-rule=\"evenodd\" fill-opacity=\"1\" /><path clip-path=\"url(#clip970)\" d=\"M 0 0 M42.2347 781.633 L52.3562 781.633 L52.3562 769.57 L56.9077 769.57 L56.9077 781.633 L76.2594 781.633 Q80.6199 781.633 81.8613 780.456 Q83.1026 779.246 83.1026 775.586 L83.1026 769.57 L88.0042 769.57 L88.0042 775.586 Q88.0042 782.365 85.4897 784.943 Q82.9434 787.522 76.2594 787.522 L56.9077 787.522 L56.9077 791.818 L52.3562 791.818 L52.3562 787.522 L42.2347 787.522 L42.2347 781.633 Z\" fill=\"#000000\" fill-rule=\"evenodd\" fill-opacity=\"1\" /><path clip-path=\"url(#clip970)\" d=\"M 0 0 M52.3562 763.427 L52.3562 757.571 L88.0042 757.571 L88.0042 763.427 L52.3562 763.427 M38.479 763.427 L38.479 757.571 L45.895 757.571 L45.895 763.427 L38.479 763.427 Z\" fill=\"#000000\" fill-rule=\"evenodd\" fill-opacity=\"1\" /><path clip-path=\"url(#clip970)\" d=\"M 0 0 M56.4621 737.614 Q56.4621 742.325 60.1542 745.062 Q63.8145 747.8 70.212 747.8 Q76.6095 747.8 80.3017 745.094 Q83.9619 742.357 83.9619 737.614 Q83.9619 732.936 80.2698 730.198 Q76.5777 727.461 70.212 727.461 Q63.8781 727.461 60.186 730.198 Q56.4621 732.936 56.4621 737.614 M51.4968 737.614 Q51.4968 729.976 56.4621 725.615 Q61.4273 721.255 70.212 721.255 Q78.9649 721.255 83.9619 725.615 Q88.9272 729.976 88.9272 737.614 Q88.9272 745.285 83.9619 749.646 Q78.9649 753.974 70.212 753.974 Q61.4273 753.974 56.4621 749.646 Q51.4968 745.285 51.4968 737.614 Z\" fill=\"#000000\" fill-rule=\"evenodd\" fill-opacity=\"1\" /><path clip-path=\"url(#clip970)\" d=\"M 0 0 M66.4881 685.479 L88.0042 685.479 L88.0042 691.336 L66.679 691.336 Q61.6183 691.336 59.1038 693.309 Q56.5894 695.282 56.5894 699.229 Q56.5894 703.972 59.6131 706.709 Q62.6368 709.446 67.8567 709.446 L88.0042 709.446 L88.0042 715.334 L52.3562 715.334 L52.3562 709.446 L57.8944 709.446 Q54.6797 707.345 53.0883 704.513 Q51.4968 701.648 51.4968 697.924 Q51.4968 691.781 55.3163 688.63 Q59.1038 685.479 66.4881 685.479 Z\" fill=\"#000000\" fill-rule=\"evenodd\" fill-opacity=\"1\" /><path clip-path=\"url(#clip970)\" d=\"M 0 0 M38.479 659.157 L38.479 645.662 L43.0304 645.662 L43.0304 653.301 L92.0464 653.301 L92.0464 645.662 L96.5979 645.662 L96.5979 659.157 L38.479 659.157 Z\" fill=\"#000000\" fill-rule=\"evenodd\" fill-opacity=\"1\" /><path clip-path=\"url(#clip970)\" d=\"M 0 0 M59.1993 611.764 Q55.2526 609.568 53.3747 606.513 Q51.4968 603.457 51.4968 599.319 Q51.4968 593.749 55.4117 590.726 Q59.2948 587.702 66.4881 587.702 L88.0042 587.702 L88.0042 593.59 L66.679 593.59 Q61.5546 593.59 59.072 595.404 Q56.5894 597.219 56.5894 600.943 Q56.5894 605.494 59.6131 608.136 Q62.6368 610.778 67.8567 610.778 L88.0042 610.778 L88.0042 616.666 L66.679 616.666 Q61.5228 616.666 59.072 618.48 Q56.5894 620.294 56.5894 624.082 Q56.5894 628.57 59.6449 631.212 Q62.6686 633.853 67.8567 633.853 L88.0042 633.853 L88.0042 639.742 L52.3562 639.742 L52.3562 633.853 L57.8944 633.853 Q54.616 631.848 53.0564 629.047 Q51.4968 626.246 51.4968 622.395 Q51.4968 618.512 53.4702 615.807 Q55.4436 613.069 59.1993 611.764 Z\" fill=\"#000000\" fill-rule=\"evenodd\" fill-opacity=\"1\" /><path clip-path=\"url(#clip970)\" d=\"M 0 0 M59.1993 553.805 Q55.2526 551.608 53.3747 548.553 Q51.4968 545.497 51.4968 541.36 Q51.4968 535.79 55.4117 532.766 Q59.2948 529.742 66.4881 529.742 L88.0042 529.742 L88.0042 535.63 L66.679 535.63 Q61.5546 535.63 59.072 537.445 Q56.5894 539.259 56.5894 542.983 Q56.5894 547.534 59.6131 550.176 Q62.6368 552.818 67.8567 552.818 L88.0042 552.818 L88.0042 558.706 L66.679 558.706 Q61.5228 558.706 59.072 560.52 Q56.5894 562.335 56.5894 566.122 Q56.5894 570.61 59.6449 573.252 Q62.6686 575.894 67.8567 575.894 L88.0042 575.894 L88.0042 581.782 L52.3562 581.782 L52.3562 575.894 L57.8944 575.894 Q54.616 573.888 53.0564 571.087 Q51.4968 568.287 51.4968 564.435 Q51.4968 560.552 53.4702 557.847 Q55.4436 555.11 59.1993 553.805 Z\" fill=\"#000000\" fill-rule=\"evenodd\" fill-opacity=\"1\" /><path clip-path=\"url(#clip970)\" d=\"M 0 0 M38.479 509.913 L96.5979 509.913 L96.5979 523.408 L92.0464 523.408 L92.0464 515.801 L43.0304 515.801 L43.0304 523.408 L38.479 523.408 L38.479 509.913 Z\" fill=\"#000000\" fill-rule=\"evenodd\" fill-opacity=\"1\" /><path clip-path=\"url(#clip970)\" d=\"M 0 0 M1068.84 12.096 L1120 12.096 L1120 18.9825 L1098.53 18.9825 L1098.53 72.576 L1090.31 72.576 L1090.31 18.9825 L1068.84 18.9825 L1068.84 12.096 Z\" fill=\"#000000\" fill-rule=\"evenodd\" fill-opacity=\"1\" /><path clip-path=\"url(#clip970)\" d=\"M 0 0 M1152.53 48.0275 L1152.53 51.6733 L1118.26 51.6733 Q1118.75 59.3701 1122.88 63.421 Q1127.05 67.4314 1134.47 67.4314 Q1138.76 67.4314 1142.77 66.3781 Q1146.82 65.3249 1150.79 63.2184 L1150.79 70.267 Q1146.78 71.9684 1142.57 72.8596 Q1138.35 73.7508 1134.02 73.7508 Q1123.16 73.7508 1116.8 67.4314 Q1110.48 61.1119 1110.48 50.3365 Q1110.48 39.1965 1116.48 32.6746 Q1122.52 26.1121 1132.72 26.1121 Q1141.88 26.1121 1147.19 32.0264 Q1152.53 37.9003 1152.53 48.0275 M1145.08 45.84 Q1145 39.7232 1141.64 36.0774 Q1138.31 32.4315 1132.8 32.4315 Q1126.57 32.4315 1122.8 35.9558 Q1119.07 39.4801 1118.51 45.8805 L1145.08 45.84 Z\" fill=\"#000000\" fill-rule=\"evenodd\" fill-opacity=\"1\" /><path clip-path=\"url(#clip970)\" d=\"M 0 0 M1189.27 28.5427 L1189.27 35.5912 Q1186.11 33.9709 1182.71 33.1607 Q1179.31 32.3505 1175.66 32.3505 Q1170.11 32.3505 1167.32 34.0519 Q1164.56 35.7533 1164.56 39.156 Q1164.56 41.7486 1166.55 43.2475 Q1168.53 44.7058 1174.53 46.0426 L1177.08 46.6097 Q1185.02 48.3111 1188.34 51.4303 Q1191.71 54.509 1191.71 60.0587 Q1191.71 66.3781 1186.68 70.0644 Q1181.7 73.7508 1172.95 73.7508 Q1169.3 73.7508 1165.33 73.0216 Q1161.4 72.3329 1157.03 70.9151 L1157.03 63.2184 Q1161.16 65.3654 1165.17 66.4591 Q1169.18 67.5124 1173.11 67.5124 Q1178.38 67.5124 1181.21 65.73 Q1184.05 63.9071 1184.05 60.6258 Q1184.05 57.5877 1181.98 55.9673 Q1179.96 54.3469 1173.03 52.8481 L1170.44 52.2405 Q1163.51 50.7821 1160.43 47.7845 Q1157.35 44.7463 1157.35 39.4801 Q1157.35 33.0797 1161.89 29.5959 Q1166.43 26.1121 1174.77 26.1121 Q1178.9 26.1121 1182.55 26.7198 Q1186.2 27.3274 1189.27 28.5427 Z\" fill=\"#000000\" fill-rule=\"evenodd\" fill-opacity=\"1\" /><path clip-path=\"url(#clip970)\" d=\"M 0 0 M1206.9 14.324 L1206.9 27.2059 L1222.25 27.2059 L1222.25 32.9987 L1206.9 32.9987 L1206.9 57.6282 Q1206.9 63.1779 1208.39 64.7578 Q1209.93 66.3376 1214.59 66.3376 L1222.25 66.3376 L1222.25 72.576 L1214.59 72.576 Q1205.96 72.576 1202.68 69.3758 Q1199.4 66.1351 1199.4 57.6282 L1199.4 32.9987 L1193.93 32.9987 L1193.93 27.2059 L1199.4 27.2059 L1199.4 14.324 L1206.9 14.324 Z\" fill=\"#000000\" fill-rule=\"evenodd\" fill-opacity=\"1\" /><path clip-path=\"url(#clip970)\" d=\"M 0 0 M1285.36 28.5427 L1285.36 35.5912 Q1282.2 33.9709 1278.8 33.1607 Q1275.4 32.3505 1271.75 32.3505 Q1266.2 32.3505 1263.41 34.0519 Q1260.65 35.7533 1260.65 39.156 Q1260.65 41.7486 1262.64 43.2475 Q1264.62 44.7058 1270.62 46.0426 L1273.17 46.6097 Q1281.11 48.3111 1284.43 51.4303 Q1287.79 54.509 1287.79 60.0587 Q1287.79 66.3781 1282.77 70.0644 Q1277.79 73.7508 1269.04 73.7508 Q1265.39 73.7508 1261.42 73.0216 Q1257.49 72.3329 1253.12 70.9151 L1253.12 63.2184 Q1257.25 65.3654 1261.26 66.4591 Q1265.27 67.5124 1269.2 67.5124 Q1274.47 67.5124 1277.3 65.73 Q1280.14 63.9071 1280.14 60.6258 Q1280.14 57.5877 1278.07 55.9673 Q1276.04 54.3469 1269.12 52.8481 L1266.53 52.2405 Q1259.6 50.7821 1256.52 47.7845 Q1253.44 44.7463 1253.44 39.4801 Q1253.44 33.0797 1257.98 29.5959 Q1262.51 26.1121 1270.86 26.1121 Q1274.99 26.1121 1278.64 26.7198 Q1282.28 27.3274 1285.36 28.5427 Z\" fill=\"#000000\" fill-rule=\"evenodd\" fill-opacity=\"1\" /><path clip-path=\"url(#clip970)\" d=\"M 0 0 M1328.26 28.9478 L1328.26 35.9153 Q1325.1 34.1734 1321.9 33.3227 Q1318.74 32.4315 1315.5 32.4315 Q1308.25 32.4315 1304.24 37.0496 Q1300.23 41.6271 1300.23 49.9314 Q1300.23 58.2358 1304.24 62.8538 Q1308.25 67.4314 1315.5 67.4314 Q1318.74 67.4314 1321.9 66.5807 Q1325.1 65.6895 1328.26 63.9476 L1328.26 70.8341 Q1325.14 72.2924 1321.78 73.0216 Q1318.46 73.7508 1314.69 73.7508 Q1304.44 73.7508 1298.41 67.3098 Q1292.37 60.8689 1292.37 49.9314 Q1292.37 38.832 1298.45 32.472 Q1304.56 26.1121 1315.18 26.1121 Q1318.62 26.1121 1321.9 26.8413 Q1325.18 27.5299 1328.26 28.9478 Z\" fill=\"#000000\" fill-rule=\"evenodd\" fill-opacity=\"1\" /><path clip-path=\"url(#clip970)\" d=\"M 0 0 M1356.7 49.7694 Q1347.66 49.7694 1344.18 51.8354 Q1340.7 53.9013 1340.7 58.8839 Q1340.7 62.8538 1343.29 65.2034 Q1345.92 67.5124 1350.42 67.5124 Q1356.62 67.5124 1360.34 63.1374 Q1364.11 58.7219 1364.11 51.4303 L1364.11 49.7694 L1356.7 49.7694 M1371.57 46.6907 L1371.57 72.576 L1364.11 72.576 L1364.11 65.6895 Q1361.56 69.8214 1357.75 71.8063 Q1353.94 73.7508 1348.43 73.7508 Q1341.47 73.7508 1337.34 69.8619 Q1333.24 65.9325 1333.24 59.3701 Q1333.24 51.7138 1338.35 47.825 Q1343.49 43.9361 1353.66 43.9361 L1364.11 43.9361 L1364.11 43.2069 Q1364.11 38.0623 1360.71 35.2672 Q1357.35 32.4315 1351.23 32.4315 Q1347.34 32.4315 1343.65 33.3632 Q1339.97 34.295 1336.57 36.1584 L1336.57 29.2718 Q1340.66 27.692 1344.51 26.9223 Q1348.35 26.1121 1352 26.1121 Q1361.84 26.1121 1366.7 31.2163 Q1371.57 36.3204 1371.57 46.6907 Z\" fill=\"#000000\" fill-rule=\"evenodd\" fill-opacity=\"1\" /><path clip-path=\"url(#clip970)\" d=\"M 0 0 M1386.76 14.324 L1386.76 27.2059 L1402.11 27.2059 L1402.11 32.9987 L1386.76 32.9987 L1386.76 57.6282 Q1386.76 63.1779 1388.25 64.7578 Q1389.79 66.3376 1394.45 66.3376 L1402.11 66.3376 L1402.11 72.576 L1394.45 72.576 Q1385.82 72.576 1382.54 69.3758 Q1379.26 66.1351 1379.26 57.6282 L1379.26 32.9987 L1373.79 32.9987 L1373.79 27.2059 L1379.26 27.2059 L1379.26 14.324 L1386.76 14.324 Z\" fill=\"#000000\" fill-rule=\"evenodd\" fill-opacity=\"1\" /><path clip-path=\"url(#clip970)\" d=\"M 0 0 M1417.3 14.324 L1417.3 27.2059 L1432.65 27.2059 L1432.65 32.9987 L1417.3 32.9987 L1417.3 57.6282 Q1417.3 63.1779 1418.8 64.7578 Q1420.34 66.3376 1425 66.3376 L1432.65 66.3376 L1432.65 72.576 L1425 72.576 Q1416.37 72.576 1413.09 69.3758 Q1409.81 66.1351 1409.81 57.6282 L1409.81 32.9987 L1404.34 32.9987 L1404.34 27.2059 L1409.81 27.2059 L1409.81 14.324 L1417.3 14.324 Z\" fill=\"#000000\" fill-rule=\"evenodd\" fill-opacity=\"1\" /><path clip-path=\"url(#clip970)\" d=\"M 0 0 M1479.28 48.0275 L1479.28 51.6733 L1445.01 51.6733 Q1445.49 59.3701 1449.63 63.421 Q1453.8 67.4314 1461.21 67.4314 Q1465.51 67.4314 1469.52 66.3781 Q1473.57 65.3249 1477.54 63.2184 L1477.54 70.267 Q1473.53 71.9684 1469.31 72.8596 Q1465.1 73.7508 1460.77 73.7508 Q1449.91 73.7508 1443.55 67.4314 Q1437.23 61.1119 1437.23 50.3365 Q1437.23 39.1965 1443.23 32.6746 Q1449.26 26.1121 1459.47 26.1121 Q1468.62 26.1121 1473.93 32.0264 Q1479.28 37.9003 1479.28 48.0275 M1471.83 45.84 Q1471.74 39.7232 1468.38 36.0774 Q1465.06 32.4315 1459.55 32.4315 Q1453.31 32.4315 1449.55 35.9558 Q1445.82 39.4801 1445.25 45.8805 L1471.83 45.84 Z\" fill=\"#000000\" fill-rule=\"evenodd\" fill-opacity=\"1\" /><path clip-path=\"url(#clip970)\" d=\"M 0 0 M1513.39 34.1734 Q1512.13 33.4443 1510.63 33.1202 Q1509.17 32.7556 1507.39 32.7556 Q1501.07 32.7556 1497.67 36.8875 Q1494.31 40.9789 1494.31 48.6757 L1494.31 72.576 L1486.81 72.576 L1486.81 27.2059 L1494.31 27.2059 L1494.31 34.2544 Q1496.66 30.1225 1500.42 28.1376 Q1504.19 26.1121 1509.58 26.1121 Q1510.35 26.1121 1511.28 26.2337 Q1512.21 26.3147 1513.35 26.5172 L1513.39 34.1734 Z\" fill=\"#000000\" fill-rule=\"evenodd\" fill-opacity=\"1\" /><circle clip-path=\"url(#clip972)\" cx=\"289.566\" cy=\"1386.4\" r=\"14\" fill=\"#ff0000\" fill-rule=\"evenodd\" fill-opacity=\"1\" stroke=\"#000000\" stroke-opacity=\"1\" stroke-width=\"3.2\"/>\n",
       "<circle clip-path=\"url(#clip972)\" cx=\"430.134\" cy=\"1324.31\" r=\"14\" fill=\"#ff0000\" fill-rule=\"evenodd\" fill-opacity=\"1\" stroke=\"#000000\" stroke-opacity=\"1\" stroke-width=\"3.2\"/>\n",
       "<circle clip-path=\"url(#clip972)\" cx=\"728.841\" cy=\"1144.03\" r=\"14\" fill=\"#ff0000\" fill-rule=\"evenodd\" fill-opacity=\"1\" stroke=\"#000000\" stroke-opacity=\"1\" stroke-width=\"3.2\"/>\n",
       "<circle clip-path=\"url(#clip972)\" cx=\"992.407\" cy=\"1208.5\" r=\"14\" fill=\"#ff0000\" fill-rule=\"evenodd\" fill-opacity=\"1\" stroke=\"#000000\" stroke-opacity=\"1\" stroke-width=\"3.2\"/>\n",
       "<circle clip-path=\"url(#clip972)\" cx=\"1554.68\" cy=\"1136.87\" r=\"14\" fill=\"#ff0000\" fill-rule=\"evenodd\" fill-opacity=\"1\" stroke=\"#000000\" stroke-opacity=\"1\" stroke-width=\"3.2\"/>\n",
       "<circle clip-path=\"url(#clip972)\" cx=\"1712.82\" cy=\"887.344\" r=\"14\" fill=\"#ff0000\" fill-rule=\"evenodd\" fill-opacity=\"1\" stroke=\"#000000\" stroke-opacity=\"1\" stroke-width=\"3.2\"/>\n",
       "<circle clip-path=\"url(#clip972)\" cx=\"1914.89\" cy=\"963.754\" r=\"14\" fill=\"#ff0000\" fill-rule=\"evenodd\" fill-opacity=\"1\" stroke=\"#000000\" stroke-opacity=\"1\" stroke-width=\"3.2\"/>\n",
       "<circle clip-path=\"url(#clip972)\" cx=\"2292.66\" cy=\"1161.94\" r=\"14\" fill=\"#ff0000\" fill-rule=\"evenodd\" fill-opacity=\"1\" stroke=\"#000000\" stroke-opacity=\"1\" stroke-width=\"3.2\"/>\n",
       "<circle clip-path=\"url(#clip972)\" cx=\"2002.74\" cy=\"954.202\" r=\"14\" fill=\"#ff0000\" fill-rule=\"evenodd\" fill-opacity=\"1\" stroke=\"#000000\" stroke-opacity=\"1\" stroke-width=\"3.2\"/>\n",
       "<circle clip-path=\"url(#clip972)\" cx=\"1501.97\" cy=\"160.256\" r=\"14\" fill=\"#ff0000\" fill-rule=\"evenodd\" fill-opacity=\"1\" stroke=\"#000000\" stroke-opacity=\"1\" stroke-width=\"3.2\"/>\n",
       "<circle clip-path=\"url(#clip972)\" cx=\"948.479\" cy=\"1050.91\" r=\"14\" fill=\"#ff0000\" fill-rule=\"evenodd\" fill-opacity=\"1\" stroke=\"#000000\" stroke-opacity=\"1\" stroke-width=\"3.2\"/>\n",
       "<circle clip-path=\"url(#clip972)\" cx=\"544.346\" cy=\"1241.93\" r=\"14\" fill=\"#ff0000\" fill-rule=\"evenodd\" fill-opacity=\"1\" stroke=\"#000000\" stroke-opacity=\"1\" stroke-width=\"3.2\"/>\n",
       "<path clip-path=\"url(#clip970)\" d=\"\n",
       "M1910.92 287.756 L2281.98 287.756 L2281.98 166.796 L1910.92 166.796  Z\n",
       "  \" fill=\"#ffffff\" fill-rule=\"evenodd\" fill-opacity=\"1\"/>\n",
       "<polyline clip-path=\"url(#clip970)\" style=\"stroke:#000000; stroke-width:4; stroke-opacity:1; fill:none\" points=\"\n",
       "  1910.92,287.756 2281.98,287.756 2281.98,166.796 1910.92,166.796 1910.92,287.756 \n",
       "  \"/>\n",
       "<circle clip-path=\"url(#clip970)\" cx=\"2005.29\" cy=\"227.276\" r=\"23\" fill=\"#ff0000\" fill-rule=\"evenodd\" fill-opacity=\"1\" stroke=\"#000000\" stroke-opacity=\"1\" stroke-width=\"5.12\"/>\n",
       "<path clip-path=\"url(#clip970)\" d=\"M 0 0 M2099.66 208.537 L2103.92 208.537 L2103.92 244.556 L2099.66 244.556 L2099.66 208.537 Z\" fill=\"#000000\" fill-rule=\"evenodd\" fill-opacity=\"1\" /><path clip-path=\"url(#clip970)\" d=\"M 0 0 M2130.56 230.528 L2130.56 232.611 L2110.98 232.611 Q2111.25 237.009 2113.62 239.324 Q2116 241.616 2120.24 241.616 Q2122.69 241.616 2124.98 241.014 Q2127.3 240.412 2129.56 239.209 L2129.56 243.236 Q2127.27 244.208 2124.87 244.718 Q2122.46 245.227 2119.98 245.227 Q2113.78 245.227 2110.14 241.616 Q2106.53 238.005 2106.53 231.847 Q2106.53 225.482 2109.96 221.755 Q2113.41 218.005 2119.24 218.005 Q2124.47 218.005 2127.5 221.385 Q2130.56 224.741 2130.56 230.528 M2126.3 229.278 Q2126.25 225.783 2124.33 223.699 Q2122.44 221.616 2119.29 221.616 Q2115.72 221.616 2113.57 223.63 Q2111.44 225.644 2111.12 229.301 L2126.3 229.278 Z\" fill=\"#000000\" fill-rule=\"evenodd\" fill-opacity=\"1\" /><path clip-path=\"url(#clip970)\" d=\"M 0 0 M2152.09 231.292 Q2152.09 226.662 2150.17 224.116 Q2148.27 221.57 2144.82 221.57 Q2141.39 221.57 2139.47 224.116 Q2137.57 226.662 2137.57 231.292 Q2137.57 235.898 2139.47 238.445 Q2141.39 240.991 2144.82 240.991 Q2148.27 240.991 2150.17 238.445 Q2152.09 235.898 2152.09 231.292 M2156.35 241.338 Q2156.35 247.958 2153.41 251.176 Q2150.47 254.417 2144.4 254.417 Q2142.16 254.417 2140.17 254.07 Q2138.18 253.745 2136.3 253.051 L2136.3 248.908 Q2138.18 249.926 2140 250.412 Q2141.83 250.898 2143.73 250.898 Q2147.92 250.898 2150 248.699 Q2152.09 246.523 2152.09 242.102 L2152.09 239.996 Q2150.77 242.287 2148.71 243.421 Q2146.65 244.556 2143.78 244.556 Q2139.01 244.556 2136.09 240.921 Q2133.18 237.287 2133.18 231.292 Q2133.18 225.273 2136.09 221.639 Q2139.01 218.005 2143.78 218.005 Q2146.65 218.005 2148.71 219.139 Q2150.77 220.273 2152.09 222.565 L2152.09 218.63 L2156.35 218.63 L2156.35 241.338 Z\" fill=\"#000000\" fill-rule=\"evenodd\" fill-opacity=\"1\" /><path clip-path=\"url(#clip970)\" d=\"M 0 0 M2182.99 230.528 L2182.99 232.611 L2163.41 232.611 Q2163.68 237.009 2166.05 239.324 Q2168.43 241.616 2172.67 241.616 Q2175.12 241.616 2177.41 241.014 Q2179.73 240.412 2182 239.209 L2182 243.236 Q2179.7 244.208 2177.3 244.718 Q2174.89 245.227 2172.41 245.227 Q2166.21 245.227 2162.57 241.616 Q2158.96 238.005 2158.96 231.847 Q2158.96 225.482 2162.39 221.755 Q2165.84 218.005 2171.67 218.005 Q2176.9 218.005 2179.93 221.385 Q2182.99 224.741 2182.99 230.528 M2178.73 229.278 Q2178.68 225.783 2176.76 223.699 Q2174.87 221.616 2171.72 221.616 Q2168.15 221.616 2166 223.63 Q2163.87 225.644 2163.55 229.301 L2178.73 229.278 Z\" fill=\"#000000\" fill-rule=\"evenodd\" fill-opacity=\"1\" /><path clip-path=\"url(#clip970)\" d=\"M 0 0 M2209.01 228.908 L2209.01 244.556 L2204.75 244.556 L2204.75 229.047 Q2204.75 225.366 2203.31 223.537 Q2201.88 221.709 2199.01 221.709 Q2195.56 221.709 2193.57 223.908 Q2191.58 226.107 2191.58 229.903 L2191.58 244.556 L2187.3 244.556 L2187.3 218.63 L2191.58 218.63 L2191.58 222.658 Q2193.11 220.32 2195.17 219.162 Q2197.25 218.005 2199.96 218.005 Q2204.43 218.005 2206.72 220.783 Q2209.01 223.537 2209.01 228.908 Z\" fill=\"#000000\" fill-rule=\"evenodd\" fill-opacity=\"1\" /><path clip-path=\"url(#clip970)\" d=\"M 0 0 M2230.54 222.565 L2230.54 208.537 L2234.8 208.537 L2234.8 244.556 L2230.54 244.556 L2230.54 240.667 Q2229.19 242.982 2227.13 244.116 Q2225.1 245.227 2222.23 245.227 Q2217.53 245.227 2214.56 241.477 Q2211.62 237.727 2211.62 231.616 Q2211.62 225.505 2214.56 221.755 Q2217.53 218.005 2222.23 218.005 Q2225.1 218.005 2227.13 219.139 Q2229.19 220.25 2230.54 222.565 M2216.02 231.616 Q2216.02 236.315 2217.94 239 Q2219.89 241.662 2223.27 241.662 Q2226.65 241.662 2228.59 239 Q2230.54 236.315 2230.54 231.616 Q2230.54 226.917 2228.59 224.255 Q2226.65 221.57 2223.27 221.57 Q2219.89 221.57 2217.94 224.255 Q2216.02 226.917 2216.02 231.616 Z\" fill=\"#000000\" fill-rule=\"evenodd\" fill-opacity=\"1\" /></svg>\n"
      ]
     },
     "execution_count": 123,
     "metadata": {},
     "output_type": "execute_result"
    }
   ],
   "source": [
    "@df df plot(:平均気温, :降水量の合計\n",
    "    ,title = \"Test scatter\"\n",
    "    ,xlabel = \"Temperature [℃]\"\n",
    "    ,ylabel = \"Precipitation [mm]\"\n",
    "    ,color = :red \n",
    "    ,label = \"legend\"\n",
    "    ,seriestype = :scatter\n",
    "    ,shape = :circle)"
   ]
  },
  {
   "cell_type": "code",
   "execution_count": null,
   "metadata": {},
   "outputs": [],
   "source": []
  },
  {
   "cell_type": "code",
   "execution_count": null,
   "metadata": {},
   "outputs": [],
   "source": []
  },
  {
   "cell_type": "code",
   "execution_count": 125,
   "metadata": {},
   "outputs": [
    {
     "data": {
      "text/plain": [
       "\"/Users/satoshi/udemy_study/julia/data/output_dataframe.csv\""
      ]
     },
     "execution_count": 125,
     "metadata": {},
     "output_type": "execute_result"
    }
   ],
   "source": [
    "#csv書き込み\n",
    "df = DataFrame(A = 0:5:95, B = repeat(1:10, inner=2), C = 1:20)\n",
    "loc = \"/Users/satoshi/udemy_study/julia/data/\"\n",
    "CSV.write(loc * \"output_dataframe.csv\", df)"
   ]
  },
  {
   "cell_type": "code",
   "execution_count": null,
   "metadata": {},
   "outputs": [],
   "source": []
  },
  {
   "cell_type": "code",
   "execution_count": null,
   "metadata": {},
   "outputs": [],
   "source": []
  }
 ],
 "metadata": {
  "kernelspec": {
   "display_name": "Python 3",
   "language": "python",
   "name": "python3"
  },
  "language_info": {
   "codemirror_mode": {
    "name": "ipython",
    "version": 3
   },
   "file_extension": ".py",
   "mimetype": "text/x-python",
   "name": "python",
   "nbconvert_exporter": "python",
   "pygments_lexer": "ipython3",
   "version": "3.7.1"
  }
 },
 "nbformat": 4,
 "nbformat_minor": 4
}
