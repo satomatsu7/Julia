{
 "cells": [
  {
   "cell_type": "markdown",
   "metadata": {},
   "source": [
    "# Lecture 4 制御構造\n",
    "・if文 \\\n",
    "・whileループ \\\n",
    "・forループ \\\n",
    "・内包表記 "
   ]
  },
  {
   "cell_type": "markdown",
   "metadata": {},
   "source": [
    "## If文"
   ]
  },
  {
   "cell_type": "code",
   "execution_count": 15,
   "metadata": {},
   "outputs": [
    {
     "name": "stdout",
     "output_type": "stream",
     "text": [
      "apple\n"
     ]
    }
   ],
   "source": [
    "name = \"apple\"\n",
    "if name == \"apple\"\n",
    "    println(\"apple\")\n",
    "else\n",
    "    print(\"else\")\n",
    "end"
   ]
  },
  {
   "cell_type": "code",
   "execution_count": 9,
   "metadata": {},
   "outputs": [
    {
     "name": "stdout",
     "output_type": "stream",
     "text": [
      "x < y\n"
     ]
    }
   ],
   "source": [
    "x = 1\n",
    "y = 100\n",
    "\n",
    "if x < y      #インデントしてるけど、なくてもOK\n",
    "    println(\"x < y\")\n",
    "elseif x > y\n",
    "    println(\"x > y\")\n",
    "else\n",
    "    println(\"x = y\")\n",
    "end"
   ]
  },
  {
   "cell_type": "markdown",
   "metadata": {},
   "source": [
    "##### 3項演算子"
   ]
  },
  {
   "cell_type": "code",
   "execution_count": 18,
   "metadata": {},
   "outputs": [
    {
     "data": {
      "text/plain": [
       "false"
      ]
     },
     "execution_count": 18,
     "metadata": {},
     "output_type": "execute_result"
    }
   ],
   "source": [
    "# a ? b : c \n",
    "name = \"banana\" 　　# a ? b : c  「aがtrueならb, falseならcを返す」\n",
    "name == \"apple\" ? true : false"
   ]
  },
  {
   "cell_type": "code",
   "execution_count": 19,
   "metadata": {},
   "outputs": [
    {
     "name": "stdout",
     "output_type": "stream",
     "text": [
      "Not apple"
     ]
    }
   ],
   "source": [
    "name = \"banana\"\n",
    "name == \"apple\" ? println(\"apple\") : println(\"Not apple\")"
   ]
  },
  {
   "cell_type": "markdown",
   "metadata": {},
   "source": [
    "##### 短絡評価 \n",
    "&& : and演算 \\\n",
    "|| : or演算"
   ]
  },
  {
   "cell_type": "markdown",
   "metadata": {},
   "source": []
  },
  {
   "cell_type": "code",
   "execution_count": 87,
   "metadata": {},
   "outputs": [
    {
     "data": {
      "text/plain": [
       "true"
      ]
     },
     "execution_count": 87,
     "metadata": {},
     "output_type": "execute_result"
    }
   ],
   "source": [
    "#&&\n",
    "a = 1\n",
    "b = 10\n",
    "c = 100\n",
    "a < b && b < c"
   ]
  },
  {
   "cell_type": "code",
   "execution_count": 88,
   "metadata": {},
   "outputs": [
    {
     "data": {
      "text/plain": [
       "false"
      ]
     },
     "execution_count": 88,
     "metadata": {},
     "output_type": "execute_result"
    }
   ],
   "source": [
    "#&& and 演算\n",
    "a = 1\n",
    "b = 10\n",
    "c = 100\n",
    "a < b && b > c"
   ]
  },
  {
   "cell_type": "code",
   "execution_count": 89,
   "metadata": {},
   "outputs": [
    {
     "data": {
      "text/plain": [
       "true"
      ]
     },
     "execution_count": 89,
     "metadata": {},
     "output_type": "execute_result"
    }
   ],
   "source": [
    "#|| or 演算\n",
    "a = 1\n",
    "b = 10\n",
    "c = 100\n",
    "a < b || b > c"
   ]
  },
  {
   "cell_type": "code",
   "execution_count": 90,
   "metadata": {},
   "outputs": [
    {
     "data": {
      "text/plain": [
       "false"
      ]
     },
     "execution_count": 90,
     "metadata": {},
     "output_type": "execute_result"
    }
   ],
   "source": [
    "#|| or 演算\n",
    "a = 1\n",
    "b = 10\n",
    "c = 100\n",
    "a > b || b > c"
   ]
  },
  {
   "cell_type": "code",
   "execution_count": null,
   "metadata": {},
   "outputs": [],
   "source": []
  },
  {
   "cell_type": "code",
   "execution_count": 37,
   "metadata": {},
   "outputs": [
    {
     "name": "stdout",
     "output_type": "stream",
     "text": [
      "x is greater than 0\n"
     ]
    }
   ],
   "source": [
    "# a && b  ...  aならばb (and演算) aがtrueならbをする、aがfalseならbはしない\n",
    "x = 10\n",
    "x > 0 && println(\"x is greater than 0\")"
   ]
  },
  {
   "cell_type": "code",
   "execution_count": 38,
   "metadata": {},
   "outputs": [
    {
     "data": {
      "text/plain": [
       "true"
      ]
     },
     "execution_count": 38,
     "metadata": {},
     "output_type": "execute_result"
    }
   ],
   "source": [
    "# a || b  ... aでないならばb (or演算) aがtrueならbをしない、aがfalseならbをする\n",
    "x = -1\n",
    "x < 0 || println(\"x is greater than 0\")"
   ]
  },
  {
   "cell_type": "code",
   "execution_count": null,
   "metadata": {},
   "outputs": [],
   "source": []
  },
  {
   "cell_type": "markdown",
   "metadata": {},
   "source": [
    "## Forループ/Whileループ"
   ]
  },
  {
   "cell_type": "code",
   "execution_count": 66,
   "metadata": {},
   "outputs": [
    {
     "name": "stdout",
     "output_type": "stream",
     "text": [
      "a=0\n",
      "a=1\n",
      "a=3\n",
      "a=6\n",
      "a=10\n",
      "a=15\n",
      "a=21\n",
      "a=28\n",
      "a=36\n",
      "a=45\n",
      "a=55\n"
     ]
    }
   ],
   "source": [
    "a = 0\n",
    "for i = 0 : 10 #range型のオブジェクト\n",
    "    a += i\n",
    "    println(\"a=\", a)\n",
    "end #pythonと違ってendが必要 "
   ]
  },
  {
   "cell_type": "code",
   "execution_count": 67,
   "metadata": {},
   "outputs": [
    {
     "data": {
      "text/plain": [
       "UnitRange{Int64}"
      ]
     },
     "execution_count": 67,
     "metadata": {},
     "output_type": "execute_result"
    }
   ],
   "source": [
    "typeof(0:10)"
   ]
  },
  {
   "cell_type": "code",
   "execution_count": 44,
   "metadata": {},
   "outputs": [
    {
     "name": "stdout",
     "output_type": "stream",
     "text": [
      "i=0\n",
      "i=1\n",
      "i=2\n",
      "i=3\n",
      "i=4\n",
      "i=5\n",
      "i=6\n",
      "i=7\n",
      "i=8\n",
      "i=9\n",
      "i=10\n"
     ]
    }
   ],
   "source": [
    "for i in (0 : 10) # =ではなくinでもOK\n",
    "    println(\"i=\", i)\n",
    "end"
   ]
  },
  {
   "cell_type": "code",
   "execution_count": null,
   "metadata": {},
   "outputs": [],
   "source": []
  },
  {
   "cell_type": "code",
   "execution_count": 95,
   "metadata": {},
   "outputs": [
    {
     "name": "stdout",
     "output_type": "stream",
     "text": [
      "0\n",
      "1\n",
      "2\n",
      "3\n",
      "4\n",
      "5\n",
      "6\n",
      "7\n",
      "8\n",
      "9\n"
     ]
    }
   ],
   "source": [
    "i = 0\n",
    "while i < 10\n",
    "    println(i)\n",
    "    i += 1\n",
    "end"
   ]
  },
  {
   "cell_type": "markdown",
   "metadata": {},
   "source": [
    "※ global変数とlocal変数 はバージョンによって扱いが異なるので注意する \\\n",
    "1.5以降はループなどlocalスコープ内でglobal変数の参照と変更ができるようになった。"
   ]
  },
  {
   "cell_type": "code",
   "execution_count": 65,
   "metadata": {},
   "outputs": [
    {
     "name": "stdout",
     "output_type": "stream",
     "text": [
      "a=1\n",
      "b=2\n",
      "a=1\n",
      "b=3\n",
      "a=1\n",
      "b=4\n",
      "a=1\n",
      "b=5\n",
      "a=1\n",
      "b=6\n"
     ]
    }
   ],
   "source": [
    "#例に注意する\n",
    "a = 1\n",
    "for i = 1:5\n",
    "\n",
    "    b = a + i\n",
    "    println(\"a=\",a)\n",
    "    println(\"b=\",b)\n",
    "end"
   ]
  },
  {
   "cell_type": "code",
   "execution_count": 68,
   "metadata": {},
   "outputs": [
    {
     "name": "stdout",
     "output_type": "stream",
     "text": [
      "one\n",
      "two\n",
      "three\n"
     ]
    }
   ],
   "source": [
    "#タプルでループ\n",
    "a = (\"one\",\"two\",\"three\")\n",
    "for i in a\n",
    "    println(i)\n",
    "end"
   ]
  },
  {
   "cell_type": "code",
   "execution_count": 69,
   "metadata": {},
   "outputs": [
    {
     "name": "stdout",
     "output_type": "stream",
     "text": [
      "one\n",
      "two\n",
      "three\n"
     ]
    }
   ],
   "source": [
    "#リスト（配列）でループ\n",
    "a = [\"one\",\"two\",\"three\"]\n",
    "for i in a\n",
    "    println(i)\n",
    "end"
   ]
  },
  {
   "cell_type": "code",
   "execution_count": 73,
   "metadata": {},
   "outputs": [
    {
     "name": "stdout",
     "output_type": "stream",
     "text": [
      "2 は英語で two です\n",
      "3 は英語で three です\n",
      "1 は英語で one です\n"
     ]
    }
   ],
   "source": [
    "#辞書型でループ（keyとvalueを一度に取得）\n",
    "a = Dict(1 => \"one\",2 => \"two\", 3 => \"three\")\n",
    "for (i, j) in a #()が必要\n",
    "    println(\"$i は英語で $j です\") # $i の後はスペースあける\n",
    "end"
   ]
  },
  {
   "cell_type": "code",
   "execution_count": 79,
   "metadata": {},
   "outputs": [
    {
     "name": "stdout",
     "output_type": "stream",
     "text": [
      "apple を1 個ください\n",
      "banana を2 個ください\n",
      "orange を3 個ください\n"
     ]
    }
   ],
   "source": [
    "#zipでループ(複数のリストの情報をまとめて取得)\n",
    "a = [\"1\",\"2\",\"3\"]\n",
    "b = [\"apple\",\"banana\",\"orange\"]\n",
    "for (i, j) in zip(a, b)\n",
    "    println(\"$j を$i 個ください\")\n",
    "end"
   ]
  },
  {
   "cell_type": "code",
   "execution_count": 1,
   "metadata": {},
   "outputs": [
    {
     "name": "stdout",
     "output_type": "stream",
     "text": [
      "1 はapple に対応します\n",
      "2 はbanana に対応します\n",
      "3 はorange に対応します\n"
     ]
    }
   ],
   "source": [
    "#enumerateでループ（インデックスと要素を同時に受け取れる）\n",
    "b = [\"apple\",\"banana\",\"orange\"]\n",
    "for (index, fruit) in enumerate(b)\n",
    "    println(\"$index は$fruit に対応します\")\n",
    "end\n"
   ]
  },
  {
   "cell_type": "code",
   "execution_count": null,
   "metadata": {},
   "outputs": [],
   "source": []
  },
  {
   "cell_type": "code",
   "execution_count": 98,
   "metadata": {},
   "outputs": [
    {
     "name": "stdout",
     "output_type": "stream",
     "text": [
      "1, 10\n",
      "1, 11\n",
      "1, 12\n",
      "2, 10\n",
      "2, 11\n",
      "2, 12\n",
      "3, 10\n",
      "3, 11\n",
      "3, 12\n",
      "4, 10\n",
      "4, 11\n",
      "4, 12\n",
      "5, 10\n",
      "5, 11\n",
      "5, 12\n"
     ]
    }
   ],
   "source": [
    "#多重ループ　簡単に表現できる!\n",
    "for i = 1:5, j = 10:12\n",
    "    println(i, \", \", j)\n",
    "end"
   ]
  },
  {
   "cell_type": "code",
   "execution_count": 99,
   "metadata": {},
   "outputs": [
    {
     "name": "stdout",
     "output_type": "stream",
     "text": [
      "0\n",
      "1\n",
      "2\n",
      "3\n",
      "4\n",
      "5\n"
     ]
    }
   ],
   "source": [
    "#break\n",
    "i = 0\n",
    "while true\n",
    "    println(i)\n",
    "    if i >= 5\n",
    "        break\n",
    "    end\n",
    "    i += 1\n",
    "end"
   ]
  },
  {
   "cell_type": "code",
   "execution_count": 2,
   "metadata": {},
   "outputs": [
    {
     "name": "stdout",
     "output_type": "stream",
     "text": [
      "i=1\n",
      "i=2\n",
      "i=4\n",
      "i=5\n"
     ]
    }
   ],
   "source": [
    "#contunie\n",
    "for i = 1:5\n",
    "    if i == 3\n",
    "        continue\n",
    "    end\n",
    "    println(\"i=\",i)\n",
    "    i += 1\n",
    "end"
   ]
  },
  {
   "cell_type": "code",
   "execution_count": null,
   "metadata": {},
   "outputs": [],
   "source": []
  },
  {
   "cell_type": "markdown",
   "metadata": {},
   "source": [
    "## 内包表記"
   ]
  },
  {
   "cell_type": "code",
   "execution_count": 92,
   "metadata": {},
   "outputs": [
    {
     "data": {
      "text/plain": [
       "10-element Array{Int64,1}:\n",
       "  1\n",
       "  2\n",
       "  3\n",
       "  4\n",
       "  5\n",
       "  6\n",
       "  7\n",
       "  8\n",
       "  9\n",
       " 10"
      ]
     },
     "execution_count": 92,
     "metadata": {},
     "output_type": "execute_result"
    }
   ],
   "source": [
    "#リスト内包表記\n",
    "arr = [n for n = 1:10]"
   ]
  },
  {
   "cell_type": "code",
   "execution_count": 94,
   "metadata": {},
   "outputs": [
    {
     "data": {
      "text/plain": [
       "5-element Array{Int64,1}:\n",
       "  2\n",
       "  4\n",
       "  6\n",
       "  8\n",
       " 10"
      ]
     },
     "execution_count": 94,
     "metadata": {},
     "output_type": "execute_result"
    }
   ],
   "source": [
    "#条件付きリスト内包表記\n",
    "arr = [n for n = 1:10 if n % 2 == 0]"
   ]
  },
  {
   "cell_type": "code",
   "execution_count": 93,
   "metadata": {},
   "outputs": [
    {
     "data": {
      "text/plain": [
       "Dict{String,Int64} with 3 entries:\n",
       "  \"orange\" => 2\n",
       "  \"banana\" => 1\n",
       "  \"apple\"  => 0"
      ]
     },
     "execution_count": 93,
     "metadata": {},
     "output_type": "execute_result"
    }
   ],
   "source": [
    "#辞書型 zip関数を使用\n",
    "fruits = Dict(i for i = zip([\"apple\",\"banana\",\"orange\"], [0,1,2]))"
   ]
  },
  {
   "cell_type": "code",
   "execution_count": null,
   "metadata": {},
   "outputs": [],
   "source": []
  },
  {
   "cell_type": "code",
   "execution_count": null,
   "metadata": {},
   "outputs": [],
   "source": []
  },
  {
   "cell_type": "code",
   "execution_count": null,
   "metadata": {},
   "outputs": [],
   "source": []
  },
  {
   "cell_type": "code",
   "execution_count": null,
   "metadata": {},
   "outputs": [],
   "source": []
  },
  {
   "cell_type": "code",
   "execution_count": null,
   "metadata": {},
   "outputs": [],
   "source": []
  }
 ],
 "metadata": {
  "kernelspec": {
   "display_name": "Python 3",
   "language": "python",
   "name": "python3"
  },
  "language_info": {
   "codemirror_mode": {
    "name": "ipython",
    "version": 3
   },
   "file_extension": ".py",
   "mimetype": "text/x-python",
   "name": "python",
   "nbconvert_exporter": "python",
   "pygments_lexer": "ipython3",
   "version": "3.7.1"
  }
 },
 "nbformat": 4,
 "nbformat_minor": 4
}
